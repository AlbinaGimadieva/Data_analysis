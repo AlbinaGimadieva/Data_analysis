{
 "cells": [
  {
   "cell_type": "markdown",
   "metadata": {},
   "source": [
    "<div style=\"border:solid green 3px; padding: 20px\">\n",
    "\n",
    "<b>Привет!</b>\n",
    "\n",
    "Меня зовут Сороколетов Илья и я буду проверять твой проект. \n",
    "\n",
    "Предлагаю общаться на «**ты**», но если тебе будет комфортнее общаться на «**вы**», то сообщи об этом в комментариях)\n",
    "\n",
    "\n",
    "Для твоего удобства, я буду выделять свои комментарии следующим образом:\n",
    "\n",
    "<div class=\"alert alert-danger\">\n",
    "<b>❌ Комментарий ревьюера v1:</b> Самые важные замечания. Они указывают на ключевые моменты, которые влияют на конечный результат проекта. </div>\n",
    "\n",
    "<div class=\"alert alert-warning\">\n",
    "<b>⚠️ Комментарий ревьюера v1:</b> Советы или замечания, которые помогут сделать твою работу лучше, но необязательны к выполнению.\n",
    "\n",
    "</div>\n",
    "\n",
    "<div class=\"alert alert-success\">\n",
    "<b>✔️ Комментарий ревьюера v1:</b> Так я выделяю все остальные комментарии.</div>\n",
    "\n",
    "\n",
    "Пометками <b>v1-v2-v3-...</b> я буду отмечать версию проверки. Так ты сможешь быстро найти мои новые комментарии.\n",
    "\n",
    "Давай работать над проектом в диалоге: если ты что-то меняешь в проекте по моим рекомендациям — пиши об этом. Выбери для своих комментариев какой-то заметный цвет, так мне будет легче отследить изменения, например вот так:\n",
    "    \n",
    "<div class=\"alert alert-info\">\n",
    "<b>Комментарий студента:</b>\n",
    "<br>\n",
    "</div>\n",
    "\n",
    "<b>Пожалуйста, не перемещай, не изменяй и не удаляй мои комментарии.</b> Если ты оставляешь свои комментарии, то делай это под моими, чтобы сообщения были расположены в хронологическом порядке. Всё это поможет выполнить повторную проверку твоего проекта быстрее. \n",
    "\n",
    "Перед отправкой работы я рекомендую нажимать Kernel -> Restart & Run All. Это перезапустит ядро и по очереди выполнит все ячейки. Так ты сможешь проверить, что всё работает корректно. Кнопка Kernel находится в панели сверху\n",
    "\n",
    "Обязательно задавай вопросы если они возникнут, а я перехожу к проверке)\n",
    "\n",
    "P.S. На всякий случай, я оставлю пустой шаблон для твоих комментариев ниже. Кликни два раза на мой комментарий, скопируй последние четыре строчки кода и вставляй их в пустую ячейку там, где ты хочешь оставить комментарий. Не забудь только перед этим сменить тип ячейки на Markdown. Быстро это можно сделать так: кликнуть на ячейку - нажать ESC - нажать M. \n",
    "    \n",
    "    \n",
    "<div class=\"alert alert-info\">\n",
    "<b>Комментарий студента:</b>\n",
    "<br>Удали этот текст и вместо него напиши свой комментарий 🙂\n",
    "</div>"
   ]
  },
  {
   "cell_type": "markdown",
   "metadata": {},
   "source": [
    "# Исследование объявлений о продаже квартир\n",
    "\n",
    "В вашем распоряжении данные сервиса Яндекс.Недвижимость — архив объявлений о продаже квартир в Санкт-Петербурге и соседних населённых пунктов за несколько лет. Нужно научиться определять рыночную стоимость объектов недвижимости. Ваша задача — установить параметры. Это позволит построить автоматизированную систему: она отследит аномалии и мошенническую деятельность. \n",
    "\n",
    "По каждой квартире на продажу доступны два вида данных. Первые вписаны пользователем, вторые — получены автоматически на основе картографических данных. Например, расстояние до центра, аэропорта, ближайшего парка и водоёма. "
   ]
  },
  {
   "cell_type": "markdown",
   "metadata": {},
   "source": [
    "###  Откройте файл с данными и изучите общую информацию"
   ]
  },
  {
   "cell_type": "code",
   "execution_count": 1,
   "metadata": {},
   "outputs": [],
   "source": [
    "import pandas as pd\n",
    "\n",
    "import matplotlib.pyplot as plt "
   ]
  },
  {
   "cell_type": "code",
   "execution_count": 2,
   "metadata": {},
   "outputs": [],
   "source": [
    "pd.set_option('display.max_columns', None)"
   ]
  },
  {
   "cell_type": "code",
   "execution_count": 3,
   "metadata": {},
   "outputs": [],
   "source": [
    "data = pd.read_csv('/datasets/real_estate_data.csv',sep='\\t')"
   ]
  },
  {
   "cell_type": "code",
   "execution_count": 4,
   "metadata": {},
   "outputs": [
    {
     "data": {
      "text/html": [
       "<div>\n",
       "<style scoped>\n",
       "    .dataframe tbody tr th:only-of-type {\n",
       "        vertical-align: middle;\n",
       "    }\n",
       "\n",
       "    .dataframe tbody tr th {\n",
       "        vertical-align: top;\n",
       "    }\n",
       "\n",
       "    .dataframe thead th {\n",
       "        text-align: right;\n",
       "    }\n",
       "</style>\n",
       "<table border=\"1\" class=\"dataframe\">\n",
       "  <thead>\n",
       "    <tr style=\"text-align: right;\">\n",
       "      <th></th>\n",
       "      <th>total_images</th>\n",
       "      <th>last_price</th>\n",
       "      <th>total_area</th>\n",
       "      <th>first_day_exposition</th>\n",
       "      <th>rooms</th>\n",
       "      <th>ceiling_height</th>\n",
       "      <th>floors_total</th>\n",
       "      <th>living_area</th>\n",
       "      <th>floor</th>\n",
       "      <th>is_apartment</th>\n",
       "      <th>studio</th>\n",
       "      <th>open_plan</th>\n",
       "      <th>kitchen_area</th>\n",
       "      <th>balcony</th>\n",
       "      <th>locality_name</th>\n",
       "      <th>airports_nearest</th>\n",
       "      <th>cityCenters_nearest</th>\n",
       "      <th>parks_around3000</th>\n",
       "      <th>parks_nearest</th>\n",
       "      <th>ponds_around3000</th>\n",
       "      <th>ponds_nearest</th>\n",
       "      <th>days_exposition</th>\n",
       "    </tr>\n",
       "  </thead>\n",
       "  <tbody>\n",
       "    <tr>\n",
       "      <th>0</th>\n",
       "      <td>20</td>\n",
       "      <td>13000000.0</td>\n",
       "      <td>108.0</td>\n",
       "      <td>2019-03-07T00:00:00</td>\n",
       "      <td>3</td>\n",
       "      <td>2.70</td>\n",
       "      <td>16.0</td>\n",
       "      <td>51.0</td>\n",
       "      <td>8</td>\n",
       "      <td>NaN</td>\n",
       "      <td>False</td>\n",
       "      <td>False</td>\n",
       "      <td>25.0</td>\n",
       "      <td>NaN</td>\n",
       "      <td>Санкт-Петербург</td>\n",
       "      <td>18863.0</td>\n",
       "      <td>16028.0</td>\n",
       "      <td>1.0</td>\n",
       "      <td>482.0</td>\n",
       "      <td>2.0</td>\n",
       "      <td>755.0</td>\n",
       "      <td>NaN</td>\n",
       "    </tr>\n",
       "    <tr>\n",
       "      <th>1</th>\n",
       "      <td>7</td>\n",
       "      <td>3350000.0</td>\n",
       "      <td>40.4</td>\n",
       "      <td>2018-12-04T00:00:00</td>\n",
       "      <td>1</td>\n",
       "      <td>NaN</td>\n",
       "      <td>11.0</td>\n",
       "      <td>18.6</td>\n",
       "      <td>1</td>\n",
       "      <td>NaN</td>\n",
       "      <td>False</td>\n",
       "      <td>False</td>\n",
       "      <td>11.0</td>\n",
       "      <td>2.0</td>\n",
       "      <td>посёлок Шушары</td>\n",
       "      <td>12817.0</td>\n",
       "      <td>18603.0</td>\n",
       "      <td>0.0</td>\n",
       "      <td>NaN</td>\n",
       "      <td>0.0</td>\n",
       "      <td>NaN</td>\n",
       "      <td>81.0</td>\n",
       "    </tr>\n",
       "    <tr>\n",
       "      <th>2</th>\n",
       "      <td>10</td>\n",
       "      <td>5196000.0</td>\n",
       "      <td>56.0</td>\n",
       "      <td>2015-08-20T00:00:00</td>\n",
       "      <td>2</td>\n",
       "      <td>NaN</td>\n",
       "      <td>5.0</td>\n",
       "      <td>34.3</td>\n",
       "      <td>4</td>\n",
       "      <td>NaN</td>\n",
       "      <td>False</td>\n",
       "      <td>False</td>\n",
       "      <td>8.3</td>\n",
       "      <td>0.0</td>\n",
       "      <td>Санкт-Петербург</td>\n",
       "      <td>21741.0</td>\n",
       "      <td>13933.0</td>\n",
       "      <td>1.0</td>\n",
       "      <td>90.0</td>\n",
       "      <td>2.0</td>\n",
       "      <td>574.0</td>\n",
       "      <td>558.0</td>\n",
       "    </tr>\n",
       "    <tr>\n",
       "      <th>3</th>\n",
       "      <td>0</td>\n",
       "      <td>64900000.0</td>\n",
       "      <td>159.0</td>\n",
       "      <td>2015-07-24T00:00:00</td>\n",
       "      <td>3</td>\n",
       "      <td>NaN</td>\n",
       "      <td>14.0</td>\n",
       "      <td>NaN</td>\n",
       "      <td>9</td>\n",
       "      <td>NaN</td>\n",
       "      <td>False</td>\n",
       "      <td>False</td>\n",
       "      <td>NaN</td>\n",
       "      <td>0.0</td>\n",
       "      <td>Санкт-Петербург</td>\n",
       "      <td>28098.0</td>\n",
       "      <td>6800.0</td>\n",
       "      <td>2.0</td>\n",
       "      <td>84.0</td>\n",
       "      <td>3.0</td>\n",
       "      <td>234.0</td>\n",
       "      <td>424.0</td>\n",
       "    </tr>\n",
       "    <tr>\n",
       "      <th>4</th>\n",
       "      <td>2</td>\n",
       "      <td>10000000.0</td>\n",
       "      <td>100.0</td>\n",
       "      <td>2018-06-19T00:00:00</td>\n",
       "      <td>2</td>\n",
       "      <td>3.03</td>\n",
       "      <td>14.0</td>\n",
       "      <td>32.0</td>\n",
       "      <td>13</td>\n",
       "      <td>NaN</td>\n",
       "      <td>False</td>\n",
       "      <td>False</td>\n",
       "      <td>41.0</td>\n",
       "      <td>NaN</td>\n",
       "      <td>Санкт-Петербург</td>\n",
       "      <td>31856.0</td>\n",
       "      <td>8098.0</td>\n",
       "      <td>2.0</td>\n",
       "      <td>112.0</td>\n",
       "      <td>1.0</td>\n",
       "      <td>48.0</td>\n",
       "      <td>121.0</td>\n",
       "    </tr>\n",
       "  </tbody>\n",
       "</table>\n",
       "</div>"
      ],
      "text/plain": [
       "   total_images  last_price  total_area first_day_exposition  rooms  \\\n",
       "0            20  13000000.0       108.0  2019-03-07T00:00:00      3   \n",
       "1             7   3350000.0        40.4  2018-12-04T00:00:00      1   \n",
       "2            10   5196000.0        56.0  2015-08-20T00:00:00      2   \n",
       "3             0  64900000.0       159.0  2015-07-24T00:00:00      3   \n",
       "4             2  10000000.0       100.0  2018-06-19T00:00:00      2   \n",
       "\n",
       "   ceiling_height  floors_total  living_area  floor is_apartment  studio  \\\n",
       "0            2.70          16.0         51.0      8          NaN   False   \n",
       "1             NaN          11.0         18.6      1          NaN   False   \n",
       "2             NaN           5.0         34.3      4          NaN   False   \n",
       "3             NaN          14.0          NaN      9          NaN   False   \n",
       "4            3.03          14.0         32.0     13          NaN   False   \n",
       "\n",
       "   open_plan  kitchen_area  balcony    locality_name  airports_nearest  \\\n",
       "0      False          25.0      NaN  Санкт-Петербург           18863.0   \n",
       "1      False          11.0      2.0   посёлок Шушары           12817.0   \n",
       "2      False           8.3      0.0  Санкт-Петербург           21741.0   \n",
       "3      False           NaN      0.0  Санкт-Петербург           28098.0   \n",
       "4      False          41.0      NaN  Санкт-Петербург           31856.0   \n",
       "\n",
       "   cityCenters_nearest  parks_around3000  parks_nearest  ponds_around3000  \\\n",
       "0              16028.0               1.0          482.0               2.0   \n",
       "1              18603.0               0.0            NaN               0.0   \n",
       "2              13933.0               1.0           90.0               2.0   \n",
       "3               6800.0               2.0           84.0               3.0   \n",
       "4               8098.0               2.0          112.0               1.0   \n",
       "\n",
       "   ponds_nearest  days_exposition  \n",
       "0          755.0              NaN  \n",
       "1            NaN             81.0  \n",
       "2          574.0            558.0  \n",
       "3          234.0            424.0  \n",
       "4           48.0            121.0  "
      ]
     },
     "metadata": {},
     "output_type": "display_data"
    }
   ],
   "source": [
    "display(data.head())"
   ]
  },
  {
   "cell_type": "markdown",
   "metadata": {},
   "source": [
    "<div class=\"alert alert-warning\">\n",
    "<b>⚠️ Комментарий ревьюера v1:</b> \n",
    "<br>Обрати внимание, что часть столбцов заменилась на \"...\". Чтобы это исправить, нужно увеличить максимальное количество отображающихся столбцов командой\n",
    "\n",
    "\tpd.set_option('display.max_columns', None)\n",
    "</div>"
   ]
  },
  {
   "cell_type": "markdown",
   "metadata": {},
   "source": [
    "<div class=\"alert alert-info\">\n",
    "<b>Комментарий студента:</b>\n",
    "<br>Добавила команду, позволяющую отображать таблицу со всеми столбцами.\n",
    "</div>"
   ]
  },
  {
   "cell_type": "code",
   "execution_count": 5,
   "metadata": {},
   "outputs": [
    {
     "name": "stdout",
     "output_type": "stream",
     "text": [
      "<class 'pandas.core.frame.DataFrame'>\n",
      "RangeIndex: 23699 entries, 0 to 23698\n",
      "Data columns (total 22 columns):\n",
      " #   Column                Non-Null Count  Dtype  \n",
      "---  ------                --------------  -----  \n",
      " 0   total_images          23699 non-null  int64  \n",
      " 1   last_price            23699 non-null  float64\n",
      " 2   total_area            23699 non-null  float64\n",
      " 3   first_day_exposition  23699 non-null  object \n",
      " 4   rooms                 23699 non-null  int64  \n",
      " 5   ceiling_height        14504 non-null  float64\n",
      " 6   floors_total          23613 non-null  float64\n",
      " 7   living_area           21796 non-null  float64\n",
      " 8   floor                 23699 non-null  int64  \n",
      " 9   is_apartment          2775 non-null   object \n",
      " 10  studio                23699 non-null  bool   \n",
      " 11  open_plan             23699 non-null  bool   \n",
      " 12  kitchen_area          21421 non-null  float64\n",
      " 13  balcony               12180 non-null  float64\n",
      " 14  locality_name         23650 non-null  object \n",
      " 15  airports_nearest      18157 non-null  float64\n",
      " 16  cityCenters_nearest   18180 non-null  float64\n",
      " 17  parks_around3000      18181 non-null  float64\n",
      " 18  parks_nearest         8079 non-null   float64\n",
      " 19  ponds_around3000      18181 non-null  float64\n",
      " 20  ponds_nearest         9110 non-null   float64\n",
      " 21  days_exposition       20518 non-null  float64\n",
      "dtypes: bool(2), float64(14), int64(3), object(3)\n",
      "memory usage: 3.7+ MB\n",
      "None\n"
     ]
    }
   ],
   "source": [
    "print(data.info())"
   ]
  },
  {
   "cell_type": "code",
   "execution_count": 6,
   "metadata": {},
   "outputs": [
    {
     "data": {
      "image/png": "[encoded data removed]",
      "text/plain": [
       "<Figure size 1080x1440 with 20 Axes>"
      ]
     },
     "metadata": {
      "needs_background": "light"
     },
     "output_type": "display_data"
    }
   ],
   "source": [
    "data.hist(figsize=(15, 20))\n",
    "plt.show()"
   ]
  },
  {
   "cell_type": "markdown",
   "metadata": {},
   "source": [
    "<div class=\"alert alert-success\">\n",
    "<b>✔️ Комментарий ревьюера v1:</b> \n",
    "<br>Графики построено верно! \n",
    "</div>\n",
    "\t\n",
    "<div class=\"alert alert-warning\">\n",
    "<b>⚠️ Комментарий ревьюера v1:</b> \n",
    "<br>Если после кода вызывающего график добавить \";\", то мы избавимся от строчки над графиком)\n",
    "</div>"
   ]
  },
  {
   "cell_type": "markdown",
   "metadata": {},
   "source": [
    "<div class=\"alert alert-info\">\n",
    "<b>Комментарий студента:</b>\n",
    "<br>Перепробовала множество разных вариантов c \";\", но строчка не исчезла. Зашла с plt.show().\n",
    "</div>"
   ]
  },
  {
   "cell_type": "markdown",
   "metadata": {},
   "source": [
    "<div class=\"alert alert-warning\">\n",
    "<b>⚠️ Комментарий ревьюера v2:</b> \n",
    "<br>Надо сделать так)\n",
    "    \n",
    "    data.hist(figsize=(15, 20));\n",
    "</div>"
   ]
  },
  {
   "cell_type": "markdown",
   "metadata": {},
   "source": [
    "#### Вывод \n",
    "Пропущенные данные имеются во всех столбцах, за исключением:  total_images, last_price, total_area, first_day_exposition, rooms, floor, studio, open_plan.\n",
    "* Гистрограмма total_images иллюстрирует распределение количества фотографий в объявлениях, где видно, что чаще всего люди прикладывают 5-10 снимков.\n",
    "* График last_price представлен в виде колонны, имеет пик около 0, что связано, вероятно, с выбросами.\n",
    "* По гистограмме total_area видно, что больше квартир имеют площадь до 100кв.м., однако имеются так же и выбросы.\n",
    "* По графику rooms видно, что чаще встречаются варианты до 5 комнатных квартир, что логично, однако по графику так же видно присутствие в данных выбивающихся из предедлов нормальных значений.\n",
    "* График ceiling_height в целом должен быть достаточно однородным, высота потолков не имеет слишком большой вариативности, однако в наших данных имеются аномальные значения.\n",
    "* Большинство размещенных объявлений floors_total находятся в промежутке от 1 до 12 этажа.\n",
    "* На графики living_area и kitchen_area оказывают влияние пропуски в значениях.\n",
    "* На графике balcony не видно особенностей распределения из-за \n",
    "** а) большого числа пропусков \n",
    "** б) непоказательного диапазона и числа корзин, заданных при построении графика.\n",
    "* Графики parks_around3000 и ponds_around3000 отражают тенденцию к убыванию количества квартир, имеющих большее число парков и прудов в радиусе 3 км.\n",
    "* Графики ponds_nearest и airports_nearest имеют нормальное распределение.\n",
    "* Графики parks_nearest и cityCenters_nearest имеют как пропуски, так и выбросы.\n",
    "* По гистограмме days_exposition видно, что большинство объявлений - краткосрочные, а именно примерно до 100 дней. Также есть выбросы свыше 1000 дней."
   ]
  },
  {
   "cell_type": "markdown",
   "metadata": {},
   "source": [
    "<div class=\"alert alert-success\">\n",
    "<b>✔️ Комментарий ревьюера v1:</b> \n",
    "<br>Всё верно! Рекомендую создать универсальную функцию, которая будет на вход принимать датафрейм, а на выходе будет выводить все необходимые характеристики поочередно применяя методы head, describe, info, duplicated и т.п.\n",
    "</div>"
   ]
  },
  {
   "cell_type": "markdown",
   "metadata": {},
   "source": [
    "###   Предобработка данных"
   ]
  },
  {
   "cell_type": "markdown",
   "metadata": {},
   "source": [
    "#### Изучим пропуски"
   ]
  },
  {
   "cell_type": "markdown",
   "metadata": {},
   "source": [
    "Пропуски есть в следующих столбцах: ceiling_height, floors_total, living_area, is_apartment, kitchen_area, balcony, locality_name, days_exposition, cityCenters_nearest, airports_nearest, parks_around3000, parks_nearest, ponds_around3000, ponds_nearest.\n",
    "* Среди указанных столбцов последние 6 (расстояния до аэропорта, центра города, водоема, парка и их наличие в 3 км) могут иметь значения при выборе жилья, однако замена картографических данных примерными данными чревата значительными погрешностями и неточностями, ведущими к снижению качества информации.\n",
    "* Столбцы **living_area, kitchen_area, locality_name** необходимы для оценки их влияния на стоимость квартиры, поэтому пропуски в площадях отдельных комнат квартиры посчитаны с использованием коэффициента: **средняя площадь комнаты(кухни) / средняя общая площадь**. По столбцу **locality_name** удалим строки с пропущенными значениями, т.к. этот параметр важен для анализа, а данные без него непоказательны.\n",
    "* Пропуски в столбце **ceiling_height** можно заполнить логическими значениями: высоту потолков указать среднюю по столбцу, что соответствует распространенной высоте потолков в России (2,5-2,7м).\n",
    "* Пропуски в столбце **floors_total** можно было бы допустить, что этажность дома не ниже этажа квартиры, но это приведет к искажению данных - они будут отнесены к категории \"последний этаж\". Поэтому удалим эти строки, т.к. их немного (<1%).\n",
    "* Пустые значения по балконам заменим на 0 - их может не быть, а их замена не критична.\n",
    "* Пустые данные в столбце **is_apartment** можно было бы рассмотреть как \"нет\", но этот фактор оказывает, как правило, значительное влияние на стоимость жилья, чтобы принять допущение, что все незаполненные данные - это апартаменты, поэтому оставим пустыми ячейки. \n",
    "* Пропуски в **days_exposition** нормальны, значит, объявление не снято с публикации.\n",
    "\n",
    "Причины пропусков могут быть полностью случайные (человек забыл указать количество балконов, например), случайные (значения столбца кухни например связано с площадью жилья в целом, но зависит не только от него), неслучайные (человек не хотел указывать признак апартаментов в надежде получить больше откликов по объявлению). Также причины могут быть технического характера: сбой в системе, некорректная выгрузка данных.\n",
    "\n"
   ]
  },
  {
   "cell_type": "code",
   "execution_count": 7,
   "metadata": {
    "scrolled": true
   },
   "outputs": [
    {
     "name": "stdout",
     "output_type": "stream",
     "text": [
      "[  2.           3.           5.         ... 356.36704419 409.\n",
      " 409.7       ]\n",
      "[  1.3          2.           2.24825687 ... 100.7        107.\n",
      " 112.        ]\n",
      "[  1.          1.2         1.75        2.          2.2         2.25\n",
      "   2.3         2.34        2.4         2.45        2.46        2.47\n",
      "   2.48        2.49        2.5         2.51        2.52        2.53\n",
      "   2.54        2.55        2.56        2.57        2.58        2.59\n",
      "   2.6         2.61        2.62        2.63        2.64        2.65\n",
      "   2.66        2.67        2.68        2.69        2.7         2.71\n",
      "   2.72        2.73        2.74        2.75        2.76        2.77\n",
      "   2.7714989   2.78        2.79        2.8         2.81        2.82\n",
      "   2.83        2.84        2.85        2.86        2.87        2.88\n",
      "   2.89        2.9         2.91        2.92        2.93        2.94\n",
      "   2.95        2.96        2.97        2.98        2.99        3.\n",
      "   3.01        3.02        3.03        3.04        3.05        3.06\n",
      "   3.07        3.08        3.09        3.1         3.11        3.12\n",
      "   3.13        3.14        3.15        3.16        3.17        3.18\n",
      "   3.2         3.21        3.22        3.23        3.24        3.25\n",
      "   3.26        3.27        3.28        3.29        3.3         3.31\n",
      "   3.32        3.33        3.34        3.35        3.36        3.37\n",
      "   3.38        3.39        3.4         3.42        3.43        3.44\n",
      "   3.45        3.46        3.47        3.48        3.49        3.5\n",
      "   3.51        3.52        3.53        3.54        3.55        3.56\n",
      "   3.57        3.58        3.59        3.6         3.62        3.63\n",
      "   3.65        3.66        3.67        3.68        3.69        3.7\n",
      "   3.75        3.76        3.78        3.8         3.82        3.83\n",
      "   3.84        3.85        3.86        3.87        3.88        3.9\n",
      "   3.93        3.95        3.98        4.          4.06        4.1\n",
      "   4.14        4.15        4.19        4.2         4.25        4.3\n",
      "   4.37        4.4         4.45        4.5         4.65        4.7\n",
      "   4.8         4.9         5.          5.2         5.3         5.5\n",
      "   5.6         5.8         6.          8.          8.3        10.3\n",
      "  14.         20.         22.6        24.         25.         26.\n",
      "  27.         27.5        32.        100.       ]\n"
     ]
    }
   ],
   "source": [
    "# заменила пропуски в балконах на 0 - полагаю, что они пропущены, т.к. их нет\n",
    "data.loc[data['balcony'].isna(), 'balcony'] = 0\n",
    "\n",
    "# заменила пропуски в жилой площади, рассчитав среднюю долю отношения жилой площади к общей\n",
    "data['share_living'] = data['living_area'] / data['total_area']\n",
    "data.loc[data['living_area'].isna(), 'living_area'] = (data['total_area'] * data['share_living'].mean())\n",
    "\n",
    "# заменила пропуски в площади кухни, рассчитав среднюю долю отношения площади кухни к общей\n",
    "data['share_kitchen'] = data['kitchen_area'] / data['total_area']\n",
    "data.loc[data['kitchen_area'].isna(), 'kitchen_area'] = (data['total_area'] * data['share_kitchen'].mean())\n",
    "\n",
    "print(data['living_area'].sort_values().unique())\n",
    "print(data['kitchen_area'].sort_values().unique())\n",
    "\n",
    "#заменили пропуски в высоте потолка на среднее значение\n",
    "data.loc[data['ceiling_height'].isna(), 'ceiling_height'] = data['ceiling_height'].mean() \n",
    "print(data['ceiling_height'].sort_values().unique())"
   ]
  },
  {
   "cell_type": "markdown",
   "metadata": {},
   "source": [
    "<div class=\"alert alert-warning\">\n",
    "<b>⚠️ Комментарий ревьюера v1:</b> \n",
    "<br>living_area / kithen_area можно найти соотношение средней жилой / кухонной площади к средней общей площади и использовать полученное значение для замены пропусков\n",
    "</div>"
   ]
  },
  {
   "cell_type": "markdown",
   "metadata": {},
   "source": [
    "<div class=\"alert alert-warning\">\n",
    "<b>⚠️ Комментарий ревьюера v1:</b> \n",
    "<br>Пропуски в столбцах с картографическими данными лучше не трогать, так как мы не можем восстановить их с достаточной точностью. Лучше оставить их как есть.\n",
    "</div>"
   ]
  },
  {
   "cell_type": "markdown",
   "metadata": {},
   "source": [
    "<div class=\"alert alert-danger\">\n",
    "<b>❌ Комментарий ревьюера v1:</b> \n",
    "<br>Давай ещё заполним пропуски в столбце с высотой потолков, тем более мы можем достаточно точно их восстановить так как основная часть данных в этом столбце находится в небольшом диапазоне.\n",
    "</div>"
   ]
  },
  {
   "cell_type": "markdown",
   "metadata": {},
   "source": [
    "<div class=\"alert alert-info\">\n",
    "<b>Комментарий студента:</b>\n",
    "<br>\n",
    "Заменила пропуски в столбцах с жилой площадью и площадью кухни через расчет отношения площади жилой/кухни к общей и по ней рассчитав среднюю. Отменила замену пропусков в столбце с картографическими данными.\\n                \n",
    "Заполнила пропуски в столбце с высотой потолка средним значением по столбцу.                        \n",
    "</div>"
   ]
  },
  {
   "cell_type": "markdown",
   "metadata": {},
   "source": [
    "<div class=\"alert alert-success\">\n",
    "<b>✔️ Комментарий ревьюера v2:</b>\n",
    "<br>Правка выполнена 👍\n",
    "</div>"
   ]
  },
  {
   "cell_type": "markdown",
   "metadata": {},
   "source": [
    "#### Изучим типы данных"
   ]
  },
  {
   "cell_type": "markdown",
   "metadata": {},
   "source": [
    "В столбце с датой публикации объявления тип - object, корректно изменить на datetime.\n",
    "В **floors_total, days_exposition, parks_around3000, ponds_around3000, balcony** изменим тип float на целочисленный int, т.к. определяют количество, которое не может быть дробным. В столбце **days_exposition** сначала округлим до наименьшего полного числа дней.\n"
   ]
  },
  {
   "cell_type": "code",
   "execution_count": 8,
   "metadata": {},
   "outputs": [],
   "source": [
    "data['first_day_exposition'] = pd.to_datetime(data['first_day_exposition'], format='%Y-%m-%dT%H:%M:%S')\n",
    "\n",
    "data[['parks_around3000', 'ponds_around3000', 'balcony', 'floors_total']] = data[['parks_around3000', 'ponds_around3000', \\\n",
    "'balcony', 'floors_total']].astype('Int64')\n",
    "\n",
    "data['days_exposition'] = data['days_exposition'].round().astype('Int64')"
   ]
  },
  {
   "cell_type": "markdown",
   "metadata": {},
   "source": [
    "<div class=\"alert alert-warning\">\n",
    "<b>⚠️ Комментарий ревьюера v1:</b> \n",
    "<br>Методы fillna и astype можно применить к нескольким столбюца одновременно\n",
    "\n",
    "\tdf.astype({ \"col1\": \"float64\", \"col2\": \"int64\"})\n",
    "<br>Если столбцов более двух, то можно применить цикл for для автоматизации процесса\n",
    "</div>"
   ]
  },
  {
   "cell_type": "markdown",
   "metadata": {},
   "source": [
    "#### Устраним дубликаты"
   ]
  },
  {
   "cell_type": "code",
   "execution_count": 9,
   "metadata": {},
   "outputs": [
    {
     "name": "stdout",
     "output_type": "stream",
     "text": [
      "['Бокситогорск' 'Волосово' 'Волхов' 'Всеволожск' 'Выборг' 'Высоцк'\n",
      " 'Гатчина' 'Зеленогорск' 'Ивангород' 'Каменногорск' 'Кингисепп' 'Кириши'\n",
      " 'Кировск' 'Колпино' 'Коммунар' 'Красное Село' 'Кронштадт' 'Кудрово'\n",
      " 'Лодейное Поле' 'Ломоносов' 'Луга' 'Любань' 'Мурино' 'Никольское'\n",
      " 'Новая Ладога' 'Отрадное' 'Павловск' 'Петергоф' 'Пикалёво' 'Подпорожье'\n",
      " 'Приморск' 'Приозерск' 'Пушкин' 'Санкт-Петербург' 'Светогорск'\n",
      " 'Сертолово' 'Сестрорецк' 'Сланцы' 'Сосновый Бор' 'Сясьстрой' 'Тихвин'\n",
      " 'Тосно' 'Шлиссельбург' 'городской поселок Большая Ижора'\n",
      " 'городской поселок Янино-1' 'городской посёлок Будогощь'\n",
      " 'городской посёлок Виллози' 'городской посёлок Лесогорский'\n",
      " 'городской посёлок Мга' 'городской посёлок Назия'\n",
      " 'городской посёлок Новоселье' 'городской посёлок Павлово'\n",
      " 'городской посёлок Рощино' 'городской посёлок Свирьстрой'\n",
      " 'городской посёлок Советский' 'городской посёлок Фёдоровское'\n",
      " 'городской посёлок Янино-1' 'деревня Агалатово' 'деревня Аро'\n",
      " 'деревня Батово' 'деревня Бегуницы' 'деревня Белогорка'\n",
      " 'деревня Большая Вруда' 'деревня Большая Пустомержа'\n",
      " 'деревня Большие Колпаны' 'деревня Большое Рейзино'\n",
      " 'деревня Большой Сабск' 'деревня Бор' 'деревня Борисова Грива'\n",
      " 'деревня Ваганово' 'деревня Вартемяги' 'деревня Вахнова Кара'\n",
      " 'деревня Выскатка' 'деревня Гарболово' 'деревня Глинка'\n",
      " 'деревня Горбунки' 'деревня Гостилицы' 'деревня Заклинье'\n",
      " 'деревня Заневка' 'деревня Зимитицы' 'деревня Извара' 'деревня Иссад'\n",
      " 'деревня Калитино' 'деревня Кальтино' 'деревня Камышовка'\n",
      " 'деревня Каськово' 'деревня Келози' 'деревня Кипень' 'деревня Кисельня'\n",
      " 'деревня Колтуши' 'деревня Коркино' 'деревня Котлы' 'деревня Кривко'\n",
      " 'деревня Кудрово' 'деревня Кузьмолово' 'деревня Курковицы'\n",
      " 'деревня Куровицы' 'деревня Куттузи' 'деревня Лаврики' 'деревня Лаголово'\n",
      " 'деревня Лампово' 'деревня Лесколово' 'деревня Лопухинка'\n",
      " 'деревня Лупполово' 'деревня Малая Романовка' 'деревня Малое Верево'\n",
      " 'деревня Малое Карлино' 'деревня Малые Колпаны' 'деревня Мануйлово'\n",
      " 'деревня Меньково' 'деревня Мины' 'деревня Мистолово' 'деревня Ненимяки'\n",
      " 'деревня Нижние Осельки' 'деревня Нижняя' 'деревня Низино'\n",
      " 'деревня Новое Девяткино' 'деревня Новолисино' 'деревня Нурма'\n",
      " 'деревня Оржицы' 'деревня Парицы' 'деревня Пельгора' 'деревня Пеники'\n",
      " 'деревня Пижма' 'деревня Пикколово' 'деревня Пудомяги' 'деревня Пустынка'\n",
      " 'деревня Пчева' 'деревня Рабитицы' 'деревня Разбегаево'\n",
      " 'деревня Раздолье' 'деревня Разметелево' 'деревня Рапполово'\n",
      " 'деревня Реброво' 'деревня Русско' 'деревня Сижно' 'деревня Снегирёвка'\n",
      " 'деревня Старая' 'деревня Старая Пустошь' 'деревня Старое Хинколово'\n",
      " 'деревня Старополье' 'деревня Старосиверская' 'деревня Старые Бегуницы'\n",
      " 'деревня Суоранда' 'деревня Сяськелево' 'деревня Тарасово'\n",
      " 'деревня Терпилицы' 'деревня Тихковицы' 'деревня Тойворово'\n",
      " 'деревня Торосово' 'деревня Торошковичи' 'деревня Трубников Бор'\n",
      " 'деревня Фалилеево' 'деревня Фёдоровское' 'деревня Хапо-Ое'\n",
      " 'деревня Хязельки' 'деревня Чудской Бор' 'деревня Шпаньково'\n",
      " 'деревня Щеглово' 'деревня Юкки' 'деревня Ялгино' 'деревня Яльгелево'\n",
      " 'деревня Ям-Тесово' 'коттеджный поселок Кивеннапа Север'\n",
      " 'коттеджный поселок Счастье' 'коттеджный посёлок Лесное' 'поселок Аннино'\n",
      " 'поселок Барышево' 'поселок Бугры' 'поселок Возрождение'\n",
      " 'поселок Войсковицы' 'поселок Володарское' 'поселок Гаврилово'\n",
      " 'поселок Гарболово' 'поселок Гладкое' 'поселок Глажево'\n",
      " 'поселок Глебычево' 'поселок Гончарово' 'поселок Громово'\n",
      " 'поселок Дружноселье' 'поселок Елизаветино' 'поселок Жилгородок'\n",
      " 'поселок Жилпосёлок' 'поселок Житково' 'поселок Заводской'\n",
      " 'поселок Запорожское' 'поселок Зимитицы' 'поселок Ильичёво'\n",
      " 'поселок Калитино' 'поселок Каложицы' 'поселок Кингисеппский'\n",
      " 'поселок Кирпичное' 'поселок Кобралово' 'поселок Кобринское'\n",
      " 'поселок Коммунары' 'поселок Коробицыно' 'поселок Котельский'\n",
      " 'поселок Красная Долина' 'поселок Красносельское' 'поселок Лесное'\n",
      " 'поселок Лисий Нос' 'поселок Лукаши' 'поселок Любань'\n",
      " 'поселок Мельниково' 'поселок Мичуринское' 'поселок Молодцово'\n",
      " 'поселок Мурино' 'поселок Новый Свет' 'поселок Новый Учхоз'\n",
      " 'поселок Оредеж' 'поселок Пансионат Зелёный Бор' 'поселок Первомайское'\n",
      " 'поселок Перово' 'поселок Петровское' 'поселок Победа' 'поселок Поляны'\n",
      " 'поселок Почап' 'поселок Починок' 'поселок Пушное' 'поселок Пчевжа'\n",
      " 'поселок Рабитицы' 'поселок Романовка' 'поселок Ромашки' 'поселок Рябово'\n",
      " 'поселок Севастьяново' 'поселок Селезнёво' 'поселок Сельцо'\n",
      " 'поселок Семиозерье' 'поселок Семрино' 'поселок Серебрянский'\n",
      " 'поселок Совхозный' 'поселок Старая Малукса' 'поселок Стеклянный'\n",
      " 'поселок Сумино' 'поселок Суходолье' 'поселок Тельмана'\n",
      " 'поселок Терволово' 'поселок Торковичи' 'поселок Тёсово-4'\n",
      " 'поселок Углово' 'поселок Усть-Луга' 'поселок Ушаки'\n",
      " 'поселок Цвелодубово' 'поселок Цвылёво'\n",
      " 'поселок городского типа Большая Ижора' 'поселок городского типа Вырица'\n",
      " 'поселок городского типа Дружная Горка'\n",
      " 'поселок городского типа Дубровка' 'поселок городского типа Ефимовский'\n",
      " 'поселок городского типа Кондратьево'\n",
      " 'поселок городского типа Красный Бор'\n",
      " 'поселок городского типа Кузьмоловский' 'поселок городского типа Лебяжье'\n",
      " 'поселок городского типа Лесогорский' 'поселок городского типа Назия'\n",
      " 'поселок городского типа Никольский'\n",
      " 'поселок городского типа Приладожский' 'поселок городского типа Рахья'\n",
      " 'поселок городского типа Рощино' 'поселок городского типа Рябово'\n",
      " 'поселок городского типа Синявино' 'поселок городского типа Советский'\n",
      " 'поселок городского типа Токсово' 'поселок городского типа Форносово'\n",
      " 'поселок городского типа имени Свердлова' 'поселок станции Вещево'\n",
      " 'поселок станции Корнево' 'поселок станции Лужайка'\n",
      " 'поселок станции Приветнинское' 'посёлок Александровская'\n",
      " 'посёлок Алексеевка' 'посёлок Аннино' 'посёлок Белоостров'\n",
      " 'посёлок Бугры' 'посёлок Возрождение' 'посёлок Войскорово'\n",
      " 'посёлок Высокоключевой' 'посёлок Гаврилово' 'посёлок Дзержинского'\n",
      " 'посёлок Жилгородок' 'посёлок Ильичёво' 'посёлок Кикерино'\n",
      " 'посёлок Кобралово' 'посёлок Коробицыно' 'посёлок Левашово'\n",
      " 'посёлок Ленинское' 'посёлок Лисий Нос' 'посёлок Мельниково'\n",
      " 'посёлок Металлострой' 'посёлок Мичуринское' 'посёлок Молодёжное'\n",
      " 'посёлок Мурино' 'посёлок Мыза-Ивановка' 'посёлок Новогорелово'\n",
      " 'посёлок Новый Свет' 'посёлок Пансионат Зелёный Бор' 'посёлок Парголово'\n",
      " 'посёлок Перово' 'посёлок Песочный' 'посёлок Петро-Славянка'\n",
      " 'посёлок Петровское' 'посёлок Платформа 69-й километр' 'посёлок Плодовое'\n",
      " 'посёлок Плоское' 'посёлок Победа' 'посёлок Поляны' 'посёлок Понтонный'\n",
      " 'посёлок Пригородный' 'посёлок Пудость' 'посёлок Репино' 'посёлок Ропша'\n",
      " 'посёлок Сапёрное' 'посёлок Сапёрный' 'посёлок Сосново'\n",
      " 'посёлок Старая Малукса' 'посёлок Стеклянный' 'посёлок Стрельна'\n",
      " 'посёлок Суйда' 'посёлок Сумино' 'посёлок Тельмана' 'посёлок Терволово'\n",
      " 'посёлок Торфяное' 'посёлок Усть-Ижора' 'посёлок Усть-Луга'\n",
      " 'посёлок Форт Красная Горка' 'посёлок Шугозеро' 'посёлок Шушары'\n",
      " 'посёлок Щеглово' 'посёлок городского типа Важины'\n",
      " 'посёлок городского типа Вознесенье' 'посёлок городского типа Вырица'\n",
      " 'посёлок городского типа Красный Бор' 'посёлок городского типа Кузнечное'\n",
      " 'посёлок городского типа Кузьмоловский' 'посёлок городского типа Лебяжье'\n",
      " 'посёлок городского типа Мга' 'посёлок городского типа Павлово'\n",
      " 'посёлок городского типа Рощино' 'посёлок городского типа Рябово'\n",
      " 'посёлок городского типа Сиверский' 'посёлок городского типа Тайцы'\n",
      " 'посёлок городского типа Токсово' 'посёлок городского типа Ульяновка'\n",
      " 'посёлок городского типа Форносово'\n",
      " 'посёлок городского типа имени Морозова'\n",
      " 'посёлок городского типа имени Свердлова'\n",
      " 'посёлок при железнодорожной станции Вещево'\n",
      " 'посёлок при железнодорожной станции Приветнинское'\n",
      " 'посёлок станции Громово' 'посёлок станции Свирь'\n",
      " 'садоводческое некоммерческое товарищество Лесная Поляна'\n",
      " 'садовое товарищество Новая Ропша' 'садовое товарищество Приладожский'\n",
      " 'садовое товарищество Рахья' 'садовое товарищество Садко' 'село Копорье'\n",
      " 'село Никольское' 'село Павлово' 'село Паша' 'село Путилово'\n",
      " 'село Рождествено' 'село Русско-Высоцкое' 'село Старая Ладога' 'село Шум'\n",
      " nan]\n"
     ]
    }
   ],
   "source": [
    "print(data['locality_name'].sort_values().unique()) #выведем отфильтрованный список уникальных названий"
   ]
  },
  {
   "cell_type": "code",
   "execution_count": 10,
   "metadata": {},
   "outputs": [
    {
     "name": "stdout",
     "output_type": "stream",
     "text": [
      "['Агалатово' 'Александровская' 'Алексеевка' 'Аннино' 'Аро' 'Барышево'\n",
      " 'Батово' 'Бегуницы' 'Белогорка' 'Белоостров' 'Бокситогорск'\n",
      " 'Большая Вруда' 'Большая Ижора' 'Большая Пустомержа' 'Большие Колпаны'\n",
      " 'Большое Рейзино' 'Большой Сабск' 'Бор' 'Борисова Грива' 'Бугры'\n",
      " 'Будогощь' 'Ваганово' 'Важины' 'Вартемяги' 'Вахнова Кара' 'Вещево'\n",
      " 'Виллози' 'Вознесенье' 'Возрождение' 'Войсковицы' 'Войскорово'\n",
      " 'Володарское' 'Волосово' 'Волхов' 'Всеволожск' 'Выборг' 'Вырица'\n",
      " 'Выскатка' 'Высокоключевой' 'Высоцк' 'Гаврилово' 'Гарболово' 'Гатчина'\n",
      " 'Гладкое' 'Глажево' 'Глебычево' 'Глинка' 'Гончарово' 'Горбунки'\n",
      " 'Гостилицы' 'Громово' 'Дзержинского' 'Дружная Горка' 'Дружноселье'\n",
      " 'Дубровка' 'Елизаветино' 'Ефимовский' 'Жил' 'Жилгородок' 'Житково'\n",
      " 'Заводской' 'Заклинье' 'Заневка' 'Запорожское' 'Зеленогорск' 'Зимитицы'\n",
      " 'Ивангород' 'Извара' 'Ильичево' 'Иссад' 'Калитино' 'Каложицы' 'Кальтино'\n",
      " 'Каменногорск' 'Камышовка' 'Каськово' 'Келози' 'Кивеннапа Север'\n",
      " 'Кикерино' 'Кингисепп' 'Кингисеппский' 'Кипень' 'Кириши' 'Кировск'\n",
      " 'Кирпичное' 'Кисельня' 'Кобралово' 'Кобринское' 'Колпино' 'Колтуши'\n",
      " 'Коммунар' 'Коммунары' 'Кондратьево' 'Копорье' 'Коркино' 'Корнево'\n",
      " 'Коробицыно' 'Котельский' 'Котлы' 'Красная Долина' 'Красное Село'\n",
      " 'Красносельское' 'Красный Бор' 'Кривко' 'Кронштадт' 'Кудрово' 'Кузнечное'\n",
      " 'Кузьмолово' 'Кузьмоловский' 'Курковицы' 'Куровицы' 'Куттузи' 'Лаврики'\n",
      " 'Лаголово' 'Лампово' 'Лебяжье' 'Левашово' 'Ленинское' 'Лесколово'\n",
      " 'Лесная Поляна' 'Лесное' 'Лесогорский' 'Лисий Нос' 'Лодейное Поле'\n",
      " 'Ломоносов' 'Лопухинка' 'Луга' 'Лужайка' 'Лукаши' 'Лупполово' 'Любань'\n",
      " 'Малая Романовка' 'Малое Верево' 'Малое Карлино' 'Малые Колпаны'\n",
      " 'Мануйлово' 'Мга' 'Мельниково' 'Меньково' 'Металлострой' 'Мины'\n",
      " 'Мистолово' 'Мичуринское' 'Молодежное' 'Молодцово' 'Мурино'\n",
      " 'Мыза-Ивановка' 'Назия' 'Ненимяки' 'Нижние Осельки' 'Нижняя' 'Низино'\n",
      " 'Никольский' 'Никольское' 'Новая Ладога' 'Новая Ропша' 'Новогорелово'\n",
      " 'Новое Девяткино' 'Новолисино' 'Новоселье' 'Новый Свет' 'Новый Учхоз'\n",
      " 'Нурма' 'Оредеж' 'Оржицы' 'Отрадное' 'Павлово' 'Павловск'\n",
      " 'Пансионат Зеленый Бор' 'Парголово' 'Парицы' 'Паша' 'Пельгора' 'Пеники'\n",
      " 'Первомайское' 'Перово' 'Песочный' 'Петергоф' 'Петро-Славянка'\n",
      " 'Петровское' 'Пижма' 'Пикалево' 'Пикколово' 'Платформа 69-й километр'\n",
      " 'Плодовое' 'Плоское' 'Победа' 'Подпорожье' 'Поляны' 'Понтонный' 'Почап'\n",
      " 'Починок' 'Приветнинское' 'Пригородный' 'Приладожский' 'Приморск'\n",
      " 'Приозерск' 'Пудомяги' 'Пудость' 'Пустынка' 'Путилово' 'Пушкин' 'Пушное'\n",
      " 'Пчева' 'Пчевжа' 'Рабитицы' 'Разбегаево' 'Раздолье' 'Разметелево'\n",
      " 'Рапполово' 'Рахья' 'Реброво' 'Репино' 'Рождествено' 'Романовка'\n",
      " 'Ромашки' 'Ропша' 'Рощино' 'Русско' 'Русско-Высоцкое' 'Рябово' 'Садко'\n",
      " 'Санкт-Петербург' 'Саперное' 'Саперный' 'Светогорск' 'Свирь' 'Свирьстрой'\n",
      " 'Севастьяново' 'Селезнево' 'Сельцо' 'Семиозерье' 'Семрино' 'Серебрянский'\n",
      " 'Сертолово' 'Сестрорецк' 'Сиверский' 'Сижно' 'Синявино' 'Сланцы'\n",
      " 'Снегиревка' 'Советский' 'Совхозный' 'Сосново' 'Сосновый Бор' 'Старая'\n",
      " 'Старая Ладога' 'Старая Малукса' 'Старая Пустошь' 'Старое Хинколово'\n",
      " 'Старополье' 'Старосиверская' 'Старые Бегуницы' 'Стеклянный' 'Стрельна'\n",
      " 'Суйда' 'Сумино' 'Суоранда' 'Суходолье' 'Счастье' 'Сяськелево'\n",
      " 'Сясьстрой' 'Тайцы' 'Тарасово' 'Тельмана' 'Терволово' 'Терпилицы'\n",
      " 'Тесово-4' 'Тихвин' 'Тихковицы' 'Тойворово' 'Токсово' 'Торковичи'\n",
      " 'Торосово' 'Торошковичи' 'Торфяное' 'Тосно' 'Трубников Бор' 'Углово'\n",
      " 'Ульяновка' 'Усть-Ижора' 'Усть-Луга' 'Ушаки' 'Фалилеево' 'Федоровское'\n",
      " 'Форносово' 'Форт Красная Горка' 'Хапо-Ое' 'Хязельки' 'Цвелодубово'\n",
      " 'Цвылево' 'Чудской Бор' 'Шлиссельбург' 'Шпаньково' 'Шугозеро' 'Шум'\n",
      " 'Шушары' 'Щеглово' 'Юкки' 'Ялгино' 'Яльгелево' 'Ям-Тесово' 'Янино-1'\n",
      " 'имени Морозова' 'имени Свердлова' nan]\n"
     ]
    }
   ],
   "source": [
    "data['locality_name'] = data['locality_name'].str.replace('ё', 'е')\n",
    "data['locality_name'] = data['locality_name'].replace('поселок|деревня|село|станции|товарищество|садовое|железнодорожной|садоводческое|некоммерческое|городского|типа|городской|коттеджный', \\\n",
    "'', regex = True)\n",
    "\n",
    "# заменим таким образом оставшиеся значения, чтобы не исключать локации с приставкой при- \n",
    "\n",
    "data['locality_name'] = data['locality_name'].replace(' при   Вещево', 'Вещево') \n",
    "data['locality_name'] = data['locality_name'].replace(' при   Приветнинское', 'Приветнинское')\n",
    "\n",
    "data['locality_name'] = data['locality_name'].str.strip()\n",
    "print(data['locality_name'].sort_values().unique())"
   ]
  },
  {
   "cell_type": "markdown",
   "metadata": {},
   "source": [
    "<div class=\"alert alert-success\">\n",
    "<b>✔️ Комментарий ревьюера v1:</b> \n",
    "<br>Супер! Здесь всё верно)\n",
    "</div>"
   ]
  },
  {
   "cell_type": "markdown",
   "metadata": {},
   "source": [
    "#### Устраним аномалии"
   ]
  },
  {
   "cell_type": "code",
   "execution_count": 11,
   "metadata": {},
   "outputs": [
    {
     "name": "stdout",
     "output_type": "stream",
     "text": [
      "[  1.          1.2         1.75        2.          2.2         2.25\n",
      "   2.3         2.34        2.4         2.45        2.46        2.47\n",
      "   2.48        2.49        2.5         2.51        2.52        2.53\n",
      "   2.54        2.55        2.56        2.57        2.58        2.59\n",
      "   2.6         2.61        2.62        2.63        2.64        2.65\n",
      "   2.66        2.67        2.68        2.69        2.7         2.71\n",
      "   2.72        2.73        2.74        2.75        2.76        2.77\n",
      "   2.7714989   2.78        2.79        2.8         2.81        2.82\n",
      "   2.83        2.84        2.85        2.86        2.87        2.88\n",
      "   2.89        2.9         2.91        2.92        2.93        2.94\n",
      "   2.95        2.96        2.97        2.98        2.99        3.\n",
      "   3.01        3.02        3.03        3.04        3.05        3.06\n",
      "   3.07        3.08        3.09        3.1         3.11        3.12\n",
      "   3.13        3.14        3.15        3.16        3.17        3.18\n",
      "   3.2         3.21        3.22        3.23        3.24        3.25\n",
      "   3.26        3.27        3.28        3.29        3.3         3.31\n",
      "   3.32        3.33        3.34        3.35        3.36        3.37\n",
      "   3.38        3.39        3.4         3.42        3.43        3.44\n",
      "   3.45        3.46        3.47        3.48        3.49        3.5\n",
      "   3.51        3.52        3.53        3.54        3.55        3.56\n",
      "   3.57        3.58        3.59        3.6         3.62        3.63\n",
      "   3.65        3.66        3.67        3.68        3.69        3.7\n",
      "   3.75        3.76        3.78        3.8         3.82        3.83\n",
      "   3.84        3.85        3.86        3.87        3.88        3.9\n",
      "   3.93        3.95        3.98        4.          4.06        4.1\n",
      "   4.14        4.15        4.19        4.2         4.25        4.3\n",
      "   4.37        4.4         4.45        4.5         4.65        4.7\n",
      "   4.8         4.9         5.          5.2         5.3         5.5\n",
      "   5.6         5.8         6.          8.          8.3        10.3\n",
      "  14.         20.         22.6        24.         25.         26.\n",
      "  27.         27.5        32.        100.       ]\n",
      "[ 12.   13.   13.2 ... 631.  631.2 900. ]\n",
      "[1.219e+04 4.300e+05 4.400e+05 ... 4.013e+08 4.200e+08 7.630e+08]\n",
      "1     8047\n",
      "2     7940\n",
      "3     5814\n",
      "4     1180\n",
      "5      326\n",
      "0      197\n",
      "6      105\n",
      "7       59\n",
      "8       12\n",
      "9        8\n",
      "10       3\n",
      "11       2\n",
      "14       2\n",
      "19       1\n",
      "16       1\n",
      "12       1\n",
      "15       1\n",
      "Name: rooms, dtype: int64\n"
     ]
    }
   ],
   "source": [
    "# выведем уникальные значения в столбцах: высота потолка, общая площадь, стоимость квартиры, количество комнат\n",
    "print(data['ceiling_height'].sort_values().unique())\n",
    "\n",
    "print(data['total_area'].sort_values().unique())\n",
    "\n",
    "print(data['last_price'].sort_values().unique())\n",
    "\n",
    "print(data['rooms'].value_counts())"
   ]
  },
  {
   "cell_type": "markdown",
   "metadata": {},
   "source": [
    "Аномальными кажутся значения высоты потолка равные 14. , 10.3, 8. , 26. , 27. , 1.2, 22.6, 100. ,32. , 24. , 27.5, 2. , \n",
    "20. , 25. Значения от 20 до 32 встречаются часто, это может быть опечаткой, заменим их на более распространенные значения, поделив на 10. Высота потолка меньше 2 метров или больше 8 кажется нереалистичной (меньше 2 м. еще и негуманной), от них откажемся."
   ]
  },
  {
   "cell_type": "code",
   "execution_count": 12,
   "metadata": {},
   "outputs": [
    {
     "data": {
      "text/html": [
       "<div>\n",
       "<style scoped>\n",
       "    .dataframe tbody tr th:only-of-type {\n",
       "        vertical-align: middle;\n",
       "    }\n",
       "\n",
       "    .dataframe tbody tr th {\n",
       "        vertical-align: top;\n",
       "    }\n",
       "\n",
       "    .dataframe thead th {\n",
       "        text-align: right;\n",
       "    }\n",
       "</style>\n",
       "<table border=\"1\" class=\"dataframe\">\n",
       "  <thead>\n",
       "    <tr style=\"text-align: right;\">\n",
       "      <th></th>\n",
       "      <th>total_images</th>\n",
       "      <th>last_price</th>\n",
       "      <th>total_area</th>\n",
       "      <th>first_day_exposition</th>\n",
       "      <th>rooms</th>\n",
       "      <th>ceiling_height</th>\n",
       "      <th>floors_total</th>\n",
       "      <th>living_area</th>\n",
       "      <th>floor</th>\n",
       "      <th>is_apartment</th>\n",
       "      <th>studio</th>\n",
       "      <th>open_plan</th>\n",
       "      <th>kitchen_area</th>\n",
       "      <th>balcony</th>\n",
       "      <th>locality_name</th>\n",
       "      <th>airports_nearest</th>\n",
       "      <th>cityCenters_nearest</th>\n",
       "      <th>parks_around3000</th>\n",
       "      <th>parks_nearest</th>\n",
       "      <th>ponds_around3000</th>\n",
       "      <th>ponds_nearest</th>\n",
       "      <th>days_exposition</th>\n",
       "      <th>share_living</th>\n",
       "      <th>share_kitchen</th>\n",
       "    </tr>\n",
       "  </thead>\n",
       "  <tbody>\n",
       "    <tr>\n",
       "      <th>0</th>\n",
       "      <td>20</td>\n",
       "      <td>13000000.0</td>\n",
       "      <td>108.00</td>\n",
       "      <td>2019-03-07</td>\n",
       "      <td>3</td>\n",
       "      <td>2.700000</td>\n",
       "      <td>16</td>\n",
       "      <td>51.000000</td>\n",
       "      <td>8</td>\n",
       "      <td>NaN</td>\n",
       "      <td>False</td>\n",
       "      <td>False</td>\n",
       "      <td>25.000000</td>\n",
       "      <td>0</td>\n",
       "      <td>Санкт-Петербург</td>\n",
       "      <td>18863.0</td>\n",
       "      <td>16028.0</td>\n",
       "      <td>1</td>\n",
       "      <td>482.0</td>\n",
       "      <td>2</td>\n",
       "      <td>755.0</td>\n",
       "      <td>&lt;NA&gt;</td>\n",
       "      <td>0.472222</td>\n",
       "      <td>0.231481</td>\n",
       "    </tr>\n",
       "    <tr>\n",
       "      <th>1</th>\n",
       "      <td>7</td>\n",
       "      <td>3350000.0</td>\n",
       "      <td>40.40</td>\n",
       "      <td>2018-12-04</td>\n",
       "      <td>1</td>\n",
       "      <td>2.771499</td>\n",
       "      <td>11</td>\n",
       "      <td>18.600000</td>\n",
       "      <td>1</td>\n",
       "      <td>NaN</td>\n",
       "      <td>False</td>\n",
       "      <td>False</td>\n",
       "      <td>11.000000</td>\n",
       "      <td>2</td>\n",
       "      <td>Шушары</td>\n",
       "      <td>12817.0</td>\n",
       "      <td>18603.0</td>\n",
       "      <td>0</td>\n",
       "      <td>NaN</td>\n",
       "      <td>0</td>\n",
       "      <td>NaN</td>\n",
       "      <td>81</td>\n",
       "      <td>0.460396</td>\n",
       "      <td>0.272277</td>\n",
       "    </tr>\n",
       "    <tr>\n",
       "      <th>2</th>\n",
       "      <td>10</td>\n",
       "      <td>5196000.0</td>\n",
       "      <td>56.00</td>\n",
       "      <td>2015-08-20</td>\n",
       "      <td>2</td>\n",
       "      <td>2.771499</td>\n",
       "      <td>5</td>\n",
       "      <td>34.300000</td>\n",
       "      <td>4</td>\n",
       "      <td>NaN</td>\n",
       "      <td>False</td>\n",
       "      <td>False</td>\n",
       "      <td>8.300000</td>\n",
       "      <td>0</td>\n",
       "      <td>Санкт-Петербург</td>\n",
       "      <td>21741.0</td>\n",
       "      <td>13933.0</td>\n",
       "      <td>1</td>\n",
       "      <td>90.0</td>\n",
       "      <td>2</td>\n",
       "      <td>574.0</td>\n",
       "      <td>558</td>\n",
       "      <td>0.612500</td>\n",
       "      <td>0.148214</td>\n",
       "    </tr>\n",
       "    <tr>\n",
       "      <th>3</th>\n",
       "      <td>0</td>\n",
       "      <td>64900000.0</td>\n",
       "      <td>159.00</td>\n",
       "      <td>2015-07-24</td>\n",
       "      <td>3</td>\n",
       "      <td>2.771499</td>\n",
       "      <td>14</td>\n",
       "      <td>89.797718</td>\n",
       "      <td>9</td>\n",
       "      <td>NaN</td>\n",
       "      <td>False</td>\n",
       "      <td>False</td>\n",
       "      <td>29.789403</td>\n",
       "      <td>0</td>\n",
       "      <td>Санкт-Петербург</td>\n",
       "      <td>28098.0</td>\n",
       "      <td>6800.0</td>\n",
       "      <td>2</td>\n",
       "      <td>84.0</td>\n",
       "      <td>3</td>\n",
       "      <td>234.0</td>\n",
       "      <td>424</td>\n",
       "      <td>NaN</td>\n",
       "      <td>NaN</td>\n",
       "    </tr>\n",
       "    <tr>\n",
       "      <th>4</th>\n",
       "      <td>2</td>\n",
       "      <td>10000000.0</td>\n",
       "      <td>100.00</td>\n",
       "      <td>2018-06-19</td>\n",
       "      <td>2</td>\n",
       "      <td>3.030000</td>\n",
       "      <td>14</td>\n",
       "      <td>32.000000</td>\n",
       "      <td>13</td>\n",
       "      <td>NaN</td>\n",
       "      <td>False</td>\n",
       "      <td>False</td>\n",
       "      <td>41.000000</td>\n",
       "      <td>0</td>\n",
       "      <td>Санкт-Петербург</td>\n",
       "      <td>31856.0</td>\n",
       "      <td>8098.0</td>\n",
       "      <td>2</td>\n",
       "      <td>112.0</td>\n",
       "      <td>1</td>\n",
       "      <td>48.0</td>\n",
       "      <td>121</td>\n",
       "      <td>0.320000</td>\n",
       "      <td>0.410000</td>\n",
       "    </tr>\n",
       "    <tr>\n",
       "      <th>...</th>\n",
       "      <td>...</td>\n",
       "      <td>...</td>\n",
       "      <td>...</td>\n",
       "      <td>...</td>\n",
       "      <td>...</td>\n",
       "      <td>...</td>\n",
       "      <td>...</td>\n",
       "      <td>...</td>\n",
       "      <td>...</td>\n",
       "      <td>...</td>\n",
       "      <td>...</td>\n",
       "      <td>...</td>\n",
       "      <td>...</td>\n",
       "      <td>...</td>\n",
       "      <td>...</td>\n",
       "      <td>...</td>\n",
       "      <td>...</td>\n",
       "      <td>...</td>\n",
       "      <td>...</td>\n",
       "      <td>...</td>\n",
       "      <td>...</td>\n",
       "      <td>...</td>\n",
       "      <td>...</td>\n",
       "      <td>...</td>\n",
       "    </tr>\n",
       "    <tr>\n",
       "      <th>23417</th>\n",
       "      <td>9</td>\n",
       "      <td>9700000.0</td>\n",
       "      <td>133.81</td>\n",
       "      <td>2017-03-21</td>\n",
       "      <td>3</td>\n",
       "      <td>3.700000</td>\n",
       "      <td>5</td>\n",
       "      <td>73.300000</td>\n",
       "      <td>3</td>\n",
       "      <td>NaN</td>\n",
       "      <td>False</td>\n",
       "      <td>False</td>\n",
       "      <td>13.830000</td>\n",
       "      <td>0</td>\n",
       "      <td>Санкт-Петербург</td>\n",
       "      <td>24665.0</td>\n",
       "      <td>4232.0</td>\n",
       "      <td>1</td>\n",
       "      <td>796.0</td>\n",
       "      <td>3</td>\n",
       "      <td>381.0</td>\n",
       "      <td>&lt;NA&gt;</td>\n",
       "      <td>0.547792</td>\n",
       "      <td>0.103356</td>\n",
       "    </tr>\n",
       "    <tr>\n",
       "      <th>23418</th>\n",
       "      <td>14</td>\n",
       "      <td>3100000.0</td>\n",
       "      <td>59.00</td>\n",
       "      <td>2018-01-15</td>\n",
       "      <td>3</td>\n",
       "      <td>2.771499</td>\n",
       "      <td>5</td>\n",
       "      <td>38.000000</td>\n",
       "      <td>4</td>\n",
       "      <td>NaN</td>\n",
       "      <td>False</td>\n",
       "      <td>False</td>\n",
       "      <td>8.500000</td>\n",
       "      <td>0</td>\n",
       "      <td>Тосно</td>\n",
       "      <td>NaN</td>\n",
       "      <td>NaN</td>\n",
       "      <td>&lt;NA&gt;</td>\n",
       "      <td>NaN</td>\n",
       "      <td>&lt;NA&gt;</td>\n",
       "      <td>NaN</td>\n",
       "      <td>45</td>\n",
       "      <td>0.644068</td>\n",
       "      <td>0.144068</td>\n",
       "    </tr>\n",
       "    <tr>\n",
       "      <th>23419</th>\n",
       "      <td>18</td>\n",
       "      <td>2500000.0</td>\n",
       "      <td>56.70</td>\n",
       "      <td>2018-02-11</td>\n",
       "      <td>2</td>\n",
       "      <td>2.771499</td>\n",
       "      <td>3</td>\n",
       "      <td>29.700000</td>\n",
       "      <td>1</td>\n",
       "      <td>NaN</td>\n",
       "      <td>False</td>\n",
       "      <td>False</td>\n",
       "      <td>10.623014</td>\n",
       "      <td>0</td>\n",
       "      <td>Рождествено</td>\n",
       "      <td>NaN</td>\n",
       "      <td>NaN</td>\n",
       "      <td>&lt;NA&gt;</td>\n",
       "      <td>NaN</td>\n",
       "      <td>&lt;NA&gt;</td>\n",
       "      <td>NaN</td>\n",
       "      <td>&lt;NA&gt;</td>\n",
       "      <td>0.523810</td>\n",
       "      <td>NaN</td>\n",
       "    </tr>\n",
       "    <tr>\n",
       "      <th>23420</th>\n",
       "      <td>13</td>\n",
       "      <td>11475000.0</td>\n",
       "      <td>76.75</td>\n",
       "      <td>2017-03-28</td>\n",
       "      <td>2</td>\n",
       "      <td>3.000000</td>\n",
       "      <td>17</td>\n",
       "      <td>43.345754</td>\n",
       "      <td>12</td>\n",
       "      <td>NaN</td>\n",
       "      <td>False</td>\n",
       "      <td>False</td>\n",
       "      <td>23.300000</td>\n",
       "      <td>2</td>\n",
       "      <td>Санкт-Петербург</td>\n",
       "      <td>39140.0</td>\n",
       "      <td>10364.0</td>\n",
       "      <td>2</td>\n",
       "      <td>173.0</td>\n",
       "      <td>3</td>\n",
       "      <td>196.0</td>\n",
       "      <td>602</td>\n",
       "      <td>NaN</td>\n",
       "      <td>0.303583</td>\n",
       "    </tr>\n",
       "    <tr>\n",
       "      <th>23421</th>\n",
       "      <td>4</td>\n",
       "      <td>1350000.0</td>\n",
       "      <td>32.30</td>\n",
       "      <td>2017-07-21</td>\n",
       "      <td>1</td>\n",
       "      <td>2.500000</td>\n",
       "      <td>5</td>\n",
       "      <td>12.300000</td>\n",
       "      <td>1</td>\n",
       "      <td>NaN</td>\n",
       "      <td>False</td>\n",
       "      <td>False</td>\n",
       "      <td>9.000000</td>\n",
       "      <td>0</td>\n",
       "      <td>Новый Учхоз</td>\n",
       "      <td>NaN</td>\n",
       "      <td>NaN</td>\n",
       "      <td>&lt;NA&gt;</td>\n",
       "      <td>NaN</td>\n",
       "      <td>&lt;NA&gt;</td>\n",
       "      <td>NaN</td>\n",
       "      <td>&lt;NA&gt;</td>\n",
       "      <td>0.380805</td>\n",
       "      <td>0.278638</td>\n",
       "    </tr>\n",
       "  </tbody>\n",
       "</table>\n",
       "<p>23413 rows × 24 columns</p>\n",
       "</div>"
      ],
      "text/plain": [
       "       total_images  last_price  total_area first_day_exposition  rooms  \\\n",
       "0                20  13000000.0      108.00           2019-03-07      3   \n",
       "1                 7   3350000.0       40.40           2018-12-04      1   \n",
       "2                10   5196000.0       56.00           2015-08-20      2   \n",
       "3                 0  64900000.0      159.00           2015-07-24      3   \n",
       "4                 2  10000000.0      100.00           2018-06-19      2   \n",
       "...             ...         ...         ...                  ...    ...   \n",
       "23417             9   9700000.0      133.81           2017-03-21      3   \n",
       "23418            14   3100000.0       59.00           2018-01-15      3   \n",
       "23419            18   2500000.0       56.70           2018-02-11      2   \n",
       "23420            13  11475000.0       76.75           2017-03-28      2   \n",
       "23421             4   1350000.0       32.30           2017-07-21      1   \n",
       "\n",
       "       ceiling_height  floors_total  living_area  floor is_apartment  studio  \\\n",
       "0            2.700000            16    51.000000      8          NaN   False   \n",
       "1            2.771499            11    18.600000      1          NaN   False   \n",
       "2            2.771499             5    34.300000      4          NaN   False   \n",
       "3            2.771499            14    89.797718      9          NaN   False   \n",
       "4            3.030000            14    32.000000     13          NaN   False   \n",
       "...               ...           ...          ...    ...          ...     ...   \n",
       "23417        3.700000             5    73.300000      3          NaN   False   \n",
       "23418        2.771499             5    38.000000      4          NaN   False   \n",
       "23419        2.771499             3    29.700000      1          NaN   False   \n",
       "23420        3.000000            17    43.345754     12          NaN   False   \n",
       "23421        2.500000             5    12.300000      1          NaN   False   \n",
       "\n",
       "       open_plan  kitchen_area  balcony    locality_name  airports_nearest  \\\n",
       "0          False     25.000000        0  Санкт-Петербург           18863.0   \n",
       "1          False     11.000000        2           Шушары           12817.0   \n",
       "2          False      8.300000        0  Санкт-Петербург           21741.0   \n",
       "3          False     29.789403        0  Санкт-Петербург           28098.0   \n",
       "4          False     41.000000        0  Санкт-Петербург           31856.0   \n",
       "...          ...           ...      ...              ...               ...   \n",
       "23417      False     13.830000        0  Санкт-Петербург           24665.0   \n",
       "23418      False      8.500000        0            Тосно               NaN   \n",
       "23419      False     10.623014        0      Рождествено               NaN   \n",
       "23420      False     23.300000        2  Санкт-Петербург           39140.0   \n",
       "23421      False      9.000000        0      Новый Учхоз               NaN   \n",
       "\n",
       "       cityCenters_nearest  parks_around3000  parks_nearest  ponds_around3000  \\\n",
       "0                  16028.0                 1          482.0                 2   \n",
       "1                  18603.0                 0            NaN                 0   \n",
       "2                  13933.0                 1           90.0                 2   \n",
       "3                   6800.0                 2           84.0                 3   \n",
       "4                   8098.0                 2          112.0                 1   \n",
       "...                    ...               ...            ...               ...   \n",
       "23417               4232.0                 1          796.0                 3   \n",
       "23418                  NaN              <NA>            NaN              <NA>   \n",
       "23419                  NaN              <NA>            NaN              <NA>   \n",
       "23420              10364.0                 2          173.0                 3   \n",
       "23421                  NaN              <NA>            NaN              <NA>   \n",
       "\n",
       "       ponds_nearest  days_exposition  share_living  share_kitchen  \n",
       "0              755.0             <NA>      0.472222       0.231481  \n",
       "1                NaN               81      0.460396       0.272277  \n",
       "2              574.0              558      0.612500       0.148214  \n",
       "3              234.0              424           NaN            NaN  \n",
       "4               48.0              121      0.320000       0.410000  \n",
       "...              ...              ...           ...            ...  \n",
       "23417          381.0             <NA>      0.547792       0.103356  \n",
       "23418            NaN               45      0.644068       0.144068  \n",
       "23419            NaN             <NA>      0.523810            NaN  \n",
       "23420          196.0              602           NaN       0.303583  \n",
       "23421            NaN             <NA>      0.380805       0.278638  \n",
       "\n",
       "[23413 rows x 24 columns]"
      ]
     },
     "metadata": {},
     "output_type": "display_data"
    },
    {
     "name": "stdout",
     "output_type": "stream",
     "text": [
      "[ 13.   13.2  14.  ... 618.  631.  631.2]\n",
      "[1.219e+04 4.300e+05 4.400e+05 ... 3.000e+08 3.300e+08 4.013e+08]\n",
      "1     7944\n",
      "2     7860\n",
      "3     5758\n",
      "4     1169\n",
      "5      323\n",
      "0      176\n",
      "6      103\n",
      "7       58\n",
      "8       11\n",
      "9        8\n",
      "10       3\n",
      "Name: rooms, dtype: int64\n"
     ]
    }
   ],
   "source": [
    "#устраним аномалии по высоте потолка и удалим из датафрейма нелогичные значения\n",
    "data.loc[(data['ceiling_height'] > 20) & (data['ceiling_height'] < 40),'ceiling_height'] = data.loc[(data['ceiling_height'] > \\\n",
    "20) & (data['ceiling_height'] < 40),'ceiling_height']/10\n",
    "data = data[(data['ceiling_height'] > 2) & (data['ceiling_height'] <= 8)]\n",
    "\n",
    "#удалим строки, где общая площадь меньше жилой площади и жилья\n",
    "data = data[data['total_area'] >= (data['living_area'] + data['kitchen_area'])]\n",
    "\n",
    "#удалим строку с 60-этажным зданием - в Кронштадте нет таких высоких жилых зданий\n",
    "data = data[data['floors_total'] != 60]\n",
    "\n",
    "#удалим строки с пропусками в столбце floors_total \n",
    "data = data.dropna(subset=['floors_total']).reset_index(drop=True)\n",
    "\n",
    "#удалим строки с пустыми названиями местоположений\n",
    "data = data.dropna(subset=['locality_name']).reset_index(drop=True)\n",
    "\n",
    "#удалим строки с числом комнат больше 10 - их немного, но они влияют на данные\n",
    "data = data[(data['rooms'] <= 10)]\n",
    "\n",
    "#удалим вариант стоимостью больше 760 млн руб., аномально высокая стоимость квартиры\n",
    "data = data[(data['last_price'] < 760000000)]\n",
    "\n",
    "display(data)\n",
    "\n",
    "print(data['total_area'].sort_values().unique())\n",
    "\n",
    "print(data['last_price'].sort_values().unique())\n",
    "\n",
    "print(data['rooms'].value_counts())"
   ]
  },
  {
   "cell_type": "markdown",
   "metadata": {},
   "source": [
    "#### Вывод \n",
    "В данных имеются пропуски, полностью случаные и просто случайные, которые было решено в некоторых случаях заменить на 0. Это было сделано потому, что некоторые из этих данных не критичны для анализа, но удаление строк с ними привело бы к потере значимой информации.\n",
    "Аномальные значения наблюдались также в высоте зданий - их я как скорректировала, используя допущение об ошибке в разрядности, так и исключила из анализа. Аномальные значения в части превышающих общую площадь квартиры суммы жилой площади и кухни, этажности дома так же были исключены. Также из датафрейма были удалены строки с пустыми значениями названий местоположений и высотой домов - заполнить их на основе средних или примерных значений невозможно, при этом они имеют важное значение при анализе, и их число невелико, что не лишит нас существенной части данных.\n",
    "Есть квартиры, в которых стоимость жилья неадекватно высока по сравнению с указанными параметрами, но не имея полной информации о точном месте, фотографий квартиры и иной информации, я не стала исключать такие случаи. "
   ]
  },
  {
   "cell_type": "markdown",
   "metadata": {},
   "source": [
    "<div class=\"alert alert-danger\">\n",
    "<b>❌ Комментарий ревьюера v1:</b> \n",
    "<br>Давай ещё изучим аномалии в других столбцах. Аномальное значение не значит, что оно нереальное или не может существовать. Это значит, что такое значение выделяется на общем фоне и встретить его большая редкость. Посмотри какие значения есть в столбцах со стоимостью квартиры, количеством комнат и общей площадью. Кажется, в них есть значения, которые сильно выделяются на общем фоне (слишком высокие). Не забудь проверить какое количество данных мы в итоге отбрасываем. Это количество не должно превышать 10% от изначального объёма данных. C этим может помочь следующий код\n",
    "\n",
    "\tnew_data.shape[0] / old_data.shape[0]\n",
    "</div>"
   ]
  },
  {
   "cell_type": "markdown",
   "metadata": {},
   "source": [
    "<div class=\"alert alert-info\">\n",
    "<b>Комментарий студента:</b>\n",
    "<br>\n",
    "В данных имеются пропуски, полностью случайные и просто случайные, в отношении которых было принято следующее:\n",
    "    \n",
    "- в некоторых случаях заменить на 0: это было сделано потому, что некоторые из этих данных не критичны для анализа, но удаление строк с ними привело бы к потере значимой информации. \n",
    "    \n",
    "- замена на средние значения или расчеты, основанные на средней величине, в отстутсвии точных значений как способ сохранения качества данных и репрезентативности данных. Применение средних значений не привело к критическому изменению данных. \n",
    "    \n",
    "Аномальные значения наблюдались в ряде столбцов: часть из них - выбросы (стоимость квартиры, количество комнат), а некоторые - ошибки в данных (количество этажей в квартире в Кронштадте, квартиры с общей площадью меньше суммы площади кухни и комнаты, высота потолков больше 14м.). Некоторые данные приведены к логическим значениям, некоторые удалены ввиду отсутствия возможности заполнения адекватными данными.  \n",
    "    \n",
    "После удаления строк с аномальными или пустыми значениями количество строк в датафрейме составило 23413. Это составляет менее 2% от первоначального числа строк - 23699, что соответствует правилу \"исключаем не более 10% изначального объема данных\".\n",
    "</div>"
   ]
  },
  {
   "cell_type": "markdown",
   "metadata": {},
   "source": [
    "<div class=\"alert alert-success\">\n",
    "<b>✔️ Комментарий ревьюера v2:</b>\n",
    "<br>Отлично! Теперь всё верно)\n",
    "</div>"
   ]
  },
  {
   "cell_type": "markdown",
   "metadata": {},
   "source": [
    "### Проведите исследовательский анализ данных"
   ]
  },
  {
   "cell_type": "markdown",
   "metadata": {},
   "source": [
    "#### Добавим новые столбцы в таблицу"
   ]
  },
  {
   "cell_type": "code",
   "execution_count": 13,
   "metadata": {},
   "outputs": [
    {
     "data": {
      "text/html": [
       "<div>\n",
       "<style scoped>\n",
       "    .dataframe tbody tr th:only-of-type {\n",
       "        vertical-align: middle;\n",
       "    }\n",
       "\n",
       "    .dataframe tbody tr th {\n",
       "        vertical-align: top;\n",
       "    }\n",
       "\n",
       "    .dataframe thead th {\n",
       "        text-align: right;\n",
       "    }\n",
       "</style>\n",
       "<table border=\"1\" class=\"dataframe\">\n",
       "  <thead>\n",
       "    <tr style=\"text-align: right;\">\n",
       "      <th></th>\n",
       "      <th>total_images</th>\n",
       "      <th>last_price</th>\n",
       "      <th>total_area</th>\n",
       "      <th>first_day_exposition</th>\n",
       "      <th>rooms</th>\n",
       "      <th>ceiling_height</th>\n",
       "      <th>floors_total</th>\n",
       "      <th>living_area</th>\n",
       "      <th>floor</th>\n",
       "      <th>is_apartment</th>\n",
       "      <th>studio</th>\n",
       "      <th>open_plan</th>\n",
       "      <th>kitchen_area</th>\n",
       "      <th>balcony</th>\n",
       "      <th>locality_name</th>\n",
       "      <th>airports_nearest</th>\n",
       "      <th>cityCenters_nearest</th>\n",
       "      <th>parks_around3000</th>\n",
       "      <th>parks_nearest</th>\n",
       "      <th>ponds_around3000</th>\n",
       "      <th>ponds_nearest</th>\n",
       "      <th>days_exposition</th>\n",
       "      <th>share_living</th>\n",
       "      <th>share_kitchen</th>\n",
       "      <th>square_meter_price</th>\n",
       "      <th>exposition_day</th>\n",
       "      <th>exposition_month</th>\n",
       "      <th>exposition_year</th>\n",
       "      <th>floor_type</th>\n",
       "      <th>distance</th>\n",
       "    </tr>\n",
       "  </thead>\n",
       "  <tbody>\n",
       "    <tr>\n",
       "      <th>0</th>\n",
       "      <td>20</td>\n",
       "      <td>13000000.0</td>\n",
       "      <td>108.00</td>\n",
       "      <td>2019-03-07</td>\n",
       "      <td>3</td>\n",
       "      <td>2.700000</td>\n",
       "      <td>16</td>\n",
       "      <td>51.000000</td>\n",
       "      <td>8</td>\n",
       "      <td>NaN</td>\n",
       "      <td>False</td>\n",
       "      <td>False</td>\n",
       "      <td>25.000000</td>\n",
       "      <td>0</td>\n",
       "      <td>Санкт-Петербург</td>\n",
       "      <td>18863.0</td>\n",
       "      <td>16028.0</td>\n",
       "      <td>1</td>\n",
       "      <td>482.0</td>\n",
       "      <td>2</td>\n",
       "      <td>755.0</td>\n",
       "      <td>&lt;NA&gt;</td>\n",
       "      <td>0.472222</td>\n",
       "      <td>0.231481</td>\n",
       "      <td>120370.37</td>\n",
       "      <td>3</td>\n",
       "      <td>3</td>\n",
       "      <td>2019</td>\n",
       "      <td>другой</td>\n",
       "      <td>16.0</td>\n",
       "    </tr>\n",
       "    <tr>\n",
       "      <th>1</th>\n",
       "      <td>7</td>\n",
       "      <td>3350000.0</td>\n",
       "      <td>40.40</td>\n",
       "      <td>2018-12-04</td>\n",
       "      <td>1</td>\n",
       "      <td>2.771499</td>\n",
       "      <td>11</td>\n",
       "      <td>18.600000</td>\n",
       "      <td>1</td>\n",
       "      <td>NaN</td>\n",
       "      <td>False</td>\n",
       "      <td>False</td>\n",
       "      <td>11.000000</td>\n",
       "      <td>2</td>\n",
       "      <td>Шушары</td>\n",
       "      <td>12817.0</td>\n",
       "      <td>18603.0</td>\n",
       "      <td>0</td>\n",
       "      <td>NaN</td>\n",
       "      <td>0</td>\n",
       "      <td>NaN</td>\n",
       "      <td>81</td>\n",
       "      <td>0.460396</td>\n",
       "      <td>0.272277</td>\n",
       "      <td>82920.79</td>\n",
       "      <td>1</td>\n",
       "      <td>12</td>\n",
       "      <td>2018</td>\n",
       "      <td>первый</td>\n",
       "      <td>19.0</td>\n",
       "    </tr>\n",
       "    <tr>\n",
       "      <th>2</th>\n",
       "      <td>10</td>\n",
       "      <td>5196000.0</td>\n",
       "      <td>56.00</td>\n",
       "      <td>2015-08-20</td>\n",
       "      <td>2</td>\n",
       "      <td>2.771499</td>\n",
       "      <td>5</td>\n",
       "      <td>34.300000</td>\n",
       "      <td>4</td>\n",
       "      <td>NaN</td>\n",
       "      <td>False</td>\n",
       "      <td>False</td>\n",
       "      <td>8.300000</td>\n",
       "      <td>0</td>\n",
       "      <td>Санкт-Петербург</td>\n",
       "      <td>21741.0</td>\n",
       "      <td>13933.0</td>\n",
       "      <td>1</td>\n",
       "      <td>90.0</td>\n",
       "      <td>2</td>\n",
       "      <td>574.0</td>\n",
       "      <td>558</td>\n",
       "      <td>0.612500</td>\n",
       "      <td>0.148214</td>\n",
       "      <td>92785.71</td>\n",
       "      <td>3</td>\n",
       "      <td>8</td>\n",
       "      <td>2015</td>\n",
       "      <td>другой</td>\n",
       "      <td>14.0</td>\n",
       "    </tr>\n",
       "    <tr>\n",
       "      <th>3</th>\n",
       "      <td>0</td>\n",
       "      <td>64900000.0</td>\n",
       "      <td>159.00</td>\n",
       "      <td>2015-07-24</td>\n",
       "      <td>3</td>\n",
       "      <td>2.771499</td>\n",
       "      <td>14</td>\n",
       "      <td>89.797718</td>\n",
       "      <td>9</td>\n",
       "      <td>NaN</td>\n",
       "      <td>False</td>\n",
       "      <td>False</td>\n",
       "      <td>29.789403</td>\n",
       "      <td>0</td>\n",
       "      <td>Санкт-Петербург</td>\n",
       "      <td>28098.0</td>\n",
       "      <td>6800.0</td>\n",
       "      <td>2</td>\n",
       "      <td>84.0</td>\n",
       "      <td>3</td>\n",
       "      <td>234.0</td>\n",
       "      <td>424</td>\n",
       "      <td>NaN</td>\n",
       "      <td>NaN</td>\n",
       "      <td>408176.10</td>\n",
       "      <td>4</td>\n",
       "      <td>7</td>\n",
       "      <td>2015</td>\n",
       "      <td>другой</td>\n",
       "      <td>7.0</td>\n",
       "    </tr>\n",
       "    <tr>\n",
       "      <th>4</th>\n",
       "      <td>2</td>\n",
       "      <td>10000000.0</td>\n",
       "      <td>100.00</td>\n",
       "      <td>2018-06-19</td>\n",
       "      <td>2</td>\n",
       "      <td>3.030000</td>\n",
       "      <td>14</td>\n",
       "      <td>32.000000</td>\n",
       "      <td>13</td>\n",
       "      <td>NaN</td>\n",
       "      <td>False</td>\n",
       "      <td>False</td>\n",
       "      <td>41.000000</td>\n",
       "      <td>0</td>\n",
       "      <td>Санкт-Петербург</td>\n",
       "      <td>31856.0</td>\n",
       "      <td>8098.0</td>\n",
       "      <td>2</td>\n",
       "      <td>112.0</td>\n",
       "      <td>1</td>\n",
       "      <td>48.0</td>\n",
       "      <td>121</td>\n",
       "      <td>0.320000</td>\n",
       "      <td>0.410000</td>\n",
       "      <td>100000.00</td>\n",
       "      <td>1</td>\n",
       "      <td>6</td>\n",
       "      <td>2018</td>\n",
       "      <td>другой</td>\n",
       "      <td>8.0</td>\n",
       "    </tr>\n",
       "    <tr>\n",
       "      <th>...</th>\n",
       "      <td>...</td>\n",
       "      <td>...</td>\n",
       "      <td>...</td>\n",
       "      <td>...</td>\n",
       "      <td>...</td>\n",
       "      <td>...</td>\n",
       "      <td>...</td>\n",
       "      <td>...</td>\n",
       "      <td>...</td>\n",
       "      <td>...</td>\n",
       "      <td>...</td>\n",
       "      <td>...</td>\n",
       "      <td>...</td>\n",
       "      <td>...</td>\n",
       "      <td>...</td>\n",
       "      <td>...</td>\n",
       "      <td>...</td>\n",
       "      <td>...</td>\n",
       "      <td>...</td>\n",
       "      <td>...</td>\n",
       "      <td>...</td>\n",
       "      <td>...</td>\n",
       "      <td>...</td>\n",
       "      <td>...</td>\n",
       "      <td>...</td>\n",
       "      <td>...</td>\n",
       "      <td>...</td>\n",
       "      <td>...</td>\n",
       "      <td>...</td>\n",
       "      <td>...</td>\n",
       "    </tr>\n",
       "    <tr>\n",
       "      <th>23417</th>\n",
       "      <td>9</td>\n",
       "      <td>9700000.0</td>\n",
       "      <td>133.81</td>\n",
       "      <td>2017-03-21</td>\n",
       "      <td>3</td>\n",
       "      <td>3.700000</td>\n",
       "      <td>5</td>\n",
       "      <td>73.300000</td>\n",
       "      <td>3</td>\n",
       "      <td>NaN</td>\n",
       "      <td>False</td>\n",
       "      <td>False</td>\n",
       "      <td>13.830000</td>\n",
       "      <td>0</td>\n",
       "      <td>Санкт-Петербург</td>\n",
       "      <td>24665.0</td>\n",
       "      <td>4232.0</td>\n",
       "      <td>1</td>\n",
       "      <td>796.0</td>\n",
       "      <td>3</td>\n",
       "      <td>381.0</td>\n",
       "      <td>&lt;NA&gt;</td>\n",
       "      <td>0.547792</td>\n",
       "      <td>0.103356</td>\n",
       "      <td>72490.85</td>\n",
       "      <td>1</td>\n",
       "      <td>3</td>\n",
       "      <td>2017</td>\n",
       "      <td>другой</td>\n",
       "      <td>4.0</td>\n",
       "    </tr>\n",
       "    <tr>\n",
       "      <th>23418</th>\n",
       "      <td>14</td>\n",
       "      <td>3100000.0</td>\n",
       "      <td>59.00</td>\n",
       "      <td>2018-01-15</td>\n",
       "      <td>3</td>\n",
       "      <td>2.771499</td>\n",
       "      <td>5</td>\n",
       "      <td>38.000000</td>\n",
       "      <td>4</td>\n",
       "      <td>NaN</td>\n",
       "      <td>False</td>\n",
       "      <td>False</td>\n",
       "      <td>8.500000</td>\n",
       "      <td>0</td>\n",
       "      <td>Тосно</td>\n",
       "      <td>NaN</td>\n",
       "      <td>NaN</td>\n",
       "      <td>&lt;NA&gt;</td>\n",
       "      <td>NaN</td>\n",
       "      <td>&lt;NA&gt;</td>\n",
       "      <td>NaN</td>\n",
       "      <td>45</td>\n",
       "      <td>0.644068</td>\n",
       "      <td>0.144068</td>\n",
       "      <td>52542.37</td>\n",
       "      <td>0</td>\n",
       "      <td>1</td>\n",
       "      <td>2018</td>\n",
       "      <td>другой</td>\n",
       "      <td>NaN</td>\n",
       "    </tr>\n",
       "    <tr>\n",
       "      <th>23419</th>\n",
       "      <td>18</td>\n",
       "      <td>2500000.0</td>\n",
       "      <td>56.70</td>\n",
       "      <td>2018-02-11</td>\n",
       "      <td>2</td>\n",
       "      <td>2.771499</td>\n",
       "      <td>3</td>\n",
       "      <td>29.700000</td>\n",
       "      <td>1</td>\n",
       "      <td>NaN</td>\n",
       "      <td>False</td>\n",
       "      <td>False</td>\n",
       "      <td>10.623014</td>\n",
       "      <td>0</td>\n",
       "      <td>Рождествено</td>\n",
       "      <td>NaN</td>\n",
       "      <td>NaN</td>\n",
       "      <td>&lt;NA&gt;</td>\n",
       "      <td>NaN</td>\n",
       "      <td>&lt;NA&gt;</td>\n",
       "      <td>NaN</td>\n",
       "      <td>&lt;NA&gt;</td>\n",
       "      <td>0.523810</td>\n",
       "      <td>NaN</td>\n",
       "      <td>44091.71</td>\n",
       "      <td>6</td>\n",
       "      <td>2</td>\n",
       "      <td>2018</td>\n",
       "      <td>первый</td>\n",
       "      <td>NaN</td>\n",
       "    </tr>\n",
       "    <tr>\n",
       "      <th>23420</th>\n",
       "      <td>13</td>\n",
       "      <td>11475000.0</td>\n",
       "      <td>76.75</td>\n",
       "      <td>2017-03-28</td>\n",
       "      <td>2</td>\n",
       "      <td>3.000000</td>\n",
       "      <td>17</td>\n",
       "      <td>43.345754</td>\n",
       "      <td>12</td>\n",
       "      <td>NaN</td>\n",
       "      <td>False</td>\n",
       "      <td>False</td>\n",
       "      <td>23.300000</td>\n",
       "      <td>2</td>\n",
       "      <td>Санкт-Петербург</td>\n",
       "      <td>39140.0</td>\n",
       "      <td>10364.0</td>\n",
       "      <td>2</td>\n",
       "      <td>173.0</td>\n",
       "      <td>3</td>\n",
       "      <td>196.0</td>\n",
       "      <td>602</td>\n",
       "      <td>NaN</td>\n",
       "      <td>0.303583</td>\n",
       "      <td>149511.40</td>\n",
       "      <td>1</td>\n",
       "      <td>3</td>\n",
       "      <td>2017</td>\n",
       "      <td>другой</td>\n",
       "      <td>10.0</td>\n",
       "    </tr>\n",
       "    <tr>\n",
       "      <th>23421</th>\n",
       "      <td>4</td>\n",
       "      <td>1350000.0</td>\n",
       "      <td>32.30</td>\n",
       "      <td>2017-07-21</td>\n",
       "      <td>1</td>\n",
       "      <td>2.500000</td>\n",
       "      <td>5</td>\n",
       "      <td>12.300000</td>\n",
       "      <td>1</td>\n",
       "      <td>NaN</td>\n",
       "      <td>False</td>\n",
       "      <td>False</td>\n",
       "      <td>9.000000</td>\n",
       "      <td>0</td>\n",
       "      <td>Новый Учхоз</td>\n",
       "      <td>NaN</td>\n",
       "      <td>NaN</td>\n",
       "      <td>&lt;NA&gt;</td>\n",
       "      <td>NaN</td>\n",
       "      <td>&lt;NA&gt;</td>\n",
       "      <td>NaN</td>\n",
       "      <td>&lt;NA&gt;</td>\n",
       "      <td>0.380805</td>\n",
       "      <td>0.278638</td>\n",
       "      <td>41795.67</td>\n",
       "      <td>4</td>\n",
       "      <td>7</td>\n",
       "      <td>2017</td>\n",
       "      <td>первый</td>\n",
       "      <td>NaN</td>\n",
       "    </tr>\n",
       "  </tbody>\n",
       "</table>\n",
       "<p>23413 rows × 30 columns</p>\n",
       "</div>"
      ],
      "text/plain": [
       "       total_images  last_price  total_area first_day_exposition  rooms  \\\n",
       "0                20  13000000.0      108.00           2019-03-07      3   \n",
       "1                 7   3350000.0       40.40           2018-12-04      1   \n",
       "2                10   5196000.0       56.00           2015-08-20      2   \n",
       "3                 0  64900000.0      159.00           2015-07-24      3   \n",
       "4                 2  10000000.0      100.00           2018-06-19      2   \n",
       "...             ...         ...         ...                  ...    ...   \n",
       "23417             9   9700000.0      133.81           2017-03-21      3   \n",
       "23418            14   3100000.0       59.00           2018-01-15      3   \n",
       "23419            18   2500000.0       56.70           2018-02-11      2   \n",
       "23420            13  11475000.0       76.75           2017-03-28      2   \n",
       "23421             4   1350000.0       32.30           2017-07-21      1   \n",
       "\n",
       "       ceiling_height  floors_total  living_area  floor is_apartment  studio  \\\n",
       "0            2.700000            16    51.000000      8          NaN   False   \n",
       "1            2.771499            11    18.600000      1          NaN   False   \n",
       "2            2.771499             5    34.300000      4          NaN   False   \n",
       "3            2.771499            14    89.797718      9          NaN   False   \n",
       "4            3.030000            14    32.000000     13          NaN   False   \n",
       "...               ...           ...          ...    ...          ...     ...   \n",
       "23417        3.700000             5    73.300000      3          NaN   False   \n",
       "23418        2.771499             5    38.000000      4          NaN   False   \n",
       "23419        2.771499             3    29.700000      1          NaN   False   \n",
       "23420        3.000000            17    43.345754     12          NaN   False   \n",
       "23421        2.500000             5    12.300000      1          NaN   False   \n",
       "\n",
       "       open_plan  kitchen_area  balcony    locality_name  airports_nearest  \\\n",
       "0          False     25.000000        0  Санкт-Петербург           18863.0   \n",
       "1          False     11.000000        2           Шушары           12817.0   \n",
       "2          False      8.300000        0  Санкт-Петербург           21741.0   \n",
       "3          False     29.789403        0  Санкт-Петербург           28098.0   \n",
       "4          False     41.000000        0  Санкт-Петербург           31856.0   \n",
       "...          ...           ...      ...              ...               ...   \n",
       "23417      False     13.830000        0  Санкт-Петербург           24665.0   \n",
       "23418      False      8.500000        0            Тосно               NaN   \n",
       "23419      False     10.623014        0      Рождествено               NaN   \n",
       "23420      False     23.300000        2  Санкт-Петербург           39140.0   \n",
       "23421      False      9.000000        0      Новый Учхоз               NaN   \n",
       "\n",
       "       cityCenters_nearest  parks_around3000  parks_nearest  ponds_around3000  \\\n",
       "0                  16028.0                 1          482.0                 2   \n",
       "1                  18603.0                 0            NaN                 0   \n",
       "2                  13933.0                 1           90.0                 2   \n",
       "3                   6800.0                 2           84.0                 3   \n",
       "4                   8098.0                 2          112.0                 1   \n",
       "...                    ...               ...            ...               ...   \n",
       "23417               4232.0                 1          796.0                 3   \n",
       "23418                  NaN              <NA>            NaN              <NA>   \n",
       "23419                  NaN              <NA>            NaN              <NA>   \n",
       "23420              10364.0                 2          173.0                 3   \n",
       "23421                  NaN              <NA>            NaN              <NA>   \n",
       "\n",
       "       ponds_nearest  days_exposition  share_living  share_kitchen  \\\n",
       "0              755.0             <NA>      0.472222       0.231481   \n",
       "1                NaN               81      0.460396       0.272277   \n",
       "2              574.0              558      0.612500       0.148214   \n",
       "3              234.0              424           NaN            NaN   \n",
       "4               48.0              121      0.320000       0.410000   \n",
       "...              ...              ...           ...            ...   \n",
       "23417          381.0             <NA>      0.547792       0.103356   \n",
       "23418            NaN               45      0.644068       0.144068   \n",
       "23419            NaN             <NA>      0.523810            NaN   \n",
       "23420          196.0              602           NaN       0.303583   \n",
       "23421            NaN             <NA>      0.380805       0.278638   \n",
       "\n",
       "       square_meter_price  exposition_day  exposition_month  exposition_year  \\\n",
       "0               120370.37               3                 3             2019   \n",
       "1                82920.79               1                12             2018   \n",
       "2                92785.71               3                 8             2015   \n",
       "3               408176.10               4                 7             2015   \n",
       "4               100000.00               1                 6             2018   \n",
       "...                   ...             ...               ...              ...   \n",
       "23417            72490.85               1                 3             2017   \n",
       "23418            52542.37               0                 1             2018   \n",
       "23419            44091.71               6                 2             2018   \n",
       "23420           149511.40               1                 3             2017   \n",
       "23421            41795.67               4                 7             2017   \n",
       "\n",
       "      floor_type  distance  \n",
       "0         другой      16.0  \n",
       "1         первый      19.0  \n",
       "2         другой      14.0  \n",
       "3         другой       7.0  \n",
       "4         другой       8.0  \n",
       "...          ...       ...  \n",
       "23417     другой       4.0  \n",
       "23418     другой       NaN  \n",
       "23419     первый       NaN  \n",
       "23420     другой      10.0  \n",
       "23421     первый       NaN  \n",
       "\n",
       "[23413 rows x 30 columns]"
      ]
     },
     "metadata": {},
     "output_type": "display_data"
    },
    {
     "name": "stdout",
     "output_type": "stream",
     "text": [
      "<class 'pandas.core.frame.DataFrame'>\n",
      "Int64Index: 23413 entries, 0 to 23421\n",
      "Data columns (total 30 columns):\n",
      " #   Column                Non-Null Count  Dtype         \n",
      "---  ------                --------------  -----         \n",
      " 0   total_images          23413 non-null  int64         \n",
      " 1   last_price            23413 non-null  float64       \n",
      " 2   total_area            23413 non-null  float64       \n",
      " 3   first_day_exposition  23413 non-null  datetime64[ns]\n",
      " 4   rooms                 23413 non-null  int64         \n",
      " 5   ceiling_height        23413 non-null  float64       \n",
      " 6   floors_total          23413 non-null  Int64         \n",
      " 7   living_area           23413 non-null  float64       \n",
      " 8   floor                 23413 non-null  int64         \n",
      " 9   is_apartment          2731 non-null   object        \n",
      " 10  studio                23413 non-null  bool          \n",
      " 11  open_plan             23413 non-null  bool          \n",
      " 12  kitchen_area          23413 non-null  float64       \n",
      " 13  balcony               23413 non-null  Int64         \n",
      " 14  locality_name         23413 non-null  object        \n",
      " 15  airports_nearest      17936 non-null  float64       \n",
      " 16  cityCenters_nearest   17959 non-null  float64       \n",
      " 17  parks_around3000      17960 non-null  Int64         \n",
      " 18  parks_nearest         7982 non-null   float64       \n",
      " 19  ponds_around3000      17960 non-null  Int64         \n",
      " 20  ponds_nearest         8977 non-null   float64       \n",
      " 21  days_exposition       20261 non-null  Int64         \n",
      " 22  share_living          21558 non-null  float64       \n",
      " 23  share_kitchen         21246 non-null  float64       \n",
      " 24  square_meter_price    23413 non-null  float64       \n",
      " 25  exposition_day        23413 non-null  int64         \n",
      " 26  exposition_month      23413 non-null  int64         \n",
      " 27  exposition_year       23413 non-null  int64         \n",
      " 28  floor_type            23413 non-null  object        \n",
      " 29  distance              17959 non-null  float64       \n",
      "dtypes: Int64(5), bool(2), datetime64[ns](1), float64(13), int64(6), object(3)\n",
      "memory usage: 5.3+ MB\n",
      "None\n"
     ]
    }
   ],
   "source": [
    "data['square_meter_price'] = (data['last_price'] / data['total_area']).round(2) # определим стоимость кв.м. квартиры, округлим до сотых\n",
    "data['exposition_day'] = data['first_day_exposition'].dt.weekday # определим день недели публикации объявления\n",
    "data['exposition_month'] = data['first_day_exposition'].dt.month # определим месяц публикации объявления\n",
    "data['exposition_year'] = data['first_day_exposition'].dt.year # определим год публикации объявления\n",
    "\n",
    "# распределим квартиры по типам в заисимости от этажа\n",
    "def type_floor(row):\n",
    "\n",
    "    one = row['floor']\n",
    "    all = row['floors_total']\n",
    "    if one == 1:\n",
    "        return 'первый'\n",
    "    if one == all:\n",
    "        return 'последний'\n",
    "    return 'другой'\n",
    "\n",
    "data['floor_type'] = data.apply(type_floor, axis=1)\n",
    "\n",
    "# переведем расстояние до центра в км и округлим до целых\n",
    "data['distance'] = (data['cityCenters_nearest'] / 1000).round()\n",
    "\n",
    "display(data)\n",
    "print(data.info())"
   ]
  },
  {
   "cell_type": "markdown",
   "metadata": {},
   "source": [
    "<div class=\"alert alert-success\">\n",
    "<b>✔️ Комментарий ревьюера v1:</b> \n",
    "<br>Все необходимые колонки добавлены. Идём дальше)\n",
    "</div>"
   ]
  },
  {
   "cell_type": "markdown",
   "metadata": {},
   "source": [
    "#### Изучим данные на основе гистограмм"
   ]
  },
  {
   "cell_type": "markdown",
   "metadata": {},
   "source": [
    "**Общая площадь** \\\n",
    "По графику видно, что самый частый вариант квартир с площадью ≈40-45 кв.м., второй квартиль (медиана) равен 52. При этом средняя площадь квартир 60кв.м., мин - 13, макс - 631,2. Варианты квартир площадью начиная со 100 кв.м. становятся менее распространенными. Стандартное отклонение значительно отличается от средней величины, что говорит о большой доле выбросов."
   ]
  },
  {
   "cell_type": "code",
   "execution_count": 14,
   "metadata": {},
   "outputs": [
    {
     "name": "stdout",
     "output_type": "stream",
     "text": [
      "count    23413.000000\n",
      "mean        60.262107\n",
      "std         34.833581\n",
      "min         13.000000\n",
      "25%         40.000000\n",
      "50%         52.000000\n",
      "75%         69.700000\n",
      "max        631.200000\n",
      "Name: total_area, dtype: float64\n"
     ]
    },
    {
     "data": {
      "image/png": "[encoded data removed]",
      "text/plain": [
       "<Figure size 432x288 with 1 Axes>"
      ]
     },
     "metadata": {
      "needs_background": "light"
     },
     "output_type": "display_data"
    }
   ],
   "source": [
    "data['total_area'].hist(bins=100, range=(10, 1000))\n",
    "print(data['total_area'].describe())\n",
    "plt.title('Общая площадь квартир')\n",
    "plt.show()"
   ]
  },
  {
   "cell_type": "markdown",
   "metadata": {},
   "source": [
    "**Жилая площадь** \\\n",
    "Средняя жилая площадь - 34 кв.м., макс. жилая площадь - 356,4. Больше всего вариантов с жилой площадью, отличной от 0, равны 16-18 кв.м.\n"
   ]
  },
  {
   "cell_type": "code",
   "execution_count": 15,
   "metadata": {},
   "outputs": [
    {
     "name": "stdout",
     "output_type": "stream",
     "text": [
      "count    23413.000000\n",
      "mean        34.450969\n",
      "std         21.852157\n",
      "min          2.000000\n",
      "25%         19.000000\n",
      "50%         30.000000\n",
      "75%         42.000000\n",
      "max        356.367044\n",
      "Name: living_area, dtype: float64\n"
     ]
    },
    {
     "data": {
      "image/png": "[encoded data removed]",
      "text/plain": [
       "<Figure size 432x288 with 1 Axes>"
      ]
     },
     "metadata": {
      "needs_background": "light"
     },
     "output_type": "display_data"
    }
   ],
   "source": [
    "data['living_area'].hist(bins=100, range=(0, 200))\n",
    "print(data['living_area'].describe())\n",
    "plt.title('Жилая площадь квартир')\n",
    "plt.show()"
   ]
  },
  {
   "cell_type": "markdown",
   "metadata": {},
   "source": [
    "**Площадь кухни** \\\n",
    "Средняя площадь кухни - 10,5 кв.м., макс. площадь - 107. Больше всего вариантов с площадью кухни, отличной от 0, равны 6-12 кв.м."
   ]
  },
  {
   "cell_type": "code",
   "execution_count": 16,
   "metadata": {},
   "outputs": [
    {
     "name": "stdout",
     "output_type": "stream",
     "text": [
      "count    23413.000000\n",
      "mean        10.539500\n",
      "std          5.981722\n",
      "min          1.300000\n",
      "25%          7.000000\n",
      "50%          9.000000\n",
      "75%         12.000000\n",
      "max        107.000000\n",
      "Name: kitchen_area, dtype: float64\n"
     ]
    },
    {
     "data": {
      "image/png": "[encoded data removed]",
      "text/plain": [
       "<Figure size 432x288 with 1 Axes>"
      ]
     },
     "metadata": {
      "needs_background": "light"
     },
     "output_type": "display_data"
    }
   ],
   "source": [
    "data['kitchen_area'].hist(bins=100, range=(0, 100))\n",
    "print(data['kitchen_area'].describe())\n",
    "plt.title('Площадь кухни')\n",
    "plt.show()"
   ]
  },
  {
   "cell_type": "markdown",
   "metadata": {},
   "source": [
    "**Цена объекта** \\\n",
    "Средняя цена недвижимости - 6,48 млн руб., мин. - 0,012 млн руб., макс. - 401 млн руб. Стандартное отклонение значительно отличается от средней величины, что говорит о большой доле выбросов.\n"
   ]
  },
  {
   "cell_type": "code",
   "execution_count": 17,
   "metadata": {},
   "outputs": [
    {
     "name": "stdout",
     "output_type": "stream",
     "text": [
      "count    23413.000000\n",
      "mean         6.482174\n",
      "std          9.308033\n",
      "min          0.012190\n",
      "25%          3.429000\n",
      "50%          4.650000\n",
      "75%          6.790000\n",
      "max        401.300000\n",
      "Name: last_price, dtype: float64\n"
     ]
    },
    {
     "data": {
      "image/png": "[encoded data removed]",
      "text/plain": [
       "<Figure size 432x288 with 1 Axes>"
      ]
     },
     "metadata": {
      "needs_background": "light"
     },
     "output_type": "display_data"
    }
   ],
   "source": [
    "data['last_price'].hist(bins=100, range=(100000, 1000000))\n",
    "print((data['last_price']/1000000).describe())\n",
    "plt.title('Стоимость квартир')\n",
    "plt.show()"
   ]
  },
  {
   "cell_type": "markdown",
   "metadata": {},
   "source": [
    "<div class=\"alert alert-warning\">\n",
    "<b>⚠️ Комментарий ревьюера v1:</b> \n",
    "<br>Тут можно разделить все значения в столбце last_price на 1 млн, чтобы они пришли в более понятный вид)\n",
    "</div>"
   ]
  },
  {
   "cell_type": "markdown",
   "metadata": {},
   "source": [
    "**Количество комнат** \\\n",
    "Среднее количество комнат - 2, ранее варианты с числом комнат более 10 были исключены, значительное влияние оказывают квартиры с количеством комнат, равным 0 - в т.ч., студии. Наиболее распространены варианты с 1-2 комнатами."
   ]
  },
  {
   "cell_type": "code",
   "execution_count": 18,
   "metadata": {},
   "outputs": [
    {
     "name": "stdout",
     "output_type": "stream",
     "text": [
      "count    23413.000000\n",
      "mean         2.069064\n",
      "std          1.052917\n",
      "min          0.000000\n",
      "25%          1.000000\n",
      "50%          2.000000\n",
      "75%          3.000000\n",
      "max         10.000000\n",
      "Name: rooms, dtype: float64\n"
     ]
    },
    {
     "data": {
      "image/png": "[encoded data removed]",
      "text/plain": [
       "<Figure size 432x288 with 1 Axes>"
      ]
     },
     "metadata": {
      "needs_background": "light"
     },
     "output_type": "display_data"
    }
   ],
   "source": [
    "data['rooms'].hist(bins=100)\n",
    "print(data['rooms'].describe())\n",
    "plt.title('Количество комнат в квартирах')\n",
    "plt.show()"
   ]
  },
  {
   "cell_type": "markdown",
   "metadata": {},
   "source": [
    "**Высота потолков** \\\n",
    "Среднее значение - 2,7м, что соответствует стандартной распространенной высоте потолков. Стандартное отклонение достаточно мало, т.к. аномальные величины были исключены или скорректированы, а пропущенные - приведены к среднему значению. Мин. - 2,2м, макс. - 8м."
   ]
  },
  {
   "cell_type": "code",
   "execution_count": 19,
   "metadata": {},
   "outputs": [
    {
     "name": "stdout",
     "output_type": "stream",
     "text": [
      "count    23413.000000\n",
      "mean         2.744281\n",
      "std          0.225546\n",
      "min          2.200000\n",
      "25%          2.600000\n",
      "50%          2.771499\n",
      "75%          2.771499\n",
      "max          8.000000\n",
      "Name: ceiling_height, dtype: float64\n"
     ]
    },
    {
     "data": {
      "image/png": "[encoded data removed]",
      "text/plain": [
       "<Figure size 432x288 with 1 Axes>"
      ]
     },
     "metadata": {
      "needs_background": "light"
     },
     "output_type": "display_data"
    }
   ],
   "source": [
    "data['ceiling_height'].hist()\n",
    "print(data['ceiling_height'].describe())\n",
    "plt.title('Высота потолков')\n",
    "plt.show()"
   ]
  },
  {
   "cell_type": "markdown",
   "metadata": {},
   "source": [
    "**Этаж квартиры** \\\n",
    "Макс. этаж квартир - 33, среднее значение - 5,8. В таблице достаточно квартир на 25-33 этажах, что выбивается из 3 квартиля, равного 8."
   ]
  },
  {
   "cell_type": "code",
   "execution_count": 20,
   "metadata": {},
   "outputs": [
    {
     "name": "stdout",
     "output_type": "stream",
     "text": [
      "count    23413.000000\n",
      "mean         5.870713\n",
      "std          4.864452\n",
      "min          1.000000\n",
      "25%          2.000000\n",
      "50%          4.000000\n",
      "75%          8.000000\n",
      "max         33.000000\n",
      "Name: floor, dtype: float64\n"
     ]
    },
    {
     "data": {
      "image/png": "[encoded data removed]",
      "text/plain": [
       "<Figure size 432x288 with 1 Axes>"
      ]
     },
     "metadata": {
      "needs_background": "light"
     },
     "output_type": "display_data"
    }
   ],
   "source": [
    "data['floor'].hist(bins=33, range=(1, 33))\n",
    "print(data['floor'].describe())\n",
    "plt.title('Распределение квартир по этажам')\n",
    "plt.show()"
   ]
  },
  {
   "cell_type": "markdown",
   "metadata": {},
   "source": [
    "**Тип этажа квартиры** \\\n",
    "Самый частый вариант этажа отличен от первого и последнего, он встречается в 17225 объявлениях."
   ]
  },
  {
   "cell_type": "code",
   "execution_count": 21,
   "metadata": {},
   "outputs": [
    {
     "name": "stdout",
     "output_type": "stream",
     "text": [
      "count      23413\n",
      "unique         3\n",
      "top       другой\n",
      "freq       17225\n",
      "Name: floor_type, dtype: object\n"
     ]
    },
    {
     "data": {
      "image/png": "[encoded data removed]",
      "text/plain": [
       "<Figure size 432x288 with 1 Axes>"
      ]
     },
     "metadata": {
      "needs_background": "light"
     },
     "output_type": "display_data"
    }
   ],
   "source": [
    "data['floor_type'].value_counts().plot(kind='bar')\n",
    "print(data['floor_type'].describe())\n",
    "plt.title('Тип этажности квартир')\n",
    "plt.show()"
   ]
  },
  {
   "cell_type": "markdown",
   "metadata": {},
   "source": [
    "**Общее количество этажей в доме** \\\n",
    "Макс. высота дома в таблице - 52 этажа, средняя - 10. Стандартное отклонение существенно и составляет 6,6. Ранее пустые и аномальное (60 этажей) значения были удалены, но на распределение влияет 52-этажный дом в Санкт-Петербурге."
   ]
  },
  {
   "cell_type": "code",
   "execution_count": 22,
   "metadata": {},
   "outputs": [
    {
     "name": "stdout",
     "output_type": "stream",
     "text": [
      "count    23413.000000\n",
      "mean        10.663905\n",
      "std          6.577568\n",
      "min          1.000000\n",
      "25%          5.000000\n",
      "50%          9.000000\n",
      "75%         16.000000\n",
      "max         52.000000\n",
      "Name: floors_total, dtype: float64\n"
     ]
    },
    {
     "data": {
      "image/png": "[encoded data removed]",
      "text/plain": [
       "<Figure size 432x288 with 1 Axes>"
      ]
     },
     "metadata": {
      "needs_background": "light"
     },
     "output_type": "display_data"
    }
   ],
   "source": [
    "data['floors_total'].hist()\n",
    "print(data['floors_total'].describe())\n",
    "plt.title('Этажность дома')\n",
    "plt.show()"
   ]
  },
  {
   "cell_type": "markdown",
   "metadata": {},
   "source": [
    "**Расстояние до центра города в метрах** \\\n",
    "Ввиду отсутствия точных картографических данных для замены пустые строки изменены не были. Макс.расстояние - 65968м, мин. - 181м, среднее значение - 14202м. Стандартное отклонение велико - 8613м, что характеризует разницу между значениями в выборке и средней величиной."
   ]
  },
  {
   "cell_type": "code",
   "execution_count": 23,
   "metadata": {},
   "outputs": [
    {
     "name": "stdout",
     "output_type": "stream",
     "text": [
      "count    17959.000000\n",
      "mean     14202.266830\n",
      "std       8613.404268\n",
      "min        181.000000\n",
      "25%       9241.000000\n",
      "50%      13099.000000\n",
      "75%      16293.000000\n",
      "max      65968.000000\n",
      "Name: cityCenters_nearest, dtype: float64\n"
     ]
    },
    {
     "data": {
      "image/png": "[encoded data removed]",
      "text/plain": [
       "<Figure size 432x288 with 1 Axes>"
      ]
     },
     "metadata": {
      "needs_background": "light"
     },
     "output_type": "display_data"
    }
   ],
   "source": [
    "data['cityCenters_nearest'].hist()\n",
    "print(data['cityCenters_nearest'].describe())\n",
    "plt.title('Расстояние до центра города, в метрах')\n",
    "plt.show()"
   ]
  },
  {
   "cell_type": "markdown",
   "metadata": {},
   "source": [
    "**Расстояние до ближайшего аэропорта** \\\n",
    "Макс.расстояние - 84869м, среднее - 28805м. При этом стандартное отклонение велико - 12632м, что говорит о неоднородности выборки. Медиана приближена к средней величине и можно было бы допустить симметричность распределения, но у нас около 25% данных о расстоянии отсутствуют."
   ]
  },
  {
   "cell_type": "code",
   "execution_count": 24,
   "metadata": {},
   "outputs": [
    {
     "name": "stdout",
     "output_type": "stream",
     "text": [
      "count    17936.000000\n",
      "mean     28805.852587\n",
      "std      12632.164284\n",
      "min          0.000000\n",
      "25%      18573.750000\n",
      "50%      26765.000000\n",
      "75%      37278.750000\n",
      "max      84869.000000\n",
      "Name: airports_nearest, dtype: float64\n"
     ]
    },
    {
     "data": {
      "image/png": "[encoded data removed]",
      "text/plain": [
       "<Figure size 432x288 with 1 Axes>"
      ]
     },
     "metadata": {
      "needs_background": "light"
     },
     "output_type": "display_data"
    }
   ],
   "source": [
    "data['airports_nearest'].hist()\n",
    "print(data['airports_nearest'].describe())\n",
    "plt.title('Расстояние до аэропорта, в метрах')\n",
    "plt.show()"
   ]
  },
  {
   "cell_type": "markdown",
   "metadata": {},
   "source": [
    "**Расстояние до ближайшего парка** \\\n",
    "Мин. расстояние до парка - 1м, макс. - 3км. При этом среднее расстояние равно 490м, а медиана - 455. Отметим, что только около трети данных таблицы содержат информацию о расстоянии до ближайшего парка, замена пустых значений нецелесообразна."
   ]
  },
  {
   "cell_type": "code",
   "execution_count": 25,
   "metadata": {},
   "outputs": [
    {
     "name": "stdout",
     "output_type": "stream",
     "text": [
      "count    7982.000000\n",
      "mean      490.774117\n",
      "std       341.272553\n",
      "min         1.000000\n",
      "25%       288.000000\n",
      "50%       455.000000\n",
      "75%       612.000000\n",
      "max      3190.000000\n",
      "Name: parks_nearest, dtype: float64\n"
     ]
    },
    {
     "data": {
      "image/png": "[encoded data removed]",
      "text/plain": [
       "<Figure size 432x288 with 1 Axes>"
      ]
     },
     "metadata": {
      "needs_background": "light"
     },
     "output_type": "display_data"
    }
   ],
   "source": [
    "data['parks_nearest'].hist()\n",
    "print(data['parks_nearest'].describe())\n",
    "plt.title('Расстояние до ближайшего парка, в метрах')\n",
    "plt.show()"
   ]
  },
  {
   "cell_type": "markdown",
   "metadata": {},
   "source": [
    "**День и месяц публикации объявления** \\\n",
    "Больше всего объявлений было опубликовано в феврале,меньше всего - в мае. Четверг и вторник наиболее популярны при публикации объявлений, в четверг чуть больше, чем во вторник. В выходные объявлений почти в два раза меньше, чем в будни."
   ]
  },
  {
   "cell_type": "code",
   "execution_count": 26,
   "metadata": {},
   "outputs": [
    {
     "name": "stdout",
     "output_type": "stream",
     "text": [
      "count    23413.000000\n",
      "mean         2.567932\n",
      "std          1.787837\n",
      "min          0.000000\n",
      "25%          1.000000\n",
      "50%          3.000000\n",
      "75%          4.000000\n",
      "max          6.000000\n",
      "Name: exposition_day, dtype: float64\n"
     ]
    },
    {
     "data": {
      "image/png": "[encoded data removed]",
      "text/plain": [
       "<Figure size 432x288 with 1 Axes>"
      ]
     },
     "metadata": {
      "needs_background": "light"
     },
     "output_type": "display_data"
    }
   ],
   "source": [
    "data['exposition_day'].hist(bins=7)\n",
    "print(data['exposition_day'].describe())\n",
    "plt.title('Дни публикации объявлений о квартирах')\n",
    "plt.show()"
   ]
  },
  {
   "cell_type": "code",
   "execution_count": 27,
   "metadata": {},
   "outputs": [
    {
     "name": "stdout",
     "output_type": "stream",
     "text": [
      "count    23413.000000\n",
      "mean         6.399821\n",
      "std          3.493705\n",
      "min          1.000000\n",
      "25%          3.000000\n",
      "50%          6.000000\n",
      "75%         10.000000\n",
      "max         12.000000\n",
      "Name: exposition_month, dtype: float64\n"
     ]
    },
    {
     "data": {
      "image/png": "[encoded data removed]",
      "text/plain": [
       "<Figure size 432x288 with 1 Axes>"
      ]
     },
     "metadata": {
      "needs_background": "light"
     },
     "output_type": "display_data"
    }
   ],
   "source": [
    "data['exposition_month'].hist(bins=12)\n",
    "print(data['exposition_month'].describe())\n",
    "plt.title('Месяцы публикации объявлений о квартирах')\n",
    "plt.show()"
   ]
  },
  {
   "cell_type": "markdown",
   "metadata": {},
   "source": [
    "<div class=\"alert alert-success\">\n",
    "<b>✔️ Комментарий ревьюера v1:</b> \n",
    "<br>Ты корректно подбираешь основные диапазоны, а также верно читаешь графики! \n",
    "</div>\n",
    "\n",
    "<div class=\"alert alert-warning\">\n",
    "<b>⚠️ Комментарий ревьюера v1:</b> \n",
    "<br>Для того чтобы подписать график мы можем использовать метод plt.title() и в конце кода применить plt.show(). По ссылкам ниже можно почитать подробнее как добавить название для графика или подписать его оси\n",
    "    \n",
    "    https://pyprog.pro/mpl/mpl_title.html\n",
    "    https://pyprog.pro/mpl/mpl_axis_signatures.html \n",
    "</div>"
   ]
  },
  {
   "cell_type": "markdown",
   "metadata": {},
   "source": [
    "<div class=\"alert alert-info\">\n",
    "<b>Комментарий студента:</b>\n",
    "<br>\n",
    "Скорректированы выводы с учетом изменений в датафрейме после обработки пропусков и аномальных значений. Представление графиков также дополнено заголовками.\n",
    "</div>"
   ]
  },
  {
   "cell_type": "markdown",
   "metadata": {},
   "source": [
    "#### Изучим продажи квартир"
   ]
  },
  {
   "cell_type": "markdown",
   "metadata": {},
   "source": [
    "Отметим, что 3152 квартир (13,5% от общего числа обработанной выборки) еще не продано. Средний срок продажи квартиры - 6 месяцев (181 день). Половина всех квартир была продана через 95 дней. Макс.дата продажи - больше 4 лет (1580 дней). Самая быстрая продажа квартиры состоялась за 1 день. Нормальным считается продажа в интервале от 0 до примено 520 дней (пределы \"усов\")."
   ]
  },
  {
   "cell_type": "code",
   "execution_count": 28,
   "metadata": {},
   "outputs": [
    {
     "name": "stdout",
     "output_type": "stream",
     "text": [
      "count    20261.000000\n",
      "mean       180.940921\n",
      "std        219.828369\n",
      "min          1.000000\n",
      "25%         45.000000\n",
      "50%         95.000000\n",
      "75%        232.000000\n",
      "max       1580.000000\n",
      "Name: days_exposition, dtype: float64\n"
     ]
    },
    {
     "data": {
      "image/png": "[encoded data removed]",
      "text/plain": [
       "<Figure size 432x288 with 1 Axes>"
      ]
     },
     "metadata": {
      "needs_background": "light"
     },
     "output_type": "display_data"
    }
   ],
   "source": [
    "data['days_exposition'].hist(range=(1,100))\n",
    "print(data['days_exposition'].describe())\n",
    "plt.title('Количество дней актуальности объявления')\n",
    "plt.show()"
   ]
  },
  {
   "cell_type": "code",
   "execution_count": 29,
   "metadata": {},
   "outputs": [
    {
     "data": {
      "text/plain": [
       "<AxesSubplot:>"
      ]
     },
     "execution_count": 29,
     "metadata": {},
     "output_type": "execute_result"
    },
    {
     "data": {
      "image/png": "[encoded data removed]",
      "text/plain": [
       "<Figure size 432x288 with 1 Axes>"
      ]
     },
     "metadata": {
      "needs_background": "light"
     },
     "output_type": "display_data"
    }
   ],
   "source": [
    "import matplotlib.pyplot as plt \n",
    "plt.ylim(0, 700) \n",
    "data.boxplot(column=['days_exposition'])"
   ]
  },
  {
   "cell_type": "markdown",
   "metadata": {},
   "source": [
    "<div class=\"alert alert-success\">\n",
    "<b>✔️ Комментарий ревьюера v1:</b> \n",
    "<br>Согласен! Если интересно, то можно посмотреть на диапазон от 0 до 100 дней. Там есть пики, которым можно найти очень логичное объяснение</div>\n",
    "</div>"
   ]
  },
  {
   "cell_type": "markdown",
   "metadata": {},
   "source": [
    "#### Оценка влияния факторов общую (полную) стоимость объекта"
   ]
  },
  {
   "cell_type": "code",
   "execution_count": 30,
   "metadata": {},
   "outputs": [
    {
     "name": "stdout",
     "output_type": "stream",
     "text": [
      "0.6960611264166623\n"
     ]
    },
    {
     "data": {
      "image/png": "[encoded data removed]",
      "text/plain": [
       "<Figure size 432x288 with 1 Axes>"
      ]
     },
     "metadata": {
      "needs_background": "light"
     },
     "output_type": "display_data"
    }
   ],
   "source": [
    "data.pivot_table(index='total_area', values='last_price', aggfunc='median').reset_index().plot(kind='scatter', y='last_price',\\\n",
    "x='total_area', alpha=0.3)\n",
    "print(data['last_price'].corr(data['total_area']))\n",
    "plt.title('Влияние площади квартиры на стоимость')\n",
    "plt.show()"
   ]
  },
  {
   "cell_type": "code",
   "execution_count": 31,
   "metadata": {},
   "outputs": [
    {
     "name": "stdout",
     "output_type": "stream",
     "text": [
      "0.622198792354935\n"
     ]
    },
    {
     "data": {
      "image/png": "[encoded data removed]",
      "text/plain": [
       "<Figure size 432x288 with 1 Axes>"
      ]
     },
     "metadata": {
      "needs_background": "light"
     },
     "output_type": "display_data"
    }
   ],
   "source": [
    "data.pivot_table(index='living_area', values='last_price', aggfunc='mean').reset_index().plot(kind='scatter', y='last_price',\\\n",
    "x='living_area', alpha=0.3)\n",
    "print(data['last_price'].corr(data['living_area']))\n",
    "plt.title('Влияние жилой площади квартиры на стоимость')\n",
    "plt.show()"
   ]
  },
  {
   "cell_type": "code",
   "execution_count": 32,
   "metadata": {},
   "outputs": [
    {
     "name": "stdout",
     "output_type": "stream",
     "text": [
      "0.5393335137770513\n"
     ]
    },
    {
     "data": {
      "image/png": "[encoded data removed]",
      "text/plain": [
       "<Figure size 432x288 with 1 Axes>"
      ]
     },
     "metadata": {
      "needs_background": "light"
     },
     "output_type": "display_data"
    }
   ],
   "source": [
    "data.pivot_table(index='kitchen_area', values='last_price', aggfunc='mean').reset_index().plot(kind='scatter', y='last_price',\\\n",
    "x='kitchen_area', alpha=0.3)\n",
    "print(data['last_price'].corr(data['kitchen_area']))\n",
    "plt.title('Влияние площади кухни квартиры на стоимость')\n",
    "plt.show()"
   ]
  },
  {
   "cell_type": "code",
   "execution_count": 33,
   "metadata": {},
   "outputs": [
    {
     "name": "stdout",
     "output_type": "stream",
     "text": [
      "0.3889419205698402\n"
     ]
    },
    {
     "data": {
      "image/png": "[encoded data removed]",
      "text/plain": [
       "<Figure size 432x288 with 1 Axes>"
      ]
     },
     "metadata": {
      "needs_background": "light"
     },
     "output_type": "display_data"
    }
   ],
   "source": [
    "data.pivot_table(index='rooms', values='last_price', aggfunc='mean').reset_index().plot(kind='scatter', y='last_price',\\\n",
    "x='rooms')\n",
    "print(data['last_price'].corr(data['rooms']))\n",
    "plt.title('Влияние на стоимость квартиры количества комнат')\n",
    "plt.show()"
   ]
  },
  {
   "cell_type": "code",
   "execution_count": 34,
   "metadata": {},
   "outputs": [
    {
     "data": {
      "text/plain": [
       "<AxesSubplot:title={'center':'Тип этажа-стоимость квартиры'}>"
      ]
     },
     "execution_count": 34,
     "metadata": {},
     "output_type": "execute_result"
    },
    {
     "data": {
      "image/png": "[encoded data removed]",
      "text/plain": [
       "<Figure size 432x288 with 1 Axes>"
      ]
     },
     "metadata": {
      "needs_background": "light"
     },
     "output_type": "display_data"
    }
   ],
   "source": [
    "data['floor_type'].value_counts().plot(kind='bar', y='last_price', title='Тип этажа-стоимость квартиры')\n"
   ]
  },
  {
   "cell_type": "code",
   "execution_count": 35,
   "metadata": {},
   "outputs": [
    {
     "data": {
      "image/png": "[encoded data removed]",
      "text/plain": [
       "<Figure size 432x288 with 1 Axes>"
      ]
     },
     "metadata": {
      "needs_background": "light"
     },
     "output_type": "display_data"
    }
   ],
   "source": [
    "data_exposition_day = data.groupby('exposition_day')['last_price'].mean().reset_index()\n",
    "plt.scatter(x=data_exposition_day['exposition_day'], y=data_exposition_day['last_price'])\n",
    "plt.title('Влияние дня публикации объявления на стоимость квартиры')\n",
    "plt.show()"
   ]
  },
  {
   "cell_type": "code",
   "execution_count": 36,
   "metadata": {},
   "outputs": [
    {
     "data": {
      "image/png": "[encoded data removed]",
      "text/plain": [
       "<Figure size 720x216 with 1 Axes>"
      ]
     },
     "metadata": {
      "needs_background": "light"
     },
     "output_type": "display_data"
    }
   ],
   "source": [
    "data.pivot_table(index='exposition_month', values='last_price', aggfunc='mean').reset_index().plot(kind='scatter', y='last_price',\\\n",
    "x='exposition_month', figsize=(10, 3))\n",
    "plt.title('Влияние месяца публикации объявления на стоимость квартиры')\n",
    "plt.show()"
   ]
  },
  {
   "cell_type": "code",
   "execution_count": 37,
   "metadata": {},
   "outputs": [
    {
     "data": {
      "image/png": "[encoded data removed]",
      "text/plain": [
       "<Figure size 720x216 with 1 Axes>"
      ]
     },
     "metadata": {
      "needs_background": "light"
     },
     "output_type": "display_data"
    }
   ],
   "source": [
    "data.pivot_table(index='exposition_year', values='last_price', aggfunc='mean').reset_index().plot(kind='scatter', y='last_price',\\\n",
    "x='exposition_year', figsize=(10, 3))\n",
    "plt.title('Влияние года публикации объявления на стоимость квартиры')\n",
    "plt.show()"
   ]
  },
  {
   "cell_type": "markdown",
   "metadata": {},
   "source": [
    "<div class=\"alert alert-danger\">\n",
    "<b>❌ Комментарий ревьюера v1:</b> \n",
    "<br>Рассчитывать корреляцию Пирсона для дня недели, месяца и года продажи не эффективно, так как цена в данном случае зависит от них не линейно. Чтобы изучить зависимость для этих параметров лучше построить bar plot или гистограмму рассчитав среднее значение или медиану. Графики у тебя уже есть, поэтому остаётся только удалить расчет корреляции)\n",
    "</div>"
   ]
  },
  {
   "cell_type": "markdown",
   "metadata": {},
   "source": [
    "<div class=\"alert alert-success\">\n",
    "<b>✔️ Комментарий ревьюера v2:</b>\n",
    "<br>Правка выполнена 👍\n",
    "</div>"
   ]
  },
  {
   "cell_type": "markdown",
   "metadata": {},
   "source": [
    "#### Вывод по оценке факторов\n",
    "* Зависимость между стоимостью квартиры и общей площадью незначимая, коэффициент корреляции равен 0.69. \n",
    "Исследование зависимости цены жилья от жилой площади, от площади кухни еще менее значимая: 0,62 и 0,54 соответственно. На это оказывает влияние в т.ч. замена пропусков на расчет по среднему значению. Во всех трех случаях связь положительная, что логично: как правило, чем больше площадь квартиры, тем больше она стоит при прочих равных условиях. Однако нельзя сказать, что эти факторы имеют решающее влияние на стоимость жилья в нашем примере - это связано с действием и других факторов (люди и правда покупают жилье не только из-за площади квартиры), и с заменой пропущенных значений.\n",
    "* По графику связь достаточно значимая и положительная (до 8 комнат), на основании коэффициента корреляции зависимость стоимости жилья от количества комнат очень слабая (0,39), до 8 комнат наблюдается положительная связь, с 9 по 10 она становится отрицательной, то есть стоимость таких квартир снижается. Такое неоднородное распределение связано с тем, что квартиры с большим числом комнат неликвидны относительно квартир с 1-3 комнатами, т.к. на них меньше спрос. \n",
    "* Зависимость стоимости жилья от типа этажа - отрицательная и по графику достаточно сильная. Это связано и с тем, что промежуточные этажи более многочисленны, и с тем, что они более популярные: многие люди при поиске жилья исключают из поиска первые этажи и последние. Но это не означает, что этаж оказывает прямое и сильное влияние на стоимость квартиры.\n",
    "* Зависимость стоимости жилья от дня и месяца публикации объявления о продаже отсутствует. Это логично, т.к. подобные факторы являются краткосрочными и не имеют влияния на стоимость жилья.\n",
    "* Что касается зависимости стоимости жилья от года публикации объявления, то по графику мы видим отрицательную ярко выраженную связь. График демонстрирует снижение стоимости в Санкт-Петербурге и Ленинградской области с 2014 по 2018 и рост в 2019 г. Однако это противоречит действительной динамике стоимости жилья. По данным анализа динамики стоимости жилья в Санкт-Петербурге и близких к нему населенных пунктах стоимость жилья увеличивается с 2015г. (снижение наблюдалось после кризиса 2008г. до 2015г.). При этом по аналитическим данным в разные периоды времени стоимость первичного и вторичного жилья имеет разную динамику, на рост цен на рынке первичного жилья оказывают влияние различные программы господдержки приобретения жилья в новостройках, ведущее к росту спроса, и подорожание импортных материалов вследствии роста курса доллара."
   ]
  },
  {
   "cell_type": "markdown",
   "metadata": {},
   "source": [
    "<div class=\"alert alert-info\">\n",
    "<b>Комментарий студента:</b>\n",
    "<br>\n",
    "Представление графиков и вывод скорректированы.\n",
    "</div>"
   ]
  },
  {
   "cell_type": "markdown",
   "metadata": {},
   "source": [
    "<div class=\"alert alert-success\">\n",
    "<b>✔️ Комментарий ревьюера v2:</b>\n",
    "<br>Ещё тут можно использовать для визуализации pairplot из библиотеки seaborn \n",
    "    \n",
    "    https://seaborn.pydata.org/generated/seaborn.pairplot.html\n",
    "</div>"
   ]
  },
  {
   "cell_type": "markdown",
   "metadata": {},
   "source": [
    "#### Рассчитаем среднюю цену одного кв.м в топ-10 населённых пунктах по числу объявлений"
   ]
  },
  {
   "cell_type": "code",
   "execution_count": 38,
   "metadata": {},
   "outputs": [
    {
     "name": "stdout",
     "output_type": "stream",
     "text": [
      "                 square_meter_price\n",
      "locality_name                      \n",
      "Санкт-Петербург       114600.999410\n",
      "Пушкин                103125.819377\n",
      "Кудрово                95267.605043\n",
      "Парголово              90135.075215\n",
      "Мурино                 85902.890434\n",
      "Шушары                 78546.979201\n",
      "Колпино                75480.547448\n",
      "Всеволожск             68667.473964\n",
      "Гатчина                68625.141155\n",
      "Выборг                 58251.091197\n"
     ]
    },
    {
     "data": {
      "image/png": "[encoded data removed]",
      "text/plain": [
       "<Figure size 432x288 with 1 Axes>"
      ]
     },
     "metadata": {
      "needs_background": "light"
     },
     "output_type": "display_data"
    }
   ],
   "source": [
    "top_ten_locality_name = data['locality_name'].value_counts().head(10)\n",
    " \n",
    "popular_locality_name = data[data['locality_name'].isin(top_ten_locality_name.index)]\n",
    " \n",
    "top_meter_price = popular_locality_name.pivot_table(index='locality_name', values='square_meter_price', aggfunc='mean') \\\n",
    ".sort_values(by='square_meter_price', ascending=False)\n",
    "    \n",
    "print(top_meter_price)\n",
    "\n",
    "top_meter_price.plot(kind='bar')\n",
    "plt.title('Цена кв.м. жилья в ТОП-10 локаций')\n",
    "plt.show()"
   ]
  },
  {
   "cell_type": "markdown",
   "metadata": {},
   "source": [
    "**Вывод**: среди 10 наиболее популярных населенных пунктов, отобранных по количеству размещенных объявлений, самая высокая стоимость квадратного метра ожидаемо зафиксирована в Санкт-Петербурге и составляет 114600 руб., а самая низкая - в Выборге - 58251 руб."
   ]
  },
  {
   "cell_type": "markdown",
   "metadata": {},
   "source": [
    "<div class=\"alert alert-success\">\n",
    "<b>✔️ Комментарий ревьюера v1:</b> \n",
    "<br>Всё верно! Как вариант, тут можно построить барплот для топ10, так будет более наглядно)\n",
    "</div>"
   ]
  },
  {
   "cell_type": "markdown",
   "metadata": {},
   "source": [
    "<div class=\"alert alert-info\">\n",
    "<b>Комментарий студента:</b>\n",
    "<br>\n",
    "Добавила график, и правда стало нагляднее.\n",
    "</div>"
   ]
  },
  {
   "cell_type": "markdown",
   "metadata": {},
   "source": [
    "<div class=\"alert alert-success\">\n",
    "<b>✔️ Комментарий ревьюера v2:</b>\n",
    "<br>Красота!\n",
    "</div>"
   ]
  },
  {
   "cell_type": "markdown",
   "metadata": {},
   "source": [
    "#### Рассчитаем среднюю цену каждого километра в Санкт-Петербурге."
   ]
  },
  {
   "cell_type": "code",
   "execution_count": 39,
   "metadata": {},
   "outputs": [
    {
     "data": {
      "text/html": [
       "<div>\n",
       "<style scoped>\n",
       "    .dataframe tbody tr th:only-of-type {\n",
       "        vertical-align: middle;\n",
       "    }\n",
       "\n",
       "    .dataframe tbody tr th {\n",
       "        vertical-align: top;\n",
       "    }\n",
       "\n",
       "    .dataframe thead th {\n",
       "        text-align: right;\n",
       "    }\n",
       "</style>\n",
       "<table border=\"1\" class=\"dataframe\">\n",
       "  <thead>\n",
       "    <tr style=\"text-align: right;\">\n",
       "      <th></th>\n",
       "      <th>last_price</th>\n",
       "    </tr>\n",
       "    <tr>\n",
       "      <th>distance</th>\n",
       "      <th></th>\n",
       "    </tr>\n",
       "  </thead>\n",
       "  <tbody>\n",
       "    <tr>\n",
       "      <th>0.0</th>\n",
       "      <td>30927928.0</td>\n",
       "    </tr>\n",
       "    <tr>\n",
       "      <th>1.0</th>\n",
       "      <td>21080268.0</td>\n",
       "    </tr>\n",
       "    <tr>\n",
       "      <th>2.0</th>\n",
       "      <td>17856928.0</td>\n",
       "    </tr>\n",
       "    <tr>\n",
       "      <th>3.0</th>\n",
       "      <td>11115401.0</td>\n",
       "    </tr>\n",
       "    <tr>\n",
       "      <th>4.0</th>\n",
       "      <td>12189910.0</td>\n",
       "    </tr>\n",
       "    <tr>\n",
       "      <th>5.0</th>\n",
       "      <td>14416855.0</td>\n",
       "    </tr>\n",
       "    <tr>\n",
       "      <th>6.0</th>\n",
       "      <td>15120166.0</td>\n",
       "    </tr>\n",
       "    <tr>\n",
       "      <th>7.0</th>\n",
       "      <td>14800512.0</td>\n",
       "    </tr>\n",
       "    <tr>\n",
       "      <th>8.0</th>\n",
       "      <td>9216761.0</td>\n",
       "    </tr>\n",
       "    <tr>\n",
       "      <th>9.0</th>\n",
       "      <td>6965094.0</td>\n",
       "    </tr>\n",
       "    <tr>\n",
       "      <th>10.0</th>\n",
       "      <td>6503513.0</td>\n",
       "    </tr>\n",
       "    <tr>\n",
       "      <th>11.0</th>\n",
       "      <td>6227880.0</td>\n",
       "    </tr>\n",
       "    <tr>\n",
       "      <th>12.0</th>\n",
       "      <td>5844541.0</td>\n",
       "    </tr>\n",
       "    <tr>\n",
       "      <th>13.0</th>\n",
       "      <td>6073979.0</td>\n",
       "    </tr>\n",
       "    <tr>\n",
       "      <th>14.0</th>\n",
       "      <td>5634598.0</td>\n",
       "    </tr>\n",
       "    <tr>\n",
       "      <th>15.0</th>\n",
       "      <td>5880381.0</td>\n",
       "    </tr>\n",
       "    <tr>\n",
       "      <th>16.0</th>\n",
       "      <td>5378976.0</td>\n",
       "    </tr>\n",
       "    <tr>\n",
       "      <th>17.0</th>\n",
       "      <td>5301339.0</td>\n",
       "    </tr>\n",
       "    <tr>\n",
       "      <th>18.0</th>\n",
       "      <td>5102475.0</td>\n",
       "    </tr>\n",
       "    <tr>\n",
       "      <th>19.0</th>\n",
       "      <td>5066903.0</td>\n",
       "    </tr>\n",
       "    <tr>\n",
       "      <th>20.0</th>\n",
       "      <td>6006846.0</td>\n",
       "    </tr>\n",
       "    <tr>\n",
       "      <th>21.0</th>\n",
       "      <td>5522866.0</td>\n",
       "    </tr>\n",
       "    <tr>\n",
       "      <th>22.0</th>\n",
       "      <td>5422567.0</td>\n",
       "    </tr>\n",
       "    <tr>\n",
       "      <th>23.0</th>\n",
       "      <td>4985376.0</td>\n",
       "    </tr>\n",
       "    <tr>\n",
       "      <th>24.0</th>\n",
       "      <td>3854430.0</td>\n",
       "    </tr>\n",
       "    <tr>\n",
       "      <th>25.0</th>\n",
       "      <td>4052840.0</td>\n",
       "    </tr>\n",
       "    <tr>\n",
       "      <th>26.0</th>\n",
       "      <td>4014287.0</td>\n",
       "    </tr>\n",
       "    <tr>\n",
       "      <th>27.0</th>\n",
       "      <td>8300000.0</td>\n",
       "    </tr>\n",
       "    <tr>\n",
       "      <th>28.0</th>\n",
       "      <td>5026429.0</td>\n",
       "    </tr>\n",
       "    <tr>\n",
       "      <th>29.0</th>\n",
       "      <td>4236667.0</td>\n",
       "    </tr>\n",
       "  </tbody>\n",
       "</table>\n",
       "</div>"
      ],
      "text/plain": [
       "          last_price\n",
       "distance            \n",
       "0.0       30927928.0\n",
       "1.0       21080268.0\n",
       "2.0       17856928.0\n",
       "3.0       11115401.0\n",
       "4.0       12189910.0\n",
       "5.0       14416855.0\n",
       "6.0       15120166.0\n",
       "7.0       14800512.0\n",
       "8.0        9216761.0\n",
       "9.0        6965094.0\n",
       "10.0       6503513.0\n",
       "11.0       6227880.0\n",
       "12.0       5844541.0\n",
       "13.0       6073979.0\n",
       "14.0       5634598.0\n",
       "15.0       5880381.0\n",
       "16.0       5378976.0\n",
       "17.0       5301339.0\n",
       "18.0       5102475.0\n",
       "19.0       5066903.0\n",
       "20.0       6006846.0\n",
       "21.0       5522866.0\n",
       "22.0       5422567.0\n",
       "23.0       4985376.0\n",
       "24.0       3854430.0\n",
       "25.0       4052840.0\n",
       "26.0       4014287.0\n",
       "27.0       8300000.0\n",
       "28.0       5026429.0\n",
       "29.0       4236667.0"
      ]
     },
     "metadata": {},
     "output_type": "display_data"
    },
    {
     "data": {
      "image/png": "[encoded data removed]",
      "text/plain": [
       "<Figure size 504x360 with 1 Axes>"
      ]
     },
     "metadata": {
      "needs_background": "light"
     },
     "output_type": "display_data"
    }
   ],
   "source": [
    "spb_distant_price = data.query('locality_name == \"Санкт-Петербург\"').pivot_table(index='distance', values='last_price', \\\n",
    "aggfunc='mean').round()\n",
    "\n",
    "display(spb_distant_price)\n",
    "spb_distant_price.reset_index().plot(kind='scatter', y='last_price', x='distance', figsize=(7,5))\n",
    "plt.title('Средняя стоимость расстояния в Санкт-Петербурге')\n",
    "plt.show()"
   ]
  },
  {
   "cell_type": "markdown",
   "metadata": {},
   "source": [
    "**Вывод**: в целом, с удаленностью от центра стоимость квадратного метра уменьшается. За исключением промежутка от 3 до 7 км, где стоимость обратно пропорциональна расстоянию от центра - вероятно это связано с иными преимуществами района. В остальных случаях, за исключением отдельных случаев выброса, график демонстрирует отрицательную корреляцию. "
   ]
  },
  {
   "cell_type": "markdown",
   "metadata": {},
   "source": [
    "<div class=\"alert alert-success\">\n",
    "<b>✔️ Комментарий ревьюера v1:</b>\n",
    "<br>Отличный анализ 👍\n",
    "</div>"
   ]
  },
  {
   "cell_type": "markdown",
   "metadata": {},
   "source": [
    "### Общий вывод"
   ]
  },
  {
   "cell_type": "markdown",
   "metadata": {},
   "source": [
    "Были проанализировали данные о продажах квартир в Санкт-Петербурге и близлежащих населенных пунктах и городах.\n",
    "Была проведена предобработка данных, в которых были выявлены следующие недостатки:\n",
    "* пропуски, носящие случайный и абсолютно случайный характер, что возможно как в результате действия человеческого фактора, так и в результате программных ошибок. Пропуски не критически важные я заменила на 0, некоторые были заменены на расчет с применением средних величин, часть пропусков осталась без изменений, строки с отсутствующими значениями по критически важным параметрам были удалены.\n",
    "* аномальные значения были заменены на значения в пределах нормальных или исключены из датафрейма. В случаях, когда данные из-за подобных случаев теряли смысл (например, площадь квартиры, которая меньше суммы жилой площади и кухни), строки с такими данными были удалены.\n",
    "* дубликаты также были устранены путем оставления только названия населенного пункта. \n",
    "\n",
    "Для целей дальнейшего анализа я дополнила таблицу новыми столбцами. Данные по различным параметрам были визуализированы в вииде гистограмм. На основе них \"портрет\" среднестатистической квартиры можно описать следующим образом:\n",
    "* общей площадью 60кв.м, с жилой - 34кв.м., кухней - 10.5кв.м., двухкомнатная, находится на 5-6 этаже 10-этажного дома, расположенного в 11 км от центра города и в 29 км от аэропорта, до парка 490м, с потолками 2,7м, объявление выложено в феврале, вероятно во вторник или четверг, общей стоимостью 6.5 млн руб. \n",
    "\n",
    "По результатам оценки влияния факторов оказалось, что на стоимость квартиры оказывает влияние совокупность факторов - ни один фактор не продемонстрировал значимый коэффициент корреляции. При этом наибольшее влияние оказывают следующие факторы:\n",
    "* площадь квартиры (коэффициент корреляции - 0.69);\n",
    "* этаж квартиры - это связано как предпочтениями людей исключить первый и последний этажа, так и с влиянием статистики - вероятность размещения объявлений с типом этажа \"другой\" - выше;\n",
    "* удаленность от центра - чем ближе к центру квартира расположена, тем выше ее цена при прочих равных условиях.\n",
    "* и что логично, средняя стоимость квадратного метра жилья в Санкт-Петербурге выше, чем в других населенных пунктах."
   ]
  },
  {
   "cell_type": "markdown",
   "metadata": {},
   "source": [
    "<div class=\"alert alert-danger\">\n",
    "<b>❌ Комментарий ревьюера v1:</b> \n",
    "<br>После всех внесённых правок, обязательно перепроверь общий вывод и промежуточные выводы и поправь их по необходимости\n",
    "</div>"
   ]
  },
  {
   "cell_type": "markdown",
   "metadata": {},
   "source": [
    "<div class=\"alert alert-danger\">\n",
    "<b>❌ Итоговый комментарий ревьюера v1:</b> \n",
    "<br>Ты хорошо потрудилась, большая часть работы сделана, но остаётся внести следующие правки:\n",
    "<br>- заполнить пропуски в столбце ceiling_height\n",
    "<br>- отбросить аномальные значения (площадь квартиры, стоимость, количество комнат)\n",
    "<br>- удалить расчет корреляции для времени продажи\n",
    "<br>- поправить выводы там, где это необходимо\n",
    "</div>"
   ]
  },
  {
   "cell_type": "markdown",
   "metadata": {},
   "source": [
    "<div class=\"alert alert-success\">\n",
    "<b>✔️ Итоговый комментарий ревьюера v2:</b>\n",
    "<br>Все правки выполнены. Молодец!\n",
    "<br>Проделана огромная работа! У тебя подробные, понятные и логичные выводы, которые ты подкрепляешь фактами. Были использованы разные графики и способы, чтобы как можно более тщательно изучить данные и у тебя это получилось! \n",
    "<br>Я рад был поработать над проверкой твоей работы) В качестве дополнительного материала для изучения могу порекомендовать следующий ресурс:\n",
    "\n",
    "\thttps://www.python-graph-gallery.com/\n",
    "<br>В нем содержится большая библиотека графиков с готовым кодом, который можно использовать при работе.\n",
    "<br>Поздравляю со сдачей проекта и желаю удачи в дальнейшем обучении! 😉    \n",
    "</div>"
   ]
  },
  {
   "cell_type": "markdown",
   "metadata": {},
   "source": [
    "**Чек-лист готовности проекта**\n",
    "\n",
    "Поставьте 'x' в выполненных пунктах. Далее нажмите Shift+Enter."
   ]
  },
  {
   "cell_type": "markdown",
   "metadata": {},
   "source": [
    "- [x]  открыт файл\n",
    "- [x]  файлы изучены (выведены первые строки, метод `info()`, гистограммы и т.д.)\n",
    "- [x]  определены пропущенные значения\n",
    "- [x]  заполнены пропущенные значения там, где это возможно\n",
    "- [x]  есть пояснение, какие пропущенные значения обнаружены\n",
    "- [x]  изменены типы данных\n",
    "- [x]  есть пояснение, в каких столбцах изменены типы и почему\n",
    "- [x]  устранены неявные дубликаты в названиях населённых пунктов\n",
    "- [x]  устранены редкие и выбивающиеся значения (аномалии) во всех столбцах\n",
    "- [x]  посчитано и добавлено в таблицу: цена одного квадратного метра\n",
    "- [x]  посчитано и добавлено в таблицу: день публикации объявления (0 - понедельник, 1 - вторник и т.д.)\n",
    "- [x]  посчитано и добавлено в таблицу: месяц публикации объявления\n",
    "- [x]  посчитано и добавлено в таблицу: год публикации объявления\n",
    "- [x]  посчитано и добавлено в таблицу: тип этажа квартиры (значения — «первый», «последний», «другой»)\n",
    "- [x]  посчитано и добавлено в таблицу: расстояние в км до центра города\n",
    "- [x]  изучены и описаны следующие параметры:\n",
    "        - общая площадь;\n",
    "        - жилая площадь;\n",
    "        - площадь кухни;\n",
    "        - цена объекта;\n",
    "        - количество комнат;\n",
    "        - высота потолков;\n",
    "        - этаж квартиры;\n",
    "        - тип этажа квартиры («первый», «последний», «другой»);\n",
    "        - общее количество этажей в доме;\n",
    "        - расстояние до центра города в метрах;\n",
    "        - расстояние до ближайшего аэропорта;\n",
    "        - расстояние до ближайшего парка;\n",
    "        - день и месяц публикации объявления\n",
    "- [x]  построены гистограммы для каждого параметра\n",
    "- [x]  выполнено задание: \"Изучите, как быстро продавались квартиры (столбец days_exposition). Этот параметр показывает, сколько дней «висело» каждое объявление.\n",
    "    - Постройте гистограмму.\n",
    "    - Посчитайте среднее и медиану.\n",
    "    - В ячейке типа markdown опишите, сколько обычно занимает продажа. Какие продажи можно считать быстрыми, а какие — необычно долгими?\"\n",
    "- [x]  выполнено задание: \"Какие факторы больше всего влияют на общую (полную) стоимость объекта? Постройте графики, которые покажут зависимость цены от указанных ниже параметров. Для подготовки данных перед визуализацией вы можете использовать сводные таблицы.\"\n",
    "        - общей площади;\n",
    "        - жилой площади;\n",
    "        - площади кухни;\n",
    "        - количество комнат;\n",
    "        - типа этажа, на котором расположена квартира (первый, последний, другой);\n",
    "        - даты размещения (день недели, месяц, год);\n",
    "- [x]  выполнено задание: \"Посчитайте среднюю цену одного квадратного метра в 10 населённых пунктах с наибольшим числом объявлений. Выделите населённые пункты с самой высокой и низкой стоимостью квадратного метра. Эти данные можно найти по имени в столбце `locality_name`.\"\n",
    "- [x]  выполнено задание: \"Ранее вы посчитали расстояние до центра в километрах. Теперь выделите квартиры в Санкт-Петербурге с помощью столбца `locality_name` и вычислите среднюю цену каждого километра. Опишите, как стоимость объектов зависит от расстояния до центра города.\"\n",
    "- [x]  в каждом этапе есть промежуточные выводы\n",
    "- [x]  есть общий вывод"
   ]
  },
  {
   "cell_type": "code",
   "execution_count": null,
   "metadata": {},
   "outputs": [],
   "source": []
  }
 ],
 "metadata": {
  "ExecuteTimeLog": [
   {
    "duration": 44,
    "start_time": "2022-11-15T21:02:40.311Z"
   },
   {
    "duration": 504,
    "start_time": "2022-11-15T21:02:59.451Z"
   },
   {
    "duration": 2,
    "start_time": "2022-11-15T21:03:08.490Z"
   },
   {
    "duration": 87,
    "start_time": "2022-11-15T21:03:11.562Z"
   },
   {
    "duration": 4,
    "start_time": "2022-11-15T21:03:14.402Z"
   },
   {
    "duration": 13,
    "start_time": "2022-11-15T21:04:25.105Z"
   },
   {
    "duration": 8,
    "start_time": "2022-11-15T21:04:47.291Z"
   },
   {
    "duration": 3,
    "start_time": "2022-11-15T21:05:40.203Z"
   },
   {
    "duration": 88,
    "start_time": "2022-11-15T21:05:42.105Z"
   },
   {
    "duration": 47,
    "start_time": "2022-11-15T21:05:44.201Z"
   },
   {
    "duration": 13,
    "start_time": "2022-11-15T21:16:37.208Z"
   },
   {
    "duration": 2499,
    "start_time": "2022-11-15T21:20:57.509Z"
   },
   {
    "duration": 2030,
    "start_time": "2022-11-15T21:21:54.378Z"
   },
   {
    "duration": 1930,
    "start_time": "2022-11-15T21:22:14.635Z"
   },
   {
    "duration": 3,
    "start_time": "2022-11-15T21:27:28.961Z"
   },
   {
    "duration": 80,
    "start_time": "2022-11-15T21:27:30.567Z"
   },
   {
    "duration": 27,
    "start_time": "2022-11-15T21:27:32.245Z"
   },
   {
    "duration": 15,
    "start_time": "2022-11-15T21:27:37.560Z"
   },
   {
    "duration": 1995,
    "start_time": "2022-11-15T21:28:40.217Z"
   },
   {
    "duration": 4,
    "start_time": "2022-11-17T20:34:57.619Z"
   },
   {
    "duration": 3,
    "start_time": "2022-11-17T20:35:26.270Z"
   },
   {
    "duration": 4,
    "start_time": "2022-11-17T20:37:54.583Z"
   },
   {
    "duration": 2,
    "start_time": "2022-11-17T20:37:57.164Z"
   },
   {
    "duration": 2,
    "start_time": "2022-11-17T20:38:17.442Z"
   },
   {
    "duration": 379,
    "start_time": "2022-11-17T20:38:25.292Z"
   },
   {
    "duration": 332,
    "start_time": "2022-11-17T20:38:25.672Z"
   },
   {
    "duration": 34,
    "start_time": "2022-11-17T20:38:26.006Z"
   },
   {
    "duration": 15,
    "start_time": "2022-11-17T20:38:26.041Z"
   },
   {
    "duration": 2441,
    "start_time": "2022-11-17T20:38:26.058Z"
   },
   {
    "duration": 3,
    "start_time": "2022-11-17T20:38:28.501Z"
   },
   {
    "duration": 3,
    "start_time": "2022-11-17T20:39:17.343Z"
   },
   {
    "duration": 5,
    "start_time": "2022-11-17T20:49:51.099Z"
   },
   {
    "duration": 7,
    "start_time": "2022-11-17T20:49:58.135Z"
   },
   {
    "duration": 72,
    "start_time": "2022-11-17T20:50:52.266Z"
   },
   {
    "duration": 7,
    "start_time": "2022-11-17T20:51:23.857Z"
   },
   {
    "duration": 3,
    "start_time": "2022-11-17T20:52:23.837Z"
   },
   {
    "duration": 6,
    "start_time": "2022-11-17T20:52:30.336Z"
   },
   {
    "duration": 5,
    "start_time": "2022-11-17T20:52:56.427Z"
   },
   {
    "duration": 8,
    "start_time": "2022-11-17T20:54:46.895Z"
   },
   {
    "duration": 5,
    "start_time": "2022-11-17T20:54:55.022Z"
   },
   {
    "duration": 6,
    "start_time": "2022-11-17T21:02:55.627Z"
   },
   {
    "duration": 5,
    "start_time": "2022-11-17T21:03:31.816Z"
   },
   {
    "duration": 44,
    "start_time": "2022-11-17T21:18:09.833Z"
   },
   {
    "duration": 50,
    "start_time": "2022-11-17T21:30:46.865Z"
   },
   {
    "duration": 7,
    "start_time": "2022-11-17T21:42:27.534Z"
   },
   {
    "duration": 48,
    "start_time": "2022-11-17T21:42:36.049Z"
   },
   {
    "duration": 6,
    "start_time": "2022-11-17T21:43:27.756Z"
   },
   {
    "duration": 48,
    "start_time": "2022-11-17T21:43:31.747Z"
   },
   {
    "duration": 3,
    "start_time": "2022-11-17T21:43:51.775Z"
   },
   {
    "duration": 108,
    "start_time": "2022-11-17T21:43:51.780Z"
   },
   {
    "duration": 27,
    "start_time": "2022-11-17T21:43:51.890Z"
   },
   {
    "duration": 30,
    "start_time": "2022-11-17T21:43:51.919Z"
   },
   {
    "duration": 1986,
    "start_time": "2022-11-17T21:43:51.951Z"
   },
   {
    "duration": 5,
    "start_time": "2022-11-17T21:43:53.939Z"
   },
   {
    "duration": 5,
    "start_time": "2022-11-17T21:43:53.955Z"
   },
   {
    "duration": 54,
    "start_time": "2022-11-17T21:43:53.962Z"
   },
   {
    "duration": 10,
    "start_time": "2022-11-17T21:45:17.619Z"
   },
   {
    "duration": 8,
    "start_time": "2022-11-17T21:48:13.918Z"
   },
   {
    "duration": 3,
    "start_time": "2022-11-17T21:48:24.173Z"
   },
   {
    "duration": 121,
    "start_time": "2022-11-17T21:48:24.178Z"
   },
   {
    "duration": 28,
    "start_time": "2022-11-17T21:48:24.301Z"
   },
   {
    "duration": 26,
    "start_time": "2022-11-17T21:48:24.331Z"
   },
   {
    "duration": 2051,
    "start_time": "2022-11-17T21:48:24.360Z"
   },
   {
    "duration": 7,
    "start_time": "2022-11-17T21:48:26.413Z"
   },
   {
    "duration": 67,
    "start_time": "2022-11-17T21:48:26.422Z"
   },
   {
    "duration": 65,
    "start_time": "2022-11-17T21:48:26.491Z"
   },
   {
    "duration": 45,
    "start_time": "2022-11-17T21:51:35.759Z"
   },
   {
    "duration": 52,
    "start_time": "2022-11-17T21:51:47.321Z"
   },
   {
    "duration": 49,
    "start_time": "2022-11-17T21:54:21.144Z"
   },
   {
    "duration": 47,
    "start_time": "2022-11-17T21:54:31.087Z"
   },
   {
    "duration": 2,
    "start_time": "2022-11-17T21:54:52.255Z"
   },
   {
    "duration": 102,
    "start_time": "2022-11-17T21:54:54.467Z"
   },
   {
    "duration": 26,
    "start_time": "2022-11-17T21:54:56.178Z"
   },
   {
    "duration": 14,
    "start_time": "2022-11-17T21:55:08.977Z"
   },
   {
    "duration": 5,
    "start_time": "2022-11-17T21:55:12.738Z"
   },
   {
    "duration": 51,
    "start_time": "2022-11-17T21:55:20.383Z"
   },
   {
    "duration": 51,
    "start_time": "2022-11-17T21:55:24.247Z"
   },
   {
    "duration": 8,
    "start_time": "2022-11-17T21:57:57.606Z"
   },
   {
    "duration": 3,
    "start_time": "2022-11-17T21:58:02.724Z"
   },
   {
    "duration": 93,
    "start_time": "2022-11-17T21:58:02.729Z"
   },
   {
    "duration": 30,
    "start_time": "2022-11-17T21:58:02.824Z"
   },
   {
    "duration": 16,
    "start_time": "2022-11-17T21:58:02.856Z"
   },
   {
    "duration": 1933,
    "start_time": "2022-11-17T21:58:02.874Z"
   },
   {
    "duration": 5,
    "start_time": "2022-11-17T21:58:04.808Z"
   },
   {
    "duration": 12,
    "start_time": "2022-11-17T21:58:04.815Z"
   },
   {
    "duration": 0,
    "start_time": "2022-11-17T21:58:04.829Z"
   },
   {
    "duration": 8,
    "start_time": "2022-11-17T21:58:21.537Z"
   },
   {
    "duration": 3,
    "start_time": "2022-11-17T21:58:28.163Z"
   },
   {
    "duration": 114,
    "start_time": "2022-11-17T21:58:28.168Z"
   },
   {
    "duration": 28,
    "start_time": "2022-11-17T21:58:28.283Z"
   },
   {
    "duration": 29,
    "start_time": "2022-11-17T21:58:28.313Z"
   },
   {
    "duration": 2120,
    "start_time": "2022-11-17T21:58:28.344Z"
   },
   {
    "duration": 6,
    "start_time": "2022-11-17T21:58:30.466Z"
   },
   {
    "duration": 69,
    "start_time": "2022-11-17T21:58:30.473Z"
   },
   {
    "duration": 195,
    "start_time": "2022-11-17T21:58:30.544Z"
   },
   {
    "duration": 49,
    "start_time": "2022-11-17T21:59:31.296Z"
   },
   {
    "duration": 194,
    "start_time": "2022-11-17T21:59:37.120Z"
   },
   {
    "duration": 2,
    "start_time": "2022-11-17T21:59:41.679Z"
   },
   {
    "duration": 121,
    "start_time": "2022-11-17T21:59:41.683Z"
   },
   {
    "duration": 30,
    "start_time": "2022-11-17T21:59:41.805Z"
   },
   {
    "duration": 45,
    "start_time": "2022-11-17T21:59:41.837Z"
   },
   {
    "duration": 2034,
    "start_time": "2022-11-17T21:59:41.884Z"
   },
   {
    "duration": 5,
    "start_time": "2022-11-17T21:59:43.920Z"
   },
   {
    "duration": 86,
    "start_time": "2022-11-17T21:59:43.927Z"
   },
   {
    "duration": 47,
    "start_time": "2022-11-17T21:59:44.015Z"
   },
   {
    "duration": 6,
    "start_time": "2022-11-17T22:01:29.528Z"
   },
   {
    "duration": 10,
    "start_time": "2022-11-17T22:02:28.838Z"
   },
   {
    "duration": 2,
    "start_time": "2022-11-17T22:02:46.156Z"
   },
   {
    "duration": 94,
    "start_time": "2022-11-17T22:02:46.171Z"
   },
   {
    "duration": 28,
    "start_time": "2022-11-17T22:02:46.268Z"
   },
   {
    "duration": 17,
    "start_time": "2022-11-17T22:02:46.298Z"
   },
   {
    "duration": 2006,
    "start_time": "2022-11-17T22:02:46.317Z"
   },
   {
    "duration": 9,
    "start_time": "2022-11-17T22:02:48.326Z"
   },
   {
    "duration": 64,
    "start_time": "2022-11-17T22:02:48.337Z"
   },
   {
    "duration": 69,
    "start_time": "2022-11-17T22:02:48.403Z"
   },
   {
    "duration": 6,
    "start_time": "2022-11-17T22:04:49.669Z"
   },
   {
    "duration": 8,
    "start_time": "2022-11-17T22:05:21.971Z"
   },
   {
    "duration": 4,
    "start_time": "2022-11-17T22:05:50.820Z"
   },
   {
    "duration": 52,
    "start_time": "2022-11-17T22:08:21.117Z"
   },
   {
    "duration": 49,
    "start_time": "2022-11-17T22:08:37.767Z"
   },
   {
    "duration": 2,
    "start_time": "2022-11-17T22:08:44.278Z"
   },
   {
    "duration": 114,
    "start_time": "2022-11-17T22:08:44.282Z"
   },
   {
    "duration": 26,
    "start_time": "2022-11-17T22:08:44.398Z"
   },
   {
    "duration": 37,
    "start_time": "2022-11-17T22:08:44.425Z"
   },
   {
    "duration": 1985,
    "start_time": "2022-11-17T22:08:44.465Z"
   },
   {
    "duration": 6,
    "start_time": "2022-11-17T22:08:46.452Z"
   },
   {
    "duration": 65,
    "start_time": "2022-11-17T22:08:46.460Z"
   },
   {
    "duration": 47,
    "start_time": "2022-11-17T22:08:46.527Z"
   },
   {
    "duration": 6,
    "start_time": "2022-11-17T22:09:13.772Z"
   },
   {
    "duration": 49,
    "start_time": "2022-11-17T22:09:19.843Z"
   },
   {
    "duration": 6,
    "start_time": "2022-11-17T22:10:59.706Z"
   },
   {
    "duration": 50,
    "start_time": "2022-11-17T22:11:08.814Z"
   },
   {
    "duration": 5,
    "start_time": "2022-11-17T22:11:32.273Z"
   },
   {
    "duration": 6,
    "start_time": "2022-11-17T22:11:36.666Z"
   },
   {
    "duration": 47,
    "start_time": "2022-11-17T22:11:42.320Z"
   },
   {
    "duration": 8,
    "start_time": "2022-11-17T22:12:04.543Z"
   },
   {
    "duration": 8,
    "start_time": "2022-11-17T22:12:26.448Z"
   },
   {
    "duration": 9,
    "start_time": "2022-11-17T22:12:53.748Z"
   },
   {
    "duration": 37,
    "start_time": "2022-11-17T22:12:57.971Z"
   },
   {
    "duration": 9,
    "start_time": "2022-11-17T22:13:54.733Z"
   },
   {
    "duration": 32,
    "start_time": "2022-11-17T22:14:00.152Z"
   },
   {
    "duration": 47,
    "start_time": "2022-11-18T18:42:48.611Z"
   },
   {
    "duration": 387,
    "start_time": "2022-11-18T18:43:00.466Z"
   },
   {
    "duration": 319,
    "start_time": "2022-11-18T18:43:00.855Z"
   },
   {
    "duration": 35,
    "start_time": "2022-11-18T18:43:01.177Z"
   },
   {
    "duration": 16,
    "start_time": "2022-11-18T18:43:01.215Z"
   },
   {
    "duration": 2365,
    "start_time": "2022-11-18T18:43:01.233Z"
   },
   {
    "duration": 6,
    "start_time": "2022-11-18T18:43:03.600Z"
   },
   {
    "duration": 60,
    "start_time": "2022-11-18T18:43:03.607Z"
   },
   {
    "duration": 0,
    "start_time": "2022-11-18T18:43:03.668Z"
   },
   {
    "duration": 12,
    "start_time": "2022-11-18T18:43:46.459Z"
   },
   {
    "duration": 12,
    "start_time": "2022-11-18T18:52:02.526Z"
   },
   {
    "duration": 11,
    "start_time": "2022-11-18T18:53:00.078Z"
   },
   {
    "duration": 3,
    "start_time": "2022-11-18T18:53:31.401Z"
   },
   {
    "duration": 90,
    "start_time": "2022-11-18T18:53:31.413Z"
   },
   {
    "duration": 26,
    "start_time": "2022-11-18T18:53:31.505Z"
   },
   {
    "duration": 17,
    "start_time": "2022-11-18T18:53:31.533Z"
   },
   {
    "duration": 1913,
    "start_time": "2022-11-18T18:53:31.552Z"
   },
   {
    "duration": 4,
    "start_time": "2022-11-18T18:53:33.468Z"
   },
   {
    "duration": 25,
    "start_time": "2022-11-18T18:53:33.474Z"
   },
   {
    "duration": 27,
    "start_time": "2022-11-18T18:53:33.500Z"
   },
   {
    "duration": 8,
    "start_time": "2022-11-18T19:08:06.370Z"
   },
   {
    "duration": 3,
    "start_time": "2022-11-18T19:29:05.687Z"
   },
   {
    "duration": 93,
    "start_time": "2022-11-18T19:29:05.692Z"
   },
   {
    "duration": 26,
    "start_time": "2022-11-18T19:29:05.787Z"
   },
   {
    "duration": 15,
    "start_time": "2022-11-18T19:29:05.815Z"
   },
   {
    "duration": 2044,
    "start_time": "2022-11-18T19:29:05.832Z"
   },
   {
    "duration": 5,
    "start_time": "2022-11-18T19:29:07.878Z"
   },
   {
    "duration": 11,
    "start_time": "2022-11-18T19:29:07.896Z"
   },
   {
    "duration": 28,
    "start_time": "2022-11-18T19:29:07.909Z"
   },
   {
    "duration": 30,
    "start_time": "2022-11-18T19:31:58.920Z"
   },
   {
    "duration": 30,
    "start_time": "2022-11-18T19:33:09.752Z"
   },
   {
    "duration": 38,
    "start_time": "2022-11-18T19:33:13.896Z"
   },
   {
    "duration": 12,
    "start_time": "2022-11-18T19:35:26.645Z"
   },
   {
    "duration": 15,
    "start_time": "2022-11-18T19:36:33.643Z"
   },
   {
    "duration": 12,
    "start_time": "2022-11-18T19:36:41.538Z"
   },
   {
    "duration": 8,
    "start_time": "2022-11-18T19:36:46.778Z"
   },
   {
    "duration": 46,
    "start_time": "2022-11-18T19:36:51.885Z"
   },
   {
    "duration": 8,
    "start_time": "2022-11-18T19:36:57.126Z"
   },
   {
    "duration": 11,
    "start_time": "2022-11-18T19:49:41.030Z"
   },
   {
    "duration": 5,
    "start_time": "2022-11-18T19:51:28.994Z"
   },
   {
    "duration": 5,
    "start_time": "2022-11-18T19:51:41.108Z"
   },
   {
    "duration": 54,
    "start_time": "2022-11-18T20:34:13.107Z"
   },
   {
    "duration": 54,
    "start_time": "2022-11-18T20:34:24.981Z"
   },
   {
    "duration": 49,
    "start_time": "2022-11-18T20:49:15.527Z"
   },
   {
    "duration": 49,
    "start_time": "2022-11-18T20:49:25.410Z"
   },
   {
    "duration": 4,
    "start_time": "2022-11-18T21:43:48.958Z"
   },
   {
    "duration": 5,
    "start_time": "2022-11-18T21:44:11.501Z"
   },
   {
    "duration": 5,
    "start_time": "2022-11-18T21:44:21.174Z"
   },
   {
    "duration": 4,
    "start_time": "2022-11-18T21:44:38.273Z"
   },
   {
    "duration": 104,
    "start_time": "2022-11-18T21:44:38.279Z"
   },
   {
    "duration": 27,
    "start_time": "2022-11-18T21:44:38.385Z"
   },
   {
    "duration": 17,
    "start_time": "2022-11-18T21:44:38.414Z"
   },
   {
    "duration": 1904,
    "start_time": "2022-11-18T21:44:38.433Z"
   },
   {
    "duration": 7,
    "start_time": "2022-11-18T21:44:40.339Z"
   },
   {
    "duration": 9,
    "start_time": "2022-11-18T21:44:40.348Z"
   },
   {
    "duration": 7,
    "start_time": "2022-11-18T21:44:40.359Z"
   },
   {
    "duration": 73,
    "start_time": "2022-11-18T21:44:40.367Z"
   },
   {
    "duration": 5,
    "start_time": "2022-11-18T21:44:58.397Z"
   },
   {
    "duration": 5,
    "start_time": "2022-11-18T21:58:22.213Z"
   },
   {
    "duration": 7,
    "start_time": "2022-11-18T21:58:42.253Z"
   },
   {
    "duration": 8,
    "start_time": "2022-11-18T21:59:18.551Z"
   },
   {
    "duration": 53,
    "start_time": "2022-11-18T22:00:04.463Z"
   },
   {
    "duration": 36,
    "start_time": "2022-11-18T22:00:35.446Z"
   },
   {
    "duration": 63,
    "start_time": "2022-11-18T22:08:01.089Z"
   },
   {
    "duration": 33,
    "start_time": "2022-11-18T22:08:18.467Z"
   },
   {
    "duration": 50,
    "start_time": "2022-11-18T22:10:02.195Z"
   },
   {
    "duration": 154,
    "start_time": "2022-11-18T22:10:43.604Z"
   },
   {
    "duration": 57,
    "start_time": "2022-11-18T22:11:37.130Z"
   },
   {
    "duration": 39,
    "start_time": "2022-11-18T22:12:01.619Z"
   },
   {
    "duration": 45,
    "start_time": "2022-11-18T22:12:29.004Z"
   },
   {
    "duration": 39,
    "start_time": "2022-11-18T22:12:39.425Z"
   },
   {
    "duration": 35,
    "start_time": "2022-11-18T22:16:32.571Z"
   },
   {
    "duration": 74,
    "start_time": "2022-11-18T22:17:31.841Z"
   },
   {
    "duration": 103,
    "start_time": "2022-11-18T22:18:50.597Z"
   },
   {
    "duration": 110,
    "start_time": "2022-11-18T22:19:03.188Z"
   },
   {
    "duration": 66,
    "start_time": "2022-11-18T22:21:09.801Z"
   },
   {
    "duration": 48,
    "start_time": "2022-11-18T22:21:58.032Z"
   },
   {
    "duration": 79,
    "start_time": "2022-11-18T22:22:35.562Z"
   },
   {
    "duration": 99,
    "start_time": "2022-11-18T22:22:48.810Z"
   },
   {
    "duration": 116,
    "start_time": "2022-11-18T22:24:32.090Z"
   },
   {
    "duration": 125,
    "start_time": "2022-11-18T22:25:25.810Z"
   },
   {
    "duration": 56,
    "start_time": "2022-11-18T22:26:24.605Z"
   },
   {
    "duration": 64,
    "start_time": "2022-11-18T22:33:28.660Z"
   },
   {
    "duration": 41,
    "start_time": "2022-11-18T22:34:28.450Z"
   },
   {
    "duration": 3,
    "start_time": "2022-11-18T22:34:34.034Z"
   },
   {
    "duration": 92,
    "start_time": "2022-11-18T22:34:34.039Z"
   },
   {
    "duration": 27,
    "start_time": "2022-11-18T22:34:34.133Z"
   },
   {
    "duration": 34,
    "start_time": "2022-11-18T22:34:34.162Z"
   },
   {
    "duration": 1941,
    "start_time": "2022-11-18T22:34:34.199Z"
   },
   {
    "duration": 5,
    "start_time": "2022-11-18T22:34:36.142Z"
   },
   {
    "duration": 47,
    "start_time": "2022-11-18T22:34:36.149Z"
   },
   {
    "duration": 0,
    "start_time": "2022-11-18T22:34:36.198Z"
   },
   {
    "duration": 0,
    "start_time": "2022-11-18T22:34:36.199Z"
   },
   {
    "duration": 0,
    "start_time": "2022-11-18T22:34:36.200Z"
   },
   {
    "duration": 3,
    "start_time": "2022-11-18T22:34:54.117Z"
   },
   {
    "duration": 784,
    "start_time": "2022-11-18T22:35:10.964Z"
   },
   {
    "duration": 688,
    "start_time": "2022-11-18T22:35:45.331Z"
   },
   {
    "duration": 684,
    "start_time": "2022-11-18T22:35:55.235Z"
   },
   {
    "duration": 722,
    "start_time": "2022-11-18T22:37:11.073Z"
   },
   {
    "duration": 3,
    "start_time": "2022-11-18T22:37:22.485Z"
   },
   {
    "duration": 95,
    "start_time": "2022-11-18T22:37:22.490Z"
   },
   {
    "duration": 28,
    "start_time": "2022-11-18T22:37:22.586Z"
   },
   {
    "duration": 20,
    "start_time": "2022-11-18T22:37:22.616Z"
   },
   {
    "duration": 1986,
    "start_time": "2022-11-18T22:37:22.638Z"
   },
   {
    "duration": 4,
    "start_time": "2022-11-18T22:37:24.626Z"
   },
   {
    "duration": 693,
    "start_time": "2022-11-18T22:37:24.632Z"
   },
   {
    "duration": 0,
    "start_time": "2022-11-18T22:37:25.327Z"
   },
   {
    "duration": 0,
    "start_time": "2022-11-18T22:37:25.328Z"
   },
   {
    "duration": 0,
    "start_time": "2022-11-18T22:37:25.329Z"
   },
   {
    "duration": 4,
    "start_time": "2022-11-18T22:41:17.126Z"
   },
   {
    "duration": 669,
    "start_time": "2022-11-18T22:44:22.481Z"
   },
   {
    "duration": 633,
    "start_time": "2022-11-18T22:44:40.228Z"
   },
   {
    "duration": 3,
    "start_time": "2022-11-18T22:44:48.177Z"
   },
   {
    "duration": 87,
    "start_time": "2022-11-18T22:44:48.182Z"
   },
   {
    "duration": 27,
    "start_time": "2022-11-18T22:44:48.271Z"
   },
   {
    "duration": 15,
    "start_time": "2022-11-18T22:44:48.299Z"
   },
   {
    "duration": 2005,
    "start_time": "2022-11-18T22:44:48.316Z"
   },
   {
    "duration": 5,
    "start_time": "2022-11-18T22:44:50.323Z"
   },
   {
    "duration": 999,
    "start_time": "2022-11-18T22:44:50.330Z"
   },
   {
    "duration": 0,
    "start_time": "2022-11-18T22:44:51.331Z"
   },
   {
    "duration": 1,
    "start_time": "2022-11-18T22:44:51.332Z"
   },
   {
    "duration": 0,
    "start_time": "2022-11-18T22:44:51.334Z"
   },
   {
    "duration": 688,
    "start_time": "2022-11-18T22:47:45.350Z"
   },
   {
    "duration": 16,
    "start_time": "2022-11-18T22:48:15.612Z"
   },
   {
    "duration": 21,
    "start_time": "2022-11-18T22:51:18.166Z"
   },
   {
    "duration": 24,
    "start_time": "2022-11-18T22:51:39.318Z"
   },
   {
    "duration": 18,
    "start_time": "2022-11-18T22:54:33.975Z"
   },
   {
    "duration": 23,
    "start_time": "2022-11-18T22:54:55.890Z"
   },
   {
    "duration": 16,
    "start_time": "2022-11-18T22:55:38.207Z"
   },
   {
    "duration": 22,
    "start_time": "2022-11-18T22:55:53.589Z"
   },
   {
    "duration": 27,
    "start_time": "2022-11-18T22:56:03.587Z"
   },
   {
    "duration": 2,
    "start_time": "2022-11-18T22:56:59.833Z"
   },
   {
    "duration": 96,
    "start_time": "2022-11-18T22:56:59.837Z"
   },
   {
    "duration": 25,
    "start_time": "2022-11-18T22:56:59.934Z"
   },
   {
    "duration": 17,
    "start_time": "2022-11-18T22:56:59.961Z"
   },
   {
    "duration": 1955,
    "start_time": "2022-11-18T22:56:59.980Z"
   },
   {
    "duration": 3,
    "start_time": "2022-11-18T22:57:01.937Z"
   },
   {
    "duration": 28,
    "start_time": "2022-11-18T22:57:01.942Z"
   },
   {
    "duration": 5,
    "start_time": "2022-11-18T22:57:01.972Z"
   },
   {
    "duration": 7,
    "start_time": "2022-11-18T22:57:01.997Z"
   },
   {
    "duration": 49,
    "start_time": "2022-11-18T22:57:02.006Z"
   },
   {
    "duration": 15,
    "start_time": "2022-11-18T22:57:52.308Z"
   },
   {
    "duration": 18,
    "start_time": "2022-11-18T22:58:05.600Z"
   },
   {
    "duration": 16,
    "start_time": "2022-11-18T22:58:29.832Z"
   },
   {
    "duration": 53,
    "start_time": "2022-11-18T22:58:41.908Z"
   },
   {
    "duration": 17,
    "start_time": "2022-11-18T22:59:08.755Z"
   },
   {
    "duration": 45,
    "start_time": "2022-11-18T22:59:14.351Z"
   },
   {
    "duration": 12,
    "start_time": "2022-11-18T23:00:32.400Z"
   },
   {
    "duration": 4,
    "start_time": "2022-11-18T23:00:41.345Z"
   },
   {
    "duration": 5,
    "start_time": "2022-11-18T23:00:53.683Z"
   },
   {
    "duration": 18,
    "start_time": "2022-11-18T23:01:05.500Z"
   },
   {
    "duration": 3,
    "start_time": "2022-11-18T23:01:28.484Z"
   },
   {
    "duration": 11,
    "start_time": "2022-11-18T23:01:41.003Z"
   },
   {
    "duration": 16,
    "start_time": "2022-11-18T23:01:58.533Z"
   },
   {
    "duration": 2,
    "start_time": "2022-11-18T23:02:03.391Z"
   },
   {
    "duration": 104,
    "start_time": "2022-11-18T23:02:03.396Z"
   },
   {
    "duration": 25,
    "start_time": "2022-11-18T23:02:03.502Z"
   },
   {
    "duration": 53,
    "start_time": "2022-11-18T23:02:03.530Z"
   },
   {
    "duration": 2072,
    "start_time": "2022-11-18T23:02:03.585Z"
   },
   {
    "duration": 5,
    "start_time": "2022-11-18T23:02:05.658Z"
   },
   {
    "duration": 28,
    "start_time": "2022-11-18T23:02:05.665Z"
   },
   {
    "duration": 5,
    "start_time": "2022-11-18T23:02:05.695Z"
   },
   {
    "duration": 10,
    "start_time": "2022-11-18T23:02:05.702Z"
   },
   {
    "duration": 49,
    "start_time": "2022-11-18T23:02:05.715Z"
   },
   {
    "duration": 47,
    "start_time": "2022-11-19T14:00:50.302Z"
   },
   {
    "duration": 8,
    "start_time": "2022-11-19T14:08:11.345Z"
   },
   {
    "duration": 376,
    "start_time": "2022-11-19T14:08:24.747Z"
   },
   {
    "duration": 312,
    "start_time": "2022-11-19T14:08:25.125Z"
   },
   {
    "duration": 31,
    "start_time": "2022-11-19T14:08:25.439Z"
   },
   {
    "duration": 15,
    "start_time": "2022-11-19T14:08:25.471Z"
   },
   {
    "duration": 2412,
    "start_time": "2022-11-19T14:08:25.488Z"
   },
   {
    "duration": 9,
    "start_time": "2022-11-19T14:08:27.902Z"
   },
   {
    "duration": 18,
    "start_time": "2022-11-19T14:08:27.913Z"
   },
   {
    "duration": 5,
    "start_time": "2022-11-19T14:08:27.932Z"
   },
   {
    "duration": 18,
    "start_time": "2022-11-19T14:08:27.939Z"
   },
   {
    "duration": 61,
    "start_time": "2022-11-19T14:08:27.959Z"
   },
   {
    "duration": 39,
    "start_time": "2022-11-19T14:11:32.295Z"
   },
   {
    "duration": 16,
    "start_time": "2022-11-19T14:11:42.288Z"
   },
   {
    "duration": 2,
    "start_time": "2022-11-19T14:16:16.316Z"
   },
   {
    "duration": 2,
    "start_time": "2022-11-19T14:16:44.427Z"
   },
   {
    "duration": 686,
    "start_time": "2022-11-19T14:17:48.623Z"
   },
   {
    "duration": 18,
    "start_time": "2022-11-19T14:18:01.569Z"
   },
   {
    "duration": 63,
    "start_time": "2022-11-19T14:25:00.989Z"
   },
   {
    "duration": 16,
    "start_time": "2022-11-19T14:25:23.779Z"
   },
   {
    "duration": 17,
    "start_time": "2022-11-19T14:25:59.728Z"
   },
   {
    "duration": 15,
    "start_time": "2022-11-19T14:26:10.525Z"
   },
   {
    "duration": 15,
    "start_time": "2022-11-19T14:26:19.439Z"
   },
   {
    "duration": 25,
    "start_time": "2022-11-19T15:09:56.462Z"
   },
   {
    "duration": 16,
    "start_time": "2022-11-19T15:21:12.727Z"
   },
   {
    "duration": 18,
    "start_time": "2022-11-19T15:21:22.461Z"
   },
   {
    "duration": 16,
    "start_time": "2022-11-19T15:25:20.623Z"
   },
   {
    "duration": 19,
    "start_time": "2022-11-19T17:13:48.036Z"
   },
   {
    "duration": 38,
    "start_time": "2022-11-19T17:18:38.683Z"
   },
   {
    "duration": 20,
    "start_time": "2022-11-19T17:18:59.424Z"
   },
   {
    "duration": 3,
    "start_time": "2022-11-19T17:19:09.077Z"
   },
   {
    "duration": 203,
    "start_time": "2022-11-19T17:19:09.083Z"
   },
   {
    "duration": 31,
    "start_time": "2022-11-19T17:19:09.289Z"
   },
   {
    "duration": 32,
    "start_time": "2022-11-19T17:19:09.322Z"
   },
   {
    "duration": 1912,
    "start_time": "2022-11-19T17:19:09.356Z"
   },
   {
    "duration": 8,
    "start_time": "2022-11-19T17:19:11.270Z"
   },
   {
    "duration": 16,
    "start_time": "2022-11-19T17:19:11.280Z"
   },
   {
    "duration": 37,
    "start_time": "2022-11-19T17:19:11.297Z"
   },
   {
    "duration": 7,
    "start_time": "2022-11-19T17:19:11.336Z"
   },
   {
    "duration": 12,
    "start_time": "2022-11-19T17:19:11.344Z"
   },
   {
    "duration": 60,
    "start_time": "2022-11-19T17:19:11.358Z"
   },
   {
    "duration": 20,
    "start_time": "2022-11-19T17:28:32.492Z"
   },
   {
    "duration": 3,
    "start_time": "2022-11-19T17:28:36.890Z"
   },
   {
    "duration": 118,
    "start_time": "2022-11-19T17:28:36.894Z"
   },
   {
    "duration": 33,
    "start_time": "2022-11-19T17:28:37.014Z"
   },
   {
    "duration": 17,
    "start_time": "2022-11-19T17:28:37.049Z"
   },
   {
    "duration": 1939,
    "start_time": "2022-11-19T17:28:37.068Z"
   },
   {
    "duration": 10,
    "start_time": "2022-11-19T17:28:39.010Z"
   },
   {
    "duration": 31,
    "start_time": "2022-11-19T17:28:39.022Z"
   },
   {
    "duration": 27,
    "start_time": "2022-11-19T17:28:39.056Z"
   },
   {
    "duration": 7,
    "start_time": "2022-11-19T17:28:39.085Z"
   },
   {
    "duration": 31,
    "start_time": "2022-11-19T17:28:39.094Z"
   },
   {
    "duration": 57,
    "start_time": "2022-11-19T17:28:39.127Z"
   },
   {
    "duration": 3,
    "start_time": "2022-11-19T17:28:48.833Z"
   },
   {
    "duration": 87,
    "start_time": "2022-11-19T17:28:51.052Z"
   },
   {
    "duration": 38,
    "start_time": "2022-11-19T17:28:52.849Z"
   },
   {
    "duration": 23,
    "start_time": "2022-11-19T17:28:55.848Z"
   },
   {
    "duration": 7,
    "start_time": "2022-11-19T17:29:00.219Z"
   },
   {
    "duration": 19,
    "start_time": "2022-11-19T17:29:02.399Z"
   },
   {
    "duration": 3,
    "start_time": "2022-11-19T17:29:49.927Z"
   },
   {
    "duration": 18,
    "start_time": "2022-11-19T17:30:37.553Z"
   },
   {
    "duration": 29,
    "start_time": "2022-11-19T17:34:04.737Z"
   },
   {
    "duration": 23,
    "start_time": "2022-11-19T17:44:18.718Z"
   },
   {
    "duration": 35,
    "start_time": "2022-11-19T17:44:32.844Z"
   },
   {
    "duration": 35,
    "start_time": "2022-11-19T17:44:46.310Z"
   },
   {
    "duration": 40,
    "start_time": "2022-11-19T17:44:50.073Z"
   },
   {
    "duration": 42,
    "start_time": "2022-11-19T18:03:10.845Z"
   },
   {
    "duration": 20,
    "start_time": "2022-11-19T18:25:36.044Z"
   },
   {
    "duration": 21,
    "start_time": "2022-11-19T18:26:06.262Z"
   },
   {
    "duration": 18,
    "start_time": "2022-11-19T18:26:09.095Z"
   },
   {
    "duration": 27,
    "start_time": "2022-11-19T18:28:00.106Z"
   },
   {
    "duration": 69,
    "start_time": "2022-11-19T18:29:15.591Z"
   },
   {
    "duration": 16,
    "start_time": "2022-11-19T18:29:40.227Z"
   },
   {
    "duration": 69,
    "start_time": "2022-11-19T18:30:01.466Z"
   },
   {
    "duration": 73,
    "start_time": "2022-11-19T18:30:29.110Z"
   },
   {
    "duration": 79,
    "start_time": "2022-11-19T18:30:43.721Z"
   },
   {
    "duration": 73,
    "start_time": "2022-11-19T18:33:20.074Z"
   },
   {
    "duration": 82,
    "start_time": "2022-11-19T18:34:11.929Z"
   },
   {
    "duration": 72,
    "start_time": "2022-11-19T18:34:25.007Z"
   },
   {
    "duration": 3,
    "start_time": "2022-11-19T18:34:29.413Z"
   },
   {
    "duration": 95,
    "start_time": "2022-11-19T18:34:29.418Z"
   },
   {
    "duration": 24,
    "start_time": "2022-11-19T18:34:29.515Z"
   },
   {
    "duration": 15,
    "start_time": "2022-11-19T18:34:29.541Z"
   },
   {
    "duration": 1930,
    "start_time": "2022-11-19T18:34:29.558Z"
   },
   {
    "duration": 7,
    "start_time": "2022-11-19T18:34:31.489Z"
   },
   {
    "duration": 25,
    "start_time": "2022-11-19T18:34:31.498Z"
   },
   {
    "duration": 18,
    "start_time": "2022-11-19T18:34:31.525Z"
   },
   {
    "duration": 85,
    "start_time": "2022-11-19T18:34:31.545Z"
   },
   {
    "duration": 19,
    "start_time": "2022-11-19T18:34:31.632Z"
   },
   {
    "duration": 7,
    "start_time": "2022-11-19T18:34:31.652Z"
   },
   {
    "duration": 15,
    "start_time": "2022-11-19T18:34:31.661Z"
   },
   {
    "duration": 60,
    "start_time": "2022-11-19T18:34:31.678Z"
   },
   {
    "duration": 72,
    "start_time": "2022-11-19T18:35:55.659Z"
   },
   {
    "duration": 77,
    "start_time": "2022-11-19T18:37:40.893Z"
   },
   {
    "duration": 43,
    "start_time": "2022-11-19T18:37:53.155Z"
   },
   {
    "duration": 46,
    "start_time": "2022-11-19T18:38:01.062Z"
   },
   {
    "duration": 45,
    "start_time": "2022-11-19T18:38:04.712Z"
   },
   {
    "duration": 57,
    "start_time": "2022-11-19T18:38:09.382Z"
   },
   {
    "duration": 20,
    "start_time": "2022-11-19T18:38:15.480Z"
   },
   {
    "duration": 51,
    "start_time": "2022-11-19T18:38:21.586Z"
   },
   {
    "duration": 64,
    "start_time": "2022-11-19T18:43:11.554Z"
   },
   {
    "duration": 73,
    "start_time": "2022-11-19T19:01:28.221Z"
   },
   {
    "duration": 68,
    "start_time": "2022-11-19T19:01:39.381Z"
   },
   {
    "duration": 2,
    "start_time": "2022-11-19T19:01:45.286Z"
   },
   {
    "duration": 111,
    "start_time": "2022-11-19T19:01:45.295Z"
   },
   {
    "duration": 25,
    "start_time": "2022-11-19T19:01:45.408Z"
   },
   {
    "duration": 30,
    "start_time": "2022-11-19T19:01:45.434Z"
   },
   {
    "duration": 1918,
    "start_time": "2022-11-19T19:01:45.466Z"
   },
   {
    "duration": 8,
    "start_time": "2022-11-19T19:01:47.386Z"
   },
   {
    "duration": 24,
    "start_time": "2022-11-19T19:01:47.395Z"
   },
   {
    "duration": 18,
    "start_time": "2022-11-19T19:01:47.421Z"
   },
   {
    "duration": 87,
    "start_time": "2022-11-19T19:01:47.441Z"
   },
   {
    "duration": 19,
    "start_time": "2022-11-19T19:01:47.531Z"
   },
   {
    "duration": 5,
    "start_time": "2022-11-19T19:01:47.552Z"
   },
   {
    "duration": 15,
    "start_time": "2022-11-19T19:01:47.559Z"
   },
   {
    "duration": 64,
    "start_time": "2022-11-19T19:01:47.575Z"
   },
   {
    "duration": 77,
    "start_time": "2022-11-19T19:02:10.481Z"
   },
   {
    "duration": 80,
    "start_time": "2022-11-19T19:02:26.924Z"
   },
   {
    "duration": 20,
    "start_time": "2022-11-19T19:02:27.782Z"
   },
   {
    "duration": 5,
    "start_time": "2022-11-19T19:02:29.550Z"
   },
   {
    "duration": 6,
    "start_time": "2022-11-19T19:02:32.808Z"
   },
   {
    "duration": 46,
    "start_time": "2022-11-19T19:02:35.204Z"
   },
   {
    "duration": 2,
    "start_time": "2022-11-19T19:02:41.071Z"
   },
   {
    "duration": 103,
    "start_time": "2022-11-19T19:02:41.075Z"
   },
   {
    "duration": 35,
    "start_time": "2022-11-19T19:02:41.180Z"
   },
   {
    "duration": 14,
    "start_time": "2022-11-19T19:02:41.217Z"
   },
   {
    "duration": 1784,
    "start_time": "2022-11-19T19:02:41.233Z"
   },
   {
    "duration": 6,
    "start_time": "2022-11-19T19:02:43.019Z"
   },
   {
    "duration": 42,
    "start_time": "2022-11-19T19:02:43.027Z"
   },
   {
    "duration": 24,
    "start_time": "2022-11-19T19:02:43.071Z"
   },
   {
    "duration": 98,
    "start_time": "2022-11-19T19:02:43.097Z"
   },
   {
    "duration": 150,
    "start_time": "2022-11-19T19:02:43.197Z"
   },
   {
    "duration": 5,
    "start_time": "2022-11-19T19:02:43.348Z"
   },
   {
    "duration": 11,
    "start_time": "2022-11-19T19:02:43.355Z"
   },
   {
    "duration": 56,
    "start_time": "2022-11-19T19:02:43.368Z"
   },
   {
    "duration": 68,
    "start_time": "2022-11-19T19:03:26.725Z"
   },
   {
    "duration": 69,
    "start_time": "2022-11-19T19:18:40.129Z"
   },
   {
    "duration": 79,
    "start_time": "2022-11-19T19:21:02.631Z"
   },
   {
    "duration": 81,
    "start_time": "2022-11-19T19:21:53.151Z"
   },
   {
    "duration": 71,
    "start_time": "2022-11-19T19:21:57.913Z"
   },
   {
    "duration": 47,
    "start_time": "2022-11-19T19:22:09.686Z"
   },
   {
    "duration": 72,
    "start_time": "2022-11-19T19:22:17.712Z"
   },
   {
    "duration": 72,
    "start_time": "2022-11-19T19:22:27.216Z"
   },
   {
    "duration": 79,
    "start_time": "2022-11-19T19:24:42.887Z"
   },
   {
    "duration": 81,
    "start_time": "2022-11-19T19:29:50.187Z"
   },
   {
    "duration": 84,
    "start_time": "2022-11-19T19:31:58.541Z"
   },
   {
    "duration": 56,
    "start_time": "2022-11-19T19:48:28.563Z"
   },
   {
    "duration": 20,
    "start_time": "2022-11-19T19:49:57.506Z"
   },
   {
    "duration": 20,
    "start_time": "2022-11-19T19:50:30.280Z"
   },
   {
    "duration": 4,
    "start_time": "2022-11-19T19:50:37.567Z"
   },
   {
    "duration": 15,
    "start_time": "2022-11-19T19:50:47.233Z"
   },
   {
    "duration": 20,
    "start_time": "2022-11-19T19:50:55.794Z"
   },
   {
    "duration": 2,
    "start_time": "2022-11-19T19:51:09.556Z"
   },
   {
    "duration": 92,
    "start_time": "2022-11-19T19:51:09.560Z"
   },
   {
    "duration": 23,
    "start_time": "2022-11-19T19:51:09.654Z"
   },
   {
    "duration": 17,
    "start_time": "2022-11-19T19:51:09.678Z"
   },
   {
    "duration": 1753,
    "start_time": "2022-11-19T19:51:09.698Z"
   },
   {
    "duration": 6,
    "start_time": "2022-11-19T19:51:11.453Z"
   },
   {
    "duration": 33,
    "start_time": "2022-11-19T19:51:11.461Z"
   },
   {
    "duration": 44,
    "start_time": "2022-11-19T19:51:11.496Z"
   },
   {
    "duration": 76,
    "start_time": "2022-11-19T19:51:11.542Z"
   },
   {
    "duration": 19,
    "start_time": "2022-11-19T19:51:11.620Z"
   },
   {
    "duration": 5,
    "start_time": "2022-11-19T19:51:11.641Z"
   },
   {
    "duration": 38,
    "start_time": "2022-11-19T19:51:11.648Z"
   },
   {
    "duration": 53,
    "start_time": "2022-11-19T19:51:11.687Z"
   },
   {
    "duration": 47,
    "start_time": "2022-11-19T19:58:50.229Z"
   },
   {
    "duration": 15,
    "start_time": "2022-11-19T19:59:29.541Z"
   },
   {
    "duration": 33,
    "start_time": "2022-11-19T20:00:18.948Z"
   },
   {
    "duration": 30,
    "start_time": "2022-11-19T20:00:31.913Z"
   },
   {
    "duration": 14,
    "start_time": "2022-11-19T20:00:57.549Z"
   },
   {
    "duration": 30,
    "start_time": "2022-11-19T20:01:38.106Z"
   },
   {
    "duration": 32,
    "start_time": "2022-11-19T20:01:45.360Z"
   },
   {
    "duration": 7,
    "start_time": "2022-11-19T20:02:53.822Z"
   },
   {
    "duration": 3,
    "start_time": "2022-11-19T20:11:42.122Z"
   },
   {
    "duration": 92,
    "start_time": "2022-11-19T20:11:42.127Z"
   },
   {
    "duration": 25,
    "start_time": "2022-11-19T20:11:42.220Z"
   },
   {
    "duration": 16,
    "start_time": "2022-11-19T20:11:42.247Z"
   },
   {
    "duration": 1916,
    "start_time": "2022-11-19T20:11:42.265Z"
   },
   {
    "duration": 7,
    "start_time": "2022-11-19T20:11:44.183Z"
   },
   {
    "duration": 28,
    "start_time": "2022-11-19T20:11:44.191Z"
   },
   {
    "duration": 16,
    "start_time": "2022-11-19T20:11:44.220Z"
   },
   {
    "duration": 49,
    "start_time": "2022-11-19T20:11:44.237Z"
   },
   {
    "duration": 6,
    "start_time": "2022-11-19T20:11:44.287Z"
   },
   {
    "duration": 30,
    "start_time": "2022-11-19T20:11:44.295Z"
   },
   {
    "duration": 31,
    "start_time": "2022-11-19T20:11:44.326Z"
   },
   {
    "duration": 12,
    "start_time": "2022-11-19T20:15:14.221Z"
   },
   {
    "duration": 11,
    "start_time": "2022-11-19T20:15:46.606Z"
   },
   {
    "duration": 17,
    "start_time": "2022-11-19T20:15:48.375Z"
   },
   {
    "duration": 11,
    "start_time": "2022-11-19T20:16:43.844Z"
   },
   {
    "duration": 3,
    "start_time": "2022-11-19T20:16:48.093Z"
   },
   {
    "duration": 117,
    "start_time": "2022-11-19T20:16:48.098Z"
   },
   {
    "duration": 25,
    "start_time": "2022-11-19T20:16:48.217Z"
   },
   {
    "duration": 40,
    "start_time": "2022-11-19T20:16:48.244Z"
   },
   {
    "duration": 1855,
    "start_time": "2022-11-19T20:16:48.286Z"
   },
   {
    "duration": 7,
    "start_time": "2022-11-19T20:16:50.143Z"
   },
   {
    "duration": 45,
    "start_time": "2022-11-19T20:16:50.151Z"
   },
   {
    "duration": 47,
    "start_time": "2022-11-19T20:16:50.197Z"
   },
   {
    "duration": 57,
    "start_time": "2022-11-19T20:16:50.245Z"
   },
   {
    "duration": 10,
    "start_time": "2022-11-19T20:16:50.304Z"
   },
   {
    "duration": 41,
    "start_time": "2022-11-19T20:16:50.316Z"
   },
   {
    "duration": 44,
    "start_time": "2022-11-19T20:16:50.359Z"
   },
   {
    "duration": 11,
    "start_time": "2022-11-19T20:18:19.495Z"
   },
   {
    "duration": 14,
    "start_time": "2022-11-19T20:18:30.743Z"
   },
   {
    "duration": 21,
    "start_time": "2022-11-19T20:18:48.843Z"
   },
   {
    "duration": 45,
    "start_time": "2022-11-19T20:18:59.150Z"
   },
   {
    "duration": 60,
    "start_time": "2022-11-19T20:19:12.516Z"
   },
   {
    "duration": 49,
    "start_time": "2022-11-19T20:19:18.242Z"
   },
   {
    "duration": 41,
    "start_time": "2022-11-19T20:19:26.628Z"
   },
   {
    "duration": 3,
    "start_time": "2022-11-19T20:19:30.191Z"
   },
   {
    "duration": 96,
    "start_time": "2022-11-19T20:19:30.197Z"
   },
   {
    "duration": 25,
    "start_time": "2022-11-19T20:19:30.294Z"
   },
   {
    "duration": 30,
    "start_time": "2022-11-19T20:19:30.321Z"
   },
   {
    "duration": 1885,
    "start_time": "2022-11-19T20:19:30.353Z"
   },
   {
    "duration": 7,
    "start_time": "2022-11-19T20:19:32.239Z"
   },
   {
    "duration": 14,
    "start_time": "2022-11-19T20:19:32.248Z"
   },
   {
    "duration": 17,
    "start_time": "2022-11-19T20:19:32.264Z"
   },
   {
    "duration": 73,
    "start_time": "2022-11-19T20:19:32.283Z"
   },
   {
    "duration": 6,
    "start_time": "2022-11-19T20:19:32.358Z"
   },
   {
    "duration": 49,
    "start_time": "2022-11-19T20:19:32.365Z"
   },
   {
    "duration": 0,
    "start_time": "2022-11-19T20:19:32.416Z"
   },
   {
    "duration": 52,
    "start_time": "2022-11-19T20:20:47.420Z"
   },
   {
    "duration": 31,
    "start_time": "2022-11-19T20:21:09.242Z"
   },
   {
    "duration": 47,
    "start_time": "2022-11-19T20:21:14.682Z"
   },
   {
    "duration": 49,
    "start_time": "2022-11-19T20:22:30.713Z"
   },
   {
    "duration": 46,
    "start_time": "2022-11-19T20:22:33.898Z"
   },
   {
    "duration": 63,
    "start_time": "2022-11-19T20:24:39.111Z"
   },
   {
    "duration": 48,
    "start_time": "2022-11-19T20:24:42.460Z"
   },
   {
    "duration": 50,
    "start_time": "2022-11-19T20:24:46.497Z"
   },
   {
    "duration": 3,
    "start_time": "2022-11-19T20:24:50.097Z"
   },
   {
    "duration": 96,
    "start_time": "2022-11-19T20:24:50.102Z"
   },
   {
    "duration": 25,
    "start_time": "2022-11-19T20:24:50.199Z"
   },
   {
    "duration": 16,
    "start_time": "2022-11-19T20:24:50.225Z"
   },
   {
    "duration": 1906,
    "start_time": "2022-11-19T20:24:50.243Z"
   },
   {
    "duration": 9,
    "start_time": "2022-11-19T20:24:52.151Z"
   },
   {
    "duration": 24,
    "start_time": "2022-11-19T20:24:52.162Z"
   },
   {
    "duration": 17,
    "start_time": "2022-11-19T20:24:52.188Z"
   },
   {
    "duration": 48,
    "start_time": "2022-11-19T20:24:52.216Z"
   },
   {
    "duration": 7,
    "start_time": "2022-11-19T20:24:52.266Z"
   },
   {
    "duration": 68,
    "start_time": "2022-11-19T20:24:52.274Z"
   },
   {
    "duration": 30,
    "start_time": "2022-11-19T20:24:52.344Z"
   },
   {
    "duration": 47,
    "start_time": "2022-11-19T20:25:09.327Z"
   },
   {
    "duration": 46,
    "start_time": "2022-11-19T20:25:31.951Z"
   },
   {
    "duration": 43,
    "start_time": "2022-11-19T20:25:39.738Z"
   },
   {
    "duration": 3,
    "start_time": "2022-11-19T20:26:02.394Z"
   },
   {
    "duration": 97,
    "start_time": "2022-11-19T20:26:02.399Z"
   },
   {
    "duration": 26,
    "start_time": "2022-11-19T20:26:02.497Z"
   },
   {
    "duration": 14,
    "start_time": "2022-11-19T20:26:02.525Z"
   },
   {
    "duration": 1772,
    "start_time": "2022-11-19T20:26:02.541Z"
   },
   {
    "duration": 6,
    "start_time": "2022-11-19T20:26:04.315Z"
   },
   {
    "duration": 17,
    "start_time": "2022-11-19T20:26:04.323Z"
   },
   {
    "duration": 16,
    "start_time": "2022-11-19T20:26:04.342Z"
   },
   {
    "duration": 72,
    "start_time": "2022-11-19T20:26:04.359Z"
   },
   {
    "duration": 7,
    "start_time": "2022-11-19T20:26:04.432Z"
   },
   {
    "duration": 45,
    "start_time": "2022-11-19T20:26:04.441Z"
   },
   {
    "duration": 52,
    "start_time": "2022-11-19T20:26:04.488Z"
   },
   {
    "duration": 30,
    "start_time": "2022-11-19T20:27:05.711Z"
   },
   {
    "duration": 32,
    "start_time": "2022-11-19T20:27:40.101Z"
   },
   {
    "duration": 51,
    "start_time": "2022-11-19T20:28:10.314Z"
   },
   {
    "duration": 37,
    "start_time": "2022-11-19T20:28:19.694Z"
   },
   {
    "duration": 47,
    "start_time": "2022-11-19T20:43:59.768Z"
   },
   {
    "duration": 30,
    "start_time": "2022-11-19T20:46:20.404Z"
   },
   {
    "duration": 18,
    "start_time": "2022-11-19T20:54:43.177Z"
   },
   {
    "duration": 20,
    "start_time": "2022-11-19T20:54:50.569Z"
   },
   {
    "duration": 3,
    "start_time": "2022-11-19T20:55:00.813Z"
   },
   {
    "duration": 116,
    "start_time": "2022-11-19T20:55:00.819Z"
   },
   {
    "duration": 25,
    "start_time": "2022-11-19T20:55:00.936Z"
   },
   {
    "duration": 24,
    "start_time": "2022-11-19T20:55:00.963Z"
   },
   {
    "duration": 1970,
    "start_time": "2022-11-19T20:55:00.989Z"
   },
   {
    "duration": 7,
    "start_time": "2022-11-19T20:55:02.960Z"
   },
   {
    "duration": 21,
    "start_time": "2022-11-19T20:55:02.968Z"
   },
   {
    "duration": 29,
    "start_time": "2022-11-19T20:55:02.991Z"
   },
   {
    "duration": 51,
    "start_time": "2022-11-19T20:55:03.021Z"
   },
   {
    "duration": 6,
    "start_time": "2022-11-19T20:55:03.073Z"
   },
   {
    "duration": 39,
    "start_time": "2022-11-19T20:55:03.081Z"
   },
   {
    "duration": 36,
    "start_time": "2022-11-19T20:55:03.122Z"
   },
   {
    "duration": 49,
    "start_time": "2022-11-19T20:56:17.848Z"
   },
   {
    "duration": 36,
    "start_time": "2022-11-19T20:58:12.332Z"
   },
   {
    "duration": 51,
    "start_time": "2022-11-19T20:59:05.189Z"
   },
   {
    "duration": 10,
    "start_time": "2022-11-19T20:59:40.436Z"
   },
   {
    "duration": 48,
    "start_time": "2022-11-19T21:00:06.507Z"
   },
   {
    "duration": 53,
    "start_time": "2022-11-19T21:13:11.984Z"
   },
   {
    "duration": 23,
    "start_time": "2022-11-19T21:16:30.536Z"
   },
   {
    "duration": 49,
    "start_time": "2022-11-19T21:34:51.198Z"
   },
   {
    "duration": 55,
    "start_time": "2022-11-19T21:36:11.021Z"
   },
   {
    "duration": 102,
    "start_time": "2022-11-19T21:36:48.997Z"
   },
   {
    "duration": 3,
    "start_time": "2022-11-19T21:36:56.627Z"
   },
   {
    "duration": 92,
    "start_time": "2022-11-19T21:36:56.632Z"
   },
   {
    "duration": 23,
    "start_time": "2022-11-19T21:36:56.726Z"
   },
   {
    "duration": 26,
    "start_time": "2022-11-19T21:36:56.751Z"
   },
   {
    "duration": 1879,
    "start_time": "2022-11-19T21:36:56.780Z"
   },
   {
    "duration": 8,
    "start_time": "2022-11-19T21:36:58.660Z"
   },
   {
    "duration": 20,
    "start_time": "2022-11-19T21:36:58.669Z"
   },
   {
    "duration": 24,
    "start_time": "2022-11-19T21:36:58.691Z"
   },
   {
    "duration": 53,
    "start_time": "2022-11-19T21:36:58.717Z"
   },
   {
    "duration": 7,
    "start_time": "2022-11-19T21:36:58.772Z"
   },
   {
    "duration": 104,
    "start_time": "2022-11-19T21:36:58.780Z"
   },
   {
    "duration": 15,
    "start_time": "2022-11-19T21:36:58.885Z"
   },
   {
    "duration": 57,
    "start_time": "2022-11-19T21:37:55.308Z"
   },
   {
    "duration": 3,
    "start_time": "2022-11-19T21:38:03.420Z"
   },
   {
    "duration": 90,
    "start_time": "2022-11-19T21:38:03.425Z"
   },
   {
    "duration": 24,
    "start_time": "2022-11-19T21:38:03.517Z"
   },
   {
    "duration": 19,
    "start_time": "2022-11-19T21:38:03.543Z"
   },
   {
    "duration": 1879,
    "start_time": "2022-11-19T21:38:03.565Z"
   },
   {
    "duration": 8,
    "start_time": "2022-11-19T21:38:05.445Z"
   },
   {
    "duration": 31,
    "start_time": "2022-11-19T21:38:05.454Z"
   },
   {
    "duration": 33,
    "start_time": "2022-11-19T21:38:05.486Z"
   },
   {
    "duration": 50,
    "start_time": "2022-11-19T21:38:05.521Z"
   },
   {
    "duration": 27,
    "start_time": "2022-11-19T21:38:05.573Z"
   },
   {
    "duration": 90,
    "start_time": "2022-11-19T21:38:05.602Z"
   },
   {
    "duration": 16,
    "start_time": "2022-11-19T21:38:05.693Z"
   },
   {
    "duration": 41,
    "start_time": "2022-11-19T21:38:44.355Z"
   },
   {
    "duration": 48,
    "start_time": "2022-11-19T21:38:56.669Z"
   },
   {
    "duration": 121,
    "start_time": "2022-11-19T21:39:01.051Z"
   },
   {
    "duration": 85,
    "start_time": "2022-11-19T21:43:50.583Z"
   },
   {
    "duration": 3,
    "start_time": "2022-11-19T21:44:02.401Z"
   },
   {
    "duration": 97,
    "start_time": "2022-11-19T21:44:02.409Z"
   },
   {
    "duration": 29,
    "start_time": "2022-11-19T21:44:02.508Z"
   },
   {
    "duration": 15,
    "start_time": "2022-11-19T21:44:02.538Z"
   },
   {
    "duration": 1906,
    "start_time": "2022-11-19T21:44:02.555Z"
   },
   {
    "duration": 6,
    "start_time": "2022-11-19T21:44:04.463Z"
   },
   {
    "duration": 23,
    "start_time": "2022-11-19T21:44:04.471Z"
   },
   {
    "duration": 27,
    "start_time": "2022-11-19T21:44:04.495Z"
   },
   {
    "duration": 50,
    "start_time": "2022-11-19T21:44:04.523Z"
   },
   {
    "duration": 7,
    "start_time": "2022-11-19T21:44:04.575Z"
   },
   {
    "duration": 106,
    "start_time": "2022-11-19T21:44:04.584Z"
   },
   {
    "duration": 28,
    "start_time": "2022-11-19T21:44:04.692Z"
   },
   {
    "duration": 87,
    "start_time": "2022-11-19T21:47:36.754Z"
   },
   {
    "duration": 57,
    "start_time": "2022-11-19T21:55:29.960Z"
   },
   {
    "duration": 54,
    "start_time": "2022-11-19T21:55:41.424Z"
   },
   {
    "duration": 57,
    "start_time": "2022-11-19T22:00:21.618Z"
   },
   {
    "duration": 61,
    "start_time": "2022-11-19T22:05:47.311Z"
   },
   {
    "duration": 54,
    "start_time": "2022-11-19T22:07:03.760Z"
   },
   {
    "duration": 33,
    "start_time": "2022-11-19T22:07:08.567Z"
   },
   {
    "duration": 2,
    "start_time": "2022-11-19T22:07:16.436Z"
   },
   {
    "duration": 108,
    "start_time": "2022-11-19T22:07:16.440Z"
   },
   {
    "duration": 23,
    "start_time": "2022-11-19T22:07:16.550Z"
   },
   {
    "duration": 14,
    "start_time": "2022-11-19T22:07:16.574Z"
   },
   {
    "duration": 1878,
    "start_time": "2022-11-19T22:07:16.590Z"
   },
   {
    "duration": 8,
    "start_time": "2022-11-19T22:07:18.470Z"
   },
   {
    "duration": 23,
    "start_time": "2022-11-19T22:07:18.479Z"
   },
   {
    "duration": 27,
    "start_time": "2022-11-19T22:07:18.503Z"
   },
   {
    "duration": 50,
    "start_time": "2022-11-19T22:07:18.532Z"
   },
   {
    "duration": 7,
    "start_time": "2022-11-19T22:07:18.583Z"
   },
   {
    "duration": 43,
    "start_time": "2022-11-19T22:07:18.615Z"
   },
   {
    "duration": 15,
    "start_time": "2022-11-19T22:07:18.659Z"
   },
   {
    "duration": 58,
    "start_time": "2022-11-19T22:07:42.693Z"
   },
   {
    "duration": 3,
    "start_time": "2022-11-19T22:07:46.029Z"
   },
   {
    "duration": 99,
    "start_time": "2022-11-19T22:07:46.034Z"
   },
   {
    "duration": 25,
    "start_time": "2022-11-19T22:07:46.134Z"
   },
   {
    "duration": 15,
    "start_time": "2022-11-19T22:07:46.161Z"
   },
   {
    "duration": 1801,
    "start_time": "2022-11-19T22:07:46.178Z"
   },
   {
    "duration": 7,
    "start_time": "2022-11-19T22:07:47.981Z"
   },
   {
    "duration": 26,
    "start_time": "2022-11-19T22:07:47.990Z"
   },
   {
    "duration": 17,
    "start_time": "2022-11-19T22:07:48.017Z"
   },
   {
    "duration": 66,
    "start_time": "2022-11-19T22:07:48.036Z"
   },
   {
    "duration": 11,
    "start_time": "2022-11-19T22:07:48.104Z"
   },
   {
    "duration": 205,
    "start_time": "2022-11-19T22:07:48.117Z"
   },
   {
    "duration": 15,
    "start_time": "2022-11-19T22:07:48.324Z"
   },
   {
    "duration": 18,
    "start_time": "2022-11-19T22:08:46.693Z"
   },
   {
    "duration": 15,
    "start_time": "2022-11-19T22:08:48.193Z"
   },
   {
    "duration": 20,
    "start_time": "2022-11-19T22:08:50.605Z"
   },
   {
    "duration": 2,
    "start_time": "2022-11-19T22:08:53.781Z"
   },
   {
    "duration": 94,
    "start_time": "2022-11-19T22:08:53.785Z"
   },
   {
    "duration": 22,
    "start_time": "2022-11-19T22:08:53.881Z"
   },
   {
    "duration": 21,
    "start_time": "2022-11-19T22:08:53.905Z"
   },
   {
    "duration": 1771,
    "start_time": "2022-11-19T22:08:53.928Z"
   },
   {
    "duration": 14,
    "start_time": "2022-11-19T22:08:55.701Z"
   },
   {
    "duration": 25,
    "start_time": "2022-11-19T22:08:55.717Z"
   },
   {
    "duration": 23,
    "start_time": "2022-11-19T22:08:55.744Z"
   },
   {
    "duration": 71,
    "start_time": "2022-11-19T22:08:55.769Z"
   },
   {
    "duration": 14,
    "start_time": "2022-11-19T22:08:55.842Z"
   },
   {
    "duration": 34,
    "start_time": "2022-11-19T22:08:55.857Z"
   },
   {
    "duration": 57,
    "start_time": "2022-11-19T22:08:55.892Z"
   },
   {
    "duration": 37,
    "start_time": "2022-11-19T22:09:07.742Z"
   },
   {
    "duration": 3,
    "start_time": "2022-11-19T22:09:11.199Z"
   },
   {
    "duration": 100,
    "start_time": "2022-11-19T22:09:11.204Z"
   },
   {
    "duration": 26,
    "start_time": "2022-11-19T22:09:11.305Z"
   },
   {
    "duration": 19,
    "start_time": "2022-11-19T22:09:11.333Z"
   },
   {
    "duration": 1847,
    "start_time": "2022-11-19T22:09:11.354Z"
   },
   {
    "duration": 15,
    "start_time": "2022-11-19T22:09:13.202Z"
   },
   {
    "duration": 38,
    "start_time": "2022-11-19T22:09:13.219Z"
   },
   {
    "duration": 17,
    "start_time": "2022-11-19T22:09:13.259Z"
   },
   {
    "duration": 64,
    "start_time": "2022-11-19T22:09:13.277Z"
   },
   {
    "duration": 7,
    "start_time": "2022-11-19T22:09:13.342Z"
   },
   {
    "duration": 60,
    "start_time": "2022-11-19T22:09:13.351Z"
   },
   {
    "duration": 15,
    "start_time": "2022-11-19T22:09:13.412Z"
   },
   {
    "duration": 64,
    "start_time": "2022-11-19T22:10:08.975Z"
   },
   {
    "duration": 61,
    "start_time": "2022-11-19T22:10:55.898Z"
   },
   {
    "duration": 3,
    "start_time": "2022-11-19T22:10:59.719Z"
   },
   {
    "duration": 93,
    "start_time": "2022-11-19T22:10:59.723Z"
   },
   {
    "duration": 23,
    "start_time": "2022-11-19T22:10:59.818Z"
   },
   {
    "duration": 16,
    "start_time": "2022-11-19T22:10:59.843Z"
   },
   {
    "duration": 1900,
    "start_time": "2022-11-19T22:10:59.861Z"
   },
   {
    "duration": 7,
    "start_time": "2022-11-19T22:11:01.762Z"
   },
   {
    "duration": 28,
    "start_time": "2022-11-19T22:11:01.771Z"
   },
   {
    "duration": 23,
    "start_time": "2022-11-19T22:11:01.801Z"
   },
   {
    "duration": 68,
    "start_time": "2022-11-19T22:11:01.826Z"
   },
   {
    "duration": 7,
    "start_time": "2022-11-19T22:11:01.897Z"
   },
   {
    "duration": 59,
    "start_time": "2022-11-19T22:11:01.906Z"
   },
   {
    "duration": 15,
    "start_time": "2022-11-19T22:11:01.967Z"
   },
   {
    "duration": 61,
    "start_time": "2022-11-19T22:13:10.454Z"
   },
   {
    "duration": 61,
    "start_time": "2022-11-19T22:13:28.176Z"
   },
   {
    "duration": 2,
    "start_time": "2022-11-19T22:13:34.257Z"
   },
   {
    "duration": 98,
    "start_time": "2022-11-19T22:13:34.261Z"
   },
   {
    "duration": 25,
    "start_time": "2022-11-19T22:13:34.361Z"
   },
   {
    "duration": 16,
    "start_time": "2022-11-19T22:13:34.387Z"
   },
   {
    "duration": 1860,
    "start_time": "2022-11-19T22:13:34.416Z"
   },
   {
    "duration": 9,
    "start_time": "2022-11-19T22:13:36.279Z"
   },
   {
    "duration": 33,
    "start_time": "2022-11-19T22:13:36.290Z"
   },
   {
    "duration": 23,
    "start_time": "2022-11-19T22:13:36.326Z"
   },
   {
    "duration": 71,
    "start_time": "2022-11-19T22:13:36.351Z"
   },
   {
    "duration": 7,
    "start_time": "2022-11-19T22:13:36.424Z"
   },
   {
    "duration": 58,
    "start_time": "2022-11-19T22:13:36.433Z"
   },
   {
    "duration": 31,
    "start_time": "2022-11-19T22:13:36.492Z"
   },
   {
    "duration": 45,
    "start_time": "2022-11-19T22:15:08.351Z"
   },
   {
    "duration": 31,
    "start_time": "2022-11-19T22:15:17.983Z"
   },
   {
    "duration": 2,
    "start_time": "2022-11-19T22:15:20.641Z"
   },
   {
    "duration": 107,
    "start_time": "2022-11-19T22:15:20.645Z"
   },
   {
    "duration": 24,
    "start_time": "2022-11-19T22:15:20.753Z"
   },
   {
    "duration": 30,
    "start_time": "2022-11-19T22:15:20.778Z"
   },
   {
    "duration": 1970,
    "start_time": "2022-11-19T22:15:20.810Z"
   },
   {
    "duration": 7,
    "start_time": "2022-11-19T22:15:22.782Z"
   },
   {
    "duration": 35,
    "start_time": "2022-11-19T22:15:22.791Z"
   },
   {
    "duration": 41,
    "start_time": "2022-11-19T22:15:22.827Z"
   },
   {
    "duration": 56,
    "start_time": "2022-11-19T22:15:22.870Z"
   },
   {
    "duration": 7,
    "start_time": "2022-11-19T22:15:22.927Z"
   },
   {
    "duration": 86,
    "start_time": "2022-11-19T22:15:22.936Z"
   },
   {
    "duration": 13,
    "start_time": "2022-11-19T22:15:23.024Z"
   },
   {
    "duration": 76,
    "start_time": "2022-11-19T22:15:42.962Z"
   },
   {
    "duration": 62,
    "start_time": "2022-11-19T22:16:11.368Z"
   },
   {
    "duration": 32,
    "start_time": "2022-11-19T22:22:22.107Z"
   },
   {
    "duration": 60,
    "start_time": "2022-11-19T22:22:34.831Z"
   },
   {
    "duration": 61,
    "start_time": "2022-11-19T22:22:39.354Z"
   },
   {
    "duration": 46,
    "start_time": "2022-11-19T22:23:27.936Z"
   },
   {
    "duration": 35,
    "start_time": "2022-11-19T22:24:04.924Z"
   },
   {
    "duration": 36,
    "start_time": "2022-11-19T22:24:13.773Z"
   },
   {
    "duration": 61,
    "start_time": "2022-11-19T22:24:22.584Z"
   },
   {
    "duration": 35,
    "start_time": "2022-11-19T22:24:39.544Z"
   },
   {
    "duration": 46,
    "start_time": "2022-11-19T22:24:48.794Z"
   },
   {
    "duration": 41,
    "start_time": "2022-11-19T22:25:32.076Z"
   },
   {
    "duration": 63,
    "start_time": "2022-11-19T22:25:38.669Z"
   },
   {
    "duration": 45,
    "start_time": "2022-11-20T13:53:31.347Z"
   },
   {
    "duration": 357,
    "start_time": "2022-11-20T13:53:38.742Z"
   },
   {
    "duration": 307,
    "start_time": "2022-11-20T13:53:39.101Z"
   },
   {
    "duration": 29,
    "start_time": "2022-11-20T13:53:39.410Z"
   },
   {
    "duration": 22,
    "start_time": "2022-11-20T13:53:39.440Z"
   },
   {
    "duration": 2179,
    "start_time": "2022-11-20T13:53:39.463Z"
   },
   {
    "duration": 7,
    "start_time": "2022-11-20T13:53:41.644Z"
   },
   {
    "duration": 20,
    "start_time": "2022-11-20T13:53:41.652Z"
   },
   {
    "duration": 16,
    "start_time": "2022-11-20T13:53:41.674Z"
   },
   {
    "duration": 47,
    "start_time": "2022-11-20T13:53:41.691Z"
   },
   {
    "duration": 6,
    "start_time": "2022-11-20T13:53:41.740Z"
   },
   {
    "duration": 78,
    "start_time": "2022-11-20T13:53:41.748Z"
   },
   {
    "duration": 38,
    "start_time": "2022-11-20T13:53:41.827Z"
   },
   {
    "duration": 40,
    "start_time": "2022-11-20T13:54:00.822Z"
   },
   {
    "duration": 71,
    "start_time": "2022-11-20T13:54:20.334Z"
   },
   {
    "duration": 50,
    "start_time": "2022-11-20T13:54:27.156Z"
   },
   {
    "duration": 56,
    "start_time": "2022-11-20T13:55:42.776Z"
   },
   {
    "duration": 49,
    "start_time": "2022-11-20T14:02:22.086Z"
   },
   {
    "duration": 58,
    "start_time": "2022-11-20T14:08:43.208Z"
   },
   {
    "duration": 63,
    "start_time": "2022-11-20T14:08:58.040Z"
   },
   {
    "duration": 60,
    "start_time": "2022-11-20T14:11:54.505Z"
   },
   {
    "duration": 55,
    "start_time": "2022-11-20T14:15:10.895Z"
   },
   {
    "duration": 47,
    "start_time": "2022-11-20T14:21:52.142Z"
   },
   {
    "duration": 218,
    "start_time": "2022-11-20T14:21:58.136Z"
   },
   {
    "duration": 218,
    "start_time": "2022-11-20T14:31:00.331Z"
   },
   {
    "duration": 216,
    "start_time": "2022-11-20T14:31:24.035Z"
   },
   {
    "duration": 59,
    "start_time": "2022-11-20T14:59:25.817Z"
   },
   {
    "duration": 6,
    "start_time": "2022-11-20T15:00:31.141Z"
   },
   {
    "duration": 87,
    "start_time": "2022-11-20T15:00:44.695Z"
   },
   {
    "duration": 64,
    "start_time": "2022-11-20T15:00:57.075Z"
   },
   {
    "duration": 68,
    "start_time": "2022-11-20T15:01:50.098Z"
   },
   {
    "duration": 3,
    "start_time": "2022-11-20T15:01:52.955Z"
   },
   {
    "duration": 91,
    "start_time": "2022-11-20T15:01:52.959Z"
   },
   {
    "duration": 35,
    "start_time": "2022-11-20T15:01:53.052Z"
   },
   {
    "duration": 21,
    "start_time": "2022-11-20T15:01:53.098Z"
   },
   {
    "duration": 1930,
    "start_time": "2022-11-20T15:01:53.121Z"
   },
   {
    "duration": 10,
    "start_time": "2022-11-20T15:01:55.053Z"
   },
   {
    "duration": 32,
    "start_time": "2022-11-20T15:01:55.065Z"
   },
   {
    "duration": 24,
    "start_time": "2022-11-20T15:01:55.099Z"
   },
   {
    "duration": 94,
    "start_time": "2022-11-20T15:01:55.126Z"
   },
   {
    "duration": 8,
    "start_time": "2022-11-20T15:01:55.223Z"
   },
   {
    "duration": 78,
    "start_time": "2022-11-20T15:01:55.232Z"
   },
   {
    "duration": 243,
    "start_time": "2022-11-20T15:01:55.311Z"
   },
   {
    "duration": 7,
    "start_time": "2022-11-20T15:02:57.049Z"
   },
   {
    "duration": 7,
    "start_time": "2022-11-20T15:03:21.535Z"
   },
   {
    "duration": 2,
    "start_time": "2022-11-20T15:03:36.805Z"
   },
   {
    "duration": 90,
    "start_time": "2022-11-20T15:03:36.809Z"
   },
   {
    "duration": 25,
    "start_time": "2022-11-20T15:03:36.900Z"
   },
   {
    "duration": 25,
    "start_time": "2022-11-20T15:03:36.926Z"
   },
   {
    "duration": 1769,
    "start_time": "2022-11-20T15:03:36.954Z"
   },
   {
    "duration": 7,
    "start_time": "2022-11-20T15:03:38.725Z"
   },
   {
    "duration": 16,
    "start_time": "2022-11-20T15:03:38.734Z"
   },
   {
    "duration": 17,
    "start_time": "2022-11-20T15:03:38.752Z"
   },
   {
    "duration": 73,
    "start_time": "2022-11-20T15:03:38.771Z"
   },
   {
    "duration": 7,
    "start_time": "2022-11-20T15:03:38.846Z"
   },
   {
    "duration": 81,
    "start_time": "2022-11-20T15:03:38.854Z"
   },
   {
    "duration": 194,
    "start_time": "2022-11-20T15:03:38.937Z"
   },
   {
    "duration": 209,
    "start_time": "2022-11-20T15:11:36.731Z"
   },
   {
    "duration": 242,
    "start_time": "2022-11-20T15:14:44.234Z"
   },
   {
    "duration": 344,
    "start_time": "2022-11-20T15:15:54.624Z"
   },
   {
    "duration": 270,
    "start_time": "2022-11-20T15:18:19.428Z"
   },
   {
    "duration": 338,
    "start_time": "2022-11-20T15:18:28.107Z"
   },
   {
    "duration": 243,
    "start_time": "2022-11-20T15:27:58.941Z"
   },
   {
    "duration": 307,
    "start_time": "2022-11-20T15:28:10.090Z"
   },
   {
    "duration": 374,
    "start_time": "2022-11-20T15:33:39.883Z"
   },
   {
    "duration": 48,
    "start_time": "2022-11-20T15:34:26.978Z"
   },
   {
    "duration": 336,
    "start_time": "2022-11-20T15:34:32.588Z"
   },
   {
    "duration": 300,
    "start_time": "2022-11-20T15:35:01.704Z"
   },
   {
    "duration": 293,
    "start_time": "2022-11-20T15:35:47.333Z"
   },
   {
    "duration": 352,
    "start_time": "2022-11-20T15:36:29.374Z"
   },
   {
    "duration": 396,
    "start_time": "2022-11-20T15:37:26.261Z"
   },
   {
    "duration": 3,
    "start_time": "2022-11-20T15:38:29.933Z"
   },
   {
    "duration": 88,
    "start_time": "2022-11-20T15:38:29.943Z"
   },
   {
    "duration": 31,
    "start_time": "2022-11-20T15:38:30.033Z"
   },
   {
    "duration": 14,
    "start_time": "2022-11-20T15:38:30.066Z"
   },
   {
    "duration": 1697,
    "start_time": "2022-11-20T15:38:30.082Z"
   },
   {
    "duration": 15,
    "start_time": "2022-11-20T15:38:31.782Z"
   },
   {
    "duration": 18,
    "start_time": "2022-11-20T15:38:31.799Z"
   },
   {
    "duration": 17,
    "start_time": "2022-11-20T15:38:31.819Z"
   },
   {
    "duration": 46,
    "start_time": "2022-11-20T15:38:31.838Z"
   },
   {
    "duration": 16,
    "start_time": "2022-11-20T15:38:31.886Z"
   },
   {
    "duration": 62,
    "start_time": "2022-11-20T15:38:31.903Z"
   },
   {
    "duration": 392,
    "start_time": "2022-11-20T15:38:31.966Z"
   },
   {
    "duration": 3,
    "start_time": "2022-11-20T15:42:23.352Z"
   },
   {
    "duration": 107,
    "start_time": "2022-11-20T15:47:49.068Z"
   },
   {
    "duration": 118,
    "start_time": "2022-11-20T15:50:15.114Z"
   },
   {
    "duration": 211,
    "start_time": "2022-11-20T15:50:47.709Z"
   },
   {
    "duration": 138,
    "start_time": "2022-11-20T15:50:59.928Z"
   },
   {
    "duration": 2,
    "start_time": "2022-11-20T15:51:26.799Z"
   },
   {
    "duration": 86,
    "start_time": "2022-11-20T15:51:26.803Z"
   },
   {
    "duration": 29,
    "start_time": "2022-11-20T15:51:26.891Z"
   },
   {
    "duration": 17,
    "start_time": "2022-11-20T15:51:26.922Z"
   },
   {
    "duration": 1770,
    "start_time": "2022-11-20T15:51:26.941Z"
   },
   {
    "duration": 7,
    "start_time": "2022-11-20T15:51:28.713Z"
   },
   {
    "duration": 20,
    "start_time": "2022-11-20T15:51:28.721Z"
   },
   {
    "duration": 16,
    "start_time": "2022-11-20T15:51:28.743Z"
   },
   {
    "duration": 62,
    "start_time": "2022-11-20T15:51:28.761Z"
   },
   {
    "duration": 6,
    "start_time": "2022-11-20T15:51:28.825Z"
   },
   {
    "duration": 70,
    "start_time": "2022-11-20T15:51:28.833Z"
   },
   {
    "duration": 293,
    "start_time": "2022-11-20T15:51:28.905Z"
   },
   {
    "duration": 220,
    "start_time": "2022-11-20T15:51:29.199Z"
   },
   {
    "duration": 273,
    "start_time": "2022-11-20T15:51:29.609Z"
   },
   {
    "duration": 1199,
    "start_time": "2022-11-20T15:51:36.345Z"
   },
   {
    "duration": 260,
    "start_time": "2022-11-20T15:58:14.975Z"
   },
   {
    "duration": 166,
    "start_time": "2022-11-20T15:58:33.012Z"
   },
   {
    "duration": 111,
    "start_time": "2022-11-20T15:58:42.143Z"
   },
   {
    "duration": 209,
    "start_time": "2022-11-20T15:59:05.230Z"
   },
   {
    "duration": 536,
    "start_time": "2022-11-20T15:59:26.314Z"
   },
   {
    "duration": 448,
    "start_time": "2022-11-20T16:00:20.407Z"
   },
   {
    "duration": 211,
    "start_time": "2022-11-20T16:00:28.666Z"
   },
   {
    "duration": 268,
    "start_time": "2022-11-20T16:00:54.514Z"
   },
   {
    "duration": 320,
    "start_time": "2022-11-20T16:01:05.512Z"
   },
   {
    "duration": 230,
    "start_time": "2022-11-20T16:01:22.235Z"
   },
   {
    "duration": 52,
    "start_time": "2022-11-20T16:07:20.618Z"
   },
   {
    "duration": 199,
    "start_time": "2022-11-20T16:17:10.263Z"
   },
   {
    "duration": 210,
    "start_time": "2022-11-20T16:17:21.887Z"
   },
   {
    "duration": 206,
    "start_time": "2022-11-20T16:17:46.821Z"
   },
   {
    "duration": 192,
    "start_time": "2022-11-20T16:18:18.443Z"
   },
   {
    "duration": 273,
    "start_time": "2022-11-20T16:18:32.448Z"
   },
   {
    "duration": 217,
    "start_time": "2022-11-20T16:20:46.603Z"
   },
   {
    "duration": 237,
    "start_time": "2022-11-20T16:20:54.158Z"
   },
   {
    "duration": 330,
    "start_time": "2022-11-20T16:22:13.415Z"
   },
   {
    "duration": 221,
    "start_time": "2022-11-20T16:22:18.411Z"
   },
   {
    "duration": 278,
    "start_time": "2022-11-20T16:23:57.403Z"
   },
   {
    "duration": 222,
    "start_time": "2022-11-20T16:25:31.135Z"
   },
   {
    "duration": 248,
    "start_time": "2022-11-20T16:25:37.595Z"
   },
   {
    "duration": 46,
    "start_time": "2022-11-20T16:25:45.549Z"
   },
   {
    "duration": 207,
    "start_time": "2022-11-20T16:25:50.147Z"
   },
   {
    "duration": 196,
    "start_time": "2022-11-20T16:27:08.161Z"
   },
   {
    "duration": 268,
    "start_time": "2022-11-20T16:27:16.753Z"
   },
   {
    "duration": 211,
    "start_time": "2022-11-20T16:27:23.839Z"
   },
   {
    "duration": 204,
    "start_time": "2022-11-20T16:27:36.522Z"
   },
   {
    "duration": 213,
    "start_time": "2022-11-20T16:27:45.959Z"
   },
   {
    "duration": 214,
    "start_time": "2022-11-20T16:28:08.021Z"
   },
   {
    "duration": 110,
    "start_time": "2022-11-20T16:28:14.204Z"
   },
   {
    "duration": 134,
    "start_time": "2022-11-20T16:28:22.170Z"
   },
   {
    "duration": 218,
    "start_time": "2022-11-20T16:28:59.281Z"
   },
   {
    "duration": 355,
    "start_time": "2022-11-20T16:29:06.068Z"
   },
   {
    "duration": 217,
    "start_time": "2022-11-20T16:29:30.664Z"
   },
   {
    "duration": 197,
    "start_time": "2022-11-20T16:29:39.328Z"
   },
   {
    "duration": 193,
    "start_time": "2022-11-20T16:29:45.232Z"
   },
   {
    "duration": 360,
    "start_time": "2022-11-20T16:29:54.645Z"
   },
   {
    "duration": 209,
    "start_time": "2022-11-20T16:30:06.921Z"
   },
   {
    "duration": 232,
    "start_time": "2022-11-20T16:30:26.271Z"
   },
   {
    "duration": 207,
    "start_time": "2022-11-20T16:34:28.270Z"
   },
   {
    "duration": 1258,
    "start_time": "2022-11-20T16:35:32.382Z"
   },
   {
    "duration": 119,
    "start_time": "2022-11-20T16:35:39.040Z"
   },
   {
    "duration": 212,
    "start_time": "2022-11-20T16:35:54.479Z"
   },
   {
    "duration": 360,
    "start_time": "2022-11-20T16:50:56.398Z"
   },
   {
    "duration": 243,
    "start_time": "2022-11-20T16:51:17.556Z"
   },
   {
    "duration": 229,
    "start_time": "2022-11-20T16:52:13.080Z"
   },
   {
    "duration": 217,
    "start_time": "2022-11-20T16:52:21.126Z"
   },
   {
    "duration": 138,
    "start_time": "2022-11-20T16:52:29.495Z"
   },
   {
    "duration": 219,
    "start_time": "2022-11-20T16:52:34.192Z"
   },
   {
    "duration": 335,
    "start_time": "2022-11-20T16:54:45.297Z"
   },
   {
    "duration": 125,
    "start_time": "2022-11-20T16:55:33.199Z"
   },
   {
    "duration": 261,
    "start_time": "2022-11-20T16:56:42.718Z"
   },
   {
    "duration": 129,
    "start_time": "2022-11-20T16:57:00.191Z"
   },
   {
    "duration": 205,
    "start_time": "2022-11-20T16:57:03.570Z"
   },
   {
    "duration": 201,
    "start_time": "2022-11-20T16:58:29.274Z"
   },
   {
    "duration": 369,
    "start_time": "2022-11-20T16:58:40.567Z"
   },
   {
    "duration": 198,
    "start_time": "2022-11-20T16:58:44.667Z"
   },
   {
    "duration": 177,
    "start_time": "2022-11-20T16:58:54.660Z"
   },
   {
    "duration": 292,
    "start_time": "2022-11-20T16:59:02.534Z"
   },
   {
    "duration": 1607,
    "start_time": "2022-11-20T16:59:05.318Z"
   },
   {
    "duration": 1646,
    "start_time": "2022-11-20T16:59:08.743Z"
   },
   {
    "duration": 1409,
    "start_time": "2022-11-20T16:59:52.463Z"
   },
   {
    "duration": 1498,
    "start_time": "2022-11-20T16:59:57.322Z"
   },
   {
    "duration": 1489,
    "start_time": "2022-11-20T17:02:49.034Z"
   },
   {
    "duration": 1589,
    "start_time": "2022-11-20T17:03:29.915Z"
   },
   {
    "duration": 1637,
    "start_time": "2022-11-20T17:03:36.312Z"
   },
   {
    "duration": 10,
    "start_time": "2022-11-20T17:09:20.972Z"
   },
   {
    "duration": 47,
    "start_time": "2022-11-20T17:09:32.715Z"
   },
   {
    "duration": 10,
    "start_time": "2022-11-20T17:09:43.944Z"
   },
   {
    "duration": 9,
    "start_time": "2022-11-20T17:10:11.345Z"
   },
   {
    "duration": 8,
    "start_time": "2022-11-20T17:10:16.821Z"
   },
   {
    "duration": 1556,
    "start_time": "2022-11-20T17:11:21.818Z"
   },
   {
    "duration": 1575,
    "start_time": "2022-11-20T17:11:46.342Z"
   },
   {
    "duration": 1790,
    "start_time": "2022-11-20T17:12:18.652Z"
   },
   {
    "duration": 1580,
    "start_time": "2022-11-20T17:13:03.358Z"
   },
   {
    "duration": 306,
    "start_time": "2022-11-20T17:13:09.862Z"
   },
   {
    "duration": 292,
    "start_time": "2022-11-20T17:14:09.798Z"
   },
   {
    "duration": 1459,
    "start_time": "2022-11-20T17:14:14.984Z"
   },
   {
    "duration": 1375,
    "start_time": "2022-11-20T17:14:27.564Z"
   },
   {
    "duration": 1680,
    "start_time": "2022-11-20T17:16:55.241Z"
   },
   {
    "duration": 1405,
    "start_time": "2022-11-20T17:17:16.103Z"
   },
   {
    "duration": 1545,
    "start_time": "2022-11-20T17:19:14.228Z"
   },
   {
    "duration": 1475,
    "start_time": "2022-11-20T17:19:41.744Z"
   },
   {
    "duration": 212,
    "start_time": "2022-11-20T17:19:47.598Z"
   },
   {
    "duration": 250,
    "start_time": "2022-11-20T17:20:32.064Z"
   },
   {
    "duration": 215,
    "start_time": "2022-11-20T17:21:38.383Z"
   },
   {
    "duration": 132,
    "start_time": "2022-11-20T17:21:59.625Z"
   },
   {
    "duration": 135,
    "start_time": "2022-11-20T17:24:01.038Z"
   },
   {
    "duration": 3,
    "start_time": "2022-11-20T17:24:04.776Z"
   },
   {
    "duration": 107,
    "start_time": "2022-11-20T17:24:04.781Z"
   },
   {
    "duration": 28,
    "start_time": "2022-11-20T17:24:04.890Z"
   },
   {
    "duration": 26,
    "start_time": "2022-11-20T17:24:04.920Z"
   },
   {
    "duration": 1920,
    "start_time": "2022-11-20T17:24:04.949Z"
   },
   {
    "duration": 7,
    "start_time": "2022-11-20T17:24:06.870Z"
   },
   {
    "duration": 27,
    "start_time": "2022-11-20T17:24:06.878Z"
   },
   {
    "duration": 15,
    "start_time": "2022-11-20T17:24:06.907Z"
   },
   {
    "duration": 47,
    "start_time": "2022-11-20T17:24:06.923Z"
   },
   {
    "duration": 27,
    "start_time": "2022-11-20T17:24:06.971Z"
   },
   {
    "duration": 61,
    "start_time": "2022-11-20T17:24:07.000Z"
   },
   {
    "duration": 316,
    "start_time": "2022-11-20T17:24:07.063Z"
   },
   {
    "duration": 302,
    "start_time": "2022-11-20T17:24:07.380Z"
   },
   {
    "duration": 213,
    "start_time": "2022-11-20T17:24:07.697Z"
   },
   {
    "duration": 233,
    "start_time": "2022-11-20T17:24:07.912Z"
   },
   {
    "duration": 224,
    "start_time": "2022-11-20T17:24:08.147Z"
   },
   {
    "duration": 153,
    "start_time": "2022-11-20T17:24:08.374Z"
   },
   {
    "duration": 147,
    "start_time": "2022-11-20T17:24:24.498Z"
   },
   {
    "duration": 153,
    "start_time": "2022-11-20T17:24:39.410Z"
   },
   {
    "duration": 323,
    "start_time": "2022-11-20T17:24:43.176Z"
   },
   {
    "duration": 329,
    "start_time": "2022-11-20T17:25:15.774Z"
   },
   {
    "duration": 10,
    "start_time": "2022-11-20T17:25:43.920Z"
   },
   {
    "duration": 302,
    "start_time": "2022-11-20T17:25:50.261Z"
   },
   {
    "duration": 255,
    "start_time": "2022-11-20T17:26:33.646Z"
   },
   {
    "duration": 251,
    "start_time": "2022-11-20T17:26:46.064Z"
   },
   {
    "duration": 323,
    "start_time": "2022-11-20T17:27:00.025Z"
   },
   {
    "duration": 269,
    "start_time": "2022-11-20T17:30:01.191Z"
   },
   {
    "duration": 274,
    "start_time": "2022-11-20T17:30:08.023Z"
   },
   {
    "duration": 232,
    "start_time": "2022-11-20T17:31:21.582Z"
   },
   {
    "duration": 259,
    "start_time": "2022-11-20T17:32:03.491Z"
   },
   {
    "duration": 372,
    "start_time": "2022-11-20T17:32:13.568Z"
   },
   {
    "duration": 11,
    "start_time": "2022-11-20T17:32:46.623Z"
   },
   {
    "duration": 11,
    "start_time": "2022-11-20T17:32:56.219Z"
   },
   {
    "duration": 457,
    "start_time": "2022-11-20T17:38:30.048Z"
   },
   {
    "duration": 106,
    "start_time": "2022-11-20T17:38:30.507Z"
   },
   {
    "duration": 31,
    "start_time": "2022-11-20T17:38:30.614Z"
   },
   {
    "duration": 49,
    "start_time": "2022-11-20T17:38:30.646Z"
   },
   {
    "duration": 2444,
    "start_time": "2022-11-20T17:38:30.698Z"
   },
   {
    "duration": 9,
    "start_time": "2022-11-20T17:38:33.144Z"
   },
   {
    "duration": 28,
    "start_time": "2022-11-20T17:38:33.155Z"
   },
   {
    "duration": 25,
    "start_time": "2022-11-20T17:38:33.185Z"
   },
   {
    "duration": 61,
    "start_time": "2022-11-20T17:38:33.212Z"
   },
   {
    "duration": 6,
    "start_time": "2022-11-20T17:38:33.274Z"
   },
   {
    "duration": 79,
    "start_time": "2022-11-20T17:38:33.281Z"
   },
   {
    "duration": 461,
    "start_time": "2022-11-20T17:38:33.362Z"
   },
   {
    "duration": 319,
    "start_time": "2022-11-20T17:38:33.825Z"
   },
   {
    "duration": 359,
    "start_time": "2022-11-20T17:38:34.147Z"
   },
   {
    "duration": 362,
    "start_time": "2022-11-20T17:38:34.507Z"
   },
   {
    "duration": 253,
    "start_time": "2022-11-20T17:38:34.871Z"
   },
   {
    "duration": 288,
    "start_time": "2022-11-20T17:38:35.126Z"
   },
   {
    "duration": 480,
    "start_time": "2022-11-20T17:46:24.400Z"
   },
   {
    "duration": 97,
    "start_time": "2022-11-20T17:46:24.882Z"
   },
   {
    "duration": 30,
    "start_time": "2022-11-20T17:46:24.980Z"
   },
   {
    "duration": 14,
    "start_time": "2022-11-20T17:46:25.011Z"
   },
   {
    "duration": 2074,
    "start_time": "2022-11-20T17:46:25.028Z"
   },
   {
    "duration": 7,
    "start_time": "2022-11-20T17:46:27.104Z"
   },
   {
    "duration": 27,
    "start_time": "2022-11-20T17:46:27.112Z"
   },
   {
    "duration": 24,
    "start_time": "2022-11-20T17:46:27.141Z"
   },
   {
    "duration": 70,
    "start_time": "2022-11-20T17:46:27.167Z"
   },
   {
    "duration": 7,
    "start_time": "2022-11-20T17:46:27.239Z"
   },
   {
    "duration": 89,
    "start_time": "2022-11-20T17:46:27.248Z"
   },
   {
    "duration": 321,
    "start_time": "2022-11-20T17:46:27.339Z"
   },
   {
    "duration": 218,
    "start_time": "2022-11-20T17:46:27.662Z"
   },
   {
    "duration": 349,
    "start_time": "2022-11-20T17:46:27.883Z"
   },
   {
    "duration": 259,
    "start_time": "2022-11-20T17:46:28.234Z"
   },
   {
    "duration": 220,
    "start_time": "2022-11-20T17:46:28.497Z"
   },
   {
    "duration": 258,
    "start_time": "2022-11-20T17:46:28.718Z"
   },
   {
    "duration": 142,
    "start_time": "2022-11-20T17:46:28.977Z"
   },
   {
    "duration": 3,
    "start_time": "2022-11-20T18:01:22.047Z"
   },
   {
    "duration": 103,
    "start_time": "2022-11-20T18:01:22.053Z"
   },
   {
    "duration": 26,
    "start_time": "2022-11-20T18:01:22.159Z"
   },
   {
    "duration": 27,
    "start_time": "2022-11-20T18:01:22.186Z"
   },
   {
    "duration": 1999,
    "start_time": "2022-11-20T18:01:22.215Z"
   },
   {
    "duration": 8,
    "start_time": "2022-11-20T18:01:24.216Z"
   },
   {
    "duration": 21,
    "start_time": "2022-11-20T18:01:24.226Z"
   },
   {
    "duration": 38,
    "start_time": "2022-11-20T18:01:24.250Z"
   },
   {
    "duration": 74,
    "start_time": "2022-11-20T18:01:24.299Z"
   },
   {
    "duration": 23,
    "start_time": "2022-11-20T18:01:24.375Z"
   },
   {
    "duration": 71,
    "start_time": "2022-11-20T18:01:24.400Z"
   },
   {
    "duration": 423,
    "start_time": "2022-11-20T18:01:24.474Z"
   },
   {
    "duration": 335,
    "start_time": "2022-11-20T18:01:24.900Z"
   },
   {
    "duration": 261,
    "start_time": "2022-11-20T18:01:25.239Z"
   },
   {
    "duration": 273,
    "start_time": "2022-11-20T18:01:25.502Z"
   },
   {
    "duration": 251,
    "start_time": "2022-11-20T18:01:25.777Z"
   },
   {
    "duration": 314,
    "start_time": "2022-11-20T18:01:26.030Z"
   },
   {
    "duration": 140,
    "start_time": "2022-11-20T18:01:26.346Z"
   },
   {
    "duration": 148,
    "start_time": "2022-11-20T18:01:26.933Z"
   },
   {
    "duration": 171,
    "start_time": "2022-11-20T18:01:27.083Z"
   },
   {
    "duration": 134,
    "start_time": "2022-11-20T18:02:34.930Z"
   },
   {
    "duration": 146,
    "start_time": "2022-11-20T18:17:08.356Z"
   },
   {
    "duration": 174,
    "start_time": "2022-11-20T18:17:24.584Z"
   },
   {
    "duration": 302,
    "start_time": "2022-11-20T18:17:27.830Z"
   },
   {
    "duration": 1519,
    "start_time": "2022-11-20T18:17:38.426Z"
   },
   {
    "duration": 163,
    "start_time": "2022-11-20T18:17:44.092Z"
   },
   {
    "duration": 139,
    "start_time": "2022-11-20T18:23:44.212Z"
   },
   {
    "duration": 157,
    "start_time": "2022-11-20T18:23:48.379Z"
   },
   {
    "duration": 233,
    "start_time": "2022-11-20T18:24:27.916Z"
   },
   {
    "duration": 168,
    "start_time": "2022-11-20T18:24:37.775Z"
   },
   {
    "duration": 163,
    "start_time": "2022-11-20T18:26:48.927Z"
   },
   {
    "duration": 54,
    "start_time": "2022-11-20T18:29:20.853Z"
   },
   {
    "duration": 129,
    "start_time": "2022-11-20T18:29:27.757Z"
   },
   {
    "duration": 156,
    "start_time": "2022-11-20T18:29:38.931Z"
   },
   {
    "duration": 151,
    "start_time": "2022-11-20T18:30:02.696Z"
   },
   {
    "duration": 142,
    "start_time": "2022-11-20T18:30:05.206Z"
   },
   {
    "duration": 156,
    "start_time": "2022-11-20T18:30:07.698Z"
   },
   {
    "duration": 125,
    "start_time": "2022-11-20T18:30:45.722Z"
   },
   {
    "duration": 117,
    "start_time": "2022-11-20T18:32:50.867Z"
   },
   {
    "duration": 827,
    "start_time": "2022-11-20T18:34:27.395Z"
   },
   {
    "duration": 140,
    "start_time": "2022-11-20T18:34:38.311Z"
   },
   {
    "duration": 187,
    "start_time": "2022-11-20T18:36:35.266Z"
   },
   {
    "duration": 152,
    "start_time": "2022-11-20T18:42:12.577Z"
   },
   {
    "duration": 161,
    "start_time": "2022-11-20T18:42:50.862Z"
   },
   {
    "duration": 280,
    "start_time": "2022-11-20T18:42:56.202Z"
   },
   {
    "duration": 173,
    "start_time": "2022-11-20T18:43:04.960Z"
   },
   {
    "duration": 142,
    "start_time": "2022-11-20T18:43:27.236Z"
   },
   {
    "duration": 149,
    "start_time": "2022-11-20T18:44:15.904Z"
   },
   {
    "duration": 126,
    "start_time": "2022-11-20T18:45:51.755Z"
   },
   {
    "duration": 120,
    "start_time": "2022-11-20T18:51:47.399Z"
   },
   {
    "duration": 147,
    "start_time": "2022-11-20T18:58:02.937Z"
   },
   {
    "duration": 104,
    "start_time": "2022-11-20T19:03:54.442Z"
   },
   {
    "duration": 43,
    "start_time": "2022-11-20T19:04:27.600Z"
   },
   {
    "duration": 223,
    "start_time": "2022-11-20T19:05:54.736Z"
   },
   {
    "duration": 141,
    "start_time": "2022-11-20T19:10:03.646Z"
   },
   {
    "duration": 45,
    "start_time": "2022-11-20T19:11:07.839Z"
   },
   {
    "duration": 150,
    "start_time": "2022-11-20T19:11:52.928Z"
   },
   {
    "duration": 203,
    "start_time": "2022-11-20T19:12:14.579Z"
   },
   {
    "duration": 153,
    "start_time": "2022-11-20T19:12:20.245Z"
   },
   {
    "duration": 168,
    "start_time": "2022-11-20T19:12:23.148Z"
   },
   {
    "duration": 144,
    "start_time": "2022-11-20T19:12:30.033Z"
   },
   {
    "duration": 136,
    "start_time": "2022-11-20T19:12:42.213Z"
   },
   {
    "duration": 152,
    "start_time": "2022-11-20T19:12:45.203Z"
   },
   {
    "duration": 135,
    "start_time": "2022-11-20T19:12:52.337Z"
   },
   {
    "duration": 145,
    "start_time": "2022-11-20T19:13:36.552Z"
   },
   {
    "duration": 150,
    "start_time": "2022-11-20T19:13:53.886Z"
   },
   {
    "duration": 130,
    "start_time": "2022-11-20T19:14:12.111Z"
   },
   {
    "duration": 129,
    "start_time": "2022-11-20T19:14:16.615Z"
   },
   {
    "duration": 123,
    "start_time": "2022-11-20T19:14:25.795Z"
   },
   {
    "duration": 134,
    "start_time": "2022-11-20T19:15:37.723Z"
   },
   {
    "duration": 153,
    "start_time": "2022-11-20T19:17:35.169Z"
   },
   {
    "duration": 135,
    "start_time": "2022-11-20T19:17:49.646Z"
   },
   {
    "duration": 149,
    "start_time": "2022-11-20T19:17:59.669Z"
   },
   {
    "duration": 131,
    "start_time": "2022-11-20T19:18:21.152Z"
   },
   {
    "duration": 149,
    "start_time": "2022-11-20T19:18:31.545Z"
   },
   {
    "duration": 136,
    "start_time": "2022-11-20T19:21:07.043Z"
   },
   {
    "duration": 155,
    "start_time": "2022-11-20T19:23:57.788Z"
   },
   {
    "duration": 116,
    "start_time": "2022-11-20T19:24:31.081Z"
   },
   {
    "duration": 136,
    "start_time": "2022-11-20T19:24:44.808Z"
   },
   {
    "duration": 124,
    "start_time": "2022-11-20T19:25:30.395Z"
   },
   {
    "duration": 107,
    "start_time": "2022-11-20T19:25:32.953Z"
   },
   {
    "duration": 137,
    "start_time": "2022-11-20T19:25:35.179Z"
   },
   {
    "duration": 322,
    "start_time": "2022-11-20T19:25:46.946Z"
   },
   {
    "duration": 123,
    "start_time": "2022-11-20T19:26:00.605Z"
   },
   {
    "duration": 2,
    "start_time": "2022-11-20T19:52:54.452Z"
   },
   {
    "duration": 153,
    "start_time": "2022-11-20T19:54:17.072Z"
   },
   {
    "duration": 157,
    "start_time": "2022-11-20T19:54:23.156Z"
   },
   {
    "duration": 48,
    "start_time": "2022-11-20T20:03:34.413Z"
   },
   {
    "duration": 53,
    "start_time": "2022-11-20T21:26:39.607Z"
   },
   {
    "duration": 42,
    "start_time": "2022-11-20T21:26:48.747Z"
   },
   {
    "duration": 136,
    "start_time": "2022-11-20T21:26:53.375Z"
   },
   {
    "duration": 132,
    "start_time": "2022-11-20T21:51:25.183Z"
   },
   {
    "duration": 661,
    "start_time": "2022-11-20T21:51:46.676Z"
   },
   {
    "duration": 137,
    "start_time": "2022-11-20T22:05:40.490Z"
   },
   {
    "duration": 113,
    "start_time": "2022-11-20T22:05:55.020Z"
   },
   {
    "duration": 107,
    "start_time": "2022-11-20T22:09:18.634Z"
   },
   {
    "duration": 110,
    "start_time": "2022-11-20T22:09:35.446Z"
   },
   {
    "duration": 103,
    "start_time": "2022-11-20T22:10:02.199Z"
   },
   {
    "duration": 94,
    "start_time": "2022-11-20T22:10:28.768Z"
   },
   {
    "duration": 127,
    "start_time": "2022-11-20T22:10:40.025Z"
   },
   {
    "duration": 133,
    "start_time": "2022-11-20T22:10:57.364Z"
   },
   {
    "duration": 102,
    "start_time": "2022-11-20T22:11:12.563Z"
   },
   {
    "duration": 145,
    "start_time": "2022-11-20T22:11:22.645Z"
   },
   {
    "duration": 44,
    "start_time": "2022-11-21T19:53:55.996Z"
   },
   {
    "duration": 421,
    "start_time": "2022-11-21T19:54:01.516Z"
   },
   {
    "duration": 335,
    "start_time": "2022-11-21T19:54:01.939Z"
   },
   {
    "duration": 30,
    "start_time": "2022-11-21T19:54:02.275Z"
   },
   {
    "duration": 13,
    "start_time": "2022-11-21T19:54:02.307Z"
   },
   {
    "duration": 2194,
    "start_time": "2022-11-21T19:54:02.322Z"
   },
   {
    "duration": 9,
    "start_time": "2022-11-21T19:54:04.518Z"
   },
   {
    "duration": 22,
    "start_time": "2022-11-21T19:54:04.529Z"
   },
   {
    "duration": 18,
    "start_time": "2022-11-21T19:54:04.553Z"
   },
   {
    "duration": 64,
    "start_time": "2022-11-21T19:54:04.573Z"
   },
   {
    "duration": 6,
    "start_time": "2022-11-21T19:54:04.638Z"
   },
   {
    "duration": 76,
    "start_time": "2022-11-21T19:54:04.646Z"
   },
   {
    "duration": 324,
    "start_time": "2022-11-21T19:54:04.724Z"
   },
   {
    "duration": 222,
    "start_time": "2022-11-21T19:54:05.051Z"
   },
   {
    "duration": 357,
    "start_time": "2022-11-21T19:54:05.276Z"
   },
   {
    "duration": 208,
    "start_time": "2022-11-21T19:54:05.634Z"
   },
   {
    "duration": 209,
    "start_time": "2022-11-21T19:54:05.843Z"
   },
   {
    "duration": 227,
    "start_time": "2022-11-21T19:54:06.053Z"
   },
   {
    "duration": 127,
    "start_time": "2022-11-21T19:54:06.282Z"
   },
   {
    "duration": 157,
    "start_time": "2022-11-21T19:54:06.411Z"
   },
   {
    "duration": 113,
    "start_time": "2022-11-21T19:54:06.569Z"
   },
   {
    "duration": 193,
    "start_time": "2022-11-21T19:54:06.684Z"
   },
   {
    "duration": 116,
    "start_time": "2022-11-21T19:54:06.879Z"
   },
   {
    "duration": 109,
    "start_time": "2022-11-21T19:54:06.996Z"
   },
   {
    "duration": 133,
    "start_time": "2022-11-21T19:54:07.106Z"
   },
   {
    "duration": 129,
    "start_time": "2022-11-21T19:54:07.241Z"
   },
   {
    "duration": 121,
    "start_time": "2022-11-21T19:54:07.372Z"
   },
   {
    "duration": 146,
    "start_time": "2022-11-21T19:54:07.495Z"
   },
   {
    "duration": 110,
    "start_time": "2022-11-21T19:54:07.643Z"
   },
   {
    "duration": 724,
    "start_time": "2022-11-21T19:54:07.755Z"
   },
   {
    "duration": 15,
    "start_time": "2022-11-21T19:59:08.799Z"
   },
   {
    "duration": 62,
    "start_time": "2022-11-21T20:00:11.567Z"
   },
   {
    "duration": 56,
    "start_time": "2022-11-21T20:00:26.112Z"
   },
   {
    "duration": 70,
    "start_time": "2022-11-21T20:01:42.678Z"
   },
   {
    "duration": 50,
    "start_time": "2022-11-21T20:02:05.687Z"
   },
   {
    "duration": 53,
    "start_time": "2022-11-21T20:02:28.135Z"
   },
   {
    "duration": 822,
    "start_time": "2022-11-21T20:02:35.207Z"
   },
   {
    "duration": 689,
    "start_time": "2022-11-21T20:04:57.603Z"
   },
   {
    "duration": 857,
    "start_time": "2022-11-21T20:10:39.148Z"
   },
   {
    "duration": 821,
    "start_time": "2022-11-21T20:11:27.743Z"
   },
   {
    "duration": 850,
    "start_time": "2022-11-21T20:12:48.621Z"
   },
   {
    "duration": 132,
    "start_time": "2022-11-21T20:15:23.755Z"
   },
   {
    "duration": 159,
    "start_time": "2022-11-21T20:16:21.178Z"
   },
   {
    "duration": 108,
    "start_time": "2022-11-21T20:16:32.314Z"
   },
   {
    "duration": 228,
    "start_time": "2022-11-21T20:16:42.406Z"
   },
   {
    "duration": 129,
    "start_time": "2022-11-21T20:17:01.439Z"
   },
   {
    "duration": 229,
    "start_time": "2022-11-21T20:18:04.860Z"
   },
   {
    "duration": 260,
    "start_time": "2022-11-21T20:18:44.480Z"
   },
   {
    "duration": 239,
    "start_time": "2022-11-21T20:18:48.791Z"
   },
   {
    "duration": 124,
    "start_time": "2022-11-21T20:22:03.605Z"
   },
   {
    "duration": 114,
    "start_time": "2022-11-21T20:22:08.651Z"
   },
   {
    "duration": 116,
    "start_time": "2022-11-21T20:23:36.776Z"
   },
   {
    "duration": 112,
    "start_time": "2022-11-21T20:23:41.599Z"
   },
   {
    "duration": 163,
    "start_time": "2022-11-21T20:24:59.314Z"
   },
   {
    "duration": 115,
    "start_time": "2022-11-21T20:25:51.536Z"
   },
   {
    "duration": 15,
    "start_time": "2022-11-21T20:27:33.129Z"
   },
   {
    "duration": 11124,
    "start_time": "2022-11-21T20:28:20.403Z"
   },
   {
    "duration": 127,
    "start_time": "2022-11-21T20:28:52.797Z"
   },
   {
    "duration": 121,
    "start_time": "2022-11-21T20:29:25.776Z"
   },
   {
    "duration": 122,
    "start_time": "2022-11-21T20:29:34.563Z"
   },
   {
    "duration": 65,
    "start_time": "2022-11-21T20:54:20.577Z"
   },
   {
    "duration": 59,
    "start_time": "2022-11-21T20:54:37.564Z"
   },
   {
    "duration": 48,
    "start_time": "2022-11-21T20:54:49.644Z"
   },
   {
    "duration": 60,
    "start_time": "2022-11-21T21:14:02.863Z"
   },
   {
    "duration": 53,
    "start_time": "2022-11-21T21:14:20.134Z"
   },
   {
    "duration": 4,
    "start_time": "2022-11-21T21:14:37.792Z"
   },
   {
    "duration": 12,
    "start_time": "2022-11-21T21:15:07.734Z"
   },
   {
    "duration": 8,
    "start_time": "2022-11-21T21:15:14.518Z"
   },
   {
    "duration": 15,
    "start_time": "2022-11-21T21:15:33.862Z"
   },
   {
    "duration": 689,
    "start_time": "2022-11-21T21:27:51.477Z"
   },
   {
    "duration": 662,
    "start_time": "2022-11-21T21:28:13.958Z"
   },
   {
    "duration": 10,
    "start_time": "2022-11-21T21:49:03.249Z"
   },
   {
    "duration": 252,
    "start_time": "2022-11-21T21:52:11.829Z"
   },
   {
    "duration": 104,
    "start_time": "2022-11-21T21:54:05.885Z"
   },
   {
    "duration": 397,
    "start_time": "2022-11-21T22:00:52.527Z"
   },
   {
    "duration": 7,
    "start_time": "2022-11-21T22:08:54.807Z"
   },
   {
    "duration": 12,
    "start_time": "2022-11-21T22:11:58.283Z"
   },
   {
    "duration": 1152,
    "start_time": "2022-11-21T22:12:19.003Z"
   },
   {
    "duration": 123,
    "start_time": "2022-11-21T22:13:45.408Z"
   },
   {
    "duration": 10,
    "start_time": "2022-11-21T22:14:04.023Z"
   },
   {
    "duration": 144,
    "start_time": "2022-11-21T22:14:07.243Z"
   },
   {
    "duration": 105,
    "start_time": "2022-11-21T22:14:16.653Z"
   },
   {
    "duration": 125,
    "start_time": "2022-11-21T22:20:49.106Z"
   },
   {
    "duration": 116,
    "start_time": "2022-11-21T22:20:56.113Z"
   },
   {
    "duration": 113,
    "start_time": "2022-11-21T22:21:03.253Z"
   },
   {
    "duration": 105,
    "start_time": "2022-11-21T22:21:16.252Z"
   },
   {
    "duration": 859,
    "start_time": "2022-11-21T22:21:27.229Z"
   },
   {
    "duration": 822,
    "start_time": "2022-11-21T22:21:41.421Z"
   },
   {
    "duration": 109,
    "start_time": "2022-11-21T22:22:20.300Z"
   },
   {
    "duration": 113,
    "start_time": "2022-11-21T22:22:40.125Z"
   },
   {
    "duration": 105,
    "start_time": "2022-11-21T22:22:52.852Z"
   },
   {
    "duration": 128,
    "start_time": "2022-11-21T22:29:21.999Z"
   },
   {
    "duration": 99,
    "start_time": "2022-11-21T22:29:36.175Z"
   },
   {
    "duration": 116,
    "start_time": "2022-11-21T22:31:54.298Z"
   },
   {
    "duration": 578,
    "start_time": "2022-11-21T22:39:34.412Z"
   },
   {
    "duration": 3,
    "start_time": "2022-11-21T22:40:07.956Z"
   },
   {
    "duration": 100,
    "start_time": "2022-11-21T22:40:07.961Z"
   },
   {
    "duration": 23,
    "start_time": "2022-11-21T22:40:08.063Z"
   },
   {
    "duration": 18,
    "start_time": "2022-11-21T22:40:08.087Z"
   },
   {
    "duration": 1766,
    "start_time": "2022-11-21T22:40:08.106Z"
   },
   {
    "duration": 7,
    "start_time": "2022-11-21T22:40:09.873Z"
   },
   {
    "duration": 19,
    "start_time": "2022-11-21T22:40:09.882Z"
   },
   {
    "duration": 23,
    "start_time": "2022-11-21T22:40:09.902Z"
   },
   {
    "duration": 45,
    "start_time": "2022-11-21T22:40:09.927Z"
   },
   {
    "duration": 6,
    "start_time": "2022-11-21T22:40:09.973Z"
   },
   {
    "duration": 83,
    "start_time": "2022-11-21T22:40:09.981Z"
   },
   {
    "duration": 305,
    "start_time": "2022-11-21T22:40:10.066Z"
   },
   {
    "duration": 217,
    "start_time": "2022-11-21T22:40:10.373Z"
   },
   {
    "duration": 328,
    "start_time": "2022-11-21T22:40:10.591Z"
   },
   {
    "duration": 227,
    "start_time": "2022-11-21T22:40:10.921Z"
   },
   {
    "duration": 208,
    "start_time": "2022-11-21T22:40:11.150Z"
   },
   {
    "duration": 245,
    "start_time": "2022-11-21T22:40:11.360Z"
   },
   {
    "duration": 122,
    "start_time": "2022-11-21T22:40:11.607Z"
   },
   {
    "duration": 150,
    "start_time": "2022-11-21T22:40:11.731Z"
   },
   {
    "duration": 110,
    "start_time": "2022-11-21T22:40:11.883Z"
   },
   {
    "duration": 214,
    "start_time": "2022-11-21T22:40:11.995Z"
   },
   {
    "duration": 118,
    "start_time": "2022-11-21T22:40:12.211Z"
   },
   {
    "duration": 115,
    "start_time": "2022-11-21T22:40:12.330Z"
   },
   {
    "duration": 153,
    "start_time": "2022-11-21T22:40:12.447Z"
   },
   {
    "duration": 139,
    "start_time": "2022-11-21T22:40:12.601Z"
   },
   {
    "duration": 135,
    "start_time": "2022-11-21T22:40:12.741Z"
   },
   {
    "duration": 149,
    "start_time": "2022-11-21T22:40:12.877Z"
   },
   {
    "duration": 122,
    "start_time": "2022-11-21T22:40:13.028Z"
   },
   {
    "duration": 118,
    "start_time": "2022-11-21T22:40:13.153Z"
   },
   {
    "duration": 128,
    "start_time": "2022-11-21T22:40:13.273Z"
   },
   {
    "duration": 131,
    "start_time": "2022-11-21T22:40:13.402Z"
   },
   {
    "duration": 209,
    "start_time": "2022-11-21T22:40:13.534Z"
   },
   {
    "duration": 111,
    "start_time": "2022-11-21T22:40:13.744Z"
   },
   {
    "duration": 582,
    "start_time": "2022-11-21T22:40:13.857Z"
   },
   {
    "duration": 22,
    "start_time": "2022-11-21T22:40:27.716Z"
   },
   {
    "duration": 143,
    "start_time": "2022-11-21T22:41:50.228Z"
   },
   {
    "duration": 169,
    "start_time": "2022-11-21T22:55:05.232Z"
   },
   {
    "duration": 170,
    "start_time": "2022-11-21T22:56:35.253Z"
   },
   {
    "duration": 596,
    "start_time": "2022-11-21T22:58:09.407Z"
   },
   {
    "duration": 129,
    "start_time": "2022-11-21T23:01:36.143Z"
   },
   {
    "duration": 131,
    "start_time": "2022-11-21T23:01:47.998Z"
   },
   {
    "duration": 622,
    "start_time": "2022-11-21T23:02:02.575Z"
   },
   {
    "duration": 50,
    "start_time": "2022-11-21T23:02:44.138Z"
   },
   {
    "duration": 9,
    "start_time": "2022-11-21T23:02:51.283Z"
   },
   {
    "duration": 113,
    "start_time": "2022-11-21T23:03:26.773Z"
   },
   {
    "duration": 234,
    "start_time": "2022-11-21T23:04:28.776Z"
   },
   {
    "duration": 408,
    "start_time": "2022-11-22T18:47:52.360Z"
   },
   {
    "duration": 137,
    "start_time": "2022-11-22T18:47:52.769Z"
   },
   {
    "duration": 31,
    "start_time": "2022-11-22T18:47:52.907Z"
   },
   {
    "duration": 19,
    "start_time": "2022-11-22T18:47:52.940Z"
   },
   {
    "duration": 2160,
    "start_time": "2022-11-22T18:47:52.961Z"
   },
   {
    "duration": 7,
    "start_time": "2022-11-22T18:47:55.122Z"
   },
   {
    "duration": 19,
    "start_time": "2022-11-22T18:47:55.131Z"
   },
   {
    "duration": 14,
    "start_time": "2022-11-22T18:47:55.151Z"
   },
   {
    "duration": 60,
    "start_time": "2022-11-22T18:47:55.166Z"
   },
   {
    "duration": 5,
    "start_time": "2022-11-22T18:47:55.228Z"
   },
   {
    "duration": 62,
    "start_time": "2022-11-22T18:47:55.235Z"
   },
   {
    "duration": 386,
    "start_time": "2022-11-22T18:47:55.299Z"
   },
   {
    "duration": 215,
    "start_time": "2022-11-22T18:47:55.687Z"
   },
   {
    "duration": 311,
    "start_time": "2022-11-22T18:47:55.905Z"
   },
   {
    "duration": 222,
    "start_time": "2022-11-22T18:47:56.218Z"
   },
   {
    "duration": 220,
    "start_time": "2022-11-22T18:47:56.442Z"
   },
   {
    "duration": 237,
    "start_time": "2022-11-22T18:47:56.663Z"
   },
   {
    "duration": 133,
    "start_time": "2022-11-22T18:47:56.901Z"
   },
   {
    "duration": 152,
    "start_time": "2022-11-22T18:47:57.035Z"
   },
   {
    "duration": 114,
    "start_time": "2022-11-22T18:47:57.189Z"
   },
   {
    "duration": 211,
    "start_time": "2022-11-22T18:47:57.305Z"
   },
   {
    "duration": 136,
    "start_time": "2022-11-22T18:47:57.518Z"
   },
   {
    "duration": 110,
    "start_time": "2022-11-22T18:47:57.655Z"
   },
   {
    "duration": 153,
    "start_time": "2022-11-22T18:47:57.767Z"
   },
   {
    "duration": 142,
    "start_time": "2022-11-22T18:47:57.925Z"
   },
   {
    "duration": 125,
    "start_time": "2022-11-22T18:47:58.069Z"
   },
   {
    "duration": 172,
    "start_time": "2022-11-22T18:47:58.195Z"
   },
   {
    "duration": 119,
    "start_time": "2022-11-22T18:47:58.369Z"
   },
   {
    "duration": 144,
    "start_time": "2022-11-22T18:47:58.490Z"
   },
   {
    "duration": 138,
    "start_time": "2022-11-22T18:47:58.636Z"
   },
   {
    "duration": 130,
    "start_time": "2022-11-22T18:47:58.776Z"
   },
   {
    "duration": 207,
    "start_time": "2022-11-22T18:47:58.908Z"
   },
   {
    "duration": 121,
    "start_time": "2022-11-22T18:47:59.117Z"
   },
   {
    "duration": 131,
    "start_time": "2022-11-22T18:47:59.239Z"
   },
   {
    "duration": 136,
    "start_time": "2022-11-22T18:47:59.372Z"
   },
   {
    "duration": 260,
    "start_time": "2022-11-22T18:47:59.510Z"
   },
   {
    "duration": 105,
    "start_time": "2022-11-22T18:48:41.160Z"
   },
   {
    "duration": 2,
    "start_time": "2022-11-22T18:48:47.097Z"
   },
   {
    "duration": 93,
    "start_time": "2022-11-22T18:48:47.101Z"
   },
   {
    "duration": 40,
    "start_time": "2022-11-22T18:48:47.196Z"
   },
   {
    "duration": 18,
    "start_time": "2022-11-22T18:48:47.238Z"
   },
   {
    "duration": 1767,
    "start_time": "2022-11-22T18:48:47.258Z"
   },
   {
    "duration": 7,
    "start_time": "2022-11-22T18:48:49.027Z"
   },
   {
    "duration": 14,
    "start_time": "2022-11-22T18:48:49.036Z"
   },
   {
    "duration": 15,
    "start_time": "2022-11-22T18:48:49.052Z"
   },
   {
    "duration": 71,
    "start_time": "2022-11-22T18:48:49.068Z"
   },
   {
    "duration": 7,
    "start_time": "2022-11-22T18:48:49.142Z"
   },
   {
    "duration": 90,
    "start_time": "2022-11-22T18:48:49.152Z"
   },
   {
    "duration": 315,
    "start_time": "2022-11-22T18:48:49.245Z"
   },
   {
    "duration": 222,
    "start_time": "2022-11-22T18:48:49.562Z"
   },
   {
    "duration": 242,
    "start_time": "2022-11-22T18:48:49.786Z"
   },
   {
    "duration": 320,
    "start_time": "2022-11-22T18:48:50.029Z"
   },
   {
    "duration": 215,
    "start_time": "2022-11-22T18:48:50.350Z"
   },
   {
    "duration": 248,
    "start_time": "2022-11-22T18:48:50.567Z"
   },
   {
    "duration": 128,
    "start_time": "2022-11-22T18:48:50.816Z"
   },
   {
    "duration": 161,
    "start_time": "2022-11-22T18:48:50.946Z"
   },
   {
    "duration": 131,
    "start_time": "2022-11-22T18:48:51.109Z"
   },
   {
    "duration": 127,
    "start_time": "2022-11-22T18:48:51.242Z"
   },
   {
    "duration": 123,
    "start_time": "2022-11-22T18:48:51.371Z"
   },
   {
    "duration": 222,
    "start_time": "2022-11-22T18:48:51.496Z"
   },
   {
    "duration": 145,
    "start_time": "2022-11-22T18:48:51.719Z"
   },
   {
    "duration": 132,
    "start_time": "2022-11-22T18:48:51.866Z"
   },
   {
    "duration": 127,
    "start_time": "2022-11-22T18:48:52.000Z"
   },
   {
    "duration": 148,
    "start_time": "2022-11-22T18:48:52.129Z"
   },
   {
    "duration": 116,
    "start_time": "2022-11-22T18:48:52.278Z"
   },
   {
    "duration": 130,
    "start_time": "2022-11-22T18:48:52.397Z"
   },
   {
    "duration": 121,
    "start_time": "2022-11-22T18:48:52.528Z"
   },
   {
    "duration": 126,
    "start_time": "2022-11-22T18:48:52.651Z"
   },
   {
    "duration": 130,
    "start_time": "2022-11-22T18:48:52.778Z"
   },
   {
    "duration": 121,
    "start_time": "2022-11-22T18:48:52.910Z"
   },
   {
    "duration": 201,
    "start_time": "2022-11-22T18:48:53.032Z"
   },
   {
    "duration": 128,
    "start_time": "2022-11-22T18:48:53.234Z"
   },
   {
    "duration": 245,
    "start_time": "2022-11-22T18:48:53.363Z"
   },
   {
    "duration": 386,
    "start_time": "2022-11-23T18:29:02.622Z"
   },
   {
    "duration": 147,
    "start_time": "2022-11-23T18:29:03.013Z"
   },
   {
    "duration": 30,
    "start_time": "2022-11-23T18:29:03.162Z"
   },
   {
    "duration": 15,
    "start_time": "2022-11-23T18:29:03.194Z"
   },
   {
    "duration": 2184,
    "start_time": "2022-11-23T18:29:03.213Z"
   },
   {
    "duration": 7,
    "start_time": "2022-11-23T18:29:05.399Z"
   },
   {
    "duration": 23,
    "start_time": "2022-11-23T18:29:05.408Z"
   },
   {
    "duration": 15,
    "start_time": "2022-11-23T18:29:05.432Z"
   },
   {
    "duration": 46,
    "start_time": "2022-11-23T18:29:05.449Z"
   },
   {
    "duration": 19,
    "start_time": "2022-11-23T18:29:05.496Z"
   },
   {
    "duration": 67,
    "start_time": "2022-11-23T18:29:05.516Z"
   },
   {
    "duration": 311,
    "start_time": "2022-11-23T18:29:05.585Z"
   },
   {
    "duration": 215,
    "start_time": "2022-11-23T18:29:05.898Z"
   },
   {
    "duration": 318,
    "start_time": "2022-11-23T18:29:06.115Z"
   },
   {
    "duration": 215,
    "start_time": "2022-11-23T18:29:06.435Z"
   },
   {
    "duration": 214,
    "start_time": "2022-11-23T18:29:06.651Z"
   },
   {
    "duration": 236,
    "start_time": "2022-11-23T18:29:06.867Z"
   },
   {
    "duration": 126,
    "start_time": "2022-11-23T18:29:07.104Z"
   },
   {
    "duration": 155,
    "start_time": "2022-11-23T18:29:07.231Z"
   },
   {
    "duration": 116,
    "start_time": "2022-11-23T18:29:07.387Z"
   },
   {
    "duration": 202,
    "start_time": "2022-11-23T18:29:07.512Z"
   },
   {
    "duration": 122,
    "start_time": "2022-11-23T18:29:07.715Z"
   },
   {
    "duration": 113,
    "start_time": "2022-11-23T18:29:07.839Z"
   },
   {
    "duration": 139,
    "start_time": "2022-11-23T18:29:07.954Z"
   },
   {
    "duration": 130,
    "start_time": "2022-11-23T18:29:08.094Z"
   },
   {
    "duration": 118,
    "start_time": "2022-11-23T18:29:08.225Z"
   },
   {
    "duration": 151,
    "start_time": "2022-11-23T18:29:08.345Z"
   },
   {
    "duration": 126,
    "start_time": "2022-11-23T18:29:08.498Z"
   },
   {
    "duration": 130,
    "start_time": "2022-11-23T18:29:08.626Z"
   },
   {
    "duration": 125,
    "start_time": "2022-11-23T18:29:08.758Z"
   },
   {
    "duration": 133,
    "start_time": "2022-11-23T18:29:08.885Z"
   },
   {
    "duration": 187,
    "start_time": "2022-11-23T18:29:09.020Z"
   },
   {
    "duration": 116,
    "start_time": "2022-11-23T18:29:09.212Z"
   },
   {
    "duration": 132,
    "start_time": "2022-11-23T18:29:09.329Z"
   },
   {
    "duration": 138,
    "start_time": "2022-11-23T18:29:09.462Z"
   },
   {
    "duration": 269,
    "start_time": "2022-11-23T18:29:09.602Z"
   },
   {
    "duration": 124,
    "start_time": "2022-11-23T21:12:26.726Z"
   },
   {
    "duration": 2,
    "start_time": "2022-11-23T21:42:52.363Z"
   },
   {
    "duration": 2,
    "start_time": "2022-11-23T21:42:59.510Z"
   },
   {
    "duration": 360,
    "start_time": "2022-11-26T19:34:06.853Z"
   },
   {
    "duration": 60,
    "start_time": "2022-11-26T19:51:32.021Z"
   },
   {
    "duration": 2,
    "start_time": "2022-11-26T19:51:40.282Z"
   },
   {
    "duration": 160,
    "start_time": "2022-11-26T19:51:40.286Z"
   },
   {
    "duration": 31,
    "start_time": "2022-11-26T19:51:40.448Z"
   },
   {
    "duration": 14,
    "start_time": "2022-11-26T19:51:40.480Z"
   },
   {
    "duration": 2369,
    "start_time": "2022-11-26T19:51:40.496Z"
   },
   {
    "duration": 8,
    "start_time": "2022-11-26T19:51:42.867Z"
   },
   {
    "duration": 41,
    "start_time": "2022-11-26T19:51:42.876Z"
   },
   {
    "duration": 24,
    "start_time": "2022-11-26T19:51:42.919Z"
   },
   {
    "duration": 83,
    "start_time": "2022-11-26T19:51:42.945Z"
   },
   {
    "duration": 6,
    "start_time": "2022-11-26T19:51:43.030Z"
   },
   {
    "duration": 97,
    "start_time": "2022-11-26T19:51:43.038Z"
   },
   {
    "duration": 363,
    "start_time": "2022-11-26T19:51:43.136Z"
   },
   {
    "duration": 233,
    "start_time": "2022-11-26T19:51:43.515Z"
   },
   {
    "duration": 337,
    "start_time": "2022-11-26T19:51:43.750Z"
   },
   {
    "duration": 254,
    "start_time": "2022-11-26T19:51:44.088Z"
   },
   {
    "duration": 231,
    "start_time": "2022-11-26T19:51:44.344Z"
   },
   {
    "duration": 266,
    "start_time": "2022-11-26T19:51:44.577Z"
   },
   {
    "duration": 143,
    "start_time": "2022-11-26T19:51:44.844Z"
   },
   {
    "duration": 224,
    "start_time": "2022-11-26T19:51:44.989Z"
   },
   {
    "duration": 118,
    "start_time": "2022-11-26T19:51:45.217Z"
   },
   {
    "duration": 228,
    "start_time": "2022-11-26T19:51:45.337Z"
   },
   {
    "duration": 130,
    "start_time": "2022-11-26T19:51:45.567Z"
   },
   {
    "duration": 130,
    "start_time": "2022-11-26T19:51:45.699Z"
   },
   {
    "duration": 150,
    "start_time": "2022-11-26T19:51:45.831Z"
   },
   {
    "duration": 144,
    "start_time": "2022-11-26T19:51:45.983Z"
   },
   {
    "duration": 147,
    "start_time": "2022-11-26T19:51:46.128Z"
   },
   {
    "duration": 169,
    "start_time": "2022-11-26T19:51:46.277Z"
   },
   {
    "duration": 128,
    "start_time": "2022-11-26T19:51:46.448Z"
   },
   {
    "duration": 142,
    "start_time": "2022-11-26T19:51:46.579Z"
   },
   {
    "duration": 125,
    "start_time": "2022-11-26T19:51:46.722Z"
   },
   {
    "duration": 128,
    "start_time": "2022-11-26T19:51:46.848Z"
   },
   {
    "duration": 212,
    "start_time": "2022-11-26T19:51:46.977Z"
   },
   {
    "duration": 144,
    "start_time": "2022-11-26T19:51:47.191Z"
   },
   {
    "duration": 192,
    "start_time": "2022-11-26T19:51:47.337Z"
   },
   {
    "duration": 161,
    "start_time": "2022-11-26T19:51:47.530Z"
   },
   {
    "duration": 142,
    "start_time": "2022-11-26T19:51:47.692Z"
   },
   {
    "duration": 7,
    "start_time": "2022-11-26T19:51:47.835Z"
   },
   {
    "duration": 54,
    "start_time": "2022-11-26T20:00:48.280Z"
   },
   {
    "duration": 11,
    "start_time": "2022-11-26T20:05:52.681Z"
   },
   {
    "duration": 28,
    "start_time": "2022-11-26T20:14:02.563Z"
   },
   {
    "duration": 21,
    "start_time": "2022-11-26T20:17:19.050Z"
   },
   {
    "duration": 37,
    "start_time": "2022-11-26T20:18:26.720Z"
   },
   {
    "duration": 73,
    "start_time": "2022-11-26T20:18:48.385Z"
   },
   {
    "duration": 103,
    "start_time": "2022-11-26T20:20:02.424Z"
   },
   {
    "duration": 34,
    "start_time": "2022-11-26T20:21:24.039Z"
   },
   {
    "duration": 184,
    "start_time": "2022-11-26T20:21:50.422Z"
   },
   {
    "duration": 89,
    "start_time": "2022-11-26T20:28:58.213Z"
   },
   {
    "duration": 3,
    "start_time": "2022-11-26T20:29:08.344Z"
   },
   {
    "duration": 21,
    "start_time": "2022-11-26T20:29:18.297Z"
   },
   {
    "duration": 37,
    "start_time": "2022-11-26T20:32:23.527Z"
   },
   {
    "duration": 1014,
    "start_time": "2022-11-26T20:34:29.243Z"
   },
   {
    "duration": 191,
    "start_time": "2022-11-26T20:36:14.242Z"
   },
   {
    "duration": 29,
    "start_time": "2022-11-26T20:36:37.745Z"
   },
   {
    "duration": 69,
    "start_time": "2022-11-26T20:36:55.832Z"
   },
   {
    "duration": 67,
    "start_time": "2022-11-26T20:37:09.224Z"
   },
   {
    "duration": 71,
    "start_time": "2022-11-26T20:37:23.461Z"
   },
   {
    "duration": 4,
    "start_time": "2022-11-26T20:37:30.372Z"
   },
   {
    "duration": 5,
    "start_time": "2022-11-26T20:37:46.371Z"
   },
   {
    "duration": 29,
    "start_time": "2022-11-26T20:37:58.655Z"
   },
   {
    "duration": 18,
    "start_time": "2022-11-26T20:38:22.087Z"
   },
   {
    "duration": 23,
    "start_time": "2022-11-26T20:38:41.829Z"
   },
   {
    "duration": 18,
    "start_time": "2022-11-26T20:39:19.385Z"
   },
   {
    "duration": 24,
    "start_time": "2022-11-26T20:39:40.734Z"
   },
   {
    "duration": 24,
    "start_time": "2022-11-26T20:40:00.681Z"
   },
   {
    "duration": 76,
    "start_time": "2022-11-26T20:40:29.911Z"
   },
   {
    "duration": 19,
    "start_time": "2022-11-26T20:40:40.343Z"
   },
   {
    "duration": 69,
    "start_time": "2022-11-26T20:42:54.522Z"
   },
   {
    "duration": 18,
    "start_time": "2022-11-26T20:59:29.849Z"
   },
   {
    "duration": 11,
    "start_time": "2022-11-26T21:08:01.228Z"
   },
   {
    "duration": 12,
    "start_time": "2022-11-26T21:09:05.583Z"
   },
   {
    "duration": 3,
    "start_time": "2022-11-26T21:09:11.049Z"
   },
   {
    "duration": 137,
    "start_time": "2022-11-26T21:09:11.054Z"
   },
   {
    "duration": 42,
    "start_time": "2022-11-26T21:09:11.193Z"
   },
   {
    "duration": 17,
    "start_time": "2022-11-26T21:09:11.238Z"
   },
   {
    "duration": 2071,
    "start_time": "2022-11-26T21:09:11.258Z"
   },
   {
    "duration": 8,
    "start_time": "2022-11-26T21:09:13.331Z"
   },
   {
    "duration": 22,
    "start_time": "2022-11-26T21:09:13.341Z"
   },
   {
    "duration": 38,
    "start_time": "2022-11-26T21:09:13.365Z"
   },
   {
    "duration": 81,
    "start_time": "2022-11-26T21:09:13.406Z"
   },
   {
    "duration": 7,
    "start_time": "2022-11-26T21:09:13.489Z"
   },
   {
    "duration": 97,
    "start_time": "2022-11-26T21:09:13.498Z"
   },
   {
    "duration": 434,
    "start_time": "2022-11-26T21:09:13.596Z"
   },
   {
    "duration": 329,
    "start_time": "2022-11-26T21:09:14.032Z"
   },
   {
    "duration": 394,
    "start_time": "2022-11-26T21:09:14.363Z"
   },
   {
    "duration": 271,
    "start_time": "2022-11-26T21:09:14.759Z"
   },
   {
    "duration": 262,
    "start_time": "2022-11-26T21:09:15.032Z"
   },
   {
    "duration": 395,
    "start_time": "2022-11-26T21:09:15.296Z"
   },
   {
    "duration": 314,
    "start_time": "2022-11-26T21:09:15.694Z"
   },
   {
    "duration": 175,
    "start_time": "2022-11-26T21:09:16.013Z"
   },
   {
    "duration": 140,
    "start_time": "2022-11-26T21:09:16.189Z"
   },
   {
    "duration": 181,
    "start_time": "2022-11-26T21:09:16.331Z"
   },
   {
    "duration": 153,
    "start_time": "2022-11-26T21:09:16.514Z"
   },
   {
    "duration": 157,
    "start_time": "2022-11-26T21:09:16.669Z"
   },
   {
    "duration": 147,
    "start_time": "2022-11-26T21:09:16.828Z"
   },
   {
    "duration": 209,
    "start_time": "2022-11-26T21:09:16.976Z"
   },
   {
    "duration": 166,
    "start_time": "2022-11-26T21:09:17.186Z"
   },
   {
    "duration": 212,
    "start_time": "2022-11-26T21:09:17.354Z"
   },
   {
    "duration": 191,
    "start_time": "2022-11-26T21:09:17.572Z"
   },
   {
    "duration": 252,
    "start_time": "2022-11-26T21:09:17.765Z"
   },
   {
    "duration": 159,
    "start_time": "2022-11-26T21:09:18.019Z"
   },
   {
    "duration": 206,
    "start_time": "2022-11-26T21:09:18.180Z"
   },
   {
    "duration": 165,
    "start_time": "2022-11-26T21:09:18.388Z"
   },
   {
    "duration": 137,
    "start_time": "2022-11-26T21:09:18.555Z"
   },
   {
    "duration": 138,
    "start_time": "2022-11-26T21:09:18.694Z"
   },
   {
    "duration": 148,
    "start_time": "2022-11-26T21:09:18.834Z"
   },
   {
    "duration": 198,
    "start_time": "2022-11-26T21:09:18.984Z"
   },
   {
    "duration": 31,
    "start_time": "2022-11-26T21:09:19.184Z"
   },
   {
    "duration": 27,
    "start_time": "2022-11-26T21:09:19.219Z"
   },
   {
    "duration": 78,
    "start_time": "2022-11-26T21:18:36.220Z"
   },
   {
    "duration": 10,
    "start_time": "2022-11-26T21:19:14.137Z"
   },
   {
    "duration": 75,
    "start_time": "2022-11-26T21:19:28.926Z"
   },
   {
    "duration": 8,
    "start_time": "2022-11-26T21:19:37.987Z"
   },
   {
    "duration": 9,
    "start_time": "2022-11-26T21:19:47.749Z"
   },
   {
    "duration": 19,
    "start_time": "2022-11-26T21:21:02.319Z"
   },
   {
    "duration": 8,
    "start_time": "2022-11-26T21:21:10.269Z"
   },
   {
    "duration": 3,
    "start_time": "2022-11-26T21:21:27.884Z"
   },
   {
    "duration": 104,
    "start_time": "2022-11-26T21:21:27.889Z"
   },
   {
    "duration": 26,
    "start_time": "2022-11-26T21:21:27.995Z"
   },
   {
    "duration": 19,
    "start_time": "2022-11-26T21:21:28.023Z"
   },
   {
    "duration": 1976,
    "start_time": "2022-11-26T21:21:28.044Z"
   },
   {
    "duration": 8,
    "start_time": "2022-11-26T21:21:30.022Z"
   },
   {
    "duration": 38,
    "start_time": "2022-11-26T21:21:30.032Z"
   },
   {
    "duration": 21,
    "start_time": "2022-11-26T21:21:30.072Z"
   },
   {
    "duration": 53,
    "start_time": "2022-11-26T21:21:30.095Z"
   },
   {
    "duration": 6,
    "start_time": "2022-11-26T21:21:30.150Z"
   },
   {
    "duration": 102,
    "start_time": "2022-11-26T21:21:30.159Z"
   },
   {
    "duration": 334,
    "start_time": "2022-11-26T21:21:30.263Z"
   },
   {
    "duration": 246,
    "start_time": "2022-11-26T21:21:30.598Z"
   },
   {
    "duration": 345,
    "start_time": "2022-11-26T21:21:30.846Z"
   },
   {
    "duration": 236,
    "start_time": "2022-11-26T21:21:31.192Z"
   },
   {
    "duration": 224,
    "start_time": "2022-11-26T21:21:31.430Z"
   },
   {
    "duration": 262,
    "start_time": "2022-11-26T21:21:31.655Z"
   },
   {
    "duration": 138,
    "start_time": "2022-11-26T21:21:31.919Z"
   },
   {
    "duration": 183,
    "start_time": "2022-11-26T21:21:32.058Z"
   },
   {
    "duration": 136,
    "start_time": "2022-11-26T21:21:32.243Z"
   },
   {
    "duration": 231,
    "start_time": "2022-11-26T21:21:32.381Z"
   },
   {
    "duration": 127,
    "start_time": "2022-11-26T21:21:32.614Z"
   },
   {
    "duration": 127,
    "start_time": "2022-11-26T21:21:32.743Z"
   },
   {
    "duration": 152,
    "start_time": "2022-11-26T21:21:32.872Z"
   },
   {
    "duration": 137,
    "start_time": "2022-11-26T21:21:33.025Z"
   },
   {
    "duration": 131,
    "start_time": "2022-11-26T21:21:33.163Z"
   },
   {
    "duration": 143,
    "start_time": "2022-11-26T21:21:33.304Z"
   },
   {
    "duration": 123,
    "start_time": "2022-11-26T21:21:33.449Z"
   },
   {
    "duration": 148,
    "start_time": "2022-11-26T21:21:33.576Z"
   },
   {
    "duration": 136,
    "start_time": "2022-11-26T21:21:33.726Z"
   },
   {
    "duration": 159,
    "start_time": "2022-11-26T21:21:33.864Z"
   },
   {
    "duration": 224,
    "start_time": "2022-11-26T21:21:34.025Z"
   },
   {
    "duration": 121,
    "start_time": "2022-11-26T21:21:34.250Z"
   },
   {
    "duration": 136,
    "start_time": "2022-11-26T21:21:34.373Z"
   },
   {
    "duration": 139,
    "start_time": "2022-11-26T21:21:34.511Z"
   },
   {
    "duration": 141,
    "start_time": "2022-11-26T21:21:34.652Z"
   },
   {
    "duration": 24,
    "start_time": "2022-11-26T21:21:34.795Z"
   },
   {
    "duration": 8,
    "start_time": "2022-11-26T21:21:34.821Z"
   },
   {
    "duration": 11,
    "start_time": "2022-11-26T21:21:57.509Z"
   },
   {
    "duration": 30,
    "start_time": "2022-11-26T21:22:45.541Z"
   },
   {
    "duration": 22,
    "start_time": "2022-11-26T21:25:03.269Z"
   },
   {
    "duration": 24,
    "start_time": "2022-11-26T21:25:27.745Z"
   },
   {
    "duration": 16,
    "start_time": "2022-11-26T21:25:38.284Z"
   },
   {
    "duration": 25,
    "start_time": "2022-11-26T21:26:37.285Z"
   },
   {
    "duration": 1227,
    "start_time": "2022-11-26T21:38:55.138Z"
   },
   {
    "duration": 17,
    "start_time": "2022-11-26T21:39:31.833Z"
   },
   {
    "duration": 1205,
    "start_time": "2022-11-26T21:40:54.405Z"
   },
   {
    "duration": 154,
    "start_time": "2022-11-26T21:43:34.869Z"
   },
   {
    "duration": 171,
    "start_time": "2022-11-26T21:44:11.684Z"
   },
   {
    "duration": 71,
    "start_time": "2022-11-26T21:46:58.141Z"
   },
   {
    "duration": 28,
    "start_time": "2022-11-26T21:52:33.240Z"
   },
   {
    "duration": 237,
    "start_time": "2022-11-26T21:53:03.807Z"
   },
   {
    "duration": 232,
    "start_time": "2022-11-26T21:53:24.206Z"
   },
   {
    "duration": 217,
    "start_time": "2022-11-26T21:53:32.034Z"
   },
   {
    "duration": 324,
    "start_time": "2022-11-26T21:53:38.382Z"
   },
   {
    "duration": 246,
    "start_time": "2022-11-26T21:55:49.705Z"
   },
   {
    "duration": 249,
    "start_time": "2022-11-26T21:56:04.194Z"
   },
   {
    "duration": 3,
    "start_time": "2022-11-26T21:56:13.049Z"
   },
   {
    "duration": 124,
    "start_time": "2022-11-26T21:56:13.054Z"
   },
   {
    "duration": 45,
    "start_time": "2022-11-26T21:56:13.180Z"
   },
   {
    "duration": 21,
    "start_time": "2022-11-26T21:56:13.227Z"
   },
   {
    "duration": 2206,
    "start_time": "2022-11-26T21:56:13.251Z"
   },
   {
    "duration": 9,
    "start_time": "2022-11-26T21:56:15.458Z"
   },
   {
    "duration": 25,
    "start_time": "2022-11-26T21:56:15.469Z"
   },
   {
    "duration": 37,
    "start_time": "2022-11-26T21:56:15.496Z"
   },
   {
    "duration": 108,
    "start_time": "2022-11-26T21:56:15.535Z"
   },
   {
    "duration": 10,
    "start_time": "2022-11-26T21:56:15.646Z"
   },
   {
    "duration": 91,
    "start_time": "2022-11-26T21:56:15.658Z"
   },
   {
    "duration": 347,
    "start_time": "2022-11-26T21:56:15.751Z"
   },
   {
    "duration": 257,
    "start_time": "2022-11-26T21:56:16.105Z"
   },
   {
    "duration": 357,
    "start_time": "2022-11-26T21:56:16.364Z"
   },
   {
    "duration": 346,
    "start_time": "2022-11-26T21:56:16.723Z"
   },
   {
    "duration": 500,
    "start_time": "2022-11-26T21:56:17.071Z"
   },
   {
    "duration": 399,
    "start_time": "2022-11-26T21:56:17.573Z"
   },
   {
    "duration": 206,
    "start_time": "2022-11-26T21:56:17.974Z"
   },
   {
    "duration": 251,
    "start_time": "2022-11-26T21:56:18.183Z"
   },
   {
    "duration": 182,
    "start_time": "2022-11-26T21:56:18.436Z"
   },
   {
    "duration": 209,
    "start_time": "2022-11-26T21:56:18.620Z"
   },
   {
    "duration": 196,
    "start_time": "2022-11-26T21:56:18.831Z"
   },
   {
    "duration": 177,
    "start_time": "2022-11-26T21:56:19.031Z"
   },
   {
    "duration": 218,
    "start_time": "2022-11-26T21:56:19.210Z"
   },
   {
    "duration": 188,
    "start_time": "2022-11-26T21:56:19.430Z"
   },
   {
    "duration": 303,
    "start_time": "2022-11-26T21:56:19.620Z"
   },
   {
    "duration": 257,
    "start_time": "2022-11-26T21:56:19.925Z"
   },
   {
    "duration": 195,
    "start_time": "2022-11-26T21:56:20.186Z"
   },
   {
    "duration": 198,
    "start_time": "2022-11-26T21:56:20.383Z"
   },
   {
    "duration": 207,
    "start_time": "2022-11-26T21:56:20.583Z"
   },
   {
    "duration": 213,
    "start_time": "2022-11-26T21:56:20.792Z"
   },
   {
    "duration": 168,
    "start_time": "2022-11-26T21:56:21.007Z"
   },
   {
    "duration": 137,
    "start_time": "2022-11-26T21:56:21.177Z"
   },
   {
    "duration": 207,
    "start_time": "2022-11-26T21:56:21.315Z"
   },
   {
    "duration": 234,
    "start_time": "2022-11-26T21:56:21.525Z"
   },
   {
    "duration": 206,
    "start_time": "2022-11-26T21:56:21.761Z"
   },
   {
    "duration": 44,
    "start_time": "2022-11-26T21:56:21.970Z"
   },
   {
    "duration": 241,
    "start_time": "2022-11-26T21:56:22.016Z"
   },
   {
    "duration": 222,
    "start_time": "2022-11-26T22:08:11.075Z"
   },
   {
    "duration": 247,
    "start_time": "2022-11-26T22:08:22.368Z"
   },
   {
    "duration": 1382,
    "start_time": "2022-11-26T22:11:41.337Z"
   },
   {
    "duration": 1310,
    "start_time": "2022-11-26T22:12:19.224Z"
   },
   {
    "duration": 172,
    "start_time": "2022-11-26T22:12:38.196Z"
   },
   {
    "duration": 81,
    "start_time": "2022-11-26T23:16:06.030Z"
   },
   {
    "duration": 18,
    "start_time": "2022-11-27T00:02:41.988Z"
   },
   {
    "duration": 70,
    "start_time": "2022-11-27T00:04:37.752Z"
   },
   {
    "duration": 46,
    "start_time": "2022-11-27T00:04:46.073Z"
   },
   {
    "duration": 77,
    "start_time": "2022-11-27T00:07:27.316Z"
   },
   {
    "duration": 47,
    "start_time": "2022-11-27T00:07:53.794Z"
   },
   {
    "duration": 58,
    "start_time": "2022-11-27T00:08:15.943Z"
   },
   {
    "duration": 2,
    "start_time": "2022-11-27T00:08:24.194Z"
   },
   {
    "duration": 123,
    "start_time": "2022-11-27T00:08:24.218Z"
   },
   {
    "duration": 23,
    "start_time": "2022-11-27T00:08:24.342Z"
   },
   {
    "duration": 40,
    "start_time": "2022-11-27T00:08:24.367Z"
   },
   {
    "duration": 1995,
    "start_time": "2022-11-27T00:08:24.409Z"
   },
   {
    "duration": 11,
    "start_time": "2022-11-27T00:08:26.408Z"
   },
   {
    "duration": 37,
    "start_time": "2022-11-27T00:08:26.421Z"
   },
   {
    "duration": 29,
    "start_time": "2022-11-27T00:08:26.460Z"
   },
   {
    "duration": 75,
    "start_time": "2022-11-27T00:08:26.490Z"
   },
   {
    "duration": 6,
    "start_time": "2022-11-27T00:08:26.566Z"
   },
   {
    "duration": 86,
    "start_time": "2022-11-27T00:08:26.574Z"
   },
   {
    "duration": 377,
    "start_time": "2022-11-27T00:08:26.662Z"
   },
   {
    "duration": 248,
    "start_time": "2022-11-27T00:08:27.041Z"
   },
   {
    "duration": 303,
    "start_time": "2022-11-27T00:08:27.291Z"
   },
   {
    "duration": 251,
    "start_time": "2022-11-27T00:08:27.597Z"
   },
   {
    "duration": 419,
    "start_time": "2022-11-27T00:08:27.850Z"
   },
   {
    "duration": 289,
    "start_time": "2022-11-27T00:08:28.271Z"
   },
   {
    "duration": 146,
    "start_time": "2022-11-27T00:08:28.562Z"
   },
   {
    "duration": 177,
    "start_time": "2022-11-27T00:08:28.710Z"
   },
   {
    "duration": 136,
    "start_time": "2022-11-27T00:08:28.888Z"
   },
   {
    "duration": 143,
    "start_time": "2022-11-27T00:08:29.025Z"
   },
   {
    "duration": 129,
    "start_time": "2022-11-27T00:08:29.169Z"
   },
   {
    "duration": 137,
    "start_time": "2022-11-27T00:08:29.299Z"
   },
   {
    "duration": 151,
    "start_time": "2022-11-27T00:08:29.438Z"
   },
   {
    "duration": 254,
    "start_time": "2022-11-27T00:08:29.591Z"
   },
   {
    "duration": 128,
    "start_time": "2022-11-27T00:08:29.847Z"
   },
   {
    "duration": 186,
    "start_time": "2022-11-27T00:08:29.976Z"
   },
   {
    "duration": 130,
    "start_time": "2022-11-27T00:08:30.164Z"
   },
   {
    "duration": 146,
    "start_time": "2022-11-27T00:08:30.296Z"
   },
   {
    "duration": 143,
    "start_time": "2022-11-27T00:08:30.443Z"
   },
   {
    "duration": 148,
    "start_time": "2022-11-27T00:08:30.587Z"
   },
   {
    "duration": 146,
    "start_time": "2022-11-27T00:08:30.736Z"
   },
   {
    "duration": 140,
    "start_time": "2022-11-27T00:08:30.883Z"
   },
   {
    "duration": 141,
    "start_time": "2022-11-27T00:08:31.025Z"
   },
   {
    "duration": 158,
    "start_time": "2022-11-27T00:08:31.168Z"
   },
   {
    "duration": 157,
    "start_time": "2022-11-27T00:08:31.328Z"
   },
   {
    "duration": 37,
    "start_time": "2022-11-27T00:08:31.487Z"
   },
   {
    "duration": 166,
    "start_time": "2022-11-27T00:08:31.526Z"
   },
   {
    "duration": 62,
    "start_time": "2022-11-27T00:10:39.924Z"
   },
   {
    "duration": 61,
    "start_time": "2022-11-27T00:11:07.527Z"
   },
   {
    "duration": 4,
    "start_time": "2022-11-27T00:11:17.287Z"
   },
   {
    "duration": 110,
    "start_time": "2022-11-27T00:11:17.293Z"
   },
   {
    "duration": 34,
    "start_time": "2022-11-27T00:11:17.405Z"
   },
   {
    "duration": 15,
    "start_time": "2022-11-27T00:11:17.442Z"
   },
   {
    "duration": 1932,
    "start_time": "2022-11-27T00:11:17.459Z"
   },
   {
    "duration": 16,
    "start_time": "2022-11-27T00:11:19.393Z"
   },
   {
    "duration": 35,
    "start_time": "2022-11-27T00:11:19.410Z"
   },
   {
    "duration": 17,
    "start_time": "2022-11-27T00:11:19.446Z"
   },
   {
    "duration": 81,
    "start_time": "2022-11-27T00:11:19.466Z"
   },
   {
    "duration": 6,
    "start_time": "2022-11-27T00:11:19.548Z"
   },
   {
    "duration": 89,
    "start_time": "2022-11-27T00:11:19.555Z"
   },
   {
    "duration": 326,
    "start_time": "2022-11-27T00:11:19.646Z"
   },
   {
    "duration": 359,
    "start_time": "2022-11-27T00:11:19.974Z"
   },
   {
    "duration": 239,
    "start_time": "2022-11-27T00:11:20.334Z"
   },
   {
    "duration": 232,
    "start_time": "2022-11-27T00:11:20.575Z"
   },
   {
    "duration": 229,
    "start_time": "2022-11-27T00:11:20.809Z"
   },
   {
    "duration": 245,
    "start_time": "2022-11-27T00:11:21.039Z"
   },
   {
    "duration": 164,
    "start_time": "2022-11-27T00:11:21.285Z"
   },
   {
    "duration": 291,
    "start_time": "2022-11-27T00:11:21.450Z"
   },
   {
    "duration": 170,
    "start_time": "2022-11-27T00:11:21.742Z"
   },
   {
    "duration": 222,
    "start_time": "2022-11-27T00:11:21.914Z"
   },
   {
    "duration": 180,
    "start_time": "2022-11-27T00:11:22.138Z"
   },
   {
    "duration": 121,
    "start_time": "2022-11-27T00:11:22.320Z"
   },
   {
    "duration": 151,
    "start_time": "2022-11-27T00:11:22.444Z"
   },
   {
    "duration": 154,
    "start_time": "2022-11-27T00:11:22.597Z"
   },
   {
    "duration": 125,
    "start_time": "2022-11-27T00:11:22.753Z"
   },
   {
    "duration": 165,
    "start_time": "2022-11-27T00:11:22.880Z"
   },
   {
    "duration": 118,
    "start_time": "2022-11-27T00:11:23.046Z"
   },
   {
    "duration": 122,
    "start_time": "2022-11-27T00:11:23.166Z"
   },
   {
    "duration": 133,
    "start_time": "2022-11-27T00:11:23.289Z"
   },
   {
    "duration": 129,
    "start_time": "2022-11-27T00:11:23.423Z"
   },
   {
    "duration": 139,
    "start_time": "2022-11-27T00:11:23.554Z"
   },
   {
    "duration": 229,
    "start_time": "2022-11-27T00:11:23.695Z"
   },
   {
    "duration": 135,
    "start_time": "2022-11-27T00:11:23.926Z"
   },
   {
    "duration": 137,
    "start_time": "2022-11-27T00:11:24.062Z"
   },
   {
    "duration": 148,
    "start_time": "2022-11-27T00:11:24.201Z"
   },
   {
    "duration": 19,
    "start_time": "2022-11-27T00:11:24.351Z"
   },
   {
    "duration": 170,
    "start_time": "2022-11-27T00:11:24.371Z"
   },
   {
    "duration": 3,
    "start_time": "2022-11-27T01:11:14.418Z"
   },
   {
    "duration": 101,
    "start_time": "2022-11-27T01:11:14.422Z"
   },
   {
    "duration": 23,
    "start_time": "2022-11-27T01:11:14.525Z"
   },
   {
    "duration": 12,
    "start_time": "2022-11-27T01:11:14.550Z"
   },
   {
    "duration": 1933,
    "start_time": "2022-11-27T01:11:14.564Z"
   },
   {
    "duration": 11,
    "start_time": "2022-11-27T01:11:16.499Z"
   },
   {
    "duration": 29,
    "start_time": "2022-11-27T01:11:16.513Z"
   },
   {
    "duration": 32,
    "start_time": "2022-11-27T01:11:16.543Z"
   },
   {
    "duration": 80,
    "start_time": "2022-11-27T01:11:16.576Z"
   },
   {
    "duration": 7,
    "start_time": "2022-11-27T01:11:16.657Z"
   },
   {
    "duration": 85,
    "start_time": "2022-11-27T01:11:16.665Z"
   },
   {
    "duration": 367,
    "start_time": "2022-11-27T01:11:16.752Z"
   },
   {
    "duration": 245,
    "start_time": "2022-11-27T01:11:17.121Z"
   },
   {
    "duration": 252,
    "start_time": "2022-11-27T01:11:17.369Z"
   },
   {
    "duration": 378,
    "start_time": "2022-11-27T01:11:17.622Z"
   },
   {
    "duration": 256,
    "start_time": "2022-11-27T01:11:18.006Z"
   },
   {
    "duration": 262,
    "start_time": "2022-11-27T01:11:18.264Z"
   },
   {
    "duration": 133,
    "start_time": "2022-11-27T01:11:18.528Z"
   },
   {
    "duration": 167,
    "start_time": "2022-11-27T01:11:18.663Z"
   },
   {
    "duration": 126,
    "start_time": "2022-11-27T01:11:18.832Z"
   },
   {
    "duration": 159,
    "start_time": "2022-11-27T01:11:18.960Z"
   },
   {
    "duration": 118,
    "start_time": "2022-11-27T01:11:19.121Z"
   },
   {
    "duration": 121,
    "start_time": "2022-11-27T01:11:19.241Z"
   },
   {
    "duration": 264,
    "start_time": "2022-11-27T01:11:19.363Z"
   },
   {
    "duration": 143,
    "start_time": "2022-11-27T01:11:19.628Z"
   },
   {
    "duration": 148,
    "start_time": "2022-11-27T01:11:19.773Z"
   },
   {
    "duration": 155,
    "start_time": "2022-11-27T01:11:19.922Z"
   },
   {
    "duration": 128,
    "start_time": "2022-11-27T01:11:20.079Z"
   },
   {
    "duration": 136,
    "start_time": "2022-11-27T01:11:20.210Z"
   },
   {
    "duration": 135,
    "start_time": "2022-11-27T01:11:20.348Z"
   },
   {
    "duration": 144,
    "start_time": "2022-11-27T01:11:20.484Z"
   },
   {
    "duration": 138,
    "start_time": "2022-11-27T01:11:20.630Z"
   },
   {
    "duration": 123,
    "start_time": "2022-11-27T01:11:20.770Z"
   },
   {
    "duration": 147,
    "start_time": "2022-11-27T01:11:20.894Z"
   },
   {
    "duration": 144,
    "start_time": "2022-11-27T01:11:21.043Z"
   },
   {
    "duration": 153,
    "start_time": "2022-11-27T01:11:21.189Z"
   },
   {
    "duration": 19,
    "start_time": "2022-11-27T01:11:21.344Z"
   },
   {
    "duration": 199,
    "start_time": "2022-11-27T01:11:21.365Z"
   },
   {
    "duration": 3,
    "start_time": "2022-11-27T01:12:31.021Z"
   },
   {
    "duration": 123,
    "start_time": "2022-11-27T01:12:31.025Z"
   },
   {
    "duration": 25,
    "start_time": "2022-11-27T01:12:31.150Z"
   },
   {
    "duration": 53,
    "start_time": "2022-11-27T01:12:31.177Z"
   },
   {
    "duration": 1957,
    "start_time": "2022-11-27T01:12:31.232Z"
   },
   {
    "duration": 16,
    "start_time": "2022-11-27T01:12:33.190Z"
   },
   {
    "duration": 25,
    "start_time": "2022-11-27T01:12:33.209Z"
   },
   {
    "duration": 17,
    "start_time": "2022-11-27T01:12:33.236Z"
   },
   {
    "duration": 89,
    "start_time": "2022-11-27T01:12:33.254Z"
   },
   {
    "duration": 7,
    "start_time": "2022-11-27T01:12:33.345Z"
   },
   {
    "duration": 91,
    "start_time": "2022-11-27T01:12:33.355Z"
   },
   {
    "duration": 347,
    "start_time": "2022-11-27T01:12:33.448Z"
   },
   {
    "duration": 368,
    "start_time": "2022-11-27T01:12:33.796Z"
   },
   {
    "duration": 257,
    "start_time": "2022-11-27T01:12:34.165Z"
   },
   {
    "duration": 240,
    "start_time": "2022-11-27T01:12:34.424Z"
   },
   {
    "duration": 231,
    "start_time": "2022-11-27T01:12:34.665Z"
   },
   {
    "duration": 268,
    "start_time": "2022-11-27T01:12:34.897Z"
   },
   {
    "duration": 137,
    "start_time": "2022-11-27T01:12:35.167Z"
   },
   {
    "duration": 293,
    "start_time": "2022-11-27T01:12:35.306Z"
   },
   {
    "duration": 130,
    "start_time": "2022-11-27T01:12:35.604Z"
   },
   {
    "duration": 140,
    "start_time": "2022-11-27T01:12:35.736Z"
   },
   {
    "duration": 141,
    "start_time": "2022-11-27T01:12:35.878Z"
   },
   {
    "duration": 126,
    "start_time": "2022-11-27T01:12:36.021Z"
   },
   {
    "duration": 166,
    "start_time": "2022-11-27T01:12:36.148Z"
   },
   {
    "duration": 149,
    "start_time": "2022-11-27T01:12:36.317Z"
   },
   {
    "duration": 140,
    "start_time": "2022-11-27T01:12:36.468Z"
   },
   {
    "duration": 163,
    "start_time": "2022-11-27T01:12:36.611Z"
   },
   {
    "duration": 131,
    "start_time": "2022-11-27T01:12:36.776Z"
   },
   {
    "duration": 137,
    "start_time": "2022-11-27T01:12:36.911Z"
   },
   {
    "duration": 138,
    "start_time": "2022-11-27T01:12:37.050Z"
   },
   {
    "duration": 154,
    "start_time": "2022-11-27T01:12:37.189Z"
   },
   {
    "duration": 166,
    "start_time": "2022-11-27T01:12:37.345Z"
   },
   {
    "duration": 133,
    "start_time": "2022-11-27T01:12:37.514Z"
   },
   {
    "duration": 137,
    "start_time": "2022-11-27T01:12:37.648Z"
   },
   {
    "duration": 275,
    "start_time": "2022-11-27T01:12:37.787Z"
   },
   {
    "duration": 160,
    "start_time": "2022-11-27T01:12:38.064Z"
   },
   {
    "duration": 19,
    "start_time": "2022-11-27T01:12:38.226Z"
   },
   {
    "duration": 187,
    "start_time": "2022-11-27T01:12:38.247Z"
   },
   {
    "duration": 3,
    "start_time": "2022-11-27T01:14:33.993Z"
   },
   {
    "duration": 117,
    "start_time": "2022-11-27T01:14:33.997Z"
   },
   {
    "duration": 24,
    "start_time": "2022-11-27T01:14:34.117Z"
   },
   {
    "duration": 18,
    "start_time": "2022-11-27T01:14:34.144Z"
   },
   {
    "duration": 1908,
    "start_time": "2022-11-27T01:14:34.164Z"
   },
   {
    "duration": 7,
    "start_time": "2022-11-27T01:14:36.073Z"
   },
   {
    "duration": 29,
    "start_time": "2022-11-27T01:14:36.081Z"
   },
   {
    "duration": 26,
    "start_time": "2022-11-27T01:14:36.113Z"
   },
   {
    "duration": 86,
    "start_time": "2022-11-27T01:14:36.142Z"
   },
   {
    "duration": 6,
    "start_time": "2022-11-27T01:14:36.230Z"
   },
   {
    "duration": 71,
    "start_time": "2022-11-27T01:14:36.238Z"
   },
   {
    "duration": 352,
    "start_time": "2022-11-27T01:14:36.312Z"
   },
   {
    "duration": 231,
    "start_time": "2022-11-27T01:14:36.665Z"
   },
   {
    "duration": 253,
    "start_time": "2022-11-27T01:14:36.897Z"
   },
   {
    "duration": 271,
    "start_time": "2022-11-27T01:14:37.153Z"
   },
   {
    "duration": 391,
    "start_time": "2022-11-27T01:14:37.425Z"
   },
   {
    "duration": 251,
    "start_time": "2022-11-27T01:14:37.818Z"
   },
   {
    "duration": 149,
    "start_time": "2022-11-27T01:14:38.070Z"
   },
   {
    "duration": 184,
    "start_time": "2022-11-27T01:14:38.221Z"
   },
   {
    "duration": 139,
    "start_time": "2022-11-27T01:14:38.407Z"
   },
   {
    "duration": 137,
    "start_time": "2022-11-27T01:14:38.547Z"
   },
   {
    "duration": 140,
    "start_time": "2022-11-27T01:14:38.686Z"
   },
   {
    "duration": 123,
    "start_time": "2022-11-27T01:14:38.828Z"
   },
   {
    "duration": 161,
    "start_time": "2022-11-27T01:14:38.954Z"
   },
   {
    "duration": 143,
    "start_time": "2022-11-27T01:14:39.117Z"
   },
   {
    "duration": 125,
    "start_time": "2022-11-27T01:14:39.262Z"
   },
   {
    "duration": 175,
    "start_time": "2022-11-27T01:14:39.388Z"
   },
   {
    "duration": 118,
    "start_time": "2022-11-27T01:14:39.564Z"
   },
   {
    "duration": 263,
    "start_time": "2022-11-27T01:14:39.684Z"
   },
   {
    "duration": 129,
    "start_time": "2022-11-27T01:14:39.949Z"
   },
   {
    "duration": 149,
    "start_time": "2022-11-27T01:14:40.079Z"
   },
   {
    "duration": 134,
    "start_time": "2022-11-27T01:14:40.229Z"
   },
   {
    "duration": 127,
    "start_time": "2022-11-27T01:14:40.365Z"
   },
   {
    "duration": 148,
    "start_time": "2022-11-27T01:14:40.493Z"
   },
   {
    "duration": 136,
    "start_time": "2022-11-27T01:14:40.642Z"
   },
   {
    "duration": 146,
    "start_time": "2022-11-27T01:14:40.779Z"
   },
   {
    "duration": 27,
    "start_time": "2022-11-27T01:14:40.927Z"
   },
   {
    "duration": 168,
    "start_time": "2022-11-27T01:14:40.955Z"
   },
   {
    "duration": 406,
    "start_time": "2022-11-27T07:17:19.992Z"
   },
   {
    "duration": 105,
    "start_time": "2022-11-27T07:17:20.401Z"
   },
   {
    "duration": 40,
    "start_time": "2022-11-27T07:17:20.508Z"
   },
   {
    "duration": 22,
    "start_time": "2022-11-27T07:17:20.550Z"
   },
   {
    "duration": 2459,
    "start_time": "2022-11-27T07:17:20.575Z"
   },
   {
    "duration": 9,
    "start_time": "2022-11-27T07:17:23.036Z"
   },
   {
    "duration": 33,
    "start_time": "2022-11-27T07:17:23.048Z"
   },
   {
    "duration": 21,
    "start_time": "2022-11-27T07:17:23.083Z"
   },
   {
    "duration": 102,
    "start_time": "2022-11-27T07:17:23.106Z"
   },
   {
    "duration": 9,
    "start_time": "2022-11-27T07:17:23.211Z"
   },
   {
    "duration": 114,
    "start_time": "2022-11-27T07:17:23.222Z"
   },
   {
    "duration": 353,
    "start_time": "2022-11-27T07:17:23.339Z"
   },
   {
    "duration": 292,
    "start_time": "2022-11-27T07:17:23.694Z"
   },
   {
    "duration": 393,
    "start_time": "2022-11-27T07:17:23.988Z"
   },
   {
    "duration": 254,
    "start_time": "2022-11-27T07:17:24.383Z"
   },
   {
    "duration": 253,
    "start_time": "2022-11-27T07:17:24.639Z"
   },
   {
    "duration": 292,
    "start_time": "2022-11-27T07:17:24.894Z"
   },
   {
    "duration": 149,
    "start_time": "2022-11-27T07:17:25.188Z"
   },
   {
    "duration": 189,
    "start_time": "2022-11-27T07:17:25.340Z"
   },
   {
    "duration": 146,
    "start_time": "2022-11-27T07:17:25.531Z"
   },
   {
    "duration": 204,
    "start_time": "2022-11-27T07:17:25.679Z"
   },
   {
    "duration": 223,
    "start_time": "2022-11-27T07:17:25.886Z"
   },
   {
    "duration": 132,
    "start_time": "2022-11-27T07:17:26.111Z"
   },
   {
    "duration": 154,
    "start_time": "2022-11-27T07:17:26.244Z"
   },
   {
    "duration": 155,
    "start_time": "2022-11-27T07:17:26.400Z"
   },
   {
    "duration": 158,
    "start_time": "2022-11-27T07:17:26.557Z"
   },
   {
    "duration": 199,
    "start_time": "2022-11-27T07:17:26.717Z"
   },
   {
    "duration": 147,
    "start_time": "2022-11-27T07:17:26.919Z"
   },
   {
    "duration": 148,
    "start_time": "2022-11-27T07:17:27.068Z"
   },
   {
    "duration": 162,
    "start_time": "2022-11-27T07:17:27.217Z"
   },
   {
    "duration": 142,
    "start_time": "2022-11-27T07:17:27.381Z"
   },
   {
    "duration": 164,
    "start_time": "2022-11-27T07:17:27.525Z"
   },
   {
    "duration": 222,
    "start_time": "2022-11-27T07:17:27.691Z"
   },
   {
    "duration": 152,
    "start_time": "2022-11-27T07:17:27.915Z"
   },
   {
    "duration": 148,
    "start_time": "2022-11-27T07:17:28.069Z"
   },
   {
    "duration": 157,
    "start_time": "2022-11-27T07:17:28.219Z"
   },
   {
    "duration": 20,
    "start_time": "2022-11-27T07:17:28.377Z"
   },
   {
    "duration": 198,
    "start_time": "2022-11-27T07:17:28.398Z"
   },
   {
    "duration": 15,
    "start_time": "2022-11-27T07:18:15.291Z"
   },
   {
    "duration": 21,
    "start_time": "2022-11-27T07:19:10.032Z"
   },
   {
    "duration": 147,
    "start_time": "2022-11-27T07:19:13.933Z"
   },
   {
    "duration": 7,
    "start_time": "2022-11-27T07:19:33.511Z"
   },
   {
    "duration": 113,
    "start_time": "2022-11-28T20:20:31.192Z"
   },
   {
    "duration": 41,
    "start_time": "2022-11-28T20:21:20.526Z"
   },
   {
    "duration": 6,
    "start_time": "2022-11-28T20:24:57.991Z"
   },
   {
    "duration": 448,
    "start_time": "2022-11-28T20:25:03.795Z"
   },
   {
    "duration": 3,
    "start_time": "2022-11-28T20:25:04.246Z"
   },
   {
    "duration": 154,
    "start_time": "2022-11-28T20:25:04.252Z"
   },
   {
    "duration": 29,
    "start_time": "2022-11-28T20:25:04.407Z"
   },
   {
    "duration": 15,
    "start_time": "2022-11-28T20:25:04.438Z"
   },
   {
    "duration": 2278,
    "start_time": "2022-11-28T20:25:04.454Z"
   },
   {
    "duration": 8,
    "start_time": "2022-11-28T20:25:06.733Z"
   },
   {
    "duration": 26,
    "start_time": "2022-11-28T20:25:06.742Z"
   },
   {
    "duration": 28,
    "start_time": "2022-11-28T20:25:06.770Z"
   },
   {
    "duration": 69,
    "start_time": "2022-11-28T20:25:06.799Z"
   },
   {
    "duration": 6,
    "start_time": "2022-11-28T20:25:06.869Z"
   },
   {
    "duration": 75,
    "start_time": "2022-11-28T20:25:06.877Z"
   },
   {
    "duration": 319,
    "start_time": "2022-11-28T20:25:06.953Z"
   },
   {
    "duration": 228,
    "start_time": "2022-11-28T20:25:07.275Z"
   },
   {
    "duration": 327,
    "start_time": "2022-11-28T20:25:07.505Z"
   },
   {
    "duration": 227,
    "start_time": "2022-11-28T20:25:07.834Z"
   },
   {
    "duration": 217,
    "start_time": "2022-11-28T20:25:08.063Z"
   },
   {
    "duration": 238,
    "start_time": "2022-11-28T20:25:08.281Z"
   },
   {
    "duration": 133,
    "start_time": "2022-11-28T20:25:08.521Z"
   },
   {
    "duration": 157,
    "start_time": "2022-11-28T20:25:08.655Z"
   },
   {
    "duration": 115,
    "start_time": "2022-11-28T20:25:08.814Z"
   },
   {
    "duration": 213,
    "start_time": "2022-11-28T20:25:08.931Z"
   },
   {
    "duration": 130,
    "start_time": "2022-11-28T20:25:09.146Z"
   },
   {
    "duration": 115,
    "start_time": "2022-11-28T20:25:09.278Z"
   },
   {
    "duration": 142,
    "start_time": "2022-11-28T20:25:09.394Z"
   },
   {
    "duration": 125,
    "start_time": "2022-11-28T20:25:09.537Z"
   },
   {
    "duration": 127,
    "start_time": "2022-11-28T20:25:09.663Z"
   },
   {
    "duration": 160,
    "start_time": "2022-11-28T20:25:09.792Z"
   },
   {
    "duration": 122,
    "start_time": "2022-11-28T20:25:09.954Z"
   },
   {
    "duration": 131,
    "start_time": "2022-11-28T20:25:10.077Z"
   },
   {
    "duration": 131,
    "start_time": "2022-11-28T20:25:10.209Z"
   },
   {
    "duration": 129,
    "start_time": "2022-11-28T20:25:10.342Z"
   },
   {
    "duration": 215,
    "start_time": "2022-11-28T20:25:10.473Z"
   },
   {
    "duration": 119,
    "start_time": "2022-11-28T20:25:10.689Z"
   },
   {
    "duration": 132,
    "start_time": "2022-11-28T20:25:10.810Z"
   },
   {
    "duration": 138,
    "start_time": "2022-11-28T20:25:10.943Z"
   },
   {
    "duration": 141,
    "start_time": "2022-11-28T20:25:11.082Z"
   },
   {
    "duration": 19,
    "start_time": "2022-11-28T20:25:11.225Z"
   },
   {
    "duration": 160,
    "start_time": "2022-11-28T20:25:11.245Z"
   },
   {
    "duration": 93,
    "start_time": "2022-11-28T20:38:21.377Z"
   },
   {
    "duration": 74,
    "start_time": "2022-11-28T20:38:52.816Z"
   },
   {
    "duration": 2660,
    "start_time": "2022-11-28T20:39:01.866Z"
   },
   {
    "duration": 2538,
    "start_time": "2022-11-28T20:39:13.865Z"
   },
   {
    "duration": 85,
    "start_time": "2022-11-28T20:48:04.184Z"
   },
   {
    "duration": 89,
    "start_time": "2022-11-28T20:48:14.571Z"
   },
   {
    "duration": 2616,
    "start_time": "2022-11-28T20:48:26.844Z"
   },
   {
    "duration": 71,
    "start_time": "2022-11-28T20:48:57.480Z"
   },
   {
    "duration": 2652,
    "start_time": "2022-11-28T20:49:03.014Z"
   },
   {
    "duration": 2543,
    "start_time": "2022-11-28T20:49:15.952Z"
   },
   {
    "duration": 101,
    "start_time": "2022-11-28T20:49:32.034Z"
   },
   {
    "duration": 86,
    "start_time": "2022-11-28T20:49:42.085Z"
   },
   {
    "duration": 67,
    "start_time": "2022-11-28T20:51:58.640Z"
   },
   {
    "duration": 2526,
    "start_time": "2022-11-28T20:52:13.190Z"
   },
   {
    "duration": 3,
    "start_time": "2022-11-28T20:52:34.087Z"
   },
   {
    "duration": 13,
    "start_time": "2022-11-28T20:52:34.092Z"
   },
   {
    "duration": 123,
    "start_time": "2022-11-28T20:52:34.107Z"
   },
   {
    "duration": 29,
    "start_time": "2022-11-28T20:52:34.233Z"
   },
   {
    "duration": 35,
    "start_time": "2022-11-28T20:52:34.263Z"
   },
   {
    "duration": 1989,
    "start_time": "2022-11-28T20:52:34.300Z"
   },
   {
    "duration": 7,
    "start_time": "2022-11-28T20:52:36.290Z"
   },
   {
    "duration": 47,
    "start_time": "2022-11-28T20:52:36.299Z"
   },
   {
    "duration": 26,
    "start_time": "2022-11-28T20:52:36.349Z"
   },
   {
    "duration": 90,
    "start_time": "2022-11-28T20:52:36.377Z"
   },
   {
    "duration": 7,
    "start_time": "2022-11-28T20:52:36.468Z"
   },
   {
    "duration": 75,
    "start_time": "2022-11-28T20:52:36.476Z"
   },
   {
    "duration": 348,
    "start_time": "2022-11-28T20:52:36.552Z"
   },
   {
    "duration": 244,
    "start_time": "2022-11-28T20:52:36.903Z"
   },
   {
    "duration": 352,
    "start_time": "2022-11-28T20:52:37.149Z"
   },
   {
    "duration": 247,
    "start_time": "2022-11-28T20:52:37.502Z"
   },
   {
    "duration": 252,
    "start_time": "2022-11-28T20:52:37.751Z"
   },
   {
    "duration": 249,
    "start_time": "2022-11-28T20:52:38.004Z"
   },
   {
    "duration": 133,
    "start_time": "2022-11-28T20:52:38.255Z"
   },
   {
    "duration": 174,
    "start_time": "2022-11-28T20:52:38.389Z"
   },
   {
    "duration": 134,
    "start_time": "2022-11-28T20:52:38.565Z"
   },
   {
    "duration": 160,
    "start_time": "2022-11-28T20:52:38.701Z"
   },
   {
    "duration": 227,
    "start_time": "2022-11-28T20:52:38.862Z"
   },
   {
    "duration": 125,
    "start_time": "2022-11-28T20:52:39.092Z"
   },
   {
    "duration": 154,
    "start_time": "2022-11-28T20:52:39.222Z"
   },
   {
    "duration": 160,
    "start_time": "2022-11-28T20:52:39.377Z"
   },
   {
    "duration": 141,
    "start_time": "2022-11-28T20:52:39.539Z"
   },
   {
    "duration": 169,
    "start_time": "2022-11-28T20:52:39.682Z"
   },
   {
    "duration": 127,
    "start_time": "2022-11-28T20:52:39.853Z"
   },
   {
    "duration": 146,
    "start_time": "2022-11-28T20:52:39.982Z"
   },
   {
    "duration": 125,
    "start_time": "2022-11-28T20:52:40.130Z"
   },
   {
    "duration": 131,
    "start_time": "2022-11-28T20:52:40.257Z"
   },
   {
    "duration": 151,
    "start_time": "2022-11-28T20:52:40.390Z"
   },
   {
    "duration": 203,
    "start_time": "2022-11-28T20:52:40.543Z"
   },
   {
    "duration": 137,
    "start_time": "2022-11-28T20:52:40.748Z"
   },
   {
    "duration": 148,
    "start_time": "2022-11-28T20:52:40.886Z"
   },
   {
    "duration": 142,
    "start_time": "2022-11-28T20:52:41.036Z"
   },
   {
    "duration": 19,
    "start_time": "2022-11-28T20:52:41.179Z"
   },
   {
    "duration": 176,
    "start_time": "2022-11-28T20:52:41.199Z"
   },
   {
    "duration": 84,
    "start_time": "2022-11-28T20:53:11.297Z"
   },
   {
    "duration": 84,
    "start_time": "2022-11-28T20:53:14.483Z"
   },
   {
    "duration": 83,
    "start_time": "2022-11-28T20:53:17.664Z"
   },
   {
    "duration": 65,
    "start_time": "2022-11-28T20:53:28.636Z"
   },
   {
    "duration": 79,
    "start_time": "2022-11-28T20:53:46.256Z"
   },
   {
    "duration": 76,
    "start_time": "2022-11-28T20:53:48.968Z"
   },
   {
    "duration": 69,
    "start_time": "2022-11-28T20:53:53.036Z"
   },
   {
    "duration": 2594,
    "start_time": "2022-11-28T20:53:58.166Z"
   },
   {
    "duration": 82,
    "start_time": "2022-11-28T20:55:22.858Z"
   },
   {
    "duration": 85,
    "start_time": "2022-11-28T20:55:26.095Z"
   },
   {
    "duration": 69,
    "start_time": "2022-11-28T20:55:38.376Z"
   },
   {
    "duration": 80,
    "start_time": "2022-11-28T20:55:41.156Z"
   },
   {
    "duration": 77,
    "start_time": "2022-11-28T20:56:29.137Z"
   },
   {
    "duration": 2636,
    "start_time": "2022-11-28T20:56:38.937Z"
   },
   {
    "duration": 2500,
    "start_time": "2022-11-28T20:57:01.316Z"
   },
   {
    "duration": 76,
    "start_time": "2022-11-28T20:57:14.420Z"
   },
   {
    "duration": 2558,
    "start_time": "2022-11-28T20:57:19.464Z"
   },
   {
    "duration": 2585,
    "start_time": "2022-11-28T20:57:26.328Z"
   },
   {
    "duration": 84,
    "start_time": "2022-11-28T21:05:54.563Z"
   },
   {
    "duration": 75,
    "start_time": "2022-11-28T21:05:57.384Z"
   },
   {
    "duration": 71,
    "start_time": "2022-11-28T21:05:59.239Z"
   },
   {
    "duration": 73,
    "start_time": "2022-11-28T21:06:02.461Z"
   },
   {
    "duration": 2345,
    "start_time": "2022-11-28T21:06:17.111Z"
   },
   {
    "duration": 74,
    "start_time": "2022-11-28T21:07:26.351Z"
   },
   {
    "duration": 74,
    "start_time": "2022-11-28T21:07:34.953Z"
   },
   {
    "duration": 66,
    "start_time": "2022-11-28T21:07:47.694Z"
   },
   {
    "duration": 68,
    "start_time": "2022-11-28T21:11:00.497Z"
   },
   {
    "duration": 76,
    "start_time": "2022-11-28T21:11:11.792Z"
   },
   {
    "duration": 71,
    "start_time": "2022-11-28T21:11:15.605Z"
   },
   {
    "duration": 70,
    "start_time": "2022-11-28T21:11:20.273Z"
   },
   {
    "duration": 2485,
    "start_time": "2022-11-28T21:11:23.869Z"
   },
   {
    "duration": 68,
    "start_time": "2022-11-28T21:11:59.828Z"
   },
   {
    "duration": 75,
    "start_time": "2022-11-28T21:12:12.519Z"
   },
   {
    "duration": 71,
    "start_time": "2022-11-28T21:12:17.966Z"
   },
   {
    "duration": 73,
    "start_time": "2022-11-28T21:12:25.388Z"
   },
   {
    "duration": 72,
    "start_time": "2022-11-28T21:12:53.863Z"
   },
   {
    "duration": 2408,
    "start_time": "2022-11-28T21:12:59.437Z"
   },
   {
    "duration": 2433,
    "start_time": "2022-11-28T21:13:14.817Z"
   },
   {
    "duration": 2424,
    "start_time": "2022-11-28T21:13:26.615Z"
   },
   {
    "duration": 2358,
    "start_time": "2022-11-28T21:13:39.745Z"
   },
   {
    "duration": 4,
    "start_time": "2022-11-28T21:15:24.531Z"
   },
   {
    "duration": 2396,
    "start_time": "2022-11-28T21:15:26.860Z"
   },
   {
    "duration": 2484,
    "start_time": "2022-11-28T21:15:54.453Z"
   },
   {
    "duration": 68,
    "start_time": "2022-11-28T21:16:47.413Z"
   },
   {
    "duration": 2441,
    "start_time": "2022-11-28T21:18:10.812Z"
   },
   {
    "duration": 2451,
    "start_time": "2022-11-28T21:18:31.647Z"
   },
   {
    "duration": 71,
    "start_time": "2022-11-28T21:18:58.380Z"
   },
   {
    "duration": 71,
    "start_time": "2022-11-28T21:19:04.973Z"
   },
   {
    "duration": 69,
    "start_time": "2022-11-28T21:19:08.388Z"
   },
   {
    "duration": 2630,
    "start_time": "2022-11-28T21:19:31.759Z"
   },
   {
    "duration": 2706,
    "start_time": "2022-11-28T21:19:54.953Z"
   },
   {
    "duration": 2560,
    "start_time": "2022-11-28T21:21:13.787Z"
   },
   {
    "duration": 84,
    "start_time": "2022-11-28T21:22:01.611Z"
   },
   {
    "duration": 12,
    "start_time": "2022-11-28T21:48:27.205Z"
   },
   {
    "duration": 21,
    "start_time": "2022-11-28T21:49:02.336Z"
   },
   {
    "duration": 22,
    "start_time": "2022-11-28T21:49:32.427Z"
   },
   {
    "duration": 17,
    "start_time": "2022-11-28T21:49:52.845Z"
   },
   {
    "duration": 18,
    "start_time": "2022-11-28T21:52:27.770Z"
   },
   {
    "duration": 17,
    "start_time": "2022-11-28T21:52:31.257Z"
   },
   {
    "duration": 3,
    "start_time": "2022-11-28T21:52:38.047Z"
   },
   {
    "duration": 6,
    "start_time": "2022-11-28T21:52:38.051Z"
   },
   {
    "duration": 94,
    "start_time": "2022-11-28T21:52:38.059Z"
   },
   {
    "duration": 20,
    "start_time": "2022-11-28T21:52:38.154Z"
   },
   {
    "duration": 17,
    "start_time": "2022-11-28T21:52:38.176Z"
   },
   {
    "duration": 2022,
    "start_time": "2022-11-28T21:52:38.194Z"
   },
   {
    "duration": 28,
    "start_time": "2022-11-28T21:52:40.217Z"
   },
   {
    "duration": 22,
    "start_time": "2022-11-28T21:52:40.247Z"
   },
   {
    "duration": 14,
    "start_time": "2022-11-28T21:52:40.271Z"
   },
   {
    "duration": 89,
    "start_time": "2022-11-28T21:52:40.287Z"
   },
   {
    "duration": 7,
    "start_time": "2022-11-28T21:52:40.377Z"
   },
   {
    "duration": 75,
    "start_time": "2022-11-28T21:52:40.386Z"
   },
   {
    "duration": 316,
    "start_time": "2022-11-28T21:52:40.465Z"
   },
   {
    "duration": 250,
    "start_time": "2022-11-28T21:52:40.783Z"
   },
   {
    "duration": 411,
    "start_time": "2022-11-28T21:52:41.039Z"
   },
   {
    "duration": 257,
    "start_time": "2022-11-28T21:52:41.452Z"
   },
   {
    "duration": 240,
    "start_time": "2022-11-28T21:52:41.711Z"
   },
   {
    "duration": 238,
    "start_time": "2022-11-28T21:52:41.953Z"
   },
   {
    "duration": 149,
    "start_time": "2022-11-28T21:52:42.193Z"
   },
   {
    "duration": 163,
    "start_time": "2022-11-28T21:52:42.344Z"
   },
   {
    "duration": 134,
    "start_time": "2022-11-28T21:52:42.508Z"
   },
   {
    "duration": 153,
    "start_time": "2022-11-28T21:52:42.644Z"
   },
   {
    "duration": 154,
    "start_time": "2022-11-28T21:52:42.799Z"
   },
   {
    "duration": 137,
    "start_time": "2022-11-28T21:52:42.955Z"
   },
   {
    "duration": 161,
    "start_time": "2022-11-28T21:52:43.095Z"
   },
   {
    "duration": 147,
    "start_time": "2022-11-28T21:52:43.258Z"
   },
   {
    "duration": 319,
    "start_time": "2022-11-28T21:52:43.407Z"
   },
   {
    "duration": 159,
    "start_time": "2022-11-28T21:52:43.727Z"
   },
   {
    "duration": 123,
    "start_time": "2022-11-28T21:52:43.888Z"
   },
   {
    "duration": 155,
    "start_time": "2022-11-28T21:52:44.013Z"
   },
   {
    "duration": 171,
    "start_time": "2022-11-28T21:52:44.170Z"
   },
   {
    "duration": 132,
    "start_time": "2022-11-28T21:52:44.343Z"
   },
   {
    "duration": 138,
    "start_time": "2022-11-28T21:52:44.477Z"
   },
   {
    "duration": 131,
    "start_time": "2022-11-28T21:52:44.623Z"
   },
   {
    "duration": 127,
    "start_time": "2022-11-28T21:52:44.756Z"
   },
   {
    "duration": 138,
    "start_time": "2022-11-28T21:52:44.885Z"
   },
   {
    "duration": 146,
    "start_time": "2022-11-28T21:52:45.030Z"
   },
   {
    "duration": 19,
    "start_time": "2022-11-28T21:52:45.177Z"
   },
   {
    "duration": 171,
    "start_time": "2022-11-28T21:52:45.197Z"
   },
   {
    "duration": 19,
    "start_time": "2022-11-28T22:03:47.901Z"
   },
   {
    "duration": 20,
    "start_time": "2022-11-28T22:04:02.373Z"
   },
   {
    "duration": 18,
    "start_time": "2022-11-28T22:07:46.982Z"
   },
   {
    "duration": 2,
    "start_time": "2022-11-28T22:07:57.358Z"
   },
   {
    "duration": 6,
    "start_time": "2022-11-28T22:07:57.362Z"
   },
   {
    "duration": 88,
    "start_time": "2022-11-28T22:07:57.369Z"
   },
   {
    "duration": 20,
    "start_time": "2022-11-28T22:07:57.459Z"
   },
   {
    "duration": 16,
    "start_time": "2022-11-28T22:07:57.480Z"
   },
   {
    "duration": 1905,
    "start_time": "2022-11-28T22:07:57.497Z"
   },
   {
    "duration": 27,
    "start_time": "2022-11-28T22:07:59.403Z"
   },
   {
    "duration": 15,
    "start_time": "2022-11-28T22:07:59.431Z"
   },
   {
    "duration": 14,
    "start_time": "2022-11-28T22:07:59.449Z"
   },
   {
    "duration": 81,
    "start_time": "2022-11-28T22:07:59.464Z"
   },
   {
    "duration": 6,
    "start_time": "2022-11-28T22:07:59.547Z"
   },
   {
    "duration": 68,
    "start_time": "2022-11-28T22:07:59.555Z"
   },
   {
    "duration": 297,
    "start_time": "2022-11-28T22:07:59.625Z"
   },
   {
    "duration": 214,
    "start_time": "2022-11-28T22:07:59.924Z"
   },
   {
    "duration": 240,
    "start_time": "2022-11-28T22:08:00.140Z"
   },
   {
    "duration": 433,
    "start_time": "2022-11-28T22:08:00.381Z"
   },
   {
    "duration": 244,
    "start_time": "2022-11-28T22:08:00.816Z"
   },
   {
    "duration": 245,
    "start_time": "2022-11-28T22:08:01.061Z"
   },
   {
    "duration": 141,
    "start_time": "2022-11-28T22:08:01.308Z"
   },
   {
    "duration": 174,
    "start_time": "2022-11-28T22:08:01.450Z"
   },
   {
    "duration": 143,
    "start_time": "2022-11-28T22:08:01.626Z"
   },
   {
    "duration": 189,
    "start_time": "2022-11-28T22:08:01.770Z"
   },
   {
    "duration": 136,
    "start_time": "2022-11-28T22:08:01.961Z"
   },
   {
    "duration": 135,
    "start_time": "2022-11-28T22:08:02.099Z"
   },
   {
    "duration": 132,
    "start_time": "2022-11-28T22:08:02.235Z"
   },
   {
    "duration": 135,
    "start_time": "2022-11-28T22:08:02.369Z"
   },
   {
    "duration": 131,
    "start_time": "2022-11-28T22:08:02.505Z"
   },
   {
    "duration": 143,
    "start_time": "2022-11-28T22:08:02.638Z"
   },
   {
    "duration": 123,
    "start_time": "2022-11-28T22:08:02.783Z"
   },
   {
    "duration": 135,
    "start_time": "2022-11-28T22:08:02.908Z"
   },
   {
    "duration": 140,
    "start_time": "2022-11-28T22:08:03.045Z"
   },
   {
    "duration": 305,
    "start_time": "2022-11-28T22:08:03.187Z"
   },
   {
    "duration": 145,
    "start_time": "2022-11-28T22:08:03.494Z"
   },
   {
    "duration": 135,
    "start_time": "2022-11-28T22:08:03.641Z"
   },
   {
    "duration": 136,
    "start_time": "2022-11-28T22:08:03.778Z"
   },
   {
    "duration": 128,
    "start_time": "2022-11-28T22:08:03.921Z"
   },
   {
    "duration": 137,
    "start_time": "2022-11-28T22:08:04.051Z"
   },
   {
    "duration": 19,
    "start_time": "2022-11-28T22:08:04.190Z"
   },
   {
    "duration": 203,
    "start_time": "2022-11-28T22:08:04.222Z"
   },
   {
    "duration": 20,
    "start_time": "2022-11-28T22:10:22.779Z"
   },
   {
    "duration": 46,
    "start_time": "2022-11-29T19:04:23.105Z"
   },
   {
    "duration": 397,
    "start_time": "2022-11-29T19:04:27.881Z"
   },
   {
    "duration": 3,
    "start_time": "2022-11-29T19:04:28.280Z"
   },
   {
    "duration": 339,
    "start_time": "2022-11-29T19:04:28.284Z"
   },
   {
    "duration": 29,
    "start_time": "2022-11-29T19:04:28.625Z"
   },
   {
    "duration": 16,
    "start_time": "2022-11-29T19:04:28.655Z"
   },
   {
    "duration": 2363,
    "start_time": "2022-11-29T19:04:28.672Z"
   },
   {
    "duration": 0,
    "start_time": "2022-11-29T19:04:31.038Z"
   },
   {
    "duration": 0,
    "start_time": "2022-11-29T19:04:31.039Z"
   },
   {
    "duration": 0,
    "start_time": "2022-11-29T19:04:31.040Z"
   },
   {
    "duration": 0,
    "start_time": "2022-11-29T19:04:31.041Z"
   },
   {
    "duration": 0,
    "start_time": "2022-11-29T19:04:31.042Z"
   },
   {
    "duration": 0,
    "start_time": "2022-11-29T19:04:31.043Z"
   },
   {
    "duration": 0,
    "start_time": "2022-11-29T19:04:31.044Z"
   },
   {
    "duration": 0,
    "start_time": "2022-11-29T19:04:31.046Z"
   },
   {
    "duration": 0,
    "start_time": "2022-11-29T19:04:31.047Z"
   },
   {
    "duration": 0,
    "start_time": "2022-11-29T19:04:31.048Z"
   },
   {
    "duration": 0,
    "start_time": "2022-11-29T19:04:31.054Z"
   },
   {
    "duration": 0,
    "start_time": "2022-11-29T19:04:31.055Z"
   },
   {
    "duration": 0,
    "start_time": "2022-11-29T19:04:31.056Z"
   },
   {
    "duration": 0,
    "start_time": "2022-11-29T19:04:31.057Z"
   },
   {
    "duration": 0,
    "start_time": "2022-11-29T19:04:31.059Z"
   },
   {
    "duration": 0,
    "start_time": "2022-11-29T19:04:31.059Z"
   },
   {
    "duration": 0,
    "start_time": "2022-11-29T19:04:31.060Z"
   },
   {
    "duration": 1,
    "start_time": "2022-11-29T19:04:31.061Z"
   },
   {
    "duration": 0,
    "start_time": "2022-11-29T19:04:31.062Z"
   },
   {
    "duration": 0,
    "start_time": "2022-11-29T19:04:31.063Z"
   },
   {
    "duration": 0,
    "start_time": "2022-11-29T19:04:31.064Z"
   },
   {
    "duration": 0,
    "start_time": "2022-11-29T19:04:31.066Z"
   },
   {
    "duration": 0,
    "start_time": "2022-11-29T19:04:31.067Z"
   },
   {
    "duration": 0,
    "start_time": "2022-11-29T19:04:31.067Z"
   },
   {
    "duration": 0,
    "start_time": "2022-11-29T19:04:31.068Z"
   },
   {
    "duration": 0,
    "start_time": "2022-11-29T19:04:31.069Z"
   },
   {
    "duration": 0,
    "start_time": "2022-11-29T19:04:31.070Z"
   },
   {
    "duration": 0,
    "start_time": "2022-11-29T19:04:31.071Z"
   },
   {
    "duration": 0,
    "start_time": "2022-11-29T19:04:31.072Z"
   },
   {
    "duration": 0,
    "start_time": "2022-11-29T19:04:31.073Z"
   },
   {
    "duration": 0,
    "start_time": "2022-11-29T19:04:31.074Z"
   },
   {
    "duration": 0,
    "start_time": "2022-11-29T19:04:31.075Z"
   },
   {
    "duration": 0,
    "start_time": "2022-11-29T19:04:31.076Z"
   },
   {
    "duration": 2,
    "start_time": "2022-11-29T19:06:04.675Z"
   },
   {
    "duration": 3,
    "start_time": "2022-11-29T19:06:12.067Z"
   },
   {
    "duration": 8,
    "start_time": "2022-11-29T19:06:12.072Z"
   },
   {
    "duration": 106,
    "start_time": "2022-11-29T19:06:12.081Z"
   },
   {
    "duration": 23,
    "start_time": "2022-11-29T19:06:12.190Z"
   },
   {
    "duration": 20,
    "start_time": "2022-11-29T19:06:12.215Z"
   },
   {
    "duration": 2114,
    "start_time": "2022-11-29T19:06:12.236Z"
   },
   {
    "duration": 18,
    "start_time": "2022-11-29T19:06:14.352Z"
   },
   {
    "duration": 16,
    "start_time": "2022-11-29T19:06:14.373Z"
   },
   {
    "duration": 19,
    "start_time": "2022-11-29T19:06:14.390Z"
   },
   {
    "duration": 101,
    "start_time": "2022-11-29T19:06:14.411Z"
   },
   {
    "duration": 7,
    "start_time": "2022-11-29T19:06:14.514Z"
   },
   {
    "duration": 80,
    "start_time": "2022-11-29T19:06:14.523Z"
   },
   {
    "duration": 406,
    "start_time": "2022-11-29T19:06:14.605Z"
   },
   {
    "duration": 254,
    "start_time": "2022-11-29T19:06:15.013Z"
   },
   {
    "duration": 260,
    "start_time": "2022-11-29T19:06:15.268Z"
   },
   {
    "duration": 369,
    "start_time": "2022-11-29T19:06:15.529Z"
   },
   {
    "duration": 248,
    "start_time": "2022-11-29T19:06:15.900Z"
   },
   {
    "duration": 263,
    "start_time": "2022-11-29T19:06:16.154Z"
   },
   {
    "duration": 144,
    "start_time": "2022-11-29T19:06:16.419Z"
   },
   {
    "duration": 166,
    "start_time": "2022-11-29T19:06:16.567Z"
   },
   {
    "duration": 143,
    "start_time": "2022-11-29T19:06:16.734Z"
   },
   {
    "duration": 162,
    "start_time": "2022-11-29T19:06:16.879Z"
   },
   {
    "duration": 151,
    "start_time": "2022-11-29T19:06:17.043Z"
   },
   {
    "duration": 234,
    "start_time": "2022-11-29T19:06:17.196Z"
   },
   {
    "duration": 153,
    "start_time": "2022-11-29T19:06:17.431Z"
   },
   {
    "duration": 153,
    "start_time": "2022-11-29T19:06:17.586Z"
   },
   {
    "duration": 151,
    "start_time": "2022-11-29T19:06:17.741Z"
   },
   {
    "duration": 168,
    "start_time": "2022-11-29T19:06:17.894Z"
   },
   {
    "duration": 124,
    "start_time": "2022-11-29T19:06:18.064Z"
   },
   {
    "duration": 134,
    "start_time": "2022-11-29T19:06:18.190Z"
   },
   {
    "duration": 160,
    "start_time": "2022-11-29T19:06:18.326Z"
   },
   {
    "duration": 133,
    "start_time": "2022-11-29T19:06:18.488Z"
   },
   {
    "duration": 145,
    "start_time": "2022-11-29T19:06:18.623Z"
   },
   {
    "duration": 137,
    "start_time": "2022-11-29T19:06:18.770Z"
   },
   {
    "duration": 227,
    "start_time": "2022-11-29T19:06:18.909Z"
   },
   {
    "duration": 151,
    "start_time": "2022-11-29T19:06:19.138Z"
   },
   {
    "duration": 153,
    "start_time": "2022-11-29T19:06:19.291Z"
   },
   {
    "duration": 26,
    "start_time": "2022-11-29T19:06:19.445Z"
   },
   {
    "duration": 183,
    "start_time": "2022-11-29T19:06:19.473Z"
   },
   {
    "duration": 2736,
    "start_time": "2022-11-29T19:09:14.255Z"
   },
   {
    "duration": 2614,
    "start_time": "2022-11-29T19:09:24.535Z"
   },
   {
    "duration": 23,
    "start_time": "2022-11-29T19:20:53.450Z"
   },
   {
    "duration": 21,
    "start_time": "2022-11-29T19:20:57.634Z"
   },
   {
    "duration": 22,
    "start_time": "2022-11-29T19:21:20.318Z"
   },
   {
    "duration": 21,
    "start_time": "2022-11-29T19:21:54.202Z"
   },
   {
    "duration": 2,
    "start_time": "2022-11-29T19:21:59.706Z"
   },
   {
    "duration": 6,
    "start_time": "2022-11-29T19:21:59.710Z"
   },
   {
    "duration": 93,
    "start_time": "2022-11-29T19:21:59.717Z"
   },
   {
    "duration": 23,
    "start_time": "2022-11-29T19:21:59.812Z"
   },
   {
    "duration": 34,
    "start_time": "2022-11-29T19:21:59.836Z"
   },
   {
    "duration": 2120,
    "start_time": "2022-11-29T19:21:59.872Z"
   },
   {
    "duration": 20,
    "start_time": "2022-11-29T19:22:01.994Z"
   },
   {
    "duration": 23,
    "start_time": "2022-11-29T19:22:02.015Z"
   },
   {
    "duration": 42,
    "start_time": "2022-11-29T19:22:02.041Z"
   },
   {
    "duration": 73,
    "start_time": "2022-11-29T19:22:02.084Z"
   },
   {
    "duration": 8,
    "start_time": "2022-11-29T19:22:02.159Z"
   },
   {
    "duration": 69,
    "start_time": "2022-11-29T19:22:02.168Z"
   },
   {
    "duration": 331,
    "start_time": "2022-11-29T19:22:02.254Z"
   },
   {
    "duration": 242,
    "start_time": "2022-11-29T19:22:02.586Z"
   },
   {
    "duration": 256,
    "start_time": "2022-11-29T19:22:02.830Z"
   },
   {
    "duration": 358,
    "start_time": "2022-11-29T19:22:03.088Z"
   },
   {
    "duration": 279,
    "start_time": "2022-11-29T19:22:03.454Z"
   },
   {
    "duration": 264,
    "start_time": "2022-11-29T19:22:03.735Z"
   },
   {
    "duration": 139,
    "start_time": "2022-11-29T19:22:04.001Z"
   },
   {
    "duration": 190,
    "start_time": "2022-11-29T19:22:04.142Z"
   },
   {
    "duration": 136,
    "start_time": "2022-11-29T19:22:04.334Z"
   },
   {
    "duration": 183,
    "start_time": "2022-11-29T19:22:04.473Z"
   },
   {
    "duration": 145,
    "start_time": "2022-11-29T19:22:04.658Z"
   },
   {
    "duration": 204,
    "start_time": "2022-11-29T19:22:04.806Z"
   },
   {
    "duration": 145,
    "start_time": "2022-11-29T19:22:05.012Z"
   },
   {
    "duration": 146,
    "start_time": "2022-11-29T19:22:05.158Z"
   },
   {
    "duration": 133,
    "start_time": "2022-11-29T19:22:05.305Z"
   },
   {
    "duration": 160,
    "start_time": "2022-11-29T19:22:05.440Z"
   },
   {
    "duration": 126,
    "start_time": "2022-11-29T19:22:05.602Z"
   },
   {
    "duration": 144,
    "start_time": "2022-11-29T19:22:05.731Z"
   },
   {
    "duration": 149,
    "start_time": "2022-11-29T19:22:05.877Z"
   },
   {
    "duration": 146,
    "start_time": "2022-11-29T19:22:06.028Z"
   },
   {
    "duration": 138,
    "start_time": "2022-11-29T19:22:06.176Z"
   },
   {
    "duration": 139,
    "start_time": "2022-11-29T19:22:06.316Z"
   },
   {
    "duration": 211,
    "start_time": "2022-11-29T19:22:06.456Z"
   },
   {
    "duration": 128,
    "start_time": "2022-11-29T19:22:06.668Z"
   },
   {
    "duration": 166,
    "start_time": "2022-11-29T19:22:06.799Z"
   },
   {
    "duration": 26,
    "start_time": "2022-11-29T19:22:06.967Z"
   },
   {
    "duration": 184,
    "start_time": "2022-11-29T19:22:06.994Z"
   },
   {
    "duration": 21,
    "start_time": "2022-11-29T19:36:11.991Z"
   },
   {
    "duration": 3,
    "start_time": "2022-11-29T19:36:16.580Z"
   },
   {
    "duration": 15,
    "start_time": "2022-11-29T19:36:16.585Z"
   },
   {
    "duration": 98,
    "start_time": "2022-11-29T19:36:16.602Z"
   },
   {
    "duration": 25,
    "start_time": "2022-11-29T19:36:16.703Z"
   },
   {
    "duration": 29,
    "start_time": "2022-11-29T19:36:16.731Z"
   },
   {
    "duration": 1959,
    "start_time": "2022-11-29T19:36:16.761Z"
   },
   {
    "duration": 20,
    "start_time": "2022-11-29T19:36:18.721Z"
   },
   {
    "duration": 26,
    "start_time": "2022-11-29T19:36:18.742Z"
   },
   {
    "duration": 23,
    "start_time": "2022-11-29T19:36:18.769Z"
   },
   {
    "duration": 87,
    "start_time": "2022-11-29T19:36:18.794Z"
   },
   {
    "duration": 8,
    "start_time": "2022-11-29T19:36:18.883Z"
   },
   {
    "duration": 82,
    "start_time": "2022-11-29T19:36:18.892Z"
   },
   {
    "duration": 379,
    "start_time": "2022-11-29T19:36:18.978Z"
   },
   {
    "duration": 253,
    "start_time": "2022-11-29T19:36:19.359Z"
   },
   {
    "duration": 243,
    "start_time": "2022-11-29T19:36:19.614Z"
   },
   {
    "duration": 373,
    "start_time": "2022-11-29T19:36:19.859Z"
   },
   {
    "duration": 244,
    "start_time": "2022-11-29T19:36:20.234Z"
   },
   {
    "duration": 262,
    "start_time": "2022-11-29T19:36:20.480Z"
   },
   {
    "duration": 161,
    "start_time": "2022-11-29T19:36:20.744Z"
   },
   {
    "duration": 187,
    "start_time": "2022-11-29T19:36:20.906Z"
   },
   {
    "duration": 121,
    "start_time": "2022-11-29T19:36:21.094Z"
   },
   {
    "duration": 150,
    "start_time": "2022-11-29T19:36:21.216Z"
   },
   {
    "duration": 154,
    "start_time": "2022-11-29T19:36:21.368Z"
   },
   {
    "duration": 139,
    "start_time": "2022-11-29T19:36:21.525Z"
   },
   {
    "duration": 253,
    "start_time": "2022-11-29T19:36:21.666Z"
   },
   {
    "duration": 151,
    "start_time": "2022-11-29T19:36:21.921Z"
   },
   {
    "duration": 129,
    "start_time": "2022-11-29T19:36:22.073Z"
   },
   {
    "duration": 165,
    "start_time": "2022-11-29T19:36:22.203Z"
   },
   {
    "duration": 131,
    "start_time": "2022-11-29T19:36:22.370Z"
   },
   {
    "duration": 145,
    "start_time": "2022-11-29T19:36:22.503Z"
   },
   {
    "duration": 145,
    "start_time": "2022-11-29T19:36:22.655Z"
   },
   {
    "duration": 132,
    "start_time": "2022-11-29T19:36:22.802Z"
   },
   {
    "duration": 170,
    "start_time": "2022-11-29T19:36:22.935Z"
   },
   {
    "duration": 138,
    "start_time": "2022-11-29T19:36:23.106Z"
   },
   {
    "duration": 138,
    "start_time": "2022-11-29T19:36:23.246Z"
   },
   {
    "duration": 230,
    "start_time": "2022-11-29T19:36:23.385Z"
   },
   {
    "duration": 171,
    "start_time": "2022-11-29T19:36:23.618Z"
   },
   {
    "duration": 20,
    "start_time": "2022-11-29T19:36:23.791Z"
   },
   {
    "duration": 174,
    "start_time": "2022-11-29T19:36:23.813Z"
   },
   {
    "duration": 21,
    "start_time": "2022-11-29T19:43:05.754Z"
   },
   {
    "duration": 74,
    "start_time": "2022-11-29T19:44:27.354Z"
   },
   {
    "duration": 3,
    "start_time": "2022-11-29T19:44:44.930Z"
   },
   {
    "duration": 13,
    "start_time": "2022-11-29T19:44:44.935Z"
   },
   {
    "duration": 96,
    "start_time": "2022-11-29T19:44:44.950Z"
   },
   {
    "duration": 22,
    "start_time": "2022-11-29T19:44:45.048Z"
   },
   {
    "duration": 25,
    "start_time": "2022-11-29T19:44:45.071Z"
   },
   {
    "duration": 1882,
    "start_time": "2022-11-29T19:44:45.097Z"
   },
   {
    "duration": 22,
    "start_time": "2022-11-29T19:44:46.983Z"
   },
   {
    "duration": 15,
    "start_time": "2022-11-29T19:44:47.007Z"
   },
   {
    "duration": 36,
    "start_time": "2022-11-29T19:44:47.025Z"
   },
   {
    "duration": 67,
    "start_time": "2022-11-29T19:44:47.063Z"
   },
   {
    "duration": 25,
    "start_time": "2022-11-29T19:44:47.132Z"
   },
   {
    "duration": 68,
    "start_time": "2022-11-29T19:44:47.159Z"
   },
   {
    "duration": 380,
    "start_time": "2022-11-29T19:44:47.229Z"
   },
   {
    "duration": 255,
    "start_time": "2022-11-29T19:44:47.611Z"
   },
   {
    "duration": 248,
    "start_time": "2022-11-29T19:44:47.868Z"
   },
   {
    "duration": 232,
    "start_time": "2022-11-29T19:44:48.118Z"
   },
   {
    "duration": 351,
    "start_time": "2022-11-29T19:44:48.355Z"
   },
   {
    "duration": 246,
    "start_time": "2022-11-29T19:44:48.708Z"
   },
   {
    "duration": 153,
    "start_time": "2022-11-29T19:44:48.955Z"
   },
   {
    "duration": 182,
    "start_time": "2022-11-29T19:44:49.109Z"
   },
   {
    "duration": 118,
    "start_time": "2022-11-29T19:44:49.293Z"
   },
   {
    "duration": 149,
    "start_time": "2022-11-29T19:44:49.413Z"
   },
   {
    "duration": 138,
    "start_time": "2022-11-29T19:44:49.564Z"
   },
   {
    "duration": 124,
    "start_time": "2022-11-29T19:44:49.705Z"
   },
   {
    "duration": 149,
    "start_time": "2022-11-29T19:44:49.831Z"
   },
   {
    "duration": 236,
    "start_time": "2022-11-29T19:44:49.982Z"
   },
   {
    "duration": 125,
    "start_time": "2022-11-29T19:44:50.220Z"
   },
   {
    "duration": 164,
    "start_time": "2022-11-29T19:44:50.347Z"
   },
   {
    "duration": 127,
    "start_time": "2022-11-29T19:44:50.513Z"
   },
   {
    "duration": 139,
    "start_time": "2022-11-29T19:44:50.641Z"
   },
   {
    "duration": 153,
    "start_time": "2022-11-29T19:44:50.782Z"
   },
   {
    "duration": 144,
    "start_time": "2022-11-29T19:44:50.937Z"
   },
   {
    "duration": 144,
    "start_time": "2022-11-29T19:44:51.083Z"
   },
   {
    "duration": 128,
    "start_time": "2022-11-29T19:44:51.229Z"
   },
   {
    "duration": 162,
    "start_time": "2022-11-29T19:44:51.359Z"
   },
   {
    "duration": 153,
    "start_time": "2022-11-29T19:44:51.523Z"
   },
   {
    "duration": 153,
    "start_time": "2022-11-29T19:44:51.677Z"
   },
   {
    "duration": 36,
    "start_time": "2022-11-29T19:44:51.832Z"
   },
   {
    "duration": 243,
    "start_time": "2022-11-29T19:44:51.870Z"
   },
   {
    "duration": 27,
    "start_time": "2022-11-29T19:46:04.967Z"
   },
   {
    "duration": 23,
    "start_time": "2022-11-29T19:46:27.378Z"
   },
   {
    "duration": 26,
    "start_time": "2022-11-29T19:48:55.037Z"
   },
   {
    "duration": 3,
    "start_time": "2022-11-29T19:49:09.909Z"
   },
   {
    "duration": 6,
    "start_time": "2022-11-29T19:49:09.914Z"
   },
   {
    "duration": 98,
    "start_time": "2022-11-29T19:49:09.921Z"
   },
   {
    "duration": 35,
    "start_time": "2022-11-29T19:49:10.021Z"
   },
   {
    "duration": 23,
    "start_time": "2022-11-29T19:49:10.060Z"
   },
   {
    "duration": 1778,
    "start_time": "2022-11-29T19:49:10.085Z"
   },
   {
    "duration": 134,
    "start_time": "2022-11-29T19:49:11.865Z"
   },
   {
    "duration": 16,
    "start_time": "2022-11-29T19:49:12.001Z"
   },
   {
    "duration": 18,
    "start_time": "2022-11-29T19:49:12.019Z"
   },
   {
    "duration": 65,
    "start_time": "2022-11-29T19:49:12.055Z"
   },
   {
    "duration": 8,
    "start_time": "2022-11-29T19:49:12.123Z"
   },
   {
    "duration": 77,
    "start_time": "2022-11-29T19:49:12.132Z"
   },
   {
    "duration": 347,
    "start_time": "2022-11-29T19:49:12.211Z"
   },
   {
    "duration": 238,
    "start_time": "2022-11-29T19:49:12.560Z"
   },
   {
    "duration": 260,
    "start_time": "2022-11-29T19:49:12.800Z"
   },
   {
    "duration": 240,
    "start_time": "2022-11-29T19:49:13.062Z"
   },
   {
    "duration": 249,
    "start_time": "2022-11-29T19:49:13.303Z"
   },
   {
    "duration": 389,
    "start_time": "2022-11-29T19:49:13.555Z"
   },
   {
    "duration": 156,
    "start_time": "2022-11-29T19:49:13.945Z"
   },
   {
    "duration": 174,
    "start_time": "2022-11-29T19:49:14.102Z"
   },
   {
    "duration": 129,
    "start_time": "2022-11-29T19:49:14.277Z"
   },
   {
    "duration": 187,
    "start_time": "2022-11-29T19:49:14.408Z"
   },
   {
    "duration": 160,
    "start_time": "2022-11-29T19:49:14.597Z"
   },
   {
    "duration": 129,
    "start_time": "2022-11-29T19:49:14.758Z"
   },
   {
    "duration": 167,
    "start_time": "2022-11-29T19:49:14.889Z"
   },
   {
    "duration": 140,
    "start_time": "2022-11-29T19:49:15.058Z"
   },
   {
    "duration": 126,
    "start_time": "2022-11-29T19:49:15.200Z"
   },
   {
    "duration": 256,
    "start_time": "2022-11-29T19:49:15.327Z"
   },
   {
    "duration": 129,
    "start_time": "2022-11-29T19:49:15.586Z"
   },
   {
    "duration": 141,
    "start_time": "2022-11-29T19:49:15.716Z"
   },
   {
    "duration": 141,
    "start_time": "2022-11-29T19:49:15.858Z"
   },
   {
    "duration": 136,
    "start_time": "2022-11-29T19:49:16.001Z"
   },
   {
    "duration": 145,
    "start_time": "2022-11-29T19:49:16.138Z"
   },
   {
    "duration": 133,
    "start_time": "2022-11-29T19:49:16.284Z"
   },
   {
    "duration": 136,
    "start_time": "2022-11-29T19:49:16.419Z"
   },
   {
    "duration": 143,
    "start_time": "2022-11-29T19:49:16.556Z"
   },
   {
    "duration": 142,
    "start_time": "2022-11-29T19:49:16.701Z"
   },
   {
    "duration": 28,
    "start_time": "2022-11-29T19:49:16.844Z"
   },
   {
    "duration": 168,
    "start_time": "2022-11-29T19:49:16.874Z"
   },
   {
    "duration": 22,
    "start_time": "2022-11-29T20:55:50.231Z"
   },
   {
    "duration": 3,
    "start_time": "2022-11-29T20:56:02.444Z"
   },
   {
    "duration": 6,
    "start_time": "2022-11-29T20:56:02.449Z"
   },
   {
    "duration": 91,
    "start_time": "2022-11-29T20:56:02.457Z"
   },
   {
    "duration": 23,
    "start_time": "2022-11-29T20:56:02.550Z"
   },
   {
    "duration": 17,
    "start_time": "2022-11-29T20:56:02.574Z"
   },
   {
    "duration": 1943,
    "start_time": "2022-11-29T20:56:02.593Z"
   },
   {
    "duration": 30,
    "start_time": "2022-11-29T20:56:04.538Z"
   },
   {
    "duration": 17,
    "start_time": "2022-11-29T20:56:04.570Z"
   },
   {
    "duration": 18,
    "start_time": "2022-11-29T20:56:04.590Z"
   },
   {
    "duration": 98,
    "start_time": "2022-11-29T20:56:04.609Z"
   },
   {
    "duration": 7,
    "start_time": "2022-11-29T20:56:04.709Z"
   },
   {
    "duration": 95,
    "start_time": "2022-11-29T20:56:04.717Z"
   },
   {
    "duration": 328,
    "start_time": "2022-11-29T20:56:04.814Z"
   },
   {
    "duration": 339,
    "start_time": "2022-11-29T20:56:05.143Z"
   },
   {
    "duration": 245,
    "start_time": "2022-11-29T20:56:05.483Z"
   },
   {
    "duration": 239,
    "start_time": "2022-11-29T20:56:05.729Z"
   },
   {
    "duration": 256,
    "start_time": "2022-11-29T20:56:05.970Z"
   },
   {
    "duration": 256,
    "start_time": "2022-11-29T20:56:06.228Z"
   },
   {
    "duration": 156,
    "start_time": "2022-11-29T20:56:06.485Z"
   },
   {
    "duration": 274,
    "start_time": "2022-11-29T20:56:06.642Z"
   },
   {
    "duration": 139,
    "start_time": "2022-11-29T20:56:06.917Z"
   },
   {
    "duration": 163,
    "start_time": "2022-11-29T20:56:07.058Z"
   },
   {
    "duration": 142,
    "start_time": "2022-11-29T20:56:07.222Z"
   },
   {
    "duration": 152,
    "start_time": "2022-11-29T20:56:07.367Z"
   },
   {
    "duration": 149,
    "start_time": "2022-11-29T20:56:07.520Z"
   },
   {
    "duration": 144,
    "start_time": "2022-11-29T20:56:07.670Z"
   },
   {
    "duration": 141,
    "start_time": "2022-11-29T20:56:07.815Z"
   },
   {
    "duration": 160,
    "start_time": "2022-11-29T20:56:07.958Z"
   },
   {
    "duration": 121,
    "start_time": "2022-11-29T20:56:08.120Z"
   },
   {
    "duration": 138,
    "start_time": "2022-11-29T20:56:08.243Z"
   },
   {
    "duration": 145,
    "start_time": "2022-11-29T20:56:08.383Z"
   },
   {
    "duration": 226,
    "start_time": "2022-11-29T20:56:08.530Z"
   },
   {
    "duration": 130,
    "start_time": "2022-11-29T20:56:08.758Z"
   },
   {
    "duration": 136,
    "start_time": "2022-11-29T20:56:08.890Z"
   },
   {
    "duration": 120,
    "start_time": "2022-11-29T20:56:09.028Z"
   },
   {
    "duration": 130,
    "start_time": "2022-11-29T20:56:09.155Z"
   },
   {
    "duration": 143,
    "start_time": "2022-11-29T20:56:09.287Z"
   },
   {
    "duration": 32,
    "start_time": "2022-11-29T20:56:09.432Z"
   },
   {
    "duration": 156,
    "start_time": "2022-11-29T20:56:09.466Z"
   },
   {
    "duration": 93,
    "start_time": "2022-11-29T20:59:02.901Z"
   },
   {
    "duration": 2,
    "start_time": "2022-11-29T20:59:16.123Z"
   },
   {
    "duration": 7,
    "start_time": "2022-11-29T20:59:16.127Z"
   },
   {
    "duration": 96,
    "start_time": "2022-11-29T20:59:16.136Z"
   },
   {
    "duration": 41,
    "start_time": "2022-11-29T20:59:16.235Z"
   },
   {
    "duration": 17,
    "start_time": "2022-11-29T20:59:16.277Z"
   },
   {
    "duration": 1980,
    "start_time": "2022-11-29T20:59:16.296Z"
   },
   {
    "duration": 38,
    "start_time": "2022-11-29T20:59:18.278Z"
   },
   {
    "duration": 0,
    "start_time": "2022-11-29T20:59:18.319Z"
   },
   {
    "duration": 0,
    "start_time": "2022-11-29T20:59:18.320Z"
   },
   {
    "duration": 0,
    "start_time": "2022-11-29T20:59:18.321Z"
   },
   {
    "duration": 0,
    "start_time": "2022-11-29T20:59:18.322Z"
   },
   {
    "duration": 0,
    "start_time": "2022-11-29T20:59:18.323Z"
   },
   {
    "duration": 0,
    "start_time": "2022-11-29T20:59:18.324Z"
   },
   {
    "duration": 0,
    "start_time": "2022-11-29T20:59:18.325Z"
   },
   {
    "duration": 0,
    "start_time": "2022-11-29T20:59:18.326Z"
   },
   {
    "duration": 0,
    "start_time": "2022-11-29T20:59:18.327Z"
   },
   {
    "duration": 0,
    "start_time": "2022-11-29T20:59:18.328Z"
   },
   {
    "duration": 0,
    "start_time": "2022-11-29T20:59:18.355Z"
   },
   {
    "duration": 0,
    "start_time": "2022-11-29T20:59:18.356Z"
   },
   {
    "duration": 0,
    "start_time": "2022-11-29T20:59:18.357Z"
   },
   {
    "duration": 0,
    "start_time": "2022-11-29T20:59:18.358Z"
   },
   {
    "duration": 0,
    "start_time": "2022-11-29T20:59:18.359Z"
   },
   {
    "duration": 0,
    "start_time": "2022-11-29T20:59:18.360Z"
   },
   {
    "duration": 0,
    "start_time": "2022-11-29T20:59:18.362Z"
   },
   {
    "duration": 0,
    "start_time": "2022-11-29T20:59:18.363Z"
   },
   {
    "duration": 0,
    "start_time": "2022-11-29T20:59:18.364Z"
   },
   {
    "duration": 0,
    "start_time": "2022-11-29T20:59:18.365Z"
   },
   {
    "duration": 0,
    "start_time": "2022-11-29T20:59:18.366Z"
   },
   {
    "duration": 0,
    "start_time": "2022-11-29T20:59:18.367Z"
   },
   {
    "duration": 0,
    "start_time": "2022-11-29T20:59:18.368Z"
   },
   {
    "duration": 0,
    "start_time": "2022-11-29T20:59:18.369Z"
   },
   {
    "duration": 0,
    "start_time": "2022-11-29T20:59:18.370Z"
   },
   {
    "duration": 0,
    "start_time": "2022-11-29T20:59:18.372Z"
   },
   {
    "duration": 0,
    "start_time": "2022-11-29T20:59:18.373Z"
   },
   {
    "duration": 0,
    "start_time": "2022-11-29T20:59:18.374Z"
   },
   {
    "duration": 0,
    "start_time": "2022-11-29T20:59:18.375Z"
   },
   {
    "duration": 0,
    "start_time": "2022-11-29T20:59:18.376Z"
   },
   {
    "duration": 0,
    "start_time": "2022-11-29T20:59:18.377Z"
   },
   {
    "duration": 0,
    "start_time": "2022-11-29T20:59:18.378Z"
   },
   {
    "duration": 19,
    "start_time": "2022-11-29T20:59:55.354Z"
   },
   {
    "duration": 45,
    "start_time": "2022-11-29T21:02:36.335Z"
   },
   {
    "duration": 3,
    "start_time": "2022-11-29T21:03:16.366Z"
   },
   {
    "duration": 7,
    "start_time": "2022-11-29T21:03:16.370Z"
   },
   {
    "duration": 102,
    "start_time": "2022-11-29T21:03:16.379Z"
   },
   {
    "duration": 22,
    "start_time": "2022-11-29T21:03:16.483Z"
   },
   {
    "duration": 22,
    "start_time": "2022-11-29T21:03:16.508Z"
   },
   {
    "duration": 1993,
    "start_time": "2022-11-29T21:03:16.532Z"
   },
   {
    "duration": 35,
    "start_time": "2022-11-29T21:03:18.527Z"
   },
   {
    "duration": 0,
    "start_time": "2022-11-29T21:03:18.565Z"
   },
   {
    "duration": 0,
    "start_time": "2022-11-29T21:03:18.566Z"
   },
   {
    "duration": 0,
    "start_time": "2022-11-29T21:03:18.567Z"
   },
   {
    "duration": 0,
    "start_time": "2022-11-29T21:03:18.568Z"
   },
   {
    "duration": 0,
    "start_time": "2022-11-29T21:03:18.569Z"
   },
   {
    "duration": 0,
    "start_time": "2022-11-29T21:03:18.571Z"
   },
   {
    "duration": 0,
    "start_time": "2022-11-29T21:03:18.572Z"
   },
   {
    "duration": 0,
    "start_time": "2022-11-29T21:03:18.573Z"
   },
   {
    "duration": 0,
    "start_time": "2022-11-29T21:03:18.574Z"
   },
   {
    "duration": 0,
    "start_time": "2022-11-29T21:03:18.575Z"
   },
   {
    "duration": 0,
    "start_time": "2022-11-29T21:03:18.576Z"
   },
   {
    "duration": 0,
    "start_time": "2022-11-29T21:03:18.577Z"
   },
   {
    "duration": 0,
    "start_time": "2022-11-29T21:03:18.578Z"
   },
   {
    "duration": 0,
    "start_time": "2022-11-29T21:03:18.579Z"
   },
   {
    "duration": 0,
    "start_time": "2022-11-29T21:03:18.581Z"
   },
   {
    "duration": 0,
    "start_time": "2022-11-29T21:03:18.582Z"
   },
   {
    "duration": 0,
    "start_time": "2022-11-29T21:03:18.583Z"
   },
   {
    "duration": 0,
    "start_time": "2022-11-29T21:03:18.584Z"
   },
   {
    "duration": 0,
    "start_time": "2022-11-29T21:03:18.585Z"
   },
   {
    "duration": 0,
    "start_time": "2022-11-29T21:03:18.586Z"
   },
   {
    "duration": 0,
    "start_time": "2022-11-29T21:03:18.587Z"
   },
   {
    "duration": 0,
    "start_time": "2022-11-29T21:03:18.588Z"
   },
   {
    "duration": 0,
    "start_time": "2022-11-29T21:03:18.589Z"
   },
   {
    "duration": 0,
    "start_time": "2022-11-29T21:03:18.590Z"
   },
   {
    "duration": 0,
    "start_time": "2022-11-29T21:03:18.591Z"
   },
   {
    "duration": 0,
    "start_time": "2022-11-29T21:03:18.592Z"
   },
   {
    "duration": 0,
    "start_time": "2022-11-29T21:03:18.593Z"
   },
   {
    "duration": 0,
    "start_time": "2022-11-29T21:03:18.594Z"
   },
   {
    "duration": 0,
    "start_time": "2022-11-29T21:03:18.595Z"
   },
   {
    "duration": 0,
    "start_time": "2022-11-29T21:03:18.596Z"
   },
   {
    "duration": 0,
    "start_time": "2022-11-29T21:03:18.655Z"
   },
   {
    "duration": 0,
    "start_time": "2022-11-29T21:03:18.656Z"
   },
   {
    "duration": 35,
    "start_time": "2022-11-29T21:09:20.512Z"
   },
   {
    "duration": 34,
    "start_time": "2022-11-29T21:17:00.218Z"
   },
   {
    "duration": 38,
    "start_time": "2022-11-29T21:23:51.099Z"
   },
   {
    "duration": 3,
    "start_time": "2022-11-29T21:23:58.199Z"
   },
   {
    "duration": 6,
    "start_time": "2022-11-29T21:23:58.204Z"
   },
   {
    "duration": 95,
    "start_time": "2022-11-29T21:23:58.211Z"
   },
   {
    "duration": 21,
    "start_time": "2022-11-29T21:23:58.308Z"
   },
   {
    "duration": 40,
    "start_time": "2022-11-29T21:23:58.331Z"
   },
   {
    "duration": 2011,
    "start_time": "2022-11-29T21:23:58.373Z"
   },
   {
    "duration": 41,
    "start_time": "2022-11-29T21:24:00.386Z"
   },
   {
    "duration": 0,
    "start_time": "2022-11-29T21:24:00.430Z"
   },
   {
    "duration": 0,
    "start_time": "2022-11-29T21:24:00.432Z"
   },
   {
    "duration": 0,
    "start_time": "2022-11-29T21:24:00.457Z"
   },
   {
    "duration": 0,
    "start_time": "2022-11-29T21:24:00.458Z"
   },
   {
    "duration": 0,
    "start_time": "2022-11-29T21:24:00.460Z"
   },
   {
    "duration": 0,
    "start_time": "2022-11-29T21:24:00.461Z"
   },
   {
    "duration": 0,
    "start_time": "2022-11-29T21:24:00.462Z"
   },
   {
    "duration": 0,
    "start_time": "2022-11-29T21:24:00.463Z"
   },
   {
    "duration": 0,
    "start_time": "2022-11-29T21:24:00.465Z"
   },
   {
    "duration": 0,
    "start_time": "2022-11-29T21:24:00.466Z"
   },
   {
    "duration": 0,
    "start_time": "2022-11-29T21:24:00.467Z"
   },
   {
    "duration": 0,
    "start_time": "2022-11-29T21:24:00.468Z"
   },
   {
    "duration": 0,
    "start_time": "2022-11-29T21:24:00.469Z"
   },
   {
    "duration": 0,
    "start_time": "2022-11-29T21:24:00.470Z"
   },
   {
    "duration": 0,
    "start_time": "2022-11-29T21:24:00.471Z"
   },
   {
    "duration": 0,
    "start_time": "2022-11-29T21:24:00.472Z"
   },
   {
    "duration": 0,
    "start_time": "2022-11-29T21:24:00.473Z"
   },
   {
    "duration": 0,
    "start_time": "2022-11-29T21:24:00.474Z"
   },
   {
    "duration": 0,
    "start_time": "2022-11-29T21:24:00.475Z"
   },
   {
    "duration": 0,
    "start_time": "2022-11-29T21:24:00.476Z"
   },
   {
    "duration": 0,
    "start_time": "2022-11-29T21:24:00.478Z"
   },
   {
    "duration": 0,
    "start_time": "2022-11-29T21:24:00.479Z"
   },
   {
    "duration": 0,
    "start_time": "2022-11-29T21:24:00.480Z"
   },
   {
    "duration": 0,
    "start_time": "2022-11-29T21:24:00.481Z"
   },
   {
    "duration": 0,
    "start_time": "2022-11-29T21:24:00.482Z"
   },
   {
    "duration": 0,
    "start_time": "2022-11-29T21:24:00.483Z"
   },
   {
    "duration": 0,
    "start_time": "2022-11-29T21:24:00.484Z"
   },
   {
    "duration": 0,
    "start_time": "2022-11-29T21:24:00.486Z"
   },
   {
    "duration": 0,
    "start_time": "2022-11-29T21:24:00.487Z"
   },
   {
    "duration": 0,
    "start_time": "2022-11-29T21:24:00.488Z"
   },
   {
    "duration": 0,
    "start_time": "2022-11-29T21:24:00.489Z"
   },
   {
    "duration": 0,
    "start_time": "2022-11-29T21:24:00.490Z"
   },
   {
    "duration": 42,
    "start_time": "2022-11-29T21:27:12.351Z"
   },
   {
    "duration": 54,
    "start_time": "2022-11-29T21:52:11.537Z"
   },
   {
    "duration": 40,
    "start_time": "2022-11-29T21:52:52.187Z"
   },
   {
    "duration": 51,
    "start_time": "2022-11-29T21:54:13.062Z"
   },
   {
    "duration": 2,
    "start_time": "2022-11-29T21:54:17.939Z"
   },
   {
    "duration": 6,
    "start_time": "2022-11-29T21:54:17.944Z"
   },
   {
    "duration": 109,
    "start_time": "2022-11-29T21:54:17.952Z"
   },
   {
    "duration": 22,
    "start_time": "2022-11-29T21:54:18.064Z"
   },
   {
    "duration": 17,
    "start_time": "2022-11-29T21:54:18.088Z"
   },
   {
    "duration": 2065,
    "start_time": "2022-11-29T21:54:18.107Z"
   },
   {
    "duration": 41,
    "start_time": "2022-11-29T21:54:20.173Z"
   },
   {
    "duration": 0,
    "start_time": "2022-11-29T21:54:20.216Z"
   },
   {
    "duration": 0,
    "start_time": "2022-11-29T21:54:20.217Z"
   },
   {
    "duration": 0,
    "start_time": "2022-11-29T21:54:20.218Z"
   },
   {
    "duration": 0,
    "start_time": "2022-11-29T21:54:20.219Z"
   },
   {
    "duration": 0,
    "start_time": "2022-11-29T21:54:20.221Z"
   },
   {
    "duration": 0,
    "start_time": "2022-11-29T21:54:20.222Z"
   },
   {
    "duration": 0,
    "start_time": "2022-11-29T21:54:20.224Z"
   },
   {
    "duration": 0,
    "start_time": "2022-11-29T21:54:20.225Z"
   },
   {
    "duration": 0,
    "start_time": "2022-11-29T21:54:20.226Z"
   },
   {
    "duration": 0,
    "start_time": "2022-11-29T21:54:20.228Z"
   },
   {
    "duration": 0,
    "start_time": "2022-11-29T21:54:20.229Z"
   },
   {
    "duration": 0,
    "start_time": "2022-11-29T21:54:20.231Z"
   },
   {
    "duration": 0,
    "start_time": "2022-11-29T21:54:20.232Z"
   },
   {
    "duration": 0,
    "start_time": "2022-11-29T21:54:20.232Z"
   },
   {
    "duration": 0,
    "start_time": "2022-11-29T21:54:20.234Z"
   },
   {
    "duration": 0,
    "start_time": "2022-11-29T21:54:20.235Z"
   },
   {
    "duration": 0,
    "start_time": "2022-11-29T21:54:20.236Z"
   },
   {
    "duration": 0,
    "start_time": "2022-11-29T21:54:20.237Z"
   },
   {
    "duration": 0,
    "start_time": "2022-11-29T21:54:20.254Z"
   },
   {
    "duration": 0,
    "start_time": "2022-11-29T21:54:20.256Z"
   },
   {
    "duration": 0,
    "start_time": "2022-11-29T21:54:20.257Z"
   },
   {
    "duration": 0,
    "start_time": "2022-11-29T21:54:20.258Z"
   },
   {
    "duration": 0,
    "start_time": "2022-11-29T21:54:20.259Z"
   },
   {
    "duration": 0,
    "start_time": "2022-11-29T21:54:20.261Z"
   },
   {
    "duration": 0,
    "start_time": "2022-11-29T21:54:20.262Z"
   },
   {
    "duration": 0,
    "start_time": "2022-11-29T21:54:20.262Z"
   },
   {
    "duration": 0,
    "start_time": "2022-11-29T21:54:20.263Z"
   },
   {
    "duration": 0,
    "start_time": "2022-11-29T21:54:20.264Z"
   },
   {
    "duration": 0,
    "start_time": "2022-11-29T21:54:20.265Z"
   },
   {
    "duration": 0,
    "start_time": "2022-11-29T21:54:20.267Z"
   },
   {
    "duration": 0,
    "start_time": "2022-11-29T21:54:20.268Z"
   },
   {
    "duration": 0,
    "start_time": "2022-11-29T21:54:20.269Z"
   },
   {
    "duration": 54,
    "start_time": "2022-11-29T21:54:47.239Z"
   },
   {
    "duration": 28,
    "start_time": "2022-11-29T21:56:44.790Z"
   },
   {
    "duration": 31,
    "start_time": "2022-11-29T21:59:05.577Z"
   },
   {
    "duration": 32,
    "start_time": "2022-11-29T22:03:20.741Z"
   },
   {
    "duration": 866,
    "start_time": "2022-11-30T20:08:05.073Z"
   },
   {
    "duration": 9,
    "start_time": "2022-11-30T20:08:05.942Z"
   },
   {
    "duration": 191,
    "start_time": "2022-11-30T20:08:05.953Z"
   },
   {
    "duration": 31,
    "start_time": "2022-11-30T20:08:06.146Z"
   },
   {
    "duration": 17,
    "start_time": "2022-11-30T20:08:06.179Z"
   },
   {
    "duration": 2058,
    "start_time": "2022-11-30T20:08:06.198Z"
   },
   {
    "duration": 112,
    "start_time": "2022-11-30T20:08:08.258Z"
   },
   {
    "duration": 0,
    "start_time": "2022-11-30T20:08:08.372Z"
   },
   {
    "duration": 0,
    "start_time": "2022-11-30T20:08:08.374Z"
   },
   {
    "duration": 0,
    "start_time": "2022-11-30T20:08:08.375Z"
   },
   {
    "duration": 0,
    "start_time": "2022-11-30T20:08:08.376Z"
   },
   {
    "duration": 0,
    "start_time": "2022-11-30T20:08:08.377Z"
   },
   {
    "duration": 0,
    "start_time": "2022-11-30T20:08:08.378Z"
   },
   {
    "duration": 0,
    "start_time": "2022-11-30T20:08:08.380Z"
   },
   {
    "duration": 0,
    "start_time": "2022-11-30T20:08:08.382Z"
   },
   {
    "duration": 0,
    "start_time": "2022-11-30T20:08:08.383Z"
   },
   {
    "duration": 0,
    "start_time": "2022-11-30T20:08:08.384Z"
   },
   {
    "duration": 0,
    "start_time": "2022-11-30T20:08:08.385Z"
   },
   {
    "duration": 0,
    "start_time": "2022-11-30T20:08:08.386Z"
   },
   {
    "duration": 0,
    "start_time": "2022-11-30T20:08:08.387Z"
   },
   {
    "duration": 0,
    "start_time": "2022-11-30T20:08:08.388Z"
   },
   {
    "duration": 0,
    "start_time": "2022-11-30T20:08:08.389Z"
   },
   {
    "duration": 0,
    "start_time": "2022-11-30T20:08:08.391Z"
   },
   {
    "duration": 0,
    "start_time": "2022-11-30T20:08:08.392Z"
   },
   {
    "duration": 0,
    "start_time": "2022-11-30T20:08:08.393Z"
   },
   {
    "duration": 0,
    "start_time": "2022-11-30T20:08:08.394Z"
   },
   {
    "duration": 0,
    "start_time": "2022-11-30T20:08:08.396Z"
   },
   {
    "duration": 0,
    "start_time": "2022-11-30T20:08:08.397Z"
   },
   {
    "duration": 0,
    "start_time": "2022-11-30T20:08:08.398Z"
   },
   {
    "duration": 0,
    "start_time": "2022-11-30T20:08:08.400Z"
   },
   {
    "duration": 0,
    "start_time": "2022-11-30T20:08:08.401Z"
   },
   {
    "duration": 0,
    "start_time": "2022-11-30T20:08:08.402Z"
   },
   {
    "duration": 0,
    "start_time": "2022-11-30T20:08:08.451Z"
   },
   {
    "duration": 0,
    "start_time": "2022-11-30T20:08:08.453Z"
   },
   {
    "duration": 0,
    "start_time": "2022-11-30T20:08:08.454Z"
   },
   {
    "duration": 0,
    "start_time": "2022-11-30T20:08:08.456Z"
   },
   {
    "duration": 0,
    "start_time": "2022-11-30T20:08:08.457Z"
   },
   {
    "duration": 0,
    "start_time": "2022-11-30T20:08:08.459Z"
   },
   {
    "duration": 0,
    "start_time": "2022-11-30T20:08:08.460Z"
   },
   {
    "duration": 30,
    "start_time": "2022-11-30T20:15:11.170Z"
   },
   {
    "duration": 21,
    "start_time": "2022-11-30T20:18:06.247Z"
   },
   {
    "duration": 22,
    "start_time": "2022-11-30T20:19:04.984Z"
   },
   {
    "duration": 3,
    "start_time": "2022-11-30T20:26:37.686Z"
   },
   {
    "duration": 5,
    "start_time": "2022-11-30T20:26:37.692Z"
   },
   {
    "duration": 103,
    "start_time": "2022-11-30T20:26:37.699Z"
   },
   {
    "duration": 23,
    "start_time": "2022-11-30T20:26:37.804Z"
   },
   {
    "duration": 33,
    "start_time": "2022-11-30T20:26:37.829Z"
   },
   {
    "duration": 2232,
    "start_time": "2022-11-30T20:26:37.864Z"
   },
   {
    "duration": 24,
    "start_time": "2022-11-30T20:26:40.098Z"
   },
   {
    "duration": 36,
    "start_time": "2022-11-30T20:26:40.124Z"
   },
   {
    "duration": 21,
    "start_time": "2022-11-30T20:26:40.163Z"
   },
   {
    "duration": 98,
    "start_time": "2022-11-30T20:26:40.187Z"
   },
   {
    "duration": 8,
    "start_time": "2022-11-30T20:26:40.287Z"
   },
   {
    "duration": 90,
    "start_time": "2022-11-30T20:26:40.296Z"
   },
   {
    "duration": 376,
    "start_time": "2022-11-30T20:26:40.390Z"
   },
   {
    "duration": 287,
    "start_time": "2022-11-30T20:26:40.767Z"
   },
   {
    "duration": 284,
    "start_time": "2022-11-30T20:26:41.056Z"
   },
   {
    "duration": 374,
    "start_time": "2022-11-30T20:26:41.341Z"
   },
   {
    "duration": 260,
    "start_time": "2022-11-30T20:26:41.717Z"
   },
   {
    "duration": 283,
    "start_time": "2022-11-30T20:26:41.979Z"
   },
   {
    "duration": 164,
    "start_time": "2022-11-30T20:26:42.264Z"
   },
   {
    "duration": 217,
    "start_time": "2022-11-30T20:26:42.430Z"
   },
   {
    "duration": 177,
    "start_time": "2022-11-30T20:26:42.652Z"
   },
   {
    "duration": 173,
    "start_time": "2022-11-30T20:26:42.832Z"
   },
   {
    "duration": 174,
    "start_time": "2022-11-30T20:26:43.008Z"
   },
   {
    "duration": 230,
    "start_time": "2022-11-30T20:26:43.184Z"
   },
   {
    "duration": 173,
    "start_time": "2022-11-30T20:26:43.416Z"
   },
   {
    "duration": 195,
    "start_time": "2022-11-30T20:26:43.592Z"
   },
   {
    "duration": 153,
    "start_time": "2022-11-30T20:26:43.789Z"
   },
   {
    "duration": 177,
    "start_time": "2022-11-30T20:26:43.943Z"
   },
   {
    "duration": 151,
    "start_time": "2022-11-30T20:26:44.122Z"
   },
   {
    "duration": 156,
    "start_time": "2022-11-30T20:26:44.275Z"
   },
   {
    "duration": 175,
    "start_time": "2022-11-30T20:26:44.433Z"
   },
   {
    "duration": 164,
    "start_time": "2022-11-30T20:26:44.610Z"
   },
   {
    "duration": 175,
    "start_time": "2022-11-30T20:26:44.776Z"
   },
   {
    "duration": 149,
    "start_time": "2022-11-30T20:26:44.953Z"
   },
   {
    "duration": 241,
    "start_time": "2022-11-30T20:26:45.104Z"
   },
   {
    "duration": 152,
    "start_time": "2022-11-30T20:26:45.351Z"
   },
   {
    "duration": 176,
    "start_time": "2022-11-30T20:26:45.507Z"
   },
   {
    "duration": 23,
    "start_time": "2022-11-30T20:26:45.685Z"
   },
   {
    "duration": 191,
    "start_time": "2022-11-30T20:26:45.709Z"
   },
   {
    "duration": 24,
    "start_time": "2022-11-30T20:58:44.678Z"
   },
   {
    "duration": 32,
    "start_time": "2022-11-30T20:59:54.739Z"
   },
   {
    "duration": 3,
    "start_time": "2022-11-30T21:00:03.464Z"
   },
   {
    "duration": 12,
    "start_time": "2022-11-30T21:00:03.469Z"
   },
   {
    "duration": 108,
    "start_time": "2022-11-30T21:00:03.483Z"
   },
   {
    "duration": 24,
    "start_time": "2022-11-30T21:00:03.593Z"
   },
   {
    "duration": 18,
    "start_time": "2022-11-30T21:00:03.619Z"
   },
   {
    "duration": 2126,
    "start_time": "2022-11-30T21:00:03.638Z"
   },
   {
    "duration": 27,
    "start_time": "2022-11-30T21:00:05.766Z"
   },
   {
    "duration": 23,
    "start_time": "2022-11-30T21:00:05.794Z"
   },
   {
    "duration": 49,
    "start_time": "2022-11-30T21:00:05.820Z"
   },
   {
    "duration": 132,
    "start_time": "2022-11-30T21:00:05.871Z"
   },
   {
    "duration": 9,
    "start_time": "2022-11-30T21:00:06.005Z"
   },
   {
    "duration": 95,
    "start_time": "2022-11-30T21:00:06.016Z"
   },
   {
    "duration": 367,
    "start_time": "2022-11-30T21:00:06.112Z"
   },
   {
    "duration": 253,
    "start_time": "2022-11-30T21:00:06.481Z"
   },
   {
    "duration": 392,
    "start_time": "2022-11-30T21:00:06.736Z"
   },
   {
    "duration": 269,
    "start_time": "2022-11-30T21:00:07.130Z"
   },
   {
    "duration": 279,
    "start_time": "2022-11-30T21:00:07.401Z"
   },
   {
    "duration": 290,
    "start_time": "2022-11-30T21:00:07.681Z"
   },
   {
    "duration": 168,
    "start_time": "2022-11-30T21:00:07.973Z"
   },
   {
    "duration": 231,
    "start_time": "2022-11-30T21:00:08.142Z"
   },
   {
    "duration": 145,
    "start_time": "2022-11-30T21:00:08.374Z"
   },
   {
    "duration": 168,
    "start_time": "2022-11-30T21:00:08.521Z"
   },
   {
    "duration": 269,
    "start_time": "2022-11-30T21:00:08.691Z"
   },
   {
    "duration": 147,
    "start_time": "2022-11-30T21:00:08.964Z"
   },
   {
    "duration": 228,
    "start_time": "2022-11-30T21:00:09.113Z"
   },
   {
    "duration": 183,
    "start_time": "2022-11-30T21:00:09.343Z"
   },
   {
    "duration": 192,
    "start_time": "2022-11-30T21:00:09.530Z"
   },
   {
    "duration": 229,
    "start_time": "2022-11-30T21:00:09.725Z"
   },
   {
    "duration": 154,
    "start_time": "2022-11-30T21:00:09.956Z"
   },
   {
    "duration": 158,
    "start_time": "2022-11-30T21:00:10.111Z"
   },
   {
    "duration": 170,
    "start_time": "2022-11-30T21:00:10.271Z"
   },
   {
    "duration": 171,
    "start_time": "2022-11-30T21:00:10.443Z"
   },
   {
    "duration": 180,
    "start_time": "2022-11-30T21:00:10.616Z"
   },
   {
    "duration": 231,
    "start_time": "2022-11-30T21:00:10.799Z"
   },
   {
    "duration": 157,
    "start_time": "2022-11-30T21:00:11.031Z"
   },
   {
    "duration": 150,
    "start_time": "2022-11-30T21:00:11.190Z"
   },
   {
    "duration": 173,
    "start_time": "2022-11-30T21:00:11.342Z"
   },
   {
    "duration": 39,
    "start_time": "2022-11-30T21:00:11.517Z"
   },
   {
    "duration": 190,
    "start_time": "2022-11-30T21:00:11.558Z"
   },
   {
    "duration": 80,
    "start_time": "2022-11-30T21:12:20.409Z"
   },
   {
    "duration": 17,
    "start_time": "2022-11-30T21:14:02.880Z"
   },
   {
    "duration": 16,
    "start_time": "2022-11-30T21:16:37.971Z"
   },
   {
    "duration": 90,
    "start_time": "2022-11-30T21:26:30.301Z"
   },
   {
    "duration": 88,
    "start_time": "2022-11-30T21:26:50.125Z"
   },
   {
    "duration": 81,
    "start_time": "2022-11-30T21:27:09.093Z"
   },
   {
    "duration": 2,
    "start_time": "2022-11-30T21:27:14.127Z"
   },
   {
    "duration": 13,
    "start_time": "2022-11-30T21:27:14.131Z"
   },
   {
    "duration": 97,
    "start_time": "2022-11-30T21:27:14.146Z"
   },
   {
    "duration": 24,
    "start_time": "2022-11-30T21:27:14.244Z"
   },
   {
    "duration": 22,
    "start_time": "2022-11-30T21:27:14.270Z"
   },
   {
    "duration": 2030,
    "start_time": "2022-11-30T21:27:14.293Z"
   },
   {
    "duration": 38,
    "start_time": "2022-11-30T21:27:16.325Z"
   },
   {
    "duration": 22,
    "start_time": "2022-11-30T21:27:16.365Z"
   },
   {
    "duration": 22,
    "start_time": "2022-11-30T21:27:16.389Z"
   },
   {
    "duration": 93,
    "start_time": "2022-11-30T21:27:16.413Z"
   },
   {
    "duration": 16,
    "start_time": "2022-11-30T21:27:16.507Z"
   },
   {
    "duration": 86,
    "start_time": "2022-11-30T21:27:16.525Z"
   },
   {
    "duration": 352,
    "start_time": "2022-11-30T21:27:16.614Z"
   },
   {
    "duration": 262,
    "start_time": "2022-11-30T21:27:16.968Z"
   },
   {
    "duration": 266,
    "start_time": "2022-11-30T21:27:17.232Z"
   },
   {
    "duration": 385,
    "start_time": "2022-11-30T21:27:17.499Z"
   },
   {
    "duration": 250,
    "start_time": "2022-11-30T21:27:17.886Z"
   },
   {
    "duration": 281,
    "start_time": "2022-11-30T21:27:18.137Z"
   },
   {
    "duration": 170,
    "start_time": "2022-11-30T21:27:18.420Z"
   },
   {
    "duration": 186,
    "start_time": "2022-11-30T21:27:18.592Z"
   },
   {
    "duration": 137,
    "start_time": "2022-11-30T21:27:18.780Z"
   },
   {
    "duration": 156,
    "start_time": "2022-11-30T21:27:18.918Z"
   },
   {
    "duration": 184,
    "start_time": "2022-11-30T21:27:19.076Z"
   },
   {
    "duration": 243,
    "start_time": "2022-11-30T21:27:19.262Z"
   },
   {
    "duration": 190,
    "start_time": "2022-11-30T21:27:19.506Z"
   },
   {
    "duration": 169,
    "start_time": "2022-11-30T21:27:19.698Z"
   },
   {
    "duration": 152,
    "start_time": "2022-11-30T21:27:19.869Z"
   },
   {
    "duration": 185,
    "start_time": "2022-11-30T21:27:20.023Z"
   },
   {
    "duration": 149,
    "start_time": "2022-11-30T21:27:20.210Z"
   },
   {
    "duration": 143,
    "start_time": "2022-11-30T21:27:20.361Z"
   },
   {
    "duration": 183,
    "start_time": "2022-11-30T21:27:20.506Z"
   },
   {
    "duration": 143,
    "start_time": "2022-11-30T21:27:20.692Z"
   },
   {
    "duration": 151,
    "start_time": "2022-11-30T21:27:20.836Z"
   },
   {
    "duration": 135,
    "start_time": "2022-11-30T21:27:20.988Z"
   },
   {
    "duration": 239,
    "start_time": "2022-11-30T21:27:21.125Z"
   },
   {
    "duration": 158,
    "start_time": "2022-11-30T21:27:21.366Z"
   },
   {
    "duration": 178,
    "start_time": "2022-11-30T21:27:21.528Z"
   },
   {
    "duration": 21,
    "start_time": "2022-11-30T21:27:21.708Z"
   },
   {
    "duration": 182,
    "start_time": "2022-11-30T21:27:21.731Z"
   },
   {
    "duration": 79,
    "start_time": "2022-11-30T21:28:48.682Z"
   },
   {
    "duration": 111,
    "start_time": "2022-11-30T21:32:39.440Z"
   },
   {
    "duration": 90,
    "start_time": "2022-11-30T21:35:18.852Z"
   },
   {
    "duration": 115,
    "start_time": "2022-11-30T21:35:30.253Z"
   },
   {
    "duration": 88,
    "start_time": "2022-11-30T21:36:08.852Z"
   },
   {
    "duration": 94,
    "start_time": "2022-11-30T21:38:00.036Z"
   },
   {
    "duration": 96,
    "start_time": "2022-11-30T21:38:53.733Z"
   },
   {
    "duration": 79,
    "start_time": "2022-11-30T21:40:42.456Z"
   },
   {
    "duration": 74,
    "start_time": "2022-11-30T21:41:02.661Z"
   },
   {
    "duration": 73,
    "start_time": "2022-11-30T21:41:15.656Z"
   },
   {
    "duration": 69,
    "start_time": "2022-11-30T21:41:38.002Z"
   },
   {
    "duration": 72,
    "start_time": "2022-11-30T21:42:15.113Z"
   },
   {
    "duration": 3,
    "start_time": "2022-11-30T21:42:33.974Z"
   },
   {
    "duration": 5,
    "start_time": "2022-11-30T21:42:33.979Z"
   },
   {
    "duration": 98,
    "start_time": "2022-11-30T21:42:33.985Z"
   },
   {
    "duration": 22,
    "start_time": "2022-11-30T21:42:34.085Z"
   },
   {
    "duration": 20,
    "start_time": "2022-11-30T21:42:34.110Z"
   },
   {
    "duration": 2148,
    "start_time": "2022-11-30T21:42:34.132Z"
   },
   {
    "duration": 32,
    "start_time": "2022-11-30T21:42:36.282Z"
   },
   {
    "duration": 50,
    "start_time": "2022-11-30T21:42:36.316Z"
   },
   {
    "duration": 20,
    "start_time": "2022-11-30T21:42:36.368Z"
   },
   {
    "duration": 96,
    "start_time": "2022-11-30T21:42:36.390Z"
   },
   {
    "duration": 20,
    "start_time": "2022-11-30T21:42:36.488Z"
   },
   {
    "duration": 86,
    "start_time": "2022-11-30T21:42:36.510Z"
   },
   {
    "duration": 0,
    "start_time": "2022-11-30T21:42:36.600Z"
   },
   {
    "duration": 0,
    "start_time": "2022-11-30T21:42:36.601Z"
   },
   {
    "duration": 0,
    "start_time": "2022-11-30T21:42:36.604Z"
   },
   {
    "duration": 0,
    "start_time": "2022-11-30T21:42:36.605Z"
   },
   {
    "duration": 0,
    "start_time": "2022-11-30T21:42:36.606Z"
   },
   {
    "duration": 0,
    "start_time": "2022-11-30T21:42:36.607Z"
   },
   {
    "duration": 0,
    "start_time": "2022-11-30T21:42:36.609Z"
   },
   {
    "duration": 0,
    "start_time": "2022-11-30T21:42:36.611Z"
   },
   {
    "duration": 0,
    "start_time": "2022-11-30T21:42:36.613Z"
   },
   {
    "duration": 0,
    "start_time": "2022-11-30T21:42:36.615Z"
   },
   {
    "duration": 0,
    "start_time": "2022-11-30T21:42:36.616Z"
   },
   {
    "duration": 0,
    "start_time": "2022-11-30T21:42:36.618Z"
   },
   {
    "duration": 0,
    "start_time": "2022-11-30T21:42:36.620Z"
   },
   {
    "duration": 0,
    "start_time": "2022-11-30T21:42:36.621Z"
   },
   {
    "duration": 0,
    "start_time": "2022-11-30T21:42:36.623Z"
   },
   {
    "duration": 0,
    "start_time": "2022-11-30T21:42:36.624Z"
   },
   {
    "duration": 0,
    "start_time": "2022-11-30T21:42:36.625Z"
   },
   {
    "duration": 0,
    "start_time": "2022-11-30T21:42:36.626Z"
   },
   {
    "duration": 0,
    "start_time": "2022-11-30T21:42:36.628Z"
   },
   {
    "duration": 0,
    "start_time": "2022-11-30T21:42:36.629Z"
   },
   {
    "duration": 0,
    "start_time": "2022-11-30T21:42:36.631Z"
   },
   {
    "duration": 0,
    "start_time": "2022-11-30T21:42:36.634Z"
   },
   {
    "duration": 1,
    "start_time": "2022-11-30T21:42:36.651Z"
   },
   {
    "duration": 0,
    "start_time": "2022-11-30T21:42:36.653Z"
   },
   {
    "duration": 0,
    "start_time": "2022-11-30T21:42:36.655Z"
   },
   {
    "duration": 0,
    "start_time": "2022-11-30T21:42:36.656Z"
   },
   {
    "duration": 1,
    "start_time": "2022-11-30T21:42:36.658Z"
   },
   {
    "duration": 76,
    "start_time": "2022-11-30T21:42:49.552Z"
   },
   {
    "duration": 92,
    "start_time": "2022-11-30T21:42:58.131Z"
   },
   {
    "duration": 95,
    "start_time": "2022-11-30T21:43:09.006Z"
   },
   {
    "duration": 72,
    "start_time": "2022-11-30T21:43:30.294Z"
   },
   {
    "duration": 63,
    "start_time": "2022-11-30T21:43:36.929Z"
   },
   {
    "duration": 83,
    "start_time": "2022-11-30T21:44:45.658Z"
   },
   {
    "duration": 84,
    "start_time": "2022-11-30T21:45:58.619Z"
   },
   {
    "duration": 93,
    "start_time": "2022-11-30T21:46:29.107Z"
   },
   {
    "duration": 87,
    "start_time": "2022-11-30T21:47:59.794Z"
   },
   {
    "duration": 16,
    "start_time": "2022-11-30T21:51:31.821Z"
   },
   {
    "duration": 89,
    "start_time": "2022-11-30T21:52:15.981Z"
   },
   {
    "duration": 83,
    "start_time": "2022-11-30T21:53:10.357Z"
   },
   {
    "duration": 3,
    "start_time": "2022-11-30T22:13:28.180Z"
   },
   {
    "duration": 10,
    "start_time": "2022-11-30T22:13:28.185Z"
   },
   {
    "duration": 109,
    "start_time": "2022-11-30T22:13:28.197Z"
   },
   {
    "duration": 22,
    "start_time": "2022-11-30T22:13:28.308Z"
   },
   {
    "duration": 27,
    "start_time": "2022-11-30T22:13:28.333Z"
   },
   {
    "duration": 2223,
    "start_time": "2022-11-30T22:13:28.362Z"
   },
   {
    "duration": 30,
    "start_time": "2022-11-30T22:13:30.587Z"
   },
   {
    "duration": 72,
    "start_time": "2022-11-30T22:13:30.619Z"
   },
   {
    "duration": 23,
    "start_time": "2022-11-30T22:13:30.694Z"
   },
   {
    "duration": 80,
    "start_time": "2022-11-30T22:13:30.719Z"
   },
   {
    "duration": 16,
    "start_time": "2022-11-30T22:13:30.801Z"
   },
   {
    "duration": 102,
    "start_time": "2022-11-30T22:13:30.820Z"
   },
   {
    "duration": 387,
    "start_time": "2022-11-30T22:13:30.924Z"
   },
   {
    "duration": 271,
    "start_time": "2022-11-30T22:13:31.316Z"
   },
   {
    "duration": 284,
    "start_time": "2022-11-30T22:13:31.589Z"
   },
   {
    "duration": 268,
    "start_time": "2022-11-30T22:13:31.875Z"
   },
   {
    "duration": 412,
    "start_time": "2022-11-30T22:13:32.156Z"
   },
   {
    "duration": 327,
    "start_time": "2022-11-30T22:13:32.569Z"
   },
   {
    "duration": 211,
    "start_time": "2022-11-30T22:13:32.898Z"
   },
   {
    "duration": 223,
    "start_time": "2022-11-30T22:13:33.111Z"
   },
   {
    "duration": 157,
    "start_time": "2022-11-30T22:13:33.336Z"
   },
   {
    "duration": 170,
    "start_time": "2022-11-30T22:13:33.495Z"
   },
   {
    "duration": 154,
    "start_time": "2022-11-30T22:13:33.667Z"
   },
   {
    "duration": 147,
    "start_time": "2022-11-30T22:13:33.824Z"
   },
   {
    "duration": 161,
    "start_time": "2022-11-30T22:13:33.973Z"
   },
   {
    "duration": 276,
    "start_time": "2022-11-30T22:13:34.136Z"
   },
   {
    "duration": 177,
    "start_time": "2022-11-30T22:13:34.414Z"
   },
   {
    "duration": 185,
    "start_time": "2022-11-30T22:13:34.593Z"
   },
   {
    "duration": 140,
    "start_time": "2022-11-30T22:13:34.780Z"
   },
   {
    "duration": 179,
    "start_time": "2022-11-30T22:13:34.922Z"
   },
   {
    "duration": 190,
    "start_time": "2022-11-30T22:13:35.103Z"
   },
   {
    "duration": 171,
    "start_time": "2022-11-30T22:13:35.295Z"
   },
   {
    "duration": 155,
    "start_time": "2022-11-30T22:13:35.467Z"
   },
   {
    "duration": 156,
    "start_time": "2022-11-30T22:13:35.624Z"
   },
   {
    "duration": 137,
    "start_time": "2022-11-30T22:13:35.782Z"
   },
   {
    "duration": 163,
    "start_time": "2022-11-30T22:13:35.921Z"
   },
   {
    "duration": 196,
    "start_time": "2022-11-30T22:13:36.086Z"
   },
   {
    "duration": 26,
    "start_time": "2022-11-30T22:13:36.284Z"
   },
   {
    "duration": 281,
    "start_time": "2022-11-30T22:13:36.312Z"
   },
   {
    "duration": 245,
    "start_time": "2022-11-30T22:27:31.160Z"
   },
   {
    "duration": 253,
    "start_time": "2022-11-30T22:46:40.068Z"
   },
   {
    "duration": 243,
    "start_time": "2022-11-30T22:46:50.770Z"
   },
   {
    "duration": 249,
    "start_time": "2022-11-30T22:47:10.978Z"
   },
   {
    "duration": 248,
    "start_time": "2022-11-30T22:47:36.840Z"
   },
   {
    "duration": 382,
    "start_time": "2022-11-30T22:47:46.353Z"
   },
   {
    "duration": 233,
    "start_time": "2022-11-30T22:48:03.517Z"
   },
   {
    "duration": 244,
    "start_time": "2022-11-30T22:48:24.938Z"
   },
   {
    "duration": 155,
    "start_time": "2022-11-30T22:48:38.257Z"
   },
   {
    "duration": 169,
    "start_time": "2022-11-30T22:49:14.387Z"
   },
   {
    "duration": 124,
    "start_time": "2022-11-30T22:49:33.025Z"
   },
   {
    "duration": 149,
    "start_time": "2022-11-30T22:49:52.117Z"
   },
   {
    "duration": 143,
    "start_time": "2022-11-30T22:50:12.973Z"
   },
   {
    "duration": 259,
    "start_time": "2022-11-30T22:50:40.854Z"
   },
   {
    "duration": 147,
    "start_time": "2022-11-30T22:50:51.084Z"
   },
   {
    "duration": 129,
    "start_time": "2022-11-30T22:51:21.215Z"
   },
   {
    "duration": 157,
    "start_time": "2022-11-30T22:51:43.225Z"
   },
   {
    "duration": 166,
    "start_time": "2022-11-30T22:52:12.530Z"
   },
   {
    "duration": 147,
    "start_time": "2022-11-30T22:52:32.207Z"
   },
   {
    "duration": 166,
    "start_time": "2022-11-30T22:56:17.172Z"
   },
   {
    "duration": 160,
    "start_time": "2022-11-30T22:56:55.842Z"
   },
   {
    "duration": 174,
    "start_time": "2022-11-30T22:57:12.739Z"
   },
   {
    "duration": 185,
    "start_time": "2022-11-30T22:57:39.167Z"
   },
   {
    "duration": 166,
    "start_time": "2022-11-30T22:57:50.523Z"
   },
   {
    "duration": 268,
    "start_time": "2022-11-30T22:58:50.908Z"
   },
   {
    "duration": 143,
    "start_time": "2022-11-30T23:00:01.676Z"
   },
   {
    "duration": 179,
    "start_time": "2022-11-30T23:01:24.345Z"
   },
   {
    "duration": 144,
    "start_time": "2022-11-30T23:01:38.147Z"
   },
   {
    "duration": 113,
    "start_time": "2022-11-30T23:01:57.276Z"
   },
   {
    "duration": 121,
    "start_time": "2022-11-30T23:02:04.970Z"
   },
   {
    "duration": 174,
    "start_time": "2022-11-30T23:02:12.623Z"
   },
   {
    "duration": 189,
    "start_time": "2022-11-30T23:03:40.972Z"
   },
   {
    "duration": 167,
    "start_time": "2022-11-30T23:03:51.972Z"
   },
   {
    "duration": 169,
    "start_time": "2022-11-30T23:04:35.766Z"
   },
   {
    "duration": 165,
    "start_time": "2022-11-30T23:05:17.376Z"
   },
   {
    "duration": 268,
    "start_time": "2022-11-30T23:05:55.059Z"
   },
   {
    "duration": 164,
    "start_time": "2022-11-30T23:06:07.127Z"
   },
   {
    "duration": 168,
    "start_time": "2022-11-30T23:06:26.198Z"
   },
   {
    "duration": 178,
    "start_time": "2022-11-30T23:06:46.074Z"
   },
   {
    "duration": 160,
    "start_time": "2022-11-30T23:06:51.896Z"
   },
   {
    "duration": 168,
    "start_time": "2022-11-30T23:07:02.927Z"
   },
   {
    "duration": 177,
    "start_time": "2022-11-30T23:07:20.540Z"
   },
   {
    "duration": 163,
    "start_time": "2022-11-30T23:07:23.151Z"
   },
   {
    "duration": 155,
    "start_time": "2022-11-30T23:07:48.642Z"
   },
   {
    "duration": 157,
    "start_time": "2022-11-30T23:08:16.583Z"
   },
   {
    "duration": 153,
    "start_time": "2022-11-30T23:08:35.900Z"
   },
   {
    "duration": 121,
    "start_time": "2022-11-30T23:08:49.381Z"
   },
   {
    "duration": 135,
    "start_time": "2022-11-30T23:09:34.216Z"
   },
   {
    "duration": 285,
    "start_time": "2022-11-30T23:10:19.407Z"
   },
   {
    "duration": 131,
    "start_time": "2022-11-30T23:10:55.185Z"
   },
   {
    "duration": 98,
    "start_time": "2022-11-30T23:11:11.662Z"
   },
   {
    "duration": 123,
    "start_time": "2022-11-30T23:11:17.821Z"
   },
   {
    "duration": 121,
    "start_time": "2022-11-30T23:11:23.026Z"
   },
   {
    "duration": 144,
    "start_time": "2022-11-30T23:11:59.284Z"
   },
   {
    "duration": 180,
    "start_time": "2022-11-30T23:23:09.598Z"
   },
   {
    "duration": 152,
    "start_time": "2022-11-30T23:23:32.803Z"
   },
   {
    "duration": 224,
    "start_time": "2022-11-30T23:24:20.719Z"
   },
   {
    "duration": 170,
    "start_time": "2022-11-30T23:24:32.956Z"
   },
   {
    "duration": 141,
    "start_time": "2022-11-30T23:24:41.672Z"
   },
   {
    "duration": 151,
    "start_time": "2022-11-30T23:24:47.130Z"
   },
   {
    "duration": 151,
    "start_time": "2022-11-30T23:24:55.220Z"
   },
   {
    "duration": 160,
    "start_time": "2022-11-30T23:25:02.062Z"
   },
   {
    "duration": 150,
    "start_time": "2022-11-30T23:25:25.127Z"
   },
   {
    "duration": 147,
    "start_time": "2022-11-30T23:25:29.405Z"
   },
   {
    "duration": 261,
    "start_time": "2022-11-30T23:26:00.163Z"
   },
   {
    "duration": 154,
    "start_time": "2022-11-30T23:26:20.014Z"
   },
   {
    "duration": 149,
    "start_time": "2022-11-30T23:26:29.960Z"
   },
   {
    "duration": 148,
    "start_time": "2022-11-30T23:26:36.864Z"
   },
   {
    "duration": 150,
    "start_time": "2022-11-30T23:26:49.847Z"
   },
   {
    "duration": 122,
    "start_time": "2022-11-30T23:27:01.175Z"
   },
   {
    "duration": 129,
    "start_time": "2022-11-30T23:27:24.529Z"
   },
   {
    "duration": 176,
    "start_time": "2022-11-30T23:37:07.407Z"
   },
   {
    "duration": 191,
    "start_time": "2022-11-30T23:39:35.089Z"
   },
   {
    "duration": 153,
    "start_time": "2022-11-30T23:39:56.864Z"
   },
   {
    "duration": 153,
    "start_time": "2022-11-30T23:39:58.914Z"
   },
   {
    "duration": 196,
    "start_time": "2022-11-30T23:40:27.370Z"
   },
   {
    "duration": 187,
    "start_time": "2022-11-30T23:42:25.490Z"
   },
   {
    "duration": 205,
    "start_time": "2022-11-30T23:43:46.575Z"
   },
   {
    "duration": 314,
    "start_time": "2022-11-30T23:45:09.688Z"
   },
   {
    "duration": 178,
    "start_time": "2022-11-30T23:46:46.245Z"
   },
   {
    "duration": 165,
    "start_time": "2022-11-30T23:47:09.957Z"
   },
   {
    "duration": 3,
    "start_time": "2022-11-30T23:54:46.577Z"
   },
   {
    "duration": 7,
    "start_time": "2022-11-30T23:54:46.582Z"
   },
   {
    "duration": 101,
    "start_time": "2022-11-30T23:54:46.591Z"
   },
   {
    "duration": 22,
    "start_time": "2022-11-30T23:54:46.694Z"
   },
   {
    "duration": 20,
    "start_time": "2022-11-30T23:54:46.718Z"
   },
   {
    "duration": 2041,
    "start_time": "2022-11-30T23:54:46.752Z"
   },
   {
    "duration": 24,
    "start_time": "2022-11-30T23:54:48.796Z"
   },
   {
    "duration": 39,
    "start_time": "2022-11-30T23:54:48.822Z"
   },
   {
    "duration": 26,
    "start_time": "2022-11-30T23:54:48.864Z"
   },
   {
    "duration": 95,
    "start_time": "2022-11-30T23:54:48.892Z"
   },
   {
    "duration": 18,
    "start_time": "2022-11-30T23:54:48.989Z"
   },
   {
    "duration": 111,
    "start_time": "2022-11-30T23:54:49.009Z"
   },
   {
    "duration": 368,
    "start_time": "2022-11-30T23:54:49.121Z"
   },
   {
    "duration": 316,
    "start_time": "2022-11-30T23:54:49.491Z"
   },
   {
    "duration": 268,
    "start_time": "2022-11-30T23:54:49.808Z"
   },
   {
    "duration": 261,
    "start_time": "2022-11-30T23:54:50.077Z"
   },
   {
    "duration": 441,
    "start_time": "2022-11-30T23:54:50.340Z"
   },
   {
    "duration": 276,
    "start_time": "2022-11-30T23:54:50.783Z"
   },
   {
    "duration": 161,
    "start_time": "2022-11-30T23:54:51.060Z"
   },
   {
    "duration": 182,
    "start_time": "2022-11-30T23:54:51.223Z"
   },
   {
    "duration": 153,
    "start_time": "2022-11-30T23:54:51.407Z"
   },
   {
    "duration": 163,
    "start_time": "2022-11-30T23:54:51.562Z"
   },
   {
    "duration": 163,
    "start_time": "2022-11-30T23:54:51.727Z"
   },
   {
    "duration": 140,
    "start_time": "2022-11-30T23:54:51.894Z"
   },
   {
    "duration": 171,
    "start_time": "2022-11-30T23:54:52.035Z"
   },
   {
    "duration": 156,
    "start_time": "2022-11-30T23:54:52.208Z"
   },
   {
    "duration": 268,
    "start_time": "2022-11-30T23:54:52.366Z"
   },
   {
    "duration": 193,
    "start_time": "2022-11-30T23:54:52.636Z"
   },
   {
    "duration": 133,
    "start_time": "2022-11-30T23:54:52.831Z"
   },
   {
    "duration": 176,
    "start_time": "2022-11-30T23:54:52.966Z"
   },
   {
    "duration": 182,
    "start_time": "2022-11-30T23:54:53.144Z"
   },
   {
    "duration": 173,
    "start_time": "2022-11-30T23:54:53.328Z"
   },
   {
    "duration": 171,
    "start_time": "2022-11-30T23:54:53.502Z"
   },
   {
    "duration": 137,
    "start_time": "2022-11-30T23:54:53.675Z"
   },
   {
    "duration": 138,
    "start_time": "2022-11-30T23:54:53.813Z"
   },
   {
    "duration": 152,
    "start_time": "2022-11-30T23:54:53.952Z"
   },
   {
    "duration": 161,
    "start_time": "2022-11-30T23:54:54.105Z"
   },
   {
    "duration": 212,
    "start_time": "2022-11-30T23:54:54.268Z"
   },
   {
    "duration": 183,
    "start_time": "2022-11-30T23:54:54.487Z"
   },
   {
    "duration": 677,
    "start_time": "2022-12-01T06:58:00.468Z"
   },
   {
    "duration": 4,
    "start_time": "2022-12-01T06:58:01.148Z"
   },
   {
    "duration": 156,
    "start_time": "2022-12-01T06:58:01.154Z"
   },
   {
    "duration": 30,
    "start_time": "2022-12-01T06:58:01.312Z"
   },
   {
    "duration": 46,
    "start_time": "2022-12-01T06:58:01.344Z"
   },
   {
    "duration": 2270,
    "start_time": "2022-12-01T06:58:01.392Z"
   },
   {
    "duration": 26,
    "start_time": "2022-12-01T06:58:03.665Z"
   },
   {
    "duration": 43,
    "start_time": "2022-12-01T06:58:03.692Z"
   },
   {
    "duration": 20,
    "start_time": "2022-12-01T06:58:03.737Z"
   },
   {
    "duration": 117,
    "start_time": "2022-12-01T06:58:03.761Z"
   },
   {
    "duration": 16,
    "start_time": "2022-12-01T06:58:03.880Z"
   },
   {
    "duration": 107,
    "start_time": "2022-12-01T06:58:03.898Z"
   },
   {
    "duration": 364,
    "start_time": "2022-12-01T06:58:04.006Z"
   },
   {
    "duration": 299,
    "start_time": "2022-12-01T06:58:04.372Z"
   },
   {
    "duration": 380,
    "start_time": "2022-12-01T06:58:04.674Z"
   },
   {
    "duration": 298,
    "start_time": "2022-12-01T06:58:05.056Z"
   },
   {
    "duration": 268,
    "start_time": "2022-12-01T06:58:05.356Z"
   },
   {
    "duration": 301,
    "start_time": "2022-12-01T06:58:05.626Z"
   },
   {
    "duration": 179,
    "start_time": "2022-12-01T06:58:05.929Z"
   },
   {
    "duration": 214,
    "start_time": "2022-12-01T06:58:06.110Z"
   },
   {
    "duration": 143,
    "start_time": "2022-12-01T06:58:06.326Z"
   },
   {
    "duration": 170,
    "start_time": "2022-12-01T06:58:06.471Z"
   },
   {
    "duration": 293,
    "start_time": "2022-12-01T06:58:06.643Z"
   },
   {
    "duration": 165,
    "start_time": "2022-12-01T06:58:06.938Z"
   },
   {
    "duration": 218,
    "start_time": "2022-12-01T06:58:07.105Z"
   },
   {
    "duration": 187,
    "start_time": "2022-12-01T06:58:07.325Z"
   },
   {
    "duration": 179,
    "start_time": "2022-12-01T06:58:07.514Z"
   },
   {
    "duration": 196,
    "start_time": "2022-12-01T06:58:07.698Z"
   },
   {
    "duration": 189,
    "start_time": "2022-12-01T06:58:07.896Z"
   },
   {
    "duration": 185,
    "start_time": "2022-12-01T06:58:08.088Z"
   },
   {
    "duration": 176,
    "start_time": "2022-12-01T06:58:08.275Z"
   },
   {
    "duration": 198,
    "start_time": "2022-12-01T06:58:08.453Z"
   },
   {
    "duration": 202,
    "start_time": "2022-12-01T06:58:08.654Z"
   },
   {
    "duration": 224,
    "start_time": "2022-12-01T06:58:08.859Z"
   },
   {
    "duration": 166,
    "start_time": "2022-12-01T06:58:09.085Z"
   },
   {
    "duration": 175,
    "start_time": "2022-12-01T06:58:09.253Z"
   },
   {
    "duration": 165,
    "start_time": "2022-12-01T06:58:09.429Z"
   },
   {
    "duration": 231,
    "start_time": "2022-12-01T06:58:09.596Z"
   },
   {
    "duration": 207,
    "start_time": "2022-12-01T06:58:09.836Z"
   },
   {
    "duration": 15,
    "start_time": "2022-12-01T06:59:06.268Z"
   },
   {
    "duration": 148,
    "start_time": "2022-12-01T06:59:09.438Z"
   }
  ],
  "kernelspec": {
   "display_name": "Python 3 (ipykernel)",
   "language": "python",
   "name": "python3"
  },
  "language_info": {
   "codemirror_mode": {
    "name": "ipython",
    "version": 3
   },
   "file_extension": ".py",
   "mimetype": "text/x-python",
   "name": "python",
   "nbconvert_exporter": "python",
   "pygments_lexer": "ipython3",
   "version": "3.9.5"
  },
  "toc": {
   "base_numbering": 1,
   "nav_menu": {},
   "number_sections": true,
   "sideBar": true,
   "skip_h1_title": true,
   "title_cell": "Table of Contents",
   "title_sidebar": "Contents",
   "toc_cell": false,
   "toc_position": {
    "height": "calc(100% - 180px)",
    "left": "10px",
    "top": "150px",
    "width": "408.889px"
   },
   "toc_section_display": true,
   "toc_window_display": false
  }
 },
 "nbformat": 4,
 "nbformat_minor": 2
}
