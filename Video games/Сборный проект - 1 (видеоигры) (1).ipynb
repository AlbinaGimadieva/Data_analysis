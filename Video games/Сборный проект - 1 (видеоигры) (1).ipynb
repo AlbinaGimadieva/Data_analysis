{
 "cells": [
  {
   "cell_type": "markdown",
   "metadata": {
    "toc": true
   },
   "source": [
    "<h1>Содержание<span class=\"tocSkip\"></span></h1>\n",
    "<div class=\"toc\"><ul class=\"toc-item\"><li><span><a href=\"#Откройте-файл-с-данными-и-изучите-общую-информацию\" data-toc-modified-id=\"Откройте-файл-с-данными-и-изучите-общую-информацию-1\"><span class=\"toc-item-num\">1&nbsp;&nbsp;</span>Откройте файл с данными и изучите общую информацию</a></span><ul class=\"toc-item\"><li><span><a href=\"#Вывод\" data-toc-modified-id=\"Вывод-1.1\"><span class=\"toc-item-num\">1.1&nbsp;&nbsp;</span>Вывод</a></span></li></ul></li><li><span><a href=\"#Предобработка-данных\" data-toc-modified-id=\"Предобработка-данных-2\"><span class=\"toc-item-num\">2&nbsp;&nbsp;</span>Предобработка данных</a></span><ul class=\"toc-item\"><li><span><a href=\"#Изменение-регистра-заголовков\" data-toc-modified-id=\"Изменение-регистра-заголовков-2.1\"><span class=\"toc-item-num\">2.1&nbsp;&nbsp;</span>Изменение регистра заголовков</a></span></li><li><span><a href=\"#Изменение-типа-данных\" data-toc-modified-id=\"Изменение-типа-данных-2.2\"><span class=\"toc-item-num\">2.2&nbsp;&nbsp;</span>Изменение типа данных</a></span></li><li><span><a href=\"#Изучим-пропуски\" data-toc-modified-id=\"Изучим-пропуски-2.3\"><span class=\"toc-item-num\">2.3&nbsp;&nbsp;</span>Изучим пропуски</a></span></li></ul></li><li><span><a href=\"#Исследовательский-анализ-данных\" data-toc-modified-id=\"Исследовательский-анализ-данных-3\"><span class=\"toc-item-num\">3&nbsp;&nbsp;</span>Исследовательский анализ данных</a></span><ul class=\"toc-item\"><li><span><a href=\"#Динамика-количества-выпущенных-игр\" data-toc-modified-id=\"Динамика-количества-выпущенных-игр-3.1\"><span class=\"toc-item-num\">3.1&nbsp;&nbsp;</span>Динамика количества выпущенных игр</a></span></li><li><span><a href=\"#Динамика-продаж-по-платформам\" data-toc-modified-id=\"Динамика-продаж-по-платформам-3.2\"><span class=\"toc-item-num\">3.2&nbsp;&nbsp;</span>Динамика продаж по платформам</a></span></li><li><span><a href=\"#Диаграмма-размаха-продаж-игр-на-платформах\" data-toc-modified-id=\"Диаграмма-размаха-продаж-игр-на-платформах-3.3\"><span class=\"toc-item-num\">3.3&nbsp;&nbsp;</span>Диаграмма размаха продаж игр на платформах</a></span></li><li><span><a href=\"#Влияние-на-продажи-игр-отзывов-критиков-и-пользователей\" data-toc-modified-id=\"Влияние-на-продажи-игр-отзывов-критиков-и-пользователей-3.4\"><span class=\"toc-item-num\">3.4&nbsp;&nbsp;</span>Влияние на продажи игр отзывов критиков и пользователей</a></span></li><li><span><a href=\"#Анализ-объемов-продаж-игр-по-жанрам\" data-toc-modified-id=\"Анализ-объемов-продаж-игр-по-жанрам-3.5\"><span class=\"toc-item-num\">3.5&nbsp;&nbsp;</span>Анализ объемов продаж игр по жанрам</a></span></li></ul></li><li><span><a href=\"#Портрет-пользователей-по-регионам-продаж\" data-toc-modified-id=\"Портрет-пользователей-по-регионам-продаж-4\"><span class=\"toc-item-num\">4&nbsp;&nbsp;</span>Портрет пользователей по регионам продаж</a></span><ul class=\"toc-item\"><li><span><a href=\"#Популярные-жанры-игр\" data-toc-modified-id=\"Популярные-жанры-игр-4.1\"><span class=\"toc-item-num\">4.1&nbsp;&nbsp;</span>Популярные жанры игр</a></span></li><li><span><a href=\"#Популярные-платформы\" data-toc-modified-id=\"Популярные-платформы-4.2\"><span class=\"toc-item-num\">4.2&nbsp;&nbsp;</span>Популярные платформы</a></span></li><li><span><a href=\"#Влияние-рейтинга-игр-на-их-продажи\" data-toc-modified-id=\"Влияние-рейтинга-игр-на-их-продажи-4.3\"><span class=\"toc-item-num\">4.3&nbsp;&nbsp;</span>Влияние рейтинга игр на их продажи</a></span></li></ul></li><li><span><a href=\"#Проверка-гипотез\" data-toc-modified-id=\"Проверка-гипотез-5\"><span class=\"toc-item-num\">5&nbsp;&nbsp;</span>Проверка гипотез</a></span><ul class=\"toc-item\"><li><span><a href=\"#Сравнение-пользовательских-рейтингов-платформ-Xbox-One-и-PC\" data-toc-modified-id=\"Сравнение-пользовательских-рейтингов-платформ-Xbox-One-и-PC-5.1\"><span class=\"toc-item-num\">5.1&nbsp;&nbsp;</span>Сравнение пользовательских рейтингов платформ Xbox One и PC</a></span></li><li><span><a href=\"#Сравнение-пользовательских-рейтингов-жанров-Action-(англ.-«действие»,-экшен-игры)-и-Sports-(англ.-«спортивные-соревнования»)\" data-toc-modified-id=\"Сравнение-пользовательских-рейтингов-жанров-Action-(англ.-«действие»,-экшен-игры)-и-Sports-(англ.-«спортивные-соревнования»)-5.2\"><span class=\"toc-item-num\">5.2&nbsp;&nbsp;</span>Сравнение пользовательских рейтингов жанров Action (англ. «действие», экшен-игры) и Sports (англ. «спортивные соревнования»)</a></span></li></ul></li><li><span><a href=\"#Вывод-по-результатам-анализа\" data-toc-modified-id=\"Вывод-по-результатам-анализа-6\"><span class=\"toc-item-num\">6&nbsp;&nbsp;</span>Вывод по результатам анализа</a></span></li></ul></div>"
   ]
  },
  {
   "cell_type": "markdown",
   "metadata": {},
   "source": [
    "# Сборный проект\n",
    "\n",
    "* Дано: интернет-магазин «Стримчик», реализующий компьютерные игры по всему миру \n",
    "* Данные: исторические данные о продажах игр, оценки пользователей и экспертов, жанры и платформы из открытых источников\n",
    "* Цель: определение закономерностей, определяющих успешность игры, для продвижения потенциально востребованного продукта и планирования рекламных кампаний."
   ]
  },
  {
   "cell_type": "markdown",
   "metadata": {},
   "source": [
    "###  Откройте файл с данными и изучите общую информацию"
   ]
  },
  {
   "cell_type": "code",
   "execution_count": 4,
   "metadata": {},
   "outputs": [],
   "source": [
    "# загрузим необходимые библиотеки\n",
    "\n",
    "import pandas as pd\n",
    "\n",
    "import matplotlib.pyplot as plt\n",
    "\n",
    "import numpy as np\n",
    "\n",
    "import seaborn as sns\n",
    "\n",
    "from scipy import stats as st"
   ]
  },
  {
   "cell_type": "code",
   "execution_count": 5,
   "metadata": {},
   "outputs": [],
   "source": [
    "data = pd.read_csv('/datasets/games.csv')"
   ]
  },
  {
   "cell_type": "code",
   "execution_count": 6,
   "metadata": {},
   "outputs": [],
   "source": [
    "pd.set_option('display.max_columns', None)"
   ]
  },
  {
   "cell_type": "code",
   "execution_count": 7,
   "metadata": {},
   "outputs": [
    {
     "data": {
      "text/html": [
       "<div>\n",
       "<style scoped>\n",
       "    .dataframe tbody tr th:only-of-type {\n",
       "        vertical-align: middle;\n",
       "    }\n",
       "\n",
       "    .dataframe tbody tr th {\n",
       "        vertical-align: top;\n",
       "    }\n",
       "\n",
       "    .dataframe thead th {\n",
       "        text-align: right;\n",
       "    }\n",
       "</style>\n",
       "<table border=\"1\" class=\"dataframe\">\n",
       "  <thead>\n",
       "    <tr style=\"text-align: right;\">\n",
       "      <th></th>\n",
       "      <th>Name</th>\n",
       "      <th>Platform</th>\n",
       "      <th>Year_of_Release</th>\n",
       "      <th>Genre</th>\n",
       "      <th>NA_sales</th>\n",
       "      <th>EU_sales</th>\n",
       "      <th>JP_sales</th>\n",
       "      <th>Other_sales</th>\n",
       "      <th>Critic_Score</th>\n",
       "      <th>User_Score</th>\n",
       "      <th>Rating</th>\n",
       "    </tr>\n",
       "  </thead>\n",
       "  <tbody>\n",
       "    <tr>\n",
       "      <th>0</th>\n",
       "      <td>Wii Sports</td>\n",
       "      <td>Wii</td>\n",
       "      <td>2006.0</td>\n",
       "      <td>Sports</td>\n",
       "      <td>41.36</td>\n",
       "      <td>28.96</td>\n",
       "      <td>3.77</td>\n",
       "      <td>8.45</td>\n",
       "      <td>76.0</td>\n",
       "      <td>8</td>\n",
       "      <td>E</td>\n",
       "    </tr>\n",
       "    <tr>\n",
       "      <th>1</th>\n",
       "      <td>Super Mario Bros.</td>\n",
       "      <td>NES</td>\n",
       "      <td>1985.0</td>\n",
       "      <td>Platform</td>\n",
       "      <td>29.08</td>\n",
       "      <td>3.58</td>\n",
       "      <td>6.81</td>\n",
       "      <td>0.77</td>\n",
       "      <td>NaN</td>\n",
       "      <td>NaN</td>\n",
       "      <td>NaN</td>\n",
       "    </tr>\n",
       "    <tr>\n",
       "      <th>2</th>\n",
       "      <td>Mario Kart Wii</td>\n",
       "      <td>Wii</td>\n",
       "      <td>2008.0</td>\n",
       "      <td>Racing</td>\n",
       "      <td>15.68</td>\n",
       "      <td>12.76</td>\n",
       "      <td>3.79</td>\n",
       "      <td>3.29</td>\n",
       "      <td>82.0</td>\n",
       "      <td>8.3</td>\n",
       "      <td>E</td>\n",
       "    </tr>\n",
       "    <tr>\n",
       "      <th>3</th>\n",
       "      <td>Wii Sports Resort</td>\n",
       "      <td>Wii</td>\n",
       "      <td>2009.0</td>\n",
       "      <td>Sports</td>\n",
       "      <td>15.61</td>\n",
       "      <td>10.93</td>\n",
       "      <td>3.28</td>\n",
       "      <td>2.95</td>\n",
       "      <td>80.0</td>\n",
       "      <td>8</td>\n",
       "      <td>E</td>\n",
       "    </tr>\n",
       "    <tr>\n",
       "      <th>4</th>\n",
       "      <td>Pokemon Red/Pokemon Blue</td>\n",
       "      <td>GB</td>\n",
       "      <td>1996.0</td>\n",
       "      <td>Role-Playing</td>\n",
       "      <td>11.27</td>\n",
       "      <td>8.89</td>\n",
       "      <td>10.22</td>\n",
       "      <td>1.00</td>\n",
       "      <td>NaN</td>\n",
       "      <td>NaN</td>\n",
       "      <td>NaN</td>\n",
       "    </tr>\n",
       "    <tr>\n",
       "      <th>5</th>\n",
       "      <td>Tetris</td>\n",
       "      <td>GB</td>\n",
       "      <td>1989.0</td>\n",
       "      <td>Puzzle</td>\n",
       "      <td>23.20</td>\n",
       "      <td>2.26</td>\n",
       "      <td>4.22</td>\n",
       "      <td>0.58</td>\n",
       "      <td>NaN</td>\n",
       "      <td>NaN</td>\n",
       "      <td>NaN</td>\n",
       "    </tr>\n",
       "    <tr>\n",
       "      <th>6</th>\n",
       "      <td>New Super Mario Bros.</td>\n",
       "      <td>DS</td>\n",
       "      <td>2006.0</td>\n",
       "      <td>Platform</td>\n",
       "      <td>11.28</td>\n",
       "      <td>9.14</td>\n",
       "      <td>6.50</td>\n",
       "      <td>2.88</td>\n",
       "      <td>89.0</td>\n",
       "      <td>8.5</td>\n",
       "      <td>E</td>\n",
       "    </tr>\n",
       "    <tr>\n",
       "      <th>7</th>\n",
       "      <td>Wii Play</td>\n",
       "      <td>Wii</td>\n",
       "      <td>2006.0</td>\n",
       "      <td>Misc</td>\n",
       "      <td>13.96</td>\n",
       "      <td>9.18</td>\n",
       "      <td>2.93</td>\n",
       "      <td>2.84</td>\n",
       "      <td>58.0</td>\n",
       "      <td>6.6</td>\n",
       "      <td>E</td>\n",
       "    </tr>\n",
       "    <tr>\n",
       "      <th>8</th>\n",
       "      <td>New Super Mario Bros. Wii</td>\n",
       "      <td>Wii</td>\n",
       "      <td>2009.0</td>\n",
       "      <td>Platform</td>\n",
       "      <td>14.44</td>\n",
       "      <td>6.94</td>\n",
       "      <td>4.70</td>\n",
       "      <td>2.24</td>\n",
       "      <td>87.0</td>\n",
       "      <td>8.4</td>\n",
       "      <td>E</td>\n",
       "    </tr>\n",
       "    <tr>\n",
       "      <th>9</th>\n",
       "      <td>Duck Hunt</td>\n",
       "      <td>NES</td>\n",
       "      <td>1984.0</td>\n",
       "      <td>Shooter</td>\n",
       "      <td>26.93</td>\n",
       "      <td>0.63</td>\n",
       "      <td>0.28</td>\n",
       "      <td>0.47</td>\n",
       "      <td>NaN</td>\n",
       "      <td>NaN</td>\n",
       "      <td>NaN</td>\n",
       "    </tr>\n",
       "  </tbody>\n",
       "</table>\n",
       "</div>"
      ],
      "text/plain": [
       "                        Name Platform  Year_of_Release         Genre  \\\n",
       "0                 Wii Sports      Wii           2006.0        Sports   \n",
       "1          Super Mario Bros.      NES           1985.0      Platform   \n",
       "2             Mario Kart Wii      Wii           2008.0        Racing   \n",
       "3          Wii Sports Resort      Wii           2009.0        Sports   \n",
       "4   Pokemon Red/Pokemon Blue       GB           1996.0  Role-Playing   \n",
       "5                     Tetris       GB           1989.0        Puzzle   \n",
       "6      New Super Mario Bros.       DS           2006.0      Platform   \n",
       "7                   Wii Play      Wii           2006.0          Misc   \n",
       "8  New Super Mario Bros. Wii      Wii           2009.0      Platform   \n",
       "9                  Duck Hunt      NES           1984.0       Shooter   \n",
       "\n",
       "   NA_sales  EU_sales  JP_sales  Other_sales  Critic_Score User_Score Rating  \n",
       "0     41.36     28.96      3.77         8.45          76.0          8      E  \n",
       "1     29.08      3.58      6.81         0.77           NaN        NaN    NaN  \n",
       "2     15.68     12.76      3.79         3.29          82.0        8.3      E  \n",
       "3     15.61     10.93      3.28         2.95          80.0          8      E  \n",
       "4     11.27      8.89     10.22         1.00           NaN        NaN    NaN  \n",
       "5     23.20      2.26      4.22         0.58           NaN        NaN    NaN  \n",
       "6     11.28      9.14      6.50         2.88          89.0        8.5      E  \n",
       "7     13.96      9.18      2.93         2.84          58.0        6.6      E  \n",
       "8     14.44      6.94      4.70         2.24          87.0        8.4      E  \n",
       "9     26.93      0.63      0.28         0.47           NaN        NaN    NaN  "
      ]
     },
     "metadata": {},
     "output_type": "display_data"
    }
   ],
   "source": [
    "display(data.head(10))"
   ]
  },
  {
   "cell_type": "code",
   "execution_count": 8,
   "metadata": {},
   "outputs": [
    {
     "name": "stdout",
     "output_type": "stream",
     "text": [
      "<class 'pandas.core.frame.DataFrame'>\n",
      "RangeIndex: 16715 entries, 0 to 16714\n",
      "Data columns (total 11 columns):\n",
      " #   Column           Non-Null Count  Dtype  \n",
      "---  ------           --------------  -----  \n",
      " 0   Name             16713 non-null  object \n",
      " 1   Platform         16715 non-null  object \n",
      " 2   Year_of_Release  16446 non-null  float64\n",
      " 3   Genre            16713 non-null  object \n",
      " 4   NA_sales         16715 non-null  float64\n",
      " 5   EU_sales         16715 non-null  float64\n",
      " 6   JP_sales         16715 non-null  float64\n",
      " 7   Other_sales      16715 non-null  float64\n",
      " 8   Critic_Score     8137 non-null   float64\n",
      " 9   User_Score       10014 non-null  object \n",
      " 10  Rating           9949 non-null   object \n",
      "dtypes: float64(6), object(5)\n",
      "memory usage: 1.4+ MB\n",
      "None\n"
     ]
    }
   ],
   "source": [
    "print(data.info())"
   ]
  },
  {
   "cell_type": "code",
   "execution_count": 9,
   "metadata": {},
   "outputs": [
    {
     "data": {
      "image/png": "[encoded data removed]",
      "text/plain": [
       "<Figure size 720x720 with 6 Axes>"
      ]
     },
     "metadata": {
      "needs_background": "light"
     },
     "output_type": "display_data"
    }
   ],
   "source": [
    "data.hist(figsize=(10, 10))\n",
    "plt.show()"
   ]
  },
  {
   "cell_type": "markdown",
   "metadata": {},
   "source": [
    "#### Вывод"
   ]
  },
  {
   "cell_type": "markdown",
   "metadata": {},
   "source": [
    "Пропущенные значения имеются в столбцах Name, Year of Release, Genre, Critic Score, User Score, Rating.\n",
    "Гистограмма Year of Release имеет положительную динамику, особенно велико число игр, выпускаемых с 2000-х годов, что, вероятно, связано в целом с развитием индустрии геймдева.\n",
    "Гистограммы продаж по регионам представлены колоннами вблизи значения 0 и требуют более детального изучения на предмет выбросов.\n",
    "Судя по гистограмме Critic Score, наиболее часто критики присваивали оценки от 65 до 80 баллов из 100.\n",
    "В столбцах User Score, Rating представлены данные типа object, что потребует их обработки."
   ]
  },
  {
   "cell_type": "markdown",
   "metadata": {},
   "source": [
    "### Предобработка данных"
   ]
  },
  {
   "cell_type": "markdown",
   "metadata": {},
   "source": [
    "#### Изменение регистра заголовков"
   ]
  },
  {
   "cell_type": "code",
   "execution_count": 10,
   "metadata": {},
   "outputs": [],
   "source": [
    "# приведем названия столбцов к нижнему регистру\n",
    "data.columns = data.columns.str.lower()"
   ]
  },
  {
   "cell_type": "markdown",
   "metadata": {},
   "source": [
    "#### Изменение типа данных"
   ]
  },
  {
   "cell_type": "code",
   "execution_count": 11,
   "metadata": {},
   "outputs": [],
   "source": [
    "data['year_of_release'] = data['year_of_release'].astype('Int64')"
   ]
  },
  {
   "cell_type": "markdown",
   "metadata": {},
   "source": [
    "В графе user_score не удалось поменять значения с object на float по причине наличия оценок tbd. Это означает, что оценка игры пока не определена (tbd - to be determined or discussed), что может быть связано с тем, что игра еще не оценена или данные не обновлены. Для изменения типа столбца нам необходимо заменить значения tbd на пропуски, т.к. оценка 0 была некорректной, а замена средними значениями понизит качество данных."
   ]
  },
  {
   "cell_type": "code",
   "execution_count": 12,
   "metadata": {},
   "outputs": [
    {
     "name": "stdout",
     "output_type": "stream",
     "text": [
      "9125\n",
      "<class 'pandas.core.frame.DataFrame'>\n",
      "RangeIndex: 16715 entries, 0 to 16714\n",
      "Data columns (total 11 columns):\n",
      " #   Column           Non-Null Count  Dtype  \n",
      "---  ------           --------------  -----  \n",
      " 0   name             16713 non-null  object \n",
      " 1   platform         16715 non-null  object \n",
      " 2   year_of_release  16446 non-null  Int64  \n",
      " 3   genre            16713 non-null  object \n",
      " 4   na_sales         16715 non-null  float64\n",
      " 5   eu_sales         16715 non-null  float64\n",
      " 6   jp_sales         16715 non-null  float64\n",
      " 7   other_sales      16715 non-null  float64\n",
      " 8   critic_score     8137 non-null   float64\n",
      " 9   user_score       7590 non-null   float64\n",
      " 10  rating           9949 non-null   object \n",
      "dtypes: Int64(1), float64(6), object(4)\n",
      "memory usage: 1.4+ MB\n",
      "None\n"
     ]
    }
   ],
   "source": [
    "data.loc[data['user_score'] == 'tbd', 'user_score'] = np.NaN # заменяем tbd на пропуски\n",
    "print(data['user_score'].isna().sum()) # проверим число пропусков - после замены их должно стать больше\n",
    "data['user_score'] = pd.to_numeric(data['user_score']) # изменяем тип данных на числовой\n",
    "print(data.info())"
   ]
  },
  {
   "cell_type": "markdown",
   "metadata": {},
   "source": [
    "#### Изучим пропуски"
   ]
  },
  {
   "cell_type": "markdown",
   "metadata": {},
   "source": [
    "Пропущенные значения имеются в столбцах name, year_of_release, genre, critic_score, user_score, rating. \n",
    "* В столбцах name, year_of_release пропуски заменять не будем, т.к. отсутствуют адекватные для заполнения значения. Строки с пропущенными данными в них удалим, это не скажется на качестве данных, т.к. будет удалено менее 10% данных (1,6%).\n",
    "* В столбцах critic_score, user_score пропуски оставим, т.к. замены иными значениями, например, средними или медианными, приведет к снижению качества данных.\n",
    "* В столбце rating пропуски заменим на NR (not rated), таким образом объединим с той группой, по которой рейтинг еще не определен. Также среди значений этого столбца есть К-А (от 6 лет и старше), в 1998 г. эта категория была заменена на Е.\n",
    "* Пропуски в столбце genre будут исключены при удалении строк с пропусками в столбце name - эти строки не информативны.\n",
    "Причины пропусков могут быть полностью случайные (забыли указать жанр, например), случайные (оценки связаны могут быть связаны с платформой размещения игры, но есть более существенные факторы влияния на оценки), неслучайные (рейтинг не был указан намеренно, чтобы расширить круг потенциальных пользователей за счет сокрытия минимального допустимого возраста). Также причины могут быть технического характера: сбой в системе, некорректная выгрузка данных.\n"
   ]
  },
  {
   "cell_type": "code",
   "execution_count": 13,
   "metadata": {},
   "outputs": [
    {
     "name": "stdout",
     "output_type": "stream",
     "text": [
      "E       3990\n",
      "T       2961\n",
      "M       1563\n",
      "E10+    1420\n",
      "EC         8\n",
      "RP         3\n",
      "K-A        3\n",
      "AO         1\n",
      "Name: rating, dtype: int64\n"
     ]
    }
   ],
   "source": [
    "print(data['rating'].value_counts())"
   ]
  },
  {
   "cell_type": "code",
   "execution_count": 14,
   "metadata": {},
   "outputs": [
    {
     "data": {
      "text/html": [
       "<div>\n",
       "<style scoped>\n",
       "    .dataframe tbody tr th:only-of-type {\n",
       "        vertical-align: middle;\n",
       "    }\n",
       "\n",
       "    .dataframe tbody tr th {\n",
       "        vertical-align: top;\n",
       "    }\n",
       "\n",
       "    .dataframe thead th {\n",
       "        text-align: right;\n",
       "    }\n",
       "</style>\n",
       "<table border=\"1\" class=\"dataframe\">\n",
       "  <thead>\n",
       "    <tr style=\"text-align: right;\">\n",
       "      <th></th>\n",
       "      <th>name</th>\n",
       "      <th>platform</th>\n",
       "      <th>year_of_release</th>\n",
       "      <th>genre</th>\n",
       "      <th>na_sales</th>\n",
       "      <th>eu_sales</th>\n",
       "      <th>jp_sales</th>\n",
       "      <th>other_sales</th>\n",
       "      <th>critic_score</th>\n",
       "      <th>user_score</th>\n",
       "      <th>rating</th>\n",
       "    </tr>\n",
       "  </thead>\n",
       "  <tbody>\n",
       "    <tr>\n",
       "      <th>659</th>\n",
       "      <td>NaN</td>\n",
       "      <td>GEN</td>\n",
       "      <td>1993</td>\n",
       "      <td>NaN</td>\n",
       "      <td>1.78</td>\n",
       "      <td>0.53</td>\n",
       "      <td>0.00</td>\n",
       "      <td>0.08</td>\n",
       "      <td>NaN</td>\n",
       "      <td>NaN</td>\n",
       "      <td>NaN</td>\n",
       "    </tr>\n",
       "    <tr>\n",
       "      <th>14244</th>\n",
       "      <td>NaN</td>\n",
       "      <td>GEN</td>\n",
       "      <td>1993</td>\n",
       "      <td>NaN</td>\n",
       "      <td>0.00</td>\n",
       "      <td>0.00</td>\n",
       "      <td>0.03</td>\n",
       "      <td>0.00</td>\n",
       "      <td>NaN</td>\n",
       "      <td>NaN</td>\n",
       "      <td>NaN</td>\n",
       "    </tr>\n",
       "  </tbody>\n",
       "</table>\n",
       "</div>"
      ],
      "text/plain": [
       "      name platform  year_of_release genre  na_sales  eu_sales  jp_sales  \\\n",
       "659    NaN      GEN             1993   NaN      1.78      0.53      0.00   \n",
       "14244  NaN      GEN             1993   NaN      0.00      0.00      0.03   \n",
       "\n",
       "       other_sales  critic_score  user_score rating  \n",
       "659           0.08           NaN         NaN    NaN  \n",
       "14244         0.00           NaN         NaN    NaN  "
      ]
     },
     "metadata": {},
     "output_type": "display_data"
    }
   ],
   "source": [
    "display(data.loc[data['genre'].isna()])"
   ]
  },
  {
   "cell_type": "code",
   "execution_count": 15,
   "metadata": {},
   "outputs": [
    {
     "name": "stdout",
     "output_type": "stream",
     "text": [
      "0\n",
      "<class 'pandas.core.frame.DataFrame'>\n",
      "RangeIndex: 16444 entries, 0 to 16443\n",
      "Data columns (total 11 columns):\n",
      " #   Column           Non-Null Count  Dtype  \n",
      "---  ------           --------------  -----  \n",
      " 0   name             16444 non-null  object \n",
      " 1   platform         16444 non-null  object \n",
      " 2   year_of_release  16444 non-null  Int64  \n",
      " 3   genre            16444 non-null  object \n",
      " 4   na_sales         16444 non-null  float64\n",
      " 5   eu_sales         16444 non-null  float64\n",
      " 6   jp_sales         16444 non-null  float64\n",
      " 7   other_sales      16444 non-null  float64\n",
      " 8   critic_score     7983 non-null   float64\n",
      " 9   user_score       7463 non-null   float64\n",
      " 10  rating           16444 non-null  object \n",
      "dtypes: Int64(1), float64(6), object(4)\n",
      "memory usage: 1.4+ MB\n",
      "None\n"
     ]
    }
   ],
   "source": [
    "# удалим строки с пропусками в названии\n",
    "data = data.dropna(subset=['name']).reset_index(drop=True) \n",
    "\n",
    "# удалим строки с пропусками в столбце \"год выпуска\"\n",
    "data = data.dropna(subset=['year_of_release']).reset_index(drop=True)\n",
    "\n",
    "# заменим пропуски в рейтинге на NR\n",
    "data['rating'] = data['rating'].fillna('NR')\n",
    "data.loc[data['rating'] == 'RP', 'rating'] = 'NR'\n",
    "print(data['rating'].isna().sum())\n",
    "\n",
    "print(data.info())"
   ]
  },
  {
   "cell_type": "code",
   "execution_count": 16,
   "metadata": {},
   "outputs": [],
   "source": [
    "# создадим столбец с общим объемом продаж\n",
    "data['total_sales'] = data['na_sales'] + data['eu_sales'] + data['jp_sales'] + data['other_sales']"
   ]
  },
  {
   "cell_type": "code",
   "execution_count": 17,
   "metadata": {},
   "outputs": [
    {
     "name": "stdout",
     "output_type": "stream",
     "text": [
      "[' Beyblade Burst' ' Fire Emblem Fates' \" Frozen: Olaf's Quest\" ...\n",
      " 'uDraw Studio' 'uDraw Studio: Instant Artist'\n",
      " '¡Shin Chan Flipa en colores!']\n",
      "['Action' 'Adventure' 'Fighting' 'Misc' 'Platform' 'Puzzle' 'Racing'\n",
      " 'Role-Playing' 'Shooter' 'Simulation' 'Sports' 'Strategy']\n",
      "['2600' '3DO' '3DS' 'DC' 'DS' 'GB' 'GBA' 'GC' 'GEN' 'GG' 'N64' 'NES' 'NG'\n",
      " 'PC' 'PCFX' 'PS' 'PS2' 'PS3' 'PS4' 'PSP' 'PSV' 'SAT' 'SCD' 'SNES' 'TG16'\n",
      " 'WS' 'Wii' 'WiiU' 'X360' 'XB' 'XOne']\n",
      "1980       9\n",
      "1984      14\n",
      "1985      14\n",
      "1988      15\n",
      "1987      16\n",
      "1990      16\n",
      "1989      17\n",
      "1983      17\n",
      "1986      21\n",
      "1982      36\n",
      "1991      41\n",
      "1992      43\n",
      "1981      46\n",
      "1993      60\n",
      "1994     121\n",
      "1995     219\n",
      "1996     263\n",
      "1997     289\n",
      "1999     338\n",
      "2000     350\n",
      "1998     379\n",
      "2001     482\n",
      "2016     502\n",
      "2013     544\n",
      "2014     581\n",
      "2015     606\n",
      "2012     653\n",
      "2004     762\n",
      "2003     775\n",
      "2002     829\n",
      "2005     939\n",
      "2006    1006\n",
      "2011    1136\n",
      "2007    1197\n",
      "2010    1255\n",
      "2009    1426\n",
      "2008    1427\n",
      "Name: year_of_release, dtype: Int64\n"
     ]
    }
   ],
   "source": [
    "#проверим на предмет дубликатов или аномалий\n",
    "print(data['name'].sort_values().unique())\n",
    "print(data['genre'].sort_values().unique())\n",
    "print(data['platform'].sort_values().unique())\n",
    "print(data['year_of_release'].value_counts().sort_values())"
   ]
  },
  {
   "cell_type": "markdown",
   "metadata": {},
   "source": [
    "В целом, столбцы не имеют существенных недостатков. В столбце с названиями есть пробелы в начале слов, а также кавычки, что может приводить к неявным дубликатам, однако информация о названии игр не существенна для дальнейшего анализа - оставим."
   ]
  },
  {
   "cell_type": "markdown",
   "metadata": {},
   "source": [
    "**Вывод:** провели предварительную обработку данных: изменили регистр, заменили пропуски, где это было возможно, удалили строки с пропусками в тех случаях, когда их замена приводила бы к снижению качества данных. В случае с пользовательской оценкой заменили еще не определенную оценку на пропуск для дальнейшего корректного анализа. Добавили столбец с общим объемом продаж по регионам. Проверили на возможные дубликаты столбцы с платформами и жанрами - явные дубликаты не выявлены."
   ]
  },
  {
   "cell_type": "markdown",
   "metadata": {},
   "source": [
    "### Исследовательский анализ данных"
   ]
  },
  {
   "cell_type": "markdown",
   "metadata": {},
   "source": [
    "#### Динамика количества выпущенных игр"
   ]
  },
  {
   "cell_type": "code",
   "execution_count": 18,
   "metadata": {},
   "outputs": [
    {
     "data": {
      "image/png": "[encoded data removed]",
      "text/plain": [
       "<Figure size 720x360 with 1 Axes>"
      ]
     },
     "metadata": {
      "needs_background": "light"
     },
     "output_type": "display_data"
    },
    {
     "data": {
      "image/png": "[encoded data removed]",
      "text/plain": [
       "<Figure size 720x360 with 1 Axes>"
      ]
     },
     "metadata": {
      "needs_background": "light"
     },
     "output_type": "display_data"
    }
   ],
   "source": [
    "data.groupby('year_of_release')['name'].count().plot(kind='bar', figsize=(10,5))\n",
    "plt.title('Количество игр, выпущенных в разные годы')\n",
    "plt.xlabel('Год выпуска')\n",
    "plt.ylabel('Количество игр')\n",
    "plt.show()\n",
    "\n",
    "data.groupby('year_of_release')['total_sales'].sum().plot(kind='bar', figsize=(10,5))\n",
    "plt.title('Годовые объемы продаж')\n",
    "plt.xlabel('Год выпуска')\n",
    "plt.ylabel('Объем продаж')\n",
    "plt.show()"
   ]
  },
  {
   "cell_type": "markdown",
   "metadata": {},
   "source": [
    "По графику очевидно, что до 1994 г. количество выпускаемых игр было крайне мало, и ими можно пренебречь. Положительная динамика количества выпускаемых игр с 1994 по 2009 годы носит неравномерный характер: с 2002 г. происходит 2-3 кратный рост, начиная с 2010 г. тенденция неуклонно снижается. Поскольку восстановления количественного показателя выпускаемых игр не произошло, актуальным выберем период с 2014 по 2016 г."
   ]
  },
  {
   "cell_type": "markdown",
   "metadata": {},
   "source": [
    "#### Динамика продаж по платформам"
   ]
  },
  {
   "cell_type": "code",
   "execution_count": 19,
   "metadata": {},
   "outputs": [
    {
     "data": {
      "image/png": "[encoded data removed]",
      "text/plain": [
       "<Figure size 720x360 with 1 Axes>"
      ]
     },
     "metadata": {
      "needs_background": "light"
     },
     "output_type": "display_data"
    }
   ],
   "source": [
    "platform_sales = data \\\n",
    "                .pivot_table(index='platform', values='total_sales', aggfunc='sum') \\\n",
    "                .sort_values(by='total_sales', ascending=False)\n",
    "platform_sales.plot(kind='bar', figsize=(10,5), color='mediumseagreen', grid=True)\n",
    "plt.title('Объем продаж в разрезе платформ')\n",
    "plt.xlabel('Платформа')\n",
    "plt.ylabel('Общий объем продаж')\n",
    "plt.show()"
   ]
  },
  {
   "cell_type": "markdown",
   "metadata": {},
   "source": [
    "Топ-6 продаж приходится на платформы PS2, X360, PS3, Wii, DS, PS - их объемы в 3 и более раза превышают значения по другим платформам. Посмотрим, являются ли они наиболее популярными в выбранный период 2014-2016гг."
   ]
  },
  {
   "cell_type": "code",
   "execution_count": 20,
   "metadata": {},
   "outputs": [
    {
     "data": {
      "image/png": "[encoded data removed]",
      "text/plain": [
       "<Figure size 1080x360 with 1 Axes>"
      ]
     },
     "metadata": {
      "needs_background": "light"
     },
     "output_type": "display_data"
    },
    {
     "data": {
      "image/png": "[encoded data removed]",
      "text/plain": [
       "<Figure size 720x360 with 1 Axes>"
      ]
     },
     "metadata": {
      "needs_background": "light"
     },
     "output_type": "display_data"
    },
    {
     "data": {
      "text/plain": [
       "platform\n",
       "PS4     288.15\n",
       "XOne    140.36\n",
       "3DS      86.68\n",
       "PS3      68.18\n",
       "X360     48.22\n",
       "WiiU     42.98\n",
       "PC       27.05\n",
       "PSV      22.40\n",
       "Wii       5.07\n",
       "PSP       0.36\n",
       "Name: total_sales, dtype: float64"
      ]
     },
     "metadata": {},
     "output_type": "display_data"
    }
   ],
   "source": [
    "data.plot(kind='scatter', x='platform', y='year_of_release', figsize=(15,5), alpha=0.03)\n",
    "\n",
    "\n",
    "data \\\n",
    "    .query('2012 <= year_of_release <= 2016') \\\n",
    "    .pivot_table(index='year_of_release', columns='platform', values='total_sales', aggfunc='sum') \\\n",
    "    .plot(figsize=(10,5), grid=True)\n",
    "plt.title('Продажи игр за 2012-2016гг.')\n",
    "plt.xlabel('Год выпуска')\n",
    "plt.ylabel('Объем продаж')\n",
    "plt.show()\n",
    "\n",
    "sales_top = data.query('year_of_release >= 2014').groupby('platform')['total_sales'].sum()\n",
    "display(sales_top.sort_values(ascending=False))\n"
   ]
  },
  {
   "cell_type": "markdown",
   "metadata": {},
   "source": [
    "**Вывод:** из определенных ранее топ-6 платформ по объемам продаж при анализе по годам в выборку 2012-2016гг. не попали PS, PS2, DS (c 2013г.), что говорит о том, что они были популярны в предыдущие годы, а с 2013 года появляются новые платформы - PS4 и XOne. В среднем по данным графиков жизненный цикл платформ составляет около 10 лет, при этом есть более успешные исключения, например, РС, срок жизни которой более 20 лет, и нежизнеспособные платформы (N64, SAT, DC). В среднем в течение жизненного цикла платформы около 5-7 лет приходится на активные продажи, и далее рост объема продаж на них замедляется или объемы продаж на них снижаются. Таким образом можно выделить следующие категории платформ:\n",
    "* новые \"звезды\" - PS4, XOne, 3DS, которые в 2016г. входят в топ-5 платформ по продажам;\n",
    "* \"дойные коровы\" - X360, PS3, вышедшие в 2005г. и сохраняющие лидирующие позиции по объемам продаж среди платформ;\n",
    "* платформа PSV могла бы стать потенциально прибыльной - ее жизненный цикл еще продолжается;\n",
    "* платформы, ушедшие к 2016г. или демонстрирующие существенную тенденцию к снижению - DS, PSP, Wii.\n",
    "\n",
    "Динамика объема продаж по всем платформам демонстрирует существенное снижение за рассматриваемый период с 2014 по 2016гг.\n"
   ]
  },
  {
   "cell_type": "markdown",
   "metadata": {},
   "source": [
    "#### Диаграмма размаха продаж игр на платформах"
   ]
  },
  {
   "cell_type": "code",
   "execution_count": 21,
   "metadata": {},
   "outputs": [
    {
     "data": {
      "image/png": "[encoded data removed]",
      "text/plain": [
       "<Figure size 1080x720 with 1 Axes>"
      ]
     },
     "metadata": {
      "needs_background": "light"
     },
     "output_type": "display_data"
    },
    {
     "data": {
      "text/html": [
       "<div>\n",
       "<style scoped>\n",
       "    .dataframe tbody tr th:only-of-type {\n",
       "        vertical-align: middle;\n",
       "    }\n",
       "\n",
       "    .dataframe tbody tr th {\n",
       "        vertical-align: top;\n",
       "    }\n",
       "\n",
       "    .dataframe thead th {\n",
       "        text-align: right;\n",
       "    }\n",
       "</style>\n",
       "<table border=\"1\" class=\"dataframe\">\n",
       "  <thead>\n",
       "    <tr style=\"text-align: right;\">\n",
       "      <th></th>\n",
       "      <th>25%</th>\n",
       "      <th>50%</th>\n",
       "      <th>75%</th>\n",
       "      <th>count</th>\n",
       "      <th>max</th>\n",
       "      <th>mean</th>\n",
       "      <th>min</th>\n",
       "      <th>std</th>\n",
       "    </tr>\n",
       "    <tr>\n",
       "      <th>platform</th>\n",
       "      <th></th>\n",
       "      <th></th>\n",
       "      <th></th>\n",
       "      <th></th>\n",
       "      <th></th>\n",
       "      <th></th>\n",
       "      <th></th>\n",
       "      <th></th>\n",
       "    </tr>\n",
       "  </thead>\n",
       "  <tbody>\n",
       "    <tr>\n",
       "      <th>3DS</th>\n",
       "      <td>0.0300</td>\n",
       "      <td>0.090</td>\n",
       "      <td>0.2500</td>\n",
       "      <td>212.0</td>\n",
       "      <td>11.68</td>\n",
       "      <td>0.408868</td>\n",
       "      <td>0.01</td>\n",
       "      <td>1.188368</td>\n",
       "    </tr>\n",
       "    <tr>\n",
       "      <th>PC</th>\n",
       "      <td>0.0200</td>\n",
       "      <td>0.060</td>\n",
       "      <td>0.2000</td>\n",
       "      <td>151.0</td>\n",
       "      <td>3.05</td>\n",
       "      <td>0.179139</td>\n",
       "      <td>0.01</td>\n",
       "      <td>0.329359</td>\n",
       "    </tr>\n",
       "    <tr>\n",
       "      <th>PS3</th>\n",
       "      <td>0.0400</td>\n",
       "      <td>0.110</td>\n",
       "      <td>0.3250</td>\n",
       "      <td>219.0</td>\n",
       "      <td>5.27</td>\n",
       "      <td>0.311324</td>\n",
       "      <td>0.01</td>\n",
       "      <td>0.633059</td>\n",
       "    </tr>\n",
       "    <tr>\n",
       "      <th>PS4</th>\n",
       "      <td>0.0575</td>\n",
       "      <td>0.185</td>\n",
       "      <td>0.6900</td>\n",
       "      <td>376.0</td>\n",
       "      <td>14.63</td>\n",
       "      <td>0.766356</td>\n",
       "      <td>0.01</td>\n",
       "      <td>1.614969</td>\n",
       "    </tr>\n",
       "    <tr>\n",
       "      <th>PSP</th>\n",
       "      <td>0.0100</td>\n",
       "      <td>0.020</td>\n",
       "      <td>0.0200</td>\n",
       "      <td>13.0</td>\n",
       "      <td>0.09</td>\n",
       "      <td>0.027692</td>\n",
       "      <td>0.01</td>\n",
       "      <td>0.027735</td>\n",
       "    </tr>\n",
       "    <tr>\n",
       "      <th>PSV</th>\n",
       "      <td>0.0200</td>\n",
       "      <td>0.040</td>\n",
       "      <td>0.0900</td>\n",
       "      <td>295.0</td>\n",
       "      <td>1.96</td>\n",
       "      <td>0.075932</td>\n",
       "      <td>0.01</td>\n",
       "      <td>0.141591</td>\n",
       "    </tr>\n",
       "    <tr>\n",
       "      <th>Wii</th>\n",
       "      <td>0.0350</td>\n",
       "      <td>0.180</td>\n",
       "      <td>0.7550</td>\n",
       "      <td>11.0</td>\n",
       "      <td>2.01</td>\n",
       "      <td>0.460909</td>\n",
       "      <td>0.01</td>\n",
       "      <td>0.625451</td>\n",
       "    </tr>\n",
       "    <tr>\n",
       "      <th>WiiU</th>\n",
       "      <td>0.0500</td>\n",
       "      <td>0.190</td>\n",
       "      <td>0.5700</td>\n",
       "      <td>73.0</td>\n",
       "      <td>7.09</td>\n",
       "      <td>0.588767</td>\n",
       "      <td>0.01</td>\n",
       "      <td>1.161467</td>\n",
       "    </tr>\n",
       "    <tr>\n",
       "      <th>X360</th>\n",
       "      <td>0.0700</td>\n",
       "      <td>0.180</td>\n",
       "      <td>0.5050</td>\n",
       "      <td>111.0</td>\n",
       "      <td>4.28</td>\n",
       "      <td>0.434414</td>\n",
       "      <td>0.01</td>\n",
       "      <td>0.628967</td>\n",
       "    </tr>\n",
       "    <tr>\n",
       "      <th>XOne</th>\n",
       "      <td>0.0500</td>\n",
       "      <td>0.205</td>\n",
       "      <td>0.6325</td>\n",
       "      <td>228.0</td>\n",
       "      <td>7.39</td>\n",
       "      <td>0.615614</td>\n",
       "      <td>0.01</td>\n",
       "      <td>1.046513</td>\n",
       "    </tr>\n",
       "  </tbody>\n",
       "</table>\n",
       "</div>"
      ],
      "text/plain": [
       "             25%    50%     75%  count    max      mean   min       std\n",
       "platform                                                               \n",
       "3DS       0.0300  0.090  0.2500  212.0  11.68  0.408868  0.01  1.188368\n",
       "PC        0.0200  0.060  0.2000  151.0   3.05  0.179139  0.01  0.329359\n",
       "PS3       0.0400  0.110  0.3250  219.0   5.27  0.311324  0.01  0.633059\n",
       "PS4       0.0575  0.185  0.6900  376.0  14.63  0.766356  0.01  1.614969\n",
       "PSP       0.0100  0.020  0.0200   13.0   0.09  0.027692  0.01  0.027735\n",
       "PSV       0.0200  0.040  0.0900  295.0   1.96  0.075932  0.01  0.141591\n",
       "Wii       0.0350  0.180  0.7550   11.0   2.01  0.460909  0.01  0.625451\n",
       "WiiU      0.0500  0.190  0.5700   73.0   7.09  0.588767  0.01  1.161467\n",
       "X360      0.0700  0.180  0.5050  111.0   4.28  0.434414  0.01  0.628967\n",
       "XOne      0.0500  0.205  0.6325  228.0   7.39  0.615614  0.01  1.046513"
      ]
     },
     "metadata": {},
     "output_type": "display_data"
    }
   ],
   "source": [
    "data_for_boxplot = data.query('year_of_release >= 2014')\n",
    "\n",
    "plt.figure(figsize=(15,10))\n",
    "sns.boxplot(data=data_for_boxplot, y='total_sales', x='platform', palette='rainbow')\n",
    "plt.ylim(0, 2)\n",
    "plt.title('Сравнение платформ', fontsize = 15)\n",
    "plt.xlabel('Платформа')\n",
    "plt.ylabel('Объем продаж')\n",
    "plt.show()\n",
    "\n",
    "display(data_for_boxplot.pivot_table(index='platform', values='total_sales', aggfunc='describe'))"
   ]
  },
  {
   "cell_type": "markdown",
   "metadata": {},
   "source": [
    "**Вывод:** мы построили диаграмму размаха по платформам, актуальным в 2014-2016гг. Из нее видно, что наибольшее число выбросов характерно для PS4, 3DS, XOne, PS3, что связано, вероятно, с выходами эксклюзивных и популярных игр на этих платформах. Макс.значения у платформ PS4 и 3DS - 14.6 и 11.7 соответственно при среднем 0.8 и 0.4 соответственно, и у этих же платформ наибольшее стандартное отклонение. Число выбросов невелико относительно нормальных значений, т.к. медиана не смещена в сторону выбросов."
   ]
  },
  {
   "cell_type": "markdown",
   "metadata": {},
   "source": [
    "<div class=\"alert alert-warning\">\n",
    "    <h2> Комментарий ревьюера <a class=\"tocSkip\"> </h2>\n",
    "    \n",
    "<b>Небольшие замечания и рекомендации💡:</b> Да, все же мы цепляем отжившие тренды. Если поправить актуальный период, то увидим, что медианы и квантили будут другими"
   ]
  },
  {
   "cell_type": "markdown",
   "metadata": {},
   "source": [
    "<div class=\"alert alert-info\">\n",
    "<b> Исправила актуальный период, теперь он с 2014 по 2016, действительно, прошлые успешные результаты завышали значения показателей, например, макс.величину, среднюю и др. Скорректировала выводы с учетом изменений в данных и на графике. </b> \n",
    "</div>"
   ]
  },
  {
   "cell_type": "markdown",
   "metadata": {},
   "source": [
    "<div class=\"alert alert-success\">\n",
    "<h2> Комментарий ревьюера v2 <a class=\"tocSkip\"> </h2>\n",
    "\n",
    "<b>Все супер!👍:</b> Отлично)"
   ]
  },
  {
   "cell_type": "markdown",
   "metadata": {},
   "source": [
    "#### Влияние на продажи игр отзывов критиков и пользователей"
   ]
  },
  {
   "cell_type": "code",
   "execution_count": 22,
   "metadata": {},
   "outputs": [
    {
     "data": {
      "text/html": [
       "<div>\n",
       "<style scoped>\n",
       "    .dataframe tbody tr th:only-of-type {\n",
       "        vertical-align: middle;\n",
       "    }\n",
       "\n",
       "    .dataframe tbody tr th {\n",
       "        vertical-align: top;\n",
       "    }\n",
       "\n",
       "    .dataframe thead th {\n",
       "        text-align: right;\n",
       "    }\n",
       "</style>\n",
       "<table border=\"1\" class=\"dataframe\">\n",
       "  <thead>\n",
       "    <tr style=\"text-align: right;\">\n",
       "      <th></th>\n",
       "      <th>name</th>\n",
       "      <th>platform</th>\n",
       "      <th>year_of_release</th>\n",
       "      <th>genre</th>\n",
       "      <th>na_sales</th>\n",
       "      <th>eu_sales</th>\n",
       "      <th>jp_sales</th>\n",
       "      <th>other_sales</th>\n",
       "      <th>critic_score</th>\n",
       "      <th>user_score</th>\n",
       "      <th>rating</th>\n",
       "      <th>total_sales</th>\n",
       "    </tr>\n",
       "  </thead>\n",
       "  <tbody>\n",
       "    <tr>\n",
       "      <th>31</th>\n",
       "      <td>Call of Duty: Black Ops 3</td>\n",
       "      <td>PS4</td>\n",
       "      <td>2015</td>\n",
       "      <td>Shooter</td>\n",
       "      <td>6.03</td>\n",
       "      <td>5.86</td>\n",
       "      <td>0.36</td>\n",
       "      <td>2.38</td>\n",
       "      <td>NaN</td>\n",
       "      <td>NaN</td>\n",
       "      <td>NR</td>\n",
       "      <td>14.63</td>\n",
       "    </tr>\n",
       "    <tr>\n",
       "      <th>42</th>\n",
       "      <td>Grand Theft Auto V</td>\n",
       "      <td>PS4</td>\n",
       "      <td>2014</td>\n",
       "      <td>Action</td>\n",
       "      <td>3.96</td>\n",
       "      <td>6.31</td>\n",
       "      <td>0.38</td>\n",
       "      <td>1.97</td>\n",
       "      <td>97.0</td>\n",
       "      <td>8.3</td>\n",
       "      <td>M</td>\n",
       "      <td>12.62</td>\n",
       "    </tr>\n",
       "    <tr>\n",
       "      <th>77</th>\n",
       "      <td>FIFA 16</td>\n",
       "      <td>PS4</td>\n",
       "      <td>2015</td>\n",
       "      <td>Sports</td>\n",
       "      <td>1.12</td>\n",
       "      <td>6.12</td>\n",
       "      <td>0.06</td>\n",
       "      <td>1.28</td>\n",
       "      <td>82.0</td>\n",
       "      <td>4.3</td>\n",
       "      <td>E</td>\n",
       "      <td>8.58</td>\n",
       "    </tr>\n",
       "    <tr>\n",
       "      <th>87</th>\n",
       "      <td>Star Wars Battlefront (2015)</td>\n",
       "      <td>PS4</td>\n",
       "      <td>2015</td>\n",
       "      <td>Shooter</td>\n",
       "      <td>2.99</td>\n",
       "      <td>3.49</td>\n",
       "      <td>0.22</td>\n",
       "      <td>1.28</td>\n",
       "      <td>NaN</td>\n",
       "      <td>NaN</td>\n",
       "      <td>NR</td>\n",
       "      <td>7.98</td>\n",
       "    </tr>\n",
       "    <tr>\n",
       "      <th>92</th>\n",
       "      <td>Call of Duty: Advanced Warfare</td>\n",
       "      <td>PS4</td>\n",
       "      <td>2014</td>\n",
       "      <td>Shooter</td>\n",
       "      <td>2.81</td>\n",
       "      <td>3.48</td>\n",
       "      <td>0.14</td>\n",
       "      <td>1.23</td>\n",
       "      <td>83.0</td>\n",
       "      <td>5.7</td>\n",
       "      <td>M</td>\n",
       "      <td>7.66</td>\n",
       "    </tr>\n",
       "    <tr>\n",
       "      <th>...</th>\n",
       "      <td>...</td>\n",
       "      <td>...</td>\n",
       "      <td>...</td>\n",
       "      <td>...</td>\n",
       "      <td>...</td>\n",
       "      <td>...</td>\n",
       "      <td>...</td>\n",
       "      <td>...</td>\n",
       "      <td>...</td>\n",
       "      <td>...</td>\n",
       "      <td>...</td>\n",
       "      <td>...</td>\n",
       "    </tr>\n",
       "    <tr>\n",
       "      <th>16230</th>\n",
       "      <td>Root Letter</td>\n",
       "      <td>PS4</td>\n",
       "      <td>2016</td>\n",
       "      <td>Adventure</td>\n",
       "      <td>0.00</td>\n",
       "      <td>0.00</td>\n",
       "      <td>0.01</td>\n",
       "      <td>0.00</td>\n",
       "      <td>69.0</td>\n",
       "      <td>7.5</td>\n",
       "      <td>NR</td>\n",
       "      <td>0.01</td>\n",
       "    </tr>\n",
       "    <tr>\n",
       "      <th>16233</th>\n",
       "      <td>Shin Hayarigami 2</td>\n",
       "      <td>PS4</td>\n",
       "      <td>2016</td>\n",
       "      <td>Adventure</td>\n",
       "      <td>0.00</td>\n",
       "      <td>0.00</td>\n",
       "      <td>0.01</td>\n",
       "      <td>0.00</td>\n",
       "      <td>NaN</td>\n",
       "      <td>NaN</td>\n",
       "      <td>NR</td>\n",
       "      <td>0.01</td>\n",
       "    </tr>\n",
       "    <tr>\n",
       "      <th>16255</th>\n",
       "      <td>Dungeons 2</td>\n",
       "      <td>PS4</td>\n",
       "      <td>2016</td>\n",
       "      <td>Role-Playing</td>\n",
       "      <td>0.01</td>\n",
       "      <td>0.00</td>\n",
       "      <td>0.00</td>\n",
       "      <td>0.00</td>\n",
       "      <td>61.0</td>\n",
       "      <td>7.9</td>\n",
       "      <td>T</td>\n",
       "      <td>0.01</td>\n",
       "    </tr>\n",
       "    <tr>\n",
       "      <th>16259</th>\n",
       "      <td>Carmageddon: Max Damage</td>\n",
       "      <td>PS4</td>\n",
       "      <td>2016</td>\n",
       "      <td>Action</td>\n",
       "      <td>0.01</td>\n",
       "      <td>0.00</td>\n",
       "      <td>0.00</td>\n",
       "      <td>0.00</td>\n",
       "      <td>51.0</td>\n",
       "      <td>5.5</td>\n",
       "      <td>M</td>\n",
       "      <td>0.01</td>\n",
       "    </tr>\n",
       "    <tr>\n",
       "      <th>16314</th>\n",
       "      <td>Farming 2017 - The Simulation</td>\n",
       "      <td>PS4</td>\n",
       "      <td>2016</td>\n",
       "      <td>Simulation</td>\n",
       "      <td>0.00</td>\n",
       "      <td>0.01</td>\n",
       "      <td>0.00</td>\n",
       "      <td>0.00</td>\n",
       "      <td>NaN</td>\n",
       "      <td>NaN</td>\n",
       "      <td>NR</td>\n",
       "      <td>0.01</td>\n",
       "    </tr>\n",
       "  </tbody>\n",
       "</table>\n",
       "<p>376 rows × 12 columns</p>\n",
       "</div>"
      ],
      "text/plain": [
       "                                 name platform  year_of_release         genre  \\\n",
       "31          Call of Duty: Black Ops 3      PS4             2015       Shooter   \n",
       "42                 Grand Theft Auto V      PS4             2014        Action   \n",
       "77                            FIFA 16      PS4             2015        Sports   \n",
       "87       Star Wars Battlefront (2015)      PS4             2015       Shooter   \n",
       "92     Call of Duty: Advanced Warfare      PS4             2014       Shooter   \n",
       "...                               ...      ...              ...           ...   \n",
       "16230                     Root Letter      PS4             2016     Adventure   \n",
       "16233               Shin Hayarigami 2      PS4             2016     Adventure   \n",
       "16255                      Dungeons 2      PS4             2016  Role-Playing   \n",
       "16259         Carmageddon: Max Damage      PS4             2016        Action   \n",
       "16314   Farming 2017 - The Simulation      PS4             2016    Simulation   \n",
       "\n",
       "       na_sales  eu_sales  jp_sales  other_sales  critic_score  user_score  \\\n",
       "31         6.03      5.86      0.36         2.38           NaN         NaN   \n",
       "42         3.96      6.31      0.38         1.97          97.0         8.3   \n",
       "77         1.12      6.12      0.06         1.28          82.0         4.3   \n",
       "87         2.99      3.49      0.22         1.28           NaN         NaN   \n",
       "92         2.81      3.48      0.14         1.23          83.0         5.7   \n",
       "...         ...       ...       ...          ...           ...         ...   \n",
       "16230      0.00      0.00      0.01         0.00          69.0         7.5   \n",
       "16233      0.00      0.00      0.01         0.00           NaN         NaN   \n",
       "16255      0.01      0.00      0.00         0.00          61.0         7.9   \n",
       "16259      0.01      0.00      0.00         0.00          51.0         5.5   \n",
       "16314      0.00      0.01      0.00         0.00           NaN         NaN   \n",
       "\n",
       "      rating  total_sales  \n",
       "31        NR        14.63  \n",
       "42         M        12.62  \n",
       "77         E         8.58  \n",
       "87        NR         7.98  \n",
       "92         M         7.66  \n",
       "...      ...          ...  \n",
       "16230     NR         0.01  \n",
       "16233     NR         0.01  \n",
       "16255      T         0.01  \n",
       "16259      M         0.01  \n",
       "16314     NR         0.01  \n",
       "\n",
       "[376 rows x 12 columns]"
      ]
     },
     "metadata": {},
     "output_type": "display_data"
    }
   ],
   "source": [
    "example = data_for_boxplot.query('platform == \"PS4\"') # создали датафрейм для анализа PS4 - по этой платформе наибольшие продажи\n",
    "display(example)"
   ]
  },
  {
   "cell_type": "code",
   "execution_count": 23,
   "metadata": {},
   "outputs": [
    {
     "data": {
      "image/png": "[encoded data removed]",
      "text/plain": [
       "<Figure size 1080x360 with 2 Axes>"
      ]
     },
     "metadata": {
      "needs_background": "light"
     },
     "output_type": "display_data"
    }
   ],
   "source": [
    "# определяем сетку и оси с помощью matplotlib.pyplot.subplots()\n",
    "fig, ax = plt.subplots(1, 2, figsize=[15, 5])\n",
    "\n",
    "fig.suptitle('Влияние на продажи игр оценок', fontsize=19)\n",
    "\n",
    "# строим графики\n",
    "ax[0].scatter(example['critic_score'], example['total_sales'], color='grey')\n",
    "ax[0].set_title('критиков', fontsize=15, fontstyle='italic')\n",
    "\n",
    "ax[1].scatter(example['user_score'], example['total_sales'], color='plum')\n",
    "ax[1].set_title('пользователей', fontsize=15, fontstyle='italic')\n",
    "\n",
    "plt.show()"
   ]
  },
  {
   "cell_type": "code",
   "execution_count": 24,
   "metadata": {},
   "outputs": [
    {
     "name": "stdout",
     "output_type": "stream",
     "text": [
      "0.40266141068104083\n",
      "-0.040131589472697356\n"
     ]
    }
   ],
   "source": [
    "# посчитаем корреляцию между объемами продаж и оценкой критиков\n",
    "print(example['critic_score'].corr(example['total_sales']))\n",
    "\n",
    "# посчитаем корреляцию между объемами продаж и оценкой пользователей\n",
    "print(example['user_score'].corr(example['total_sales']))"
   ]
  },
  {
   "cell_type": "markdown",
   "metadata": {},
   "source": [
    "**Вывод:** корреляция между оценкой критиков и объемами продаж игр на PS4 положительная, но незначительная и равна 0.4.\n",
    "Корреляция между оценкой пользователей и объемами продаж игр на платформе PS4 отрицательная, несущественная - 0.03, можно утверждать, что она отсутствует. Вероятно, это связано с тем, что эта платформа относительная новая в выборке (с 2013г.) и пользователи не ждут оценок других игроков, а покупают, чтобы опробовать в числе первых."
   ]
  },
  {
   "cell_type": "code",
   "execution_count": 25,
   "metadata": {},
   "outputs": [
    {
     "name": "stdout",
     "output_type": "stream",
     "text": [
      "0.40266141068104083\n"
     ]
    },
    {
     "data": {
      "image/png": "[encoded data removed]",
      "text/plain": [
       "<Figure size 432x288 with 1 Axes>"
      ]
     },
     "metadata": {
      "needs_background": "light"
     },
     "output_type": "display_data"
    },
    {
     "name": "stdout",
     "output_type": "stream",
     "text": [
      "0.31411749286905105\n"
     ]
    },
    {
     "data": {
      "image/png": "[encoded data removed]",
      "text/plain": [
       "<Figure size 432x288 with 1 Axes>"
      ]
     },
     "metadata": {
      "needs_background": "light"
     },
     "output_type": "display_data"
    },
    {
     "name": "stdout",
     "output_type": "stream",
     "text": [
      "0.42867694370333226\n"
     ]
    },
    {
     "data": {
      "image/png": "[encoded data removed]",
      "text/plain": [
       "<Figure size 432x288 with 1 Axes>"
      ]
     },
     "metadata": {
      "needs_background": "light"
     },
     "output_type": "display_data"
    },
    {
     "name": "stdout",
     "output_type": "stream",
     "text": [
      "0.370201412480884\n"
     ]
    },
    {
     "data": {
      "image/png": "[encoded data removed]",
      "text/plain": [
       "<Figure size 432x288 with 1 Axes>"
      ]
     },
     "metadata": {
      "needs_background": "light"
     },
     "output_type": "display_data"
    },
    {
     "name": "stdout",
     "output_type": "stream",
     "text": [
      "0.44657460493190704\n"
     ]
    },
    {
     "data": {
      "image/png": "[encoded data removed]",
      "text/plain": [
       "<Figure size 432x288 with 1 Axes>"
      ]
     },
     "metadata": {
      "needs_background": "light"
     },
     "output_type": "display_data"
    },
    {
     "name": "stdout",
     "output_type": "stream",
     "text": [
      "0.5257228356581523\n"
     ]
    },
    {
     "data": {
      "image/png": "[encoded data removed]",
      "text/plain": [
       "<Figure size 432x288 with 1 Axes>"
      ]
     },
     "metadata": {
      "needs_background": "light"
     },
     "output_type": "display_data"
    },
    {
     "name": "stdout",
     "output_type": "stream",
     "text": [
      "0.17463413769350036\n"
     ]
    },
    {
     "data": {
      "image/png": "[encoded data removed]",
      "text/plain": [
       "<Figure size 432x288 with 1 Axes>"
      ]
     },
     "metadata": {
      "needs_background": "light"
     },
     "output_type": "display_data"
    },
    {
     "name": "stdout",
     "output_type": "stream",
     "text": [
      "nan\n"
     ]
    },
    {
     "data": {
      "image/png": "[encoded data removed]",
      "text/plain": [
       "<Figure size 432x288 with 1 Axes>"
      ]
     },
     "metadata": {
      "needs_background": "light"
     },
     "output_type": "display_data"
    },
    {
     "name": "stdout",
     "output_type": "stream",
     "text": [
      "0.04266490657009526\n"
     ]
    },
    {
     "data": {
      "image/png": "[encoded data removed]",
      "text/plain": [
       "<Figure size 432x288 with 1 Axes>"
      ]
     },
     "metadata": {
      "needs_background": "light"
     },
     "output_type": "display_data"
    },
    {
     "name": "stdout",
     "output_type": "stream",
     "text": [
      "nan\n"
     ]
    },
    {
     "data": {
      "image/png": "[encoded data removed]",
      "text/plain": [
       "<Figure size 432x288 with 1 Axes>"
      ]
     },
     "metadata": {
      "needs_background": "light"
     },
     "output_type": "display_data"
    }
   ],
   "source": [
    "#пройдемся циклом по крупнейшим платформам, построим график рассеяния и рассчитаем корреляцию между продажами и оценкой критиков\n",
    "\n",
    "for name in data_for_boxplot['platform'].unique(): \n",
    "    one_platform = data_for_boxplot.query('platform == @name')\n",
    "    print(one_platform['total_sales'].corr(one_platform['critic_score']))\n",
    "    one_platform.plot(x='critic_score', y='total_sales', kind='scatter', alpha=0.7)\n",
    "    plt.title(f'Влияние на продажи оценки критиков {name}')\n",
    "    plt.xlabel('Платформа')\n",
    "    plt.show()    "
   ]
  },
  {
   "cell_type": "code",
   "execution_count": 26,
   "metadata": {},
   "outputs": [
    {
     "name": "stdout",
     "output_type": "stream",
     "text": [
      "-0.040131589472697356\n"
     ]
    },
    {
     "data": {
      "image/png": "[encoded data removed]",
      "text/plain": [
       "<Figure size 432x288 with 1 Axes>"
      ]
     },
     "metadata": {
      "needs_background": "light"
     },
     "output_type": "display_data"
    },
    {
     "name": "stdout",
     "output_type": "stream",
     "text": [
      "0.2151932718527028\n"
     ]
    },
    {
     "data": {
      "image/png": "[encoded data removed]",
      "text/plain": [
       "<Figure size 432x288 with 1 Axes>"
      ]
     },
     "metadata": {
      "needs_background": "light"
     },
     "output_type": "display_data"
    },
    {
     "name": "stdout",
     "output_type": "stream",
     "text": [
      "-0.0703839280647581\n"
     ]
    },
    {
     "data": {
      "image/png": "[encoded data removed]",
      "text/plain": [
       "<Figure size 432x288 with 1 Axes>"
      ]
     },
     "metadata": {
      "needs_background": "light"
     },
     "output_type": "display_data"
    },
    {
     "name": "stdout",
     "output_type": "stream",
     "text": [
      "0.4079264579217078\n"
     ]
    },
    {
     "data": {
      "image/png": "[encoded data removed]",
      "text/plain": [
       "<Figure size 432x288 with 1 Axes>"
      ]
     },
     "metadata": {
      "needs_background": "light"
     },
     "output_type": "display_data"
    },
    {
     "name": "stdout",
     "output_type": "stream",
     "text": [
      "-0.16676141347662116\n"
     ]
    },
    {
     "data": {
      "image/png": "[encoded data removed]",
      "text/plain": [
       "<Figure size 432x288 with 1 Axes>"
      ]
     },
     "metadata": {
      "needs_background": "light"
     },
     "output_type": "display_data"
    },
    {
     "name": "stdout",
     "output_type": "stream",
     "text": [
      "-0.138444570945665\n"
     ]
    },
    {
     "data": {
      "image/png": "[encoded data removed]",
      "text/plain": [
       "<Figure size 432x288 with 1 Axes>"
      ]
     },
     "metadata": {
      "needs_background": "light"
     },
     "output_type": "display_data"
    },
    {
     "name": "stdout",
     "output_type": "stream",
     "text": [
      "-0.07159665703472452\n"
     ]
    },
    {
     "data": {
      "image/png": "[encoded data removed]",
      "text/plain": [
       "<Figure size 432x288 with 1 Axes>"
      ]
     },
     "metadata": {
      "needs_background": "light"
     },
     "output_type": "display_data"
    },
    {
     "name": "stdout",
     "output_type": "stream",
     "text": [
      "1.0\n"
     ]
    },
    {
     "data": {
      "image/png": "[encoded data removed]",
      "text/plain": [
       "<Figure size 432x288 with 1 Axes>"
      ]
     },
     "metadata": {
      "needs_background": "light"
     },
     "output_type": "display_data"
    },
    {
     "name": "stdout",
     "output_type": "stream",
     "text": [
      "-0.16845504978064446\n"
     ]
    },
    {
     "data": {
      "image/png": "[encoded data removed]",
      "text/plain": [
       "<Figure size 432x288 with 1 Axes>"
      ]
     },
     "metadata": {
      "needs_background": "light"
     },
     "output_type": "display_data"
    },
    {
     "name": "stdout",
     "output_type": "stream",
     "text": [
      "nan\n"
     ]
    },
    {
     "data": {
      "image/png": "[encoded data removed]",
      "text/plain": [
       "<Figure size 432x288 with 1 Axes>"
      ]
     },
     "metadata": {
      "needs_background": "light"
     },
     "output_type": "display_data"
    }
   ],
   "source": [
    "#пройдемся циклом по крупнейшим платформам, построим график рассеяния и рассчитаем корреляцию между продажами и оценкой users\n",
    "\n",
    "for name in data_for_boxplot['platform'].unique(): \n",
    "    one_platform = data_for_boxplot.query('platform == @name')\n",
    "    print(one_platform['total_sales'].corr(one_platform['user_score']))\n",
    "    one_platform.plot(x='user_score', y='total_sales', kind='scatter')\n",
    "    plt.title(f'Влияние на продажи оценки пользователей {name}')\n",
    "    plt.xlabel('Платформа')\n",
    "    plt.show()  "
   ]
  },
  {
   "cell_type": "markdown",
   "metadata": {},
   "source": [
    "**Вывод:** проведенный анализ по остальным крупнейшим платформам подтверждает теорию, сформулированную на примере PS4, о том, что объемы продаж по платформам слабо зависят от оценки критиков и практически не имеют никакой связи с оценками пользователей."
   ]
  },
  {
   "cell_type": "markdown",
   "metadata": {},
   "source": [
    "#### Анализ объемов продаж игр по жанрам"
   ]
  },
  {
   "cell_type": "code",
   "execution_count": 27,
   "metadata": {},
   "outputs": [
    {
     "data": {
      "image/png": "[encoded data removed]",
      "text/plain": [
       "<Figure size 720x720 with 1 Axes>"
      ]
     },
     "metadata": {},
     "output_type": "display_data"
    },
    {
     "data": {
      "text/html": [
       "<div>\n",
       "<style scoped>\n",
       "    .dataframe tbody tr th:only-of-type {\n",
       "        vertical-align: middle;\n",
       "    }\n",
       "\n",
       "    .dataframe tbody tr th {\n",
       "        vertical-align: top;\n",
       "    }\n",
       "\n",
       "    .dataframe thead th {\n",
       "        text-align: right;\n",
       "    }\n",
       "</style>\n",
       "<table border=\"1\" class=\"dataframe\">\n",
       "  <thead>\n",
       "    <tr style=\"text-align: right;\">\n",
       "      <th></th>\n",
       "      <th>total_sales</th>\n",
       "    </tr>\n",
       "    <tr>\n",
       "      <th>genre</th>\n",
       "      <th></th>\n",
       "    </tr>\n",
       "  </thead>\n",
       "  <tbody>\n",
       "    <tr>\n",
       "      <th>Shooter</th>\n",
       "      <td>0.515</td>\n",
       "    </tr>\n",
       "    <tr>\n",
       "      <th>Sports</th>\n",
       "      <td>0.180</td>\n",
       "    </tr>\n",
       "    <tr>\n",
       "      <th>Platform</th>\n",
       "      <td>0.140</td>\n",
       "    </tr>\n",
       "    <tr>\n",
       "      <th>Fighting</th>\n",
       "      <td>0.125</td>\n",
       "    </tr>\n",
       "    <tr>\n",
       "      <th>Role-Playing</th>\n",
       "      <td>0.110</td>\n",
       "    </tr>\n",
       "    <tr>\n",
       "      <th>Simulation</th>\n",
       "      <td>0.100</td>\n",
       "    </tr>\n",
       "    <tr>\n",
       "      <th>Action</th>\n",
       "      <td>0.090</td>\n",
       "    </tr>\n",
       "    <tr>\n",
       "      <th>Misc</th>\n",
       "      <td>0.090</td>\n",
       "    </tr>\n",
       "    <tr>\n",
       "      <th>Racing</th>\n",
       "      <td>0.090</td>\n",
       "    </tr>\n",
       "    <tr>\n",
       "      <th>Strategy</th>\n",
       "      <td>0.060</td>\n",
       "    </tr>\n",
       "    <tr>\n",
       "      <th>Puzzle</th>\n",
       "      <td>0.045</td>\n",
       "    </tr>\n",
       "    <tr>\n",
       "      <th>Adventure</th>\n",
       "      <td>0.030</td>\n",
       "    </tr>\n",
       "  </tbody>\n",
       "</table>\n",
       "</div>"
      ],
      "text/plain": [
       "              total_sales\n",
       "genre                    \n",
       "Shooter             0.515\n",
       "Sports              0.180\n",
       "Platform            0.140\n",
       "Fighting            0.125\n",
       "Role-Playing        0.110\n",
       "Simulation          0.100\n",
       "Action              0.090\n",
       "Misc                0.090\n",
       "Racing              0.090\n",
       "Strategy            0.060\n",
       "Puzzle              0.045\n",
       "Adventure           0.030"
      ]
     },
     "metadata": {},
     "output_type": "display_data"
    }
   ],
   "source": [
    "genre_sales = data_for_boxplot \\\n",
    "               .pivot_table(index='genre', values='total_sales', aggfunc='sum') \\\n",
    "               .sort_values(by='total_sales', ascending=False) \\\n",
    "               .plot(kind='pie', y='total_sales', figsize=(10,10), autopct='%1.1f%%')\n",
    "plt.title('Распределение общего объема продаж по жанрам игр')\n",
    "plt.ylabel('Объем продаж')\n",
    "plt.show()\n",
    "\n",
    "display(data_for_boxplot \\\n",
    "               .pivot_table(index='genre', values='total_sales', aggfunc='median') \\\n",
    "               .sort_values(by='total_sales', ascending=False))"
   ]
  },
  {
   "cell_type": "markdown",
   "metadata": {},
   "source": [
    "**Вывод:** наибольшим интересом пользуются игры в жанре экшен и шутеры - на них приходится 27% и 23% объемов продаж соответственно за 2014-2016гг. Также прибыльными являются игры в жанре \"спорт\" и \"RPG\" - их доля в общем объеме продаж составляет 15% и 14%. По данным графика, стратегии и паззлы пользуются наименьшим спросом - на них приходится менее 1% объемов продаж (0.5% и 0.3% соответственно). При анализе с расчетом медианы на первой позиции оказываются игры жанра шутеры со значением 0.5 млн копий, что показывает размер большей части продаж, середины выборки."
   ]
  },
  {
   "cell_type": "markdown",
   "metadata": {},
   "source": [
    "**Вывод по разделу:**\n",
    "* Актуальным выбрали период с 2014 по 2016гг. До 1994 выпускалось крайне мало игр, далее наблюдается рост их количества, существенный рост, начавшийся в 2002 году, достигает максимума к 2008г., и далее снижается примерно в 2-3 раза.\n",
    "\n",
    "* Определили топ-6 платформ по объемам продаж за все время, однако при выборе актуального периода часть из них не попала в топ по выборке ввиду того, что спрос на них снизился или их заменили более новые версии. С 2013 года появляются новые платформы - PS4 и XOne.\n",
    "\n",
    "   Наиболее популярны следующие платформы PS4, XOne, 3DS, X360, PS3 - они составляют топ-5 по продажам с 2014-2016гг. К 2016 существенно сократилась или прекратилась вовсе реализация игр на платформах DS, PSP, Wii. \n",
    "\n",
    "   В среднем по данным графиков жизненный цикл платформ составляет 10 лет, 5-7 из которых они демонстрируют рост и активное развитие и продажи, и далее объемы продаж на них снижаются. Отдельные исключения являются \"долгожителями\" (РС), есть также платформы, которые не смогли добиться успеха и на горизонте 5 лет исчезли с рынка. \n",
    "\n",
    "   Динамика объема продаж по всем платформам демонстрирует существенное снижение за рассматриваемый период с 2014 по 2016гг. после взрывного роста с 2005 по 2009гг. \n",
    "\n",
    "* Построили диаграмму размаха по платформам, актуальным в 2014-2016гг. Из нее видно, что наибольшее число выбросов характерно для PS4, 3DS, XOne, PS3, что связано, вероятно, с выходами эксклюзивных и популярных игр на этих платформах. Число выбросов невелико относительно нормальных значений, т.к. медиана не смещена в сторону выбросов. \n",
    "\n",
    "* Корреляция между оценкой критиков и объемами продаж игр не существенная или отсутствует - сформулированную на примере PS4 гипотезу подтвердили данными и по остальным платформам.\n",
    "\n",
    "* Наибольший интерес вызывают игры в жанре экшен и шутеры - на них приходится 27% и 23% объемов продаж соответственно за 2014-2016гг. Также прибыльными являются игры в жанре \"спорт\" и \"PRG\" - их доля в общем объеме продаж составляет 15% и 14%. При этом значения медианы по общим продажам выше у категории шутеров - 0,5 млн проданных копий. Стратегии и паззлы пользуются наименьшим спросом - на них приходится менее 1% объемов продаж."
   ]
  },
  {
   "cell_type": "markdown",
   "metadata": {},
   "source": [
    "### Портрет пользователей по регионам продаж"
   ]
  },
  {
   "cell_type": "markdown",
   "metadata": {},
   "source": [
    "#### Популярные жанры игр"
   ]
  },
  {
   "cell_type": "code",
   "execution_count": 28,
   "metadata": {},
   "outputs": [
    {
     "data": {
      "image/png": "[encoded data removed]",
      "text/plain": [
       "<Figure size 1080x1080 with 3 Axes>"
      ]
     },
     "metadata": {},
     "output_type": "display_data"
    },
    {
     "data": {
      "text/html": [
       "<div>\n",
       "<style scoped>\n",
       "    .dataframe tbody tr th:only-of-type {\n",
       "        vertical-align: middle;\n",
       "    }\n",
       "\n",
       "    .dataframe tbody tr th {\n",
       "        vertical-align: top;\n",
       "    }\n",
       "\n",
       "    .dataframe thead th {\n",
       "        text-align: right;\n",
       "    }\n",
       "</style>\n",
       "<table border=\"1\" class=\"dataframe\">\n",
       "  <thead>\n",
       "    <tr style=\"text-align: right;\">\n",
       "      <th></th>\n",
       "      <th>genre</th>\n",
       "      <th>eu_sales</th>\n",
       "    </tr>\n",
       "  </thead>\n",
       "  <tbody>\n",
       "    <tr>\n",
       "      <th>0</th>\n",
       "      <td>Action</td>\n",
       "      <td>74.68</td>\n",
       "    </tr>\n",
       "    <tr>\n",
       "      <th>8</th>\n",
       "      <td>Shooter</td>\n",
       "      <td>65.52</td>\n",
       "    </tr>\n",
       "    <tr>\n",
       "      <th>10</th>\n",
       "      <td>Sports</td>\n",
       "      <td>45.73</td>\n",
       "    </tr>\n",
       "    <tr>\n",
       "      <th>7</th>\n",
       "      <td>Role-Playing</td>\n",
       "      <td>28.17</td>\n",
       "    </tr>\n",
       "    <tr>\n",
       "      <th>6</th>\n",
       "      <td>Racing</td>\n",
       "      <td>14.13</td>\n",
       "    </tr>\n",
       "    <tr>\n",
       "      <th>3</th>\n",
       "      <td>Misc</td>\n",
       "      <td>12.86</td>\n",
       "    </tr>\n",
       "    <tr>\n",
       "      <th>9</th>\n",
       "      <td>Simulation</td>\n",
       "      <td>7.30</td>\n",
       "    </tr>\n",
       "    <tr>\n",
       "      <th>4</th>\n",
       "      <td>Platform</td>\n",
       "      <td>6.80</td>\n",
       "    </tr>\n",
       "    <tr>\n",
       "      <th>2</th>\n",
       "      <td>Fighting</td>\n",
       "      <td>6.69</td>\n",
       "    </tr>\n",
       "    <tr>\n",
       "      <th>1</th>\n",
       "      <td>Adventure</td>\n",
       "      <td>6.49</td>\n",
       "    </tr>\n",
       "    <tr>\n",
       "      <th>11</th>\n",
       "      <td>Strategy</td>\n",
       "      <td>1.79</td>\n",
       "    </tr>\n",
       "    <tr>\n",
       "      <th>5</th>\n",
       "      <td>Puzzle</td>\n",
       "      <td>0.52</td>\n",
       "    </tr>\n",
       "  </tbody>\n",
       "</table>\n",
       "</div>"
      ],
      "text/plain": [
       "           genre  eu_sales\n",
       "0         Action     74.68\n",
       "8        Shooter     65.52\n",
       "10        Sports     45.73\n",
       "7   Role-Playing     28.17\n",
       "6         Racing     14.13\n",
       "3           Misc     12.86\n",
       "9     Simulation      7.30\n",
       "4       Platform      6.80\n",
       "2       Fighting      6.69\n",
       "1      Adventure      6.49\n",
       "11      Strategy      1.79\n",
       "5         Puzzle      0.52"
      ]
     },
     "metadata": {},
     "output_type": "display_data"
    }
   ],
   "source": [
    "# группируем таблицы для Северной Америки, Японии, Европы в разбивке по жанрам игр\n",
    "genre_na = data_for_boxplot.groupby('genre')['na_sales'].sum().reset_index().sort_values(by='na_sales',ascending=False).head()\n",
    "genre_jp = data_for_boxplot.groupby('genre')['jp_sales'].sum().reset_index().sort_values(by='jp_sales',ascending=False).head()\n",
    "genre_eu = data_for_boxplot.groupby('genre')['eu_sales'].sum().reset_index().sort_values(by='eu_sales',ascending=False).head()\n",
    "\n",
    "# определяем сетку и оси с помощью matplotlib.pyplot.subplots()\n",
    "fig, ax = plt.subplots(1, 3, figsize=[15,15])\n",
    "\n",
    "fig.suptitle('Распределение общего объема продаж по жанрам игр', fontsize=19)\n",
    "\n",
    "plt.subplots_adjust(left=0.1, \n",
    "                    right=0.95, \n",
    "                    top=1.3, \n",
    "                    bottom= 0.27, \n",
    "                    wspace= 0.3, \n",
    "                    hspace=0.3)\n",
    "\n",
    "# строим графики\n",
    "ax[0].pie(genre_na['na_sales'], autopct='%1.0f%%', labels=genre_na['genre'])\n",
    "ax[0].set_title('Северная Америка', fontsize=13, fontstyle='italic')\n",
    "\n",
    "ax[1].pie(genre_jp['jp_sales'], autopct='%1.0f%%', labels=genre_jp['genre'])\n",
    "ax[1].set_title('Япония', fontsize=13, fontstyle='italic')\n",
    "\n",
    "ax[2].pie(genre_eu['eu_sales'], autopct='%1.0f%%', labels=genre_eu['genre'])\n",
    "ax[2].set_title('Европа', fontsize=13, fontstyle='italic')\n",
    "\n",
    "plt.show()\n",
    "\n",
    "display(data_for_boxplot.groupby('genre')['eu_sales'].sum().reset_index().sort_values(by='eu_sales',ascending=False))"
   ]
  },
  {
   "cell_type": "markdown",
   "metadata": {},
   "source": [
    "**Вывод:** распределение по жанрам игр в Северной Америке и Европе идентично: на топ-4 приходится свыше 75% **всех продаж**, при этом в Сев.Америке наиболее популярны игры в жанре шутеры (28%) и экшен (26%), в Европе - экшен (28%)и шутеры (24%), жанр спортивных игр составляет 16% в Сев.Америке и 17% в европейских странах, rpg - 12% и 10% в Америке и Европе соответственно. На 5 месте в Сев.Америке misc, в Европе - гонки. В Японии доля rpg - 33%, экшен - 32%. Интерес к остальным жанрам распределен более-менее равномерно, их доли составляют менее 10%.  "
   ]
  },
  {
   "cell_type": "markdown",
   "metadata": {},
   "source": [
    "#### Популярные платформы"
   ]
  },
  {
   "cell_type": "code",
   "execution_count": 29,
   "metadata": {},
   "outputs": [
    {
     "data": {
      "image/png": "[encoded data removed]",
      "text/plain": [
       "<Figure size 1080x1080 with 3 Axes>"
      ]
     },
     "metadata": {},
     "output_type": "display_data"
    }
   ],
   "source": [
    "# группируем таблицы для Северной Америки, Японии, Европы в разбивке по платформам\n",
    "platform_na = data_for_boxplot.groupby('platform')['na_sales'].sum().reset_index().sort_values(by='na_sales',ascending=False)\n",
    "platform_na['platform_group'] = platform_na['platform']\n",
    "platform_na.loc[platform_na['na_sales'] < 20, 'platform_group'] = 'Другие'\n",
    "platformnew_na = platform_na.groupby('platform_group')['na_sales'].sum().reset_index().sort_values(by='na_sales',ascending=False)\n",
    "\n",
    "platform_jp = data_for_boxplot.groupby('platform')['jp_sales'].sum().reset_index().sort_values(by='jp_sales',ascending=False)\n",
    "platform_jp['platform_group'] = platform_jp['platform']\n",
    "platform_jp.loc[platform_jp['jp_sales'] < 5, 'platform_group'] = 'Другие'\n",
    "platformnew_jp = platform_jp.groupby('platform_group')['jp_sales'].sum().reset_index().sort_values(by='jp_sales',ascending=False)\n",
    "\n",
    "platform_eu = data_for_boxplot.groupby('platform')['eu_sales'].sum().reset_index().sort_values(by='eu_sales',ascending=False)\n",
    "platform_eu['platform_group'] = platform_eu['platform']\n",
    "platform_eu.loc[platform_eu['eu_sales'] < 16, 'platform_group'] = 'Другие'\n",
    "platformnew_eu = platform_eu.groupby('platform_group')['eu_sales'].sum().reset_index().sort_values(by='eu_sales',ascending=False)\n",
    "\n",
    "# определяем сетку и оси с помощью matplotlib.pyplot.subplots()\n",
    "fig, ax = plt.subplots(1, 3, figsize=[15,15])\n",
    "\n",
    "fig.suptitle('Распределение общего объема продаж по платформам', fontsize=19)\n",
    "\n",
    "plt.subplots_adjust(left=0.1, \n",
    "                    right=0.95, \n",
    "                    top=1.3, \n",
    "                    bottom= 0.27, \n",
    "                    wspace= 0.3, \n",
    "                    hspace=0.3)\n",
    "\n",
    "# строим графики\n",
    "ax[0].pie(platformnew_na['na_sales'], autopct='%1.0f%%', labels=platformnew_na['platform_group'])\n",
    "ax[0].set_title('Северная Америка', fontsize=13, fontstyle='italic')\n",
    "\n",
    "ax[1].pie(platformnew_jp['jp_sales'], autopct='%1.0f%%', labels=platformnew_jp['platform_group'])\n",
    "ax[1].set_title('Япония', fontsize=13, fontstyle='italic')\n",
    "\n",
    "ax[2].pie(platformnew_eu['eu_sales'], autopct='%1.0f%%', labels=platformnew_eu['platform_group'])\n",
    "ax[2].set_title('Европа', fontsize=13, fontstyle='italic')\n",
    "\n",
    "plt.show()"
   ]
  },
  {
   "cell_type": "markdown",
   "metadata": {},
   "source": [
    "**Вывод:** на топ-5 в регионах приходится больше 80% рынка, при этом структура популярных платформ в Сев.Америке и Европе более схожа (в топ-4 - PS4, X360, XOne и 3DS) в сравнении с Японией. В Сев.Америке и Европе на первом месте PS4 - 35% и 48% соответственно, на втором - XOne с долей рынка в Сев.Америке - 29%, в Европе - 17%. В Японии на первом месте 3DS - 48%. Интересно, что в Японии больше предпочитают портативные игровые устройства в отличие от Сев.Америки и Европы - на 3DS и PSV приходится 64% продаж."
   ]
  },
  {
   "cell_type": "markdown",
   "metadata": {},
   "source": [
    "#### Влияние рейтинга игр на их продажи"
   ]
  },
  {
   "cell_type": "code",
   "execution_count": 30,
   "metadata": {},
   "outputs": [
    {
     "data": {
      "image/png": "[encoded data removed]",
      "text/plain": [
       "<Figure size 720x360 with 1 Axes>"
      ]
     },
     "metadata": {
      "needs_background": "light"
     },
     "output_type": "display_data"
    },
    {
     "data": {
      "image/png": "[encoded data removed]",
      "text/plain": [
       "<Figure size 720x360 with 1 Axes>"
      ]
     },
     "metadata": {
      "needs_background": "light"
     },
     "output_type": "display_data"
    },
    {
     "data": {
      "image/png": "[encoded data removed]",
      "text/plain": [
       "<Figure size 720x360 with 1 Axes>"
      ]
     },
     "metadata": {
      "needs_background": "light"
     },
     "output_type": "display_data"
    }
   ],
   "source": [
    "# напишем функцию, которая для каждого региона сгруппирует таблицу и построит по ней столбчатую диаграмму\n",
    "def func(region):\n",
    "    region_data = data_for_boxplot.groupby('rating')[region].sum().reset_index().sort_values(region, ascending=False)\n",
    "    region_data.plot(kind='bar', x='rating', y=region, figsize=(10,5))\n",
    "    plt.xlabel('Рейтинг')\n",
    "    plt.ylabel('Объем продаж')\n",
    "    plt.show()\n",
    "        \n",
    "func('na_sales')\n",
    "func('jp_sales')\n",
    "func('eu_sales')"
   ]
  },
  {
   "cell_type": "markdown",
   "metadata": {},
   "source": [
    "**Вывод:** в Сев.Америке и Европе наибольший объем продаж приходится на игры с рейтингом М (от 17 лет), в Японии же по большинству популярных игр рейтинг не определен. Категория игр Е10+ (старше 10 лет) наименее популярна во всех регионах - занимают последнее место. Игры для подростков от 13 и старше на 4 месте в Сев.Америке и Европе, и являются вторыми по популярности в Японии. В целом, по достаточному количеству игр рейтинг не определен."
   ]
  },
  {
   "cell_type": "markdown",
   "metadata": {},
   "source": [
    "**Вывод по разделу:**\n",
    "  в целом, более схожий портрет пользователей формируется для пользователей Северной Америки и Европы, портрет пользователей в Японии имеет свои особенности:\n",
    "* в Северной Америке и Европе наиболее популярны игры в жанре экшен (в Европе на первом месте, в Сев.Америке - на втором), шутеры (на первом месте в Сев.Америке с долей 28%, на втором в Европе - 28%), спорт (16% - в Сев.Америке, 17% - в Европе), rpg (около 10%) - на них приходится свыше 75% всех продаж. В Японии на первых позициях rpg (33%) и экшен (32%).\n",
    "  \n",
    "* На топ-5 платформ в регионах приходится больше 80% рынка, при этом их структура более схожа в Сев.Америке и Европе, где на первом месте PS4 - 35% и 48% соответственно, на втором XOne с долей рынка в Сев.Америке - 29%, в Европе - 17%, а в Японии на первом месте японская 3DS - 48%. Интересно, что в Японии больше предпочитают портативные игровые устройства - на 3DS и PSV приходится 64% продаж.\n",
    "\n",
    "* В Сев.Америке и Европе наибольший объем продаж приходится на игры с рейтингом М (от 17 лет), в Японии же по большинству популярных игр рейтинг не определен. Категория игр Е10+ (старше 10 лет) наименее популярна во всех трех регионах. В целом, по достаточному количеству игр рейтинг не определен."
   ]
  },
  {
   "cell_type": "markdown",
   "metadata": {},
   "source": [
    "### Проверка гипотез"
   ]
  },
  {
   "cell_type": "markdown",
   "metadata": {},
   "source": [
    "#### Сравнение пользовательских рейтингов платформ Xbox One и PC\n",
    "```\n",
    "Н0: средняя оценка пользователей для платформы Xbox One равна средней оценке пользователей для платформы PC.\n",
    "Н1: средние оценки пользователей для платформ Xbox One и PC не равны.\n",
    "```\n",
    "\n",
    "Это двусторонняя гипотеза, генеральные совокупности не зависят друг от друга (оценки пользователей одной платформы не зависят от оценок пользователей другой платформы). Уровень статистической значимости примем 0.05, мы не знаем равны ли дисперсии генеральных выборок, поэтому equal_var = False (но это можно преодолеть благодаря ЦПТ). Добавим параметр nan_policy='omit', т.к. без него p-значение не рассчитывалось - выводится nan. "
   ]
  },
  {
   "cell_type": "code",
   "execution_count": 31,
   "metadata": {},
   "outputs": [
    {
     "name": "stdout",
     "output_type": "stream",
     "text": [
      "p-значение: 0.11601398086668943\n",
      "Не получилось отвергнуть нулевую гипотезу\n",
      "\n",
      "Средняя пользовательская оценка для платформы XOne: 6.594545454545454\n",
      "Средняя пользовательская оценка для платформы PC: 6.298360655737704\n"
     ]
    }
   ],
   "source": [
    "# results = вызов метода для проверки гипотезы\n",
    "results = st.ttest_ind(\n",
    "    data_for_boxplot[data_for_boxplot['platform'] == 'XOne']['user_score'], \n",
    "    data_for_boxplot[data_for_boxplot['platform'] == 'PC']['user_score'],\n",
    "    equal_var = False, nan_policy='omit')\n",
    "\n",
    "# alpha = задайте значение уровня значимости\n",
    "alpha = 0.05\n",
    "\n",
    "# вывод значения p-value на экран\n",
    "print('p-значение:', results.pvalue)\n",
    "\n",
    "# условный оператор с выводом строки с ответом\n",
    "if results.pvalue < alpha:\n",
    "    print('Отвергаем нулевую гипотезу')\n",
    "else:\n",
    "    print('Не получилось отвергнуть нулевую гипотезу')\n",
    "    \n",
    "print()\n",
    "\n",
    "# посчитаем средние оценки пользователей\n",
    "xone_users = data_for_boxplot[data_for_boxplot['platform'] == 'XOne']['user_score']\n",
    "print('Средняя пользовательская оценка для платформы XOne:', xone_users.mean())\n",
    "\n",
    "pc_users = data_for_boxplot[data_for_boxplot['platform'] == 'PC']['user_score']\n",
    "print('Средняя пользовательская оценка для платформы PC:', pc_users.mean())    "
   ]
  },
  {
   "cell_type": "markdown",
   "metadata": {},
   "source": [
    "**Вывод:** по результатам проверки гипотезы, можно сделать вывод о том, что нулевая гипотеза о равенстве оценок пользователей платформ Xbox One и PC не может быть отвергнута."
   ]
  },
  {
   "cell_type": "markdown",
   "metadata": {},
   "source": [
    "#### Сравнение пользовательских рейтингов жанров Action (англ. «действие», экшен-игры) и Sports (англ. «спортивные соревнования»)\n",
    "```\n",
    "Н0: пользовательские рейтинги игр в жанре \"экшен\" и \"спорт\" равны.\n",
    "Н1: пользовательские рейтинги игр в жанре \"экшен\" и \"спорт\" не равны.\n",
    "```\n",
    "\n",
    "Это двусторонняя гипотеза, генеральные совокупности не зависят друг от друга (оценки пользователей одного жанра игр не зависят от оценок пользователей другого жанра игр). Уровень статистической значимости примем 0.05, мы не знаем равны ли дисперсии генеральных выборок, поэтому equal_var = False (но это можно преодолеть благодаря ЦПТ). Добавим параметр nan_policy='omit', т.к. без него p-значение не рассчитывалось - выводится nan. "
   ]
  },
  {
   "cell_type": "code",
   "execution_count": 32,
   "metadata": {},
   "outputs": [
    {
     "name": "stdout",
     "output_type": "stream",
     "text": [
      "p-значение: 1.182555038264477e-14\n",
      "Отвергаем нулевую гипотезу\n",
      "\n",
      "Средняя пользовательская оценка для игр жанра Action: 6.760606060606061\n",
      "Средняя пользовательская оценка для игр жанра Sports: 5.225196850393701\n"
     ]
    }
   ],
   "source": [
    "# results = вызов метода для проверки гипотезы\n",
    "results = st.ttest_ind(\n",
    "    data_for_boxplot[data_for_boxplot['genre'] == 'Action']['user_score'], \n",
    "    data_for_boxplot[data_for_boxplot['genre'] == 'Sports']['user_score'],\n",
    "    equal_var = False, nan_policy='omit')\n",
    "\n",
    "# alpha = задайте значение уровня значимости\n",
    "alpha = 0.05\n",
    "\n",
    "# вывод значения p-value на экран\n",
    "print('p-значение:', results.pvalue)\n",
    "\n",
    "# условный оператор с выводом строки с ответом\n",
    "if results.pvalue < alpha:\n",
    "    print('Отвергаем нулевую гипотезу')\n",
    "else:\n",
    "    print('Не получилось отвергнуть нулевую гипотезу')\n",
    "    \n",
    "print()\n",
    "\n",
    "# посчитаем средние оценки пользователей\n",
    "action_users = data_for_boxplot[data_for_boxplot['genre'] == 'Action']['user_score']\n",
    "print('Средняя пользовательская оценка для игр жанра Action:', action_users.mean())\n",
    "\n",
    "sports_users = data_for_boxplot[data_for_boxplot['genre'] == 'Sports']['user_score']\n",
    "print('Средняя пользовательская оценка для игр жанра Sports:', sports_users.mean())        "
   ]
  },
  {
   "cell_type": "markdown",
   "metadata": {},
   "source": [
    "**Вывод:** по результатам проверки гипотезы можно сделать вывод, что p-значение близко к нулю, отвергаем нулевую гипотезу о равенстве оценок пользователей игр жанра Action и Sports."
   ]
  },
  {
   "cell_type": "markdown",
   "metadata": {},
   "source": [
    "### Вывод по результатам анализа"
   ]
  },
  {
   "cell_type": "markdown",
   "metadata": {},
   "source": [
    "* Мы провели предварительную обработку данных: изменили регистр, заменили пропуски, где это было возможно, удалили строки с пропусками в тех случаях, когда их замена приводила бы к снижению качества данных. В случае с пользовательской оценкой заменили еще не определенную оценку на пропуск для дальнейшего корректного анализа. Добавили столбец с общим объемом продаж по регионам.\n",
    "\n",
    "* Начавшийся в 1994г. устойчивый рост продаж игр достиг своего максимума в 2008г. и начиная с 2009г. демонстрирует резкое снижение на всех платформах. По результатам актуального для анализа периода с 2014 по 2016гг. сформулировали следующие выводы:\n",
    "\n",
    "   Наиболее популярны следующие платформы PS4, XOne, 3DS, X360, PS3 - они составляют топ-5 по продажам с 2014-2016гг, при этом PS4 и XOne явные лидеры. Платформа PSV имеет потенциал к росту прибыльности - ее жизненный цикл еще продолжается. Платформы DS, PSP, Wii утратили свою актуальность. \n",
    "\n",
    "   В среднем по данным графиков жизненный цикл платформ составляет около 10 лет, при этом есть более успешные исключения, например, РС, срок жизни которой более 20 лет, и платформы с более коротким жизненным циклом (N64, SAT, DC). В среднем в течение жизненного цикла платформы около 5-7 лет приходится на активные продажи, и далее рост объема продаж на них замедляется или объемы продаж на них снижаются.  \n",
    "   \n",
    "   По данным диаграммы размаха можно сделать вывод о том, что наибольшее число выбросов характерно для PS4, 3DS, XOne, PS3, что связано, вероятно, с выходами эксклюзивных игр на этих платформах, однако число таких выбросов невелико.   \n",
    "\n",
    "   Корреляция между оценкой критиков и объемами продаж игр не существенная, корреляция между оценкой пользователей и продаж отсутствует - сформулированную на примере PS4 гипотезу подтвердили данными и по остальным платформам.\n",
    "\n",
    "   Наиболее популярными являются игры в жанре экшен и шутеры - на них приходится 27% и 23% объемов продаж соответственно за 2014-2016гг. Также пользовательский интерес вызывают игры в жанре \"спорт\" и \"PRG\" - их доля в общем объеме продаж составляет 15% и 14%. Стратегии и паззлы пользуются наименьшим спросом - на них приходится менее 1% объемов продаж. Максимальное значение медианы среди жанров игр приходится игры жанра шутеры со значением 0.5 млн копий.    \n",
    "   \n",
    "   \n",
    "* Портреты пользователей более схожи для Северной Америки и Европы, чем для Японии, которая имеет такие особенности, как *пользовательский протекционизм* при выборе платформы - в Японии предпочитают 3DS (почти 50% рынка), и *повышенный спрос на портативные устройства* - на 3DS и PSV приходится 64% продаж. В Северной Америке и Европе на первом месте PS4 - 35% и 48% соответственно. В целом на топ-5 платформ во всех трех регионах приходится больше 80% рынка.\n",
    "   \n",
    "   В Северной Америке наиболее популярны шутеры (28%), на втором месте - игры жанра экшен (26%), в Европе наиболее популярны игры в жанре экшен (28%), на втором месте - шутеры (24%): на них приходится свыше 50% всех продаж, также популярны жанры sports и rpg. В Японии на первых позициях rpg (33%) и экшен (32%).\n",
    "\n",
    "   В Северной Америке и Европе наибольший объем продаж приходится на игры с рейтингом М (от 17 лет), в Японии же по большинству популярных игр рейтинг не определен. Категория игр Е10+ (старше 10 лет) наименее популярна во всех регионах. В целом, по достаточному количеству игр рейтинг не определен.\n",
    "   \n",
    "* Сформулированная гипотеза о равенстве средней оценки пользователей для платформ Xbox One и PC не может быть отвергнута ввиду превышения полученного для независимых генеральных совокупностей р-значения над критическим уровнем значимости, что коррелирует со средними значениями для указанных платформ, равными 6.59 и 6.30 соответственно.  \n",
    "\n",
    "   В случае с гипотезой о равенстве пользовательских рейтингов игр в жанре \"экшен\" и \"спорт\" она была отвергнута ввиду ничтожно малого полученного р-значения, которое меньше статистического уровня значимости, в связи с чем принимаем альтернативную ей гипотезу о том, что пользовательские рейтинги игр в жанре \"экшен\" и \"спорт\" равны. Это в принципе соответствует полученным средним значениям 6.76 и 5.23 для жанр action и sports соответсвенно.\n"
   ]
  }
 ],
 "metadata": {
  "ExecuteTimeLog": [
   {
    "duration": 815,
    "start_time": "2022-12-08T19:51:33.728Z"
   },
   {
    "duration": 117,
    "start_time": "2022-12-08T19:52:05.260Z"
   },
   {
    "duration": 3,
    "start_time": "2022-12-08T19:53:01.689Z"
   },
   {
    "duration": 30,
    "start_time": "2022-12-08T19:53:17.499Z"
   },
   {
    "duration": 17,
    "start_time": "2022-12-08T19:53:36.767Z"
   },
   {
    "duration": 16,
    "start_time": "2022-12-08T19:54:59.228Z"
   },
   {
    "duration": 799,
    "start_time": "2022-12-08T19:55:40.632Z"
   },
   {
    "duration": 709,
    "start_time": "2022-12-08T19:55:56.550Z"
   },
   {
    "duration": 690,
    "start_time": "2022-12-08T19:56:03.710Z"
   },
   {
    "duration": 89,
    "start_time": "2022-12-08T20:13:51.600Z"
   },
   {
    "duration": 44,
    "start_time": "2022-12-08T20:43:05.840Z"
   },
   {
    "duration": 68,
    "start_time": "2022-12-09T20:16:55.374Z"
   },
   {
    "duration": 941,
    "start_time": "2022-12-09T20:17:01.318Z"
   },
   {
    "duration": 165,
    "start_time": "2022-12-09T20:17:04.353Z"
   },
   {
    "duration": 5,
    "start_time": "2022-12-09T20:17:06.506Z"
   },
   {
    "duration": 26,
    "start_time": "2022-12-09T20:17:08.803Z"
   },
   {
    "duration": 32,
    "start_time": "2022-12-09T20:17:11.767Z"
   },
   {
    "duration": 789,
    "start_time": "2022-12-09T20:17:15.139Z"
   },
   {
    "duration": 48,
    "start_time": "2022-12-09T20:17:21.245Z"
   },
   {
    "duration": 8,
    "start_time": "2022-12-09T20:17:33.253Z"
   },
   {
    "duration": 8,
    "start_time": "2022-12-09T20:18:17.013Z"
   },
   {
    "duration": 11,
    "start_time": "2022-12-09T20:18:22.142Z"
   },
   {
    "duration": 11,
    "start_time": "2022-12-09T20:18:39.146Z"
   },
   {
    "duration": 3,
    "start_time": "2022-12-09T20:19:31.854Z"
   },
   {
    "duration": 21,
    "start_time": "2022-12-09T20:19:45.210Z"
   },
   {
    "duration": 6,
    "start_time": "2022-12-09T20:20:45.008Z"
   },
   {
    "duration": 3,
    "start_time": "2022-12-09T20:41:40.714Z"
   },
   {
    "duration": 2,
    "start_time": "2022-12-09T20:49:21.474Z"
   },
   {
    "duration": 11,
    "start_time": "2022-12-09T20:53:04.882Z"
   },
   {
    "duration": 17,
    "start_time": "2022-12-09T21:01:44.155Z"
   },
   {
    "duration": 14,
    "start_time": "2022-12-09T21:01:49.990Z"
   },
   {
    "duration": 32,
    "start_time": "2022-12-09T21:08:28.307Z"
   },
   {
    "duration": 5,
    "start_time": "2022-12-09T21:43:01.244Z"
   },
   {
    "duration": 15,
    "start_time": "2022-12-09T21:56:00.640Z"
   },
   {
    "duration": 11,
    "start_time": "2022-12-09T21:56:08.400Z"
   },
   {
    "duration": 8,
    "start_time": "2022-12-09T21:56:58.746Z"
   },
   {
    "duration": 6,
    "start_time": "2022-12-09T21:57:12.124Z"
   },
   {
    "duration": 54,
    "start_time": "2022-12-09T21:57:42.379Z"
   },
   {
    "duration": 18,
    "start_time": "2022-12-09T21:57:48.511Z"
   },
   {
    "duration": 19,
    "start_time": "2022-12-09T21:58:09.316Z"
   },
   {
    "duration": 24,
    "start_time": "2022-12-09T21:58:19.888Z"
   },
   {
    "duration": 23,
    "start_time": "2022-12-09T21:58:49.504Z"
   },
   {
    "duration": 36,
    "start_time": "2022-12-09T22:01:28.190Z"
   },
   {
    "duration": 29,
    "start_time": "2022-12-09T22:02:11.793Z"
   },
   {
    "duration": 30,
    "start_time": "2022-12-09T22:03:43.923Z"
   },
   {
    "duration": 29,
    "start_time": "2022-12-09T22:03:56.592Z"
   },
   {
    "duration": 17,
    "start_time": "2022-12-09T22:05:48.797Z"
   },
   {
    "duration": 3,
    "start_time": "2022-12-09T22:06:29.421Z"
   },
   {
    "duration": 74,
    "start_time": "2022-12-09T22:06:29.425Z"
   },
   {
    "duration": 3,
    "start_time": "2022-12-09T22:06:29.501Z"
   },
   {
    "duration": 32,
    "start_time": "2022-12-09T22:06:29.505Z"
   },
   {
    "duration": 24,
    "start_time": "2022-12-09T22:06:29.540Z"
   },
   {
    "duration": 826,
    "start_time": "2022-12-09T22:06:29.566Z"
   },
   {
    "duration": 5,
    "start_time": "2022-12-09T22:06:30.393Z"
   },
   {
    "duration": 22,
    "start_time": "2022-12-09T22:06:30.399Z"
   },
   {
    "duration": 42,
    "start_time": "2022-12-09T22:06:30.423Z"
   },
   {
    "duration": 34,
    "start_time": "2022-12-09T22:06:43.530Z"
   },
   {
    "duration": 21,
    "start_time": "2022-12-09T22:06:52.174Z"
   },
   {
    "duration": 23,
    "start_time": "2022-12-09T22:09:10.124Z"
   },
   {
    "duration": 3,
    "start_time": "2022-12-09T22:09:15.562Z"
   },
   {
    "duration": 64,
    "start_time": "2022-12-09T22:09:15.568Z"
   },
   {
    "duration": 3,
    "start_time": "2022-12-09T22:09:15.634Z"
   },
   {
    "duration": 30,
    "start_time": "2022-12-09T22:09:15.639Z"
   },
   {
    "duration": 23,
    "start_time": "2022-12-09T22:09:15.671Z"
   },
   {
    "duration": 702,
    "start_time": "2022-12-09T22:09:15.696Z"
   },
   {
    "duration": 4,
    "start_time": "2022-12-09T22:09:16.400Z"
   },
   {
    "duration": 17,
    "start_time": "2022-12-09T22:09:16.405Z"
   },
   {
    "duration": 17,
    "start_time": "2022-12-09T22:09:16.424Z"
   },
   {
    "duration": 656,
    "start_time": "2022-12-09T22:09:28.992Z"
   },
   {
    "duration": 60,
    "start_time": "2022-12-09T22:09:29.650Z"
   },
   {
    "duration": 3,
    "start_time": "2022-12-09T22:09:29.712Z"
   },
   {
    "duration": 34,
    "start_time": "2022-12-09T22:09:29.717Z"
   },
   {
    "duration": 16,
    "start_time": "2022-12-09T22:09:29.753Z"
   },
   {
    "duration": 740,
    "start_time": "2022-12-09T22:09:29.779Z"
   },
   {
    "duration": 3,
    "start_time": "2022-12-09T22:09:30.521Z"
   },
   {
    "duration": 25,
    "start_time": "2022-12-09T22:09:30.526Z"
   },
   {
    "duration": 103,
    "start_time": "2022-12-09T22:09:30.553Z"
   },
   {
    "duration": 20,
    "start_time": "2022-12-09T22:10:03.837Z"
   },
   {
    "duration": 41,
    "start_time": "2022-12-09T22:10:25.189Z"
   },
   {
    "duration": 17,
    "start_time": "2022-12-09T22:10:50.341Z"
   },
   {
    "duration": 44,
    "start_time": "2022-12-09T22:11:25.530Z"
   },
   {
    "duration": 39,
    "start_time": "2022-12-09T22:11:36.333Z"
   },
   {
    "duration": 16,
    "start_time": "2022-12-09T22:11:56.919Z"
   },
   {
    "duration": 3,
    "start_time": "2022-12-09T22:13:03.049Z"
   },
   {
    "duration": 100,
    "start_time": "2022-12-09T22:13:03.054Z"
   },
   {
    "duration": 2,
    "start_time": "2022-12-09T22:13:03.157Z"
   },
   {
    "duration": 35,
    "start_time": "2022-12-09T22:13:03.161Z"
   },
   {
    "duration": 18,
    "start_time": "2022-12-09T22:13:03.199Z"
   },
   {
    "duration": 774,
    "start_time": "2022-12-09T22:13:03.220Z"
   },
   {
    "duration": 5,
    "start_time": "2022-12-09T22:13:03.996Z"
   },
   {
    "duration": 10,
    "start_time": "2022-12-09T22:13:04.003Z"
   },
   {
    "duration": 38,
    "start_time": "2022-12-09T22:13:04.015Z"
   },
   {
    "duration": 37,
    "start_time": "2022-12-09T22:13:24.832Z"
   },
   {
    "duration": 3,
    "start_time": "2022-12-09T22:13:44.535Z"
   },
   {
    "duration": 63,
    "start_time": "2022-12-09T22:13:44.540Z"
   },
   {
    "duration": 4,
    "start_time": "2022-12-09T22:13:44.605Z"
   },
   {
    "duration": 29,
    "start_time": "2022-12-09T22:13:44.611Z"
   },
   {
    "duration": 22,
    "start_time": "2022-12-09T22:13:44.643Z"
   },
   {
    "duration": 784,
    "start_time": "2022-12-09T22:13:44.681Z"
   },
   {
    "duration": 4,
    "start_time": "2022-12-09T22:13:45.467Z"
   },
   {
    "duration": 17,
    "start_time": "2022-12-09T22:13:45.482Z"
   },
   {
    "duration": 52,
    "start_time": "2022-12-09T22:13:45.502Z"
   },
   {
    "duration": 27,
    "start_time": "2022-12-09T22:25:59.766Z"
   },
   {
    "duration": 17,
    "start_time": "2022-12-09T22:27:32.493Z"
   },
   {
    "duration": 7,
    "start_time": "2022-12-09T22:28:42.045Z"
   },
   {
    "duration": 56,
    "start_time": "2022-12-09T22:30:22.007Z"
   },
   {
    "duration": 23,
    "start_time": "2022-12-09T22:32:07.197Z"
   },
   {
    "duration": 6,
    "start_time": "2022-12-09T22:58:51.241Z"
   },
   {
    "duration": 7,
    "start_time": "2022-12-09T23:15:29.534Z"
   },
   {
    "duration": 17,
    "start_time": "2022-12-09T23:15:49.775Z"
   },
   {
    "duration": 10,
    "start_time": "2022-12-09T23:20:14.434Z"
   },
   {
    "duration": 18,
    "start_time": "2022-12-09T23:22:13.993Z"
   },
   {
    "duration": 25,
    "start_time": "2022-12-09T23:22:20.201Z"
   },
   {
    "duration": 42,
    "start_time": "2022-12-09T23:22:28.257Z"
   },
   {
    "duration": 38,
    "start_time": "2022-12-09T23:23:58.793Z"
   },
   {
    "duration": 40,
    "start_time": "2022-12-09T23:27:09.181Z"
   },
   {
    "duration": 41,
    "start_time": "2022-12-09T23:27:23.025Z"
   },
   {
    "duration": 3,
    "start_time": "2022-12-09T23:27:44.896Z"
   },
   {
    "duration": 57,
    "start_time": "2022-12-09T23:27:44.901Z"
   },
   {
    "duration": 3,
    "start_time": "2022-12-09T23:27:44.960Z"
   },
   {
    "duration": 22,
    "start_time": "2022-12-09T23:27:44.964Z"
   },
   {
    "duration": 14,
    "start_time": "2022-12-09T23:27:44.988Z"
   },
   {
    "duration": 688,
    "start_time": "2022-12-09T23:27:45.005Z"
   },
   {
    "duration": 3,
    "start_time": "2022-12-09T23:27:45.695Z"
   },
   {
    "duration": 11,
    "start_time": "2022-12-09T23:27:45.700Z"
   },
   {
    "duration": 21,
    "start_time": "2022-12-09T23:27:45.713Z"
   },
   {
    "duration": 7,
    "start_time": "2022-12-09T23:27:45.736Z"
   },
   {
    "duration": 41,
    "start_time": "2022-12-09T23:27:45.745Z"
   },
   {
    "duration": 47,
    "start_time": "2022-12-09T23:27:45.789Z"
   },
   {
    "duration": 43,
    "start_time": "2022-12-09T23:28:02.303Z"
   },
   {
    "duration": 3,
    "start_time": "2022-12-09T23:28:07.887Z"
   },
   {
    "duration": 55,
    "start_time": "2022-12-09T23:28:07.893Z"
   },
   {
    "duration": 4,
    "start_time": "2022-12-09T23:28:07.950Z"
   },
   {
    "duration": 22,
    "start_time": "2022-12-09T23:28:07.955Z"
   },
   {
    "duration": 23,
    "start_time": "2022-12-09T23:28:07.980Z"
   },
   {
    "duration": 810,
    "start_time": "2022-12-09T23:28:08.005Z"
   },
   {
    "duration": 4,
    "start_time": "2022-12-09T23:28:08.816Z"
   },
   {
    "duration": 17,
    "start_time": "2022-12-09T23:28:08.822Z"
   },
   {
    "duration": 25,
    "start_time": "2022-12-09T23:28:08.841Z"
   },
   {
    "duration": 12,
    "start_time": "2022-12-09T23:28:08.868Z"
   },
   {
    "duration": 20,
    "start_time": "2022-12-09T23:28:08.882Z"
   },
   {
    "duration": 41,
    "start_time": "2022-12-09T23:28:08.904Z"
   },
   {
    "duration": 56,
    "start_time": "2022-12-09T23:28:32.075Z"
   },
   {
    "duration": 55,
    "start_time": "2022-12-09T23:29:49.680Z"
   },
   {
    "duration": 43,
    "start_time": "2022-12-09T23:31:22.359Z"
   },
   {
    "duration": 54,
    "start_time": "2022-12-09T23:31:29.124Z"
   },
   {
    "duration": 63,
    "start_time": "2022-12-09T23:31:57.894Z"
   },
   {
    "duration": 69,
    "start_time": "2022-12-09T23:32:15.887Z"
   },
   {
    "duration": 67,
    "start_time": "2022-12-09T23:33:02.542Z"
   },
   {
    "duration": 25,
    "start_time": "2022-12-09T23:35:53.745Z"
   },
   {
    "duration": 4,
    "start_time": "2022-12-09T23:46:21.728Z"
   },
   {
    "duration": 19,
    "start_time": "2022-12-09T23:47:01.383Z"
   },
   {
    "duration": 21,
    "start_time": "2022-12-09T23:47:20.869Z"
   },
   {
    "duration": 33,
    "start_time": "2022-12-09T23:49:10.911Z"
   },
   {
    "duration": 38,
    "start_time": "2022-12-09T23:49:41.562Z"
   },
   {
    "duration": 38,
    "start_time": "2022-12-09T23:55:02.190Z"
   },
   {
    "duration": 48,
    "start_time": "2022-12-09T23:59:03.301Z"
   },
   {
    "duration": 3,
    "start_time": "2022-12-10T00:02:45.295Z"
   },
   {
    "duration": 755,
    "start_time": "2022-12-10T00:03:38.814Z"
   },
   {
    "duration": 37,
    "start_time": "2022-12-10T00:03:45.657Z"
   },
   {
    "duration": 39,
    "start_time": "2022-12-10T00:04:45.434Z"
   },
   {
    "duration": 1297,
    "start_time": "2022-12-10T11:32:49.571Z"
   },
   {
    "duration": 3,
    "start_time": "2022-12-10T11:32:55.973Z"
   },
   {
    "duration": 192,
    "start_time": "2022-12-10T11:32:55.978Z"
   },
   {
    "duration": 3,
    "start_time": "2022-12-10T11:32:56.172Z"
   },
   {
    "duration": 23,
    "start_time": "2022-12-10T11:32:56.176Z"
   },
   {
    "duration": 14,
    "start_time": "2022-12-10T11:32:56.201Z"
   },
   {
    "duration": 652,
    "start_time": "2022-12-10T11:32:56.217Z"
   },
   {
    "duration": 3,
    "start_time": "2022-12-10T11:32:56.871Z"
   },
   {
    "duration": 11,
    "start_time": "2022-12-10T11:32:56.876Z"
   },
   {
    "duration": 23,
    "start_time": "2022-12-10T11:32:56.888Z"
   },
   {
    "duration": 5,
    "start_time": "2022-12-10T11:32:56.913Z"
   },
   {
    "duration": 15,
    "start_time": "2022-12-10T11:32:56.937Z"
   },
   {
    "duration": 26,
    "start_time": "2022-12-10T11:32:56.954Z"
   },
   {
    "duration": 5,
    "start_time": "2022-12-10T11:32:56.981Z"
   },
   {
    "duration": 64,
    "start_time": "2022-12-10T11:32:56.988Z"
   },
   {
    "duration": 6,
    "start_time": "2022-12-10T11:40:39.091Z"
   },
   {
    "duration": 138,
    "start_time": "2022-12-10T11:43:09.019Z"
   },
   {
    "duration": 143,
    "start_time": "2022-12-10T11:43:17.080Z"
   },
   {
    "duration": 351,
    "start_time": "2022-12-10T11:45:49.780Z"
   },
   {
    "duration": 428,
    "start_time": "2022-12-10T11:46:10.923Z"
   },
   {
    "duration": 339,
    "start_time": "2022-12-10T11:46:20.300Z"
   },
   {
    "duration": 331,
    "start_time": "2022-12-10T11:46:27.253Z"
   },
   {
    "duration": 342,
    "start_time": "2022-12-10T11:48:55.832Z"
   },
   {
    "duration": 354,
    "start_time": "2022-12-10T11:52:15.432Z"
   },
   {
    "duration": 342,
    "start_time": "2022-12-10T11:52:59.671Z"
   },
   {
    "duration": 386,
    "start_time": "2022-12-10T12:47:52.898Z"
   },
   {
    "duration": 106,
    "start_time": "2022-12-10T12:48:31.840Z"
   },
   {
    "duration": 13,
    "start_time": "2022-12-10T13:01:52.629Z"
   },
   {
    "duration": 12,
    "start_time": "2022-12-10T13:02:10.691Z"
   },
   {
    "duration": 16,
    "start_time": "2022-12-10T13:07:26.569Z"
   },
   {
    "duration": 18,
    "start_time": "2022-12-10T13:07:48.661Z"
   },
   {
    "duration": 134,
    "start_time": "2022-12-10T13:08:32.133Z"
   },
   {
    "duration": 18,
    "start_time": "2022-12-10T13:09:06.240Z"
   },
   {
    "duration": 20,
    "start_time": "2022-12-10T13:09:21.212Z"
   },
   {
    "duration": 9,
    "start_time": "2022-12-10T13:15:13.347Z"
   },
   {
    "duration": 18,
    "start_time": "2022-12-10T13:15:20.380Z"
   },
   {
    "duration": 16,
    "start_time": "2022-12-10T13:16:05.101Z"
   },
   {
    "duration": 20,
    "start_time": "2022-12-10T13:18:26.716Z"
   },
   {
    "duration": 286,
    "start_time": "2022-12-10T13:18:33.791Z"
   },
   {
    "duration": 12,
    "start_time": "2022-12-10T13:19:57.672Z"
   },
   {
    "duration": 11,
    "start_time": "2022-12-10T13:20:21.619Z"
   },
   {
    "duration": 121,
    "start_time": "2022-12-10T13:21:01.721Z"
   },
   {
    "duration": 21,
    "start_time": "2022-12-10T13:21:18.635Z"
   },
   {
    "duration": 26,
    "start_time": "2022-12-10T13:21:34.659Z"
   },
   {
    "duration": 28,
    "start_time": "2022-12-10T13:22:47.100Z"
   },
   {
    "duration": 71,
    "start_time": "2022-12-10T13:25:04.702Z"
   },
   {
    "duration": 20,
    "start_time": "2022-12-10T13:25:11.265Z"
   },
   {
    "duration": 66,
    "start_time": "2022-12-10T13:26:24.537Z"
   },
   {
    "duration": 305,
    "start_time": "2022-12-10T13:26:33.772Z"
   },
   {
    "duration": 298,
    "start_time": "2022-12-10T13:47:43.674Z"
   },
   {
    "duration": 153,
    "start_time": "2022-12-10T13:47:53.042Z"
   },
   {
    "duration": 290,
    "start_time": "2022-12-10T13:48:02.235Z"
   },
   {
    "duration": 386,
    "start_time": "2022-12-10T13:49:34.662Z"
   },
   {
    "duration": 296,
    "start_time": "2022-12-10T13:50:40.246Z"
   },
   {
    "duration": 304,
    "start_time": "2022-12-10T13:51:31.411Z"
   },
   {
    "duration": 74,
    "start_time": "2022-12-10T13:51:47.135Z"
   },
   {
    "duration": 294,
    "start_time": "2022-12-10T13:51:52.076Z"
   },
   {
    "duration": 291,
    "start_time": "2022-12-10T13:52:58.240Z"
   },
   {
    "duration": 314,
    "start_time": "2022-12-10T13:53:09.762Z"
   },
   {
    "duration": 410,
    "start_time": "2022-12-10T15:18:46.352Z"
   },
   {
    "duration": 10,
    "start_time": "2022-12-10T15:21:29.850Z"
   },
   {
    "duration": 9,
    "start_time": "2022-12-10T15:23:03.551Z"
   },
   {
    "duration": 341,
    "start_time": "2022-12-10T15:23:10.899Z"
   },
   {
    "duration": 14,
    "start_time": "2022-12-10T15:23:14.753Z"
   },
   {
    "duration": 326,
    "start_time": "2022-12-10T15:24:14.642Z"
   },
   {
    "duration": 9,
    "start_time": "2022-12-10T15:24:18.964Z"
   },
   {
    "duration": 211,
    "start_time": "2022-12-10T15:28:28.797Z"
   },
   {
    "duration": 180,
    "start_time": "2022-12-10T15:29:06.350Z"
   },
   {
    "duration": 388,
    "start_time": "2022-12-10T15:29:56.454Z"
   },
   {
    "duration": 525,
    "start_time": "2022-12-10T15:31:16.887Z"
   },
   {
    "duration": 674,
    "start_time": "2022-12-10T15:32:52.669Z"
   },
   {
    "duration": 670,
    "start_time": "2022-12-10T15:35:41.763Z"
   },
   {
    "duration": 317,
    "start_time": "2022-12-10T15:36:38.168Z"
   },
   {
    "duration": 380,
    "start_time": "2022-12-10T15:46:19.063Z"
   },
   {
    "duration": 497,
    "start_time": "2022-12-10T15:46:30.751Z"
   },
   {
    "duration": 17,
    "start_time": "2022-12-10T15:46:47.260Z"
   },
   {
    "duration": 359,
    "start_time": "2022-12-10T15:46:56.057Z"
   },
   {
    "duration": 2,
    "start_time": "2022-12-10T15:47:30.167Z"
   },
   {
    "duration": 71,
    "start_time": "2022-12-10T15:47:30.171Z"
   },
   {
    "duration": 4,
    "start_time": "2022-12-10T15:47:30.243Z"
   },
   {
    "duration": 19,
    "start_time": "2022-12-10T15:47:30.248Z"
   },
   {
    "duration": 28,
    "start_time": "2022-12-10T15:47:30.270Z"
   },
   {
    "duration": 682,
    "start_time": "2022-12-10T15:47:30.300Z"
   },
   {
    "duration": 3,
    "start_time": "2022-12-10T15:47:30.984Z"
   },
   {
    "duration": 11,
    "start_time": "2022-12-10T15:47:30.989Z"
   },
   {
    "duration": 26,
    "start_time": "2022-12-10T15:47:31.001Z"
   },
   {
    "duration": 6,
    "start_time": "2022-12-10T15:47:31.036Z"
   },
   {
    "duration": 23,
    "start_time": "2022-12-10T15:47:31.043Z"
   },
   {
    "duration": 28,
    "start_time": "2022-12-10T15:47:31.067Z"
   },
   {
    "duration": 5,
    "start_time": "2022-12-10T15:47:31.097Z"
   },
   {
    "duration": 60,
    "start_time": "2022-12-10T15:47:31.104Z"
   },
   {
    "duration": 365,
    "start_time": "2022-12-10T15:47:31.166Z"
   },
   {
    "duration": 315,
    "start_time": "2022-12-10T15:47:31.537Z"
   },
   {
    "duration": 650,
    "start_time": "2022-12-10T15:47:31.854Z"
   },
   {
    "duration": 367,
    "start_time": "2022-12-10T15:48:17.576Z"
   },
   {
    "duration": 477,
    "start_time": "2022-12-10T15:48:51.555Z"
   },
   {
    "duration": 482,
    "start_time": "2022-12-10T15:48:57.980Z"
   },
   {
    "duration": 626,
    "start_time": "2022-12-10T15:49:02.063Z"
   },
   {
    "duration": 530,
    "start_time": "2022-12-10T15:49:19.201Z"
   },
   {
    "duration": 524,
    "start_time": "2022-12-10T15:49:32.499Z"
   },
   {
    "duration": 352,
    "start_time": "2022-12-10T15:49:53.524Z"
   },
   {
    "duration": 741,
    "start_time": "2022-12-10T15:51:13.566Z"
   },
   {
    "duration": 561,
    "start_time": "2022-12-10T15:51:24.456Z"
   },
   {
    "duration": 753,
    "start_time": "2022-12-10T15:51:48.880Z"
   },
   {
    "duration": 565,
    "start_time": "2022-12-10T15:52:41.084Z"
   },
   {
    "duration": 741,
    "start_time": "2022-12-10T15:57:42.265Z"
   },
   {
    "duration": 810,
    "start_time": "2022-12-10T15:57:57.592Z"
   },
   {
    "duration": 465,
    "start_time": "2022-12-10T15:58:44.812Z"
   },
   {
    "duration": 530,
    "start_time": "2022-12-10T15:58:53.257Z"
   },
   {
    "duration": 1110,
    "start_time": "2022-12-10T15:59:52.075Z"
   },
   {
    "duration": 669,
    "start_time": "2022-12-10T16:23:40.652Z"
   },
   {
    "duration": 666,
    "start_time": "2022-12-10T16:24:08.089Z"
   },
   {
    "duration": 832,
    "start_time": "2022-12-10T16:24:15.021Z"
   },
   {
    "duration": 26,
    "start_time": "2022-12-10T16:28:55.060Z"
   },
   {
    "duration": 30,
    "start_time": "2022-12-10T16:29:16.961Z"
   },
   {
    "duration": 2104,
    "start_time": "2022-12-10T16:32:20.808Z"
   },
   {
    "duration": 275,
    "start_time": "2022-12-10T16:36:38.806Z"
   },
   {
    "duration": 189,
    "start_time": "2022-12-10T16:36:59.309Z"
   },
   {
    "duration": 27,
    "start_time": "2022-12-10T16:37:36.999Z"
   },
   {
    "duration": 209,
    "start_time": "2022-12-10T16:40:18.656Z"
   },
   {
    "duration": 17,
    "start_time": "2022-12-10T16:40:57.949Z"
   },
   {
    "duration": 24,
    "start_time": "2022-12-10T16:41:20.712Z"
   },
   {
    "duration": 1223,
    "start_time": "2022-12-10T16:43:18.594Z"
   },
   {
    "duration": 1267,
    "start_time": "2022-12-10T16:43:58.171Z"
   },
   {
    "duration": 1204,
    "start_time": "2022-12-10T16:45:11.904Z"
   },
   {
    "duration": 1245,
    "start_time": "2022-12-10T16:47:22.728Z"
   },
   {
    "duration": 1373,
    "start_time": "2022-12-10T16:47:39.766Z"
   },
   {
    "duration": 1582,
    "start_time": "2022-12-10T16:49:46.910Z"
   },
   {
    "duration": 419,
    "start_time": "2022-12-10T16:50:10.024Z"
   },
   {
    "duration": 314,
    "start_time": "2022-12-10T16:50:32.695Z"
   },
   {
    "duration": 161,
    "start_time": "2022-12-10T16:51:02.040Z"
   },
   {
    "duration": 168,
    "start_time": "2022-12-10T16:51:44.889Z"
   },
   {
    "duration": 3,
    "start_time": "2022-12-10T16:51:54.749Z"
   },
   {
    "duration": 60,
    "start_time": "2022-12-10T16:51:54.760Z"
   },
   {
    "duration": 3,
    "start_time": "2022-12-10T16:51:54.823Z"
   },
   {
    "duration": 27,
    "start_time": "2022-12-10T16:51:54.827Z"
   },
   {
    "duration": 27,
    "start_time": "2022-12-10T16:51:54.856Z"
   },
   {
    "duration": 735,
    "start_time": "2022-12-10T16:51:54.885Z"
   },
   {
    "duration": 4,
    "start_time": "2022-12-10T16:51:55.622Z"
   },
   {
    "duration": 14,
    "start_time": "2022-12-10T16:51:55.628Z"
   },
   {
    "duration": 33,
    "start_time": "2022-12-10T16:51:55.645Z"
   },
   {
    "duration": 8,
    "start_time": "2022-12-10T16:51:55.681Z"
   },
   {
    "duration": 48,
    "start_time": "2022-12-10T16:51:55.691Z"
   },
   {
    "duration": 50,
    "start_time": "2022-12-10T16:51:55.742Z"
   },
   {
    "duration": 42,
    "start_time": "2022-12-10T16:51:55.795Z"
   },
   {
    "duration": 60,
    "start_time": "2022-12-10T16:51:55.841Z"
   },
   {
    "duration": 870,
    "start_time": "2022-12-10T16:51:55.903Z"
   },
   {
    "duration": 363,
    "start_time": "2022-12-10T16:51:56.775Z"
   },
   {
    "duration": 185,
    "start_time": "2022-12-10T16:51:57.140Z"
   },
   {
    "duration": 163,
    "start_time": "2022-12-10T16:53:05.099Z"
   },
   {
    "duration": 169,
    "start_time": "2022-12-10T16:53:33.583Z"
   },
   {
    "duration": 123,
    "start_time": "2022-12-10T16:54:59.184Z"
   },
   {
    "duration": 155,
    "start_time": "2022-12-10T16:55:25.254Z"
   },
   {
    "duration": 305,
    "start_time": "2022-12-10T17:00:14.366Z"
   },
   {
    "duration": 285,
    "start_time": "2022-12-10T17:00:25.313Z"
   },
   {
    "duration": 321,
    "start_time": "2022-12-10T17:00:33.923Z"
   },
   {
    "duration": 357,
    "start_time": "2022-12-10T17:00:43.942Z"
   },
   {
    "duration": 303,
    "start_time": "2022-12-10T17:02:56.060Z"
   },
   {
    "duration": 324,
    "start_time": "2022-12-10T17:04:11.314Z"
   },
   {
    "duration": 2791,
    "start_time": "2022-12-10T17:07:22.278Z"
   },
   {
    "duration": 3199,
    "start_time": "2022-12-10T17:08:16.457Z"
   },
   {
    "duration": 3006,
    "start_time": "2022-12-10T17:08:36.581Z"
   },
   {
    "duration": 89,
    "start_time": "2022-12-10T17:09:59.920Z"
   },
   {
    "duration": 1236,
    "start_time": "2022-12-10T17:11:11.510Z"
   },
   {
    "duration": 1296,
    "start_time": "2022-12-10T17:11:29.573Z"
   },
   {
    "duration": 505,
    "start_time": "2022-12-10T17:16:32.571Z"
   },
   {
    "duration": 384,
    "start_time": "2022-12-10T17:17:48.753Z"
   },
   {
    "duration": 4,
    "start_time": "2022-12-10T17:18:20.695Z"
   },
   {
    "duration": 52,
    "start_time": "2022-12-10T17:18:20.701Z"
   },
   {
    "duration": 3,
    "start_time": "2022-12-10T17:18:20.755Z"
   },
   {
    "duration": 31,
    "start_time": "2022-12-10T17:18:20.761Z"
   },
   {
    "duration": 26,
    "start_time": "2022-12-10T17:18:20.794Z"
   },
   {
    "duration": 715,
    "start_time": "2022-12-10T17:18:20.822Z"
   },
   {
    "duration": 4,
    "start_time": "2022-12-10T17:18:21.539Z"
   },
   {
    "duration": 6,
    "start_time": "2022-12-10T17:18:21.545Z"
   },
   {
    "duration": 33,
    "start_time": "2022-12-10T17:18:21.553Z"
   },
   {
    "duration": 7,
    "start_time": "2022-12-10T17:18:21.588Z"
   },
   {
    "duration": 18,
    "start_time": "2022-12-10T17:18:21.597Z"
   },
   {
    "duration": 31,
    "start_time": "2022-12-10T17:18:21.637Z"
   },
   {
    "duration": 6,
    "start_time": "2022-12-10T17:18:21.670Z"
   },
   {
    "duration": 66,
    "start_time": "2022-12-10T17:18:21.677Z"
   },
   {
    "duration": 632,
    "start_time": "2022-12-10T17:18:21.745Z"
   },
   {
    "duration": 338,
    "start_time": "2022-12-10T17:18:22.380Z"
   },
   {
    "duration": 439,
    "start_time": "2022-12-10T17:18:22.720Z"
   },
   {
    "duration": 306,
    "start_time": "2022-12-10T17:22:50.988Z"
   },
   {
    "duration": 1313,
    "start_time": "2022-12-10T17:23:08.589Z"
   },
   {
    "duration": 69,
    "start_time": "2022-12-10T17:23:09.904Z"
   },
   {
    "duration": 3,
    "start_time": "2022-12-10T17:23:09.975Z"
   },
   {
    "duration": 26,
    "start_time": "2022-12-10T17:23:09.979Z"
   },
   {
    "duration": 34,
    "start_time": "2022-12-10T17:23:10.008Z"
   },
   {
    "duration": 703,
    "start_time": "2022-12-10T17:23:10.044Z"
   },
   {
    "duration": 4,
    "start_time": "2022-12-10T17:23:10.749Z"
   },
   {
    "duration": 22,
    "start_time": "2022-12-10T17:23:10.754Z"
   },
   {
    "duration": 29,
    "start_time": "2022-12-10T17:23:10.778Z"
   },
   {
    "duration": 7,
    "start_time": "2022-12-10T17:23:10.809Z"
   },
   {
    "duration": 29,
    "start_time": "2022-12-10T17:23:10.818Z"
   },
   {
    "duration": 28,
    "start_time": "2022-12-10T17:23:10.849Z"
   },
   {
    "duration": 5,
    "start_time": "2022-12-10T17:23:10.879Z"
   },
   {
    "duration": 68,
    "start_time": "2022-12-10T17:23:10.887Z"
   },
   {
    "duration": 659,
    "start_time": "2022-12-10T17:23:10.957Z"
   },
   {
    "duration": 423,
    "start_time": "2022-12-10T17:23:11.618Z"
   },
   {
    "duration": 308,
    "start_time": "2022-12-10T17:23:12.043Z"
   },
   {
    "duration": 293,
    "start_time": "2022-12-10T17:25:50.813Z"
   },
   {
    "duration": 1411,
    "start_time": "2022-12-10T17:27:57.568Z"
   },
   {
    "duration": 322,
    "start_time": "2022-12-10T17:28:12.916Z"
   },
   {
    "duration": 317,
    "start_time": "2022-12-10T17:28:47.372Z"
   },
   {
    "duration": 359,
    "start_time": "2022-12-10T17:32:04.856Z"
   },
   {
    "duration": 333,
    "start_time": "2022-12-10T17:32:21.393Z"
   },
   {
    "duration": 347,
    "start_time": "2022-12-10T17:33:37.555Z"
   },
   {
    "duration": 886,
    "start_time": "2022-12-10T17:34:19.981Z"
   },
   {
    "duration": 1541,
    "start_time": "2022-12-10T17:39:18.129Z"
   },
   {
    "duration": 1237,
    "start_time": "2022-12-10T17:39:23.535Z"
   },
   {
    "duration": 28,
    "start_time": "2022-12-10T17:39:42.255Z"
   },
   {
    "duration": 1115,
    "start_time": "2022-12-10T17:40:45.916Z"
   },
   {
    "duration": 150,
    "start_time": "2022-12-10T17:41:29.050Z"
   },
   {
    "duration": 1135,
    "start_time": "2022-12-10T17:41:39.464Z"
   },
   {
    "duration": 1231,
    "start_time": "2022-12-10T17:41:53.395Z"
   },
   {
    "duration": 1112,
    "start_time": "2022-12-10T17:42:09.351Z"
   },
   {
    "duration": 1224,
    "start_time": "2022-12-10T17:42:15.261Z"
   },
   {
    "duration": 1218,
    "start_time": "2022-12-10T17:42:25.279Z"
   },
   {
    "duration": 1381,
    "start_time": "2022-12-10T17:43:19.014Z"
   },
   {
    "duration": 23,
    "start_time": "2022-12-10T17:44:26.737Z"
   },
   {
    "duration": 1186,
    "start_time": "2022-12-10T17:44:44.060Z"
   },
   {
    "duration": 652,
    "start_time": "2022-12-10T17:48:30.409Z"
   },
   {
    "duration": 736,
    "start_time": "2022-12-10T18:19:37.577Z"
   },
   {
    "duration": 637,
    "start_time": "2022-12-10T18:22:44.438Z"
   },
   {
    "duration": 1836,
    "start_time": "2022-12-10T18:23:34.616Z"
   },
   {
    "duration": 86,
    "start_time": "2022-12-10T18:28:49.833Z"
   },
   {
    "duration": 611,
    "start_time": "2022-12-10T18:29:11.607Z"
   },
   {
    "duration": 646,
    "start_time": "2022-12-10T18:30:47.075Z"
   },
   {
    "duration": 72,
    "start_time": "2022-12-10T18:32:53.547Z"
   },
   {
    "duration": 67,
    "start_time": "2022-12-10T18:33:12.569Z"
   },
   {
    "duration": 586,
    "start_time": "2022-12-10T18:33:21.399Z"
   },
   {
    "duration": 745,
    "start_time": "2022-12-10T18:34:18.030Z"
   },
   {
    "duration": 596,
    "start_time": "2022-12-10T18:35:04.378Z"
   },
   {
    "duration": 707,
    "start_time": "2022-12-10T18:35:18.792Z"
   },
   {
    "duration": 666,
    "start_time": "2022-12-10T18:35:57.938Z"
   },
   {
    "duration": 621,
    "start_time": "2022-12-10T18:38:16.248Z"
   },
   {
    "duration": 608,
    "start_time": "2022-12-10T18:38:39.931Z"
   },
   {
    "duration": 784,
    "start_time": "2022-12-10T18:39:38.778Z"
   },
   {
    "duration": 20,
    "start_time": "2022-12-10T19:36:48.182Z"
   },
   {
    "duration": 251,
    "start_time": "2022-12-10T19:36:55.700Z"
   },
   {
    "duration": 231,
    "start_time": "2022-12-10T19:39:30.093Z"
   },
   {
    "duration": 118,
    "start_time": "2022-12-10T19:41:43.566Z"
   },
   {
    "duration": 406,
    "start_time": "2022-12-10T19:44:56.124Z"
   },
   {
    "duration": 279,
    "start_time": "2022-12-10T19:45:11.432Z"
   },
   {
    "duration": 282,
    "start_time": "2022-12-10T19:50:29.140Z"
   },
   {
    "duration": 418,
    "start_time": "2022-12-10T19:50:43.204Z"
   },
   {
    "duration": 308,
    "start_time": "2022-12-10T19:51:08.953Z"
   },
   {
    "duration": 587,
    "start_time": "2022-12-10T19:51:57.330Z"
   },
   {
    "duration": 283,
    "start_time": "2022-12-10T19:52:30.281Z"
   },
   {
    "duration": 274,
    "start_time": "2022-12-10T19:54:23.733Z"
   },
   {
    "duration": 239,
    "start_time": "2022-12-10T19:54:39.594Z"
   },
   {
    "duration": 297,
    "start_time": "2022-12-10T19:54:45.305Z"
   },
   {
    "duration": 421,
    "start_time": "2022-12-10T19:54:54.330Z"
   },
   {
    "duration": 308,
    "start_time": "2022-12-10T19:56:32.635Z"
   },
   {
    "duration": 322,
    "start_time": "2022-12-10T19:56:49.220Z"
   },
   {
    "duration": 338,
    "start_time": "2022-12-10T20:00:25.590Z"
   },
   {
    "duration": 313,
    "start_time": "2022-12-10T20:11:12.590Z"
   },
   {
    "duration": 317,
    "start_time": "2022-12-10T20:12:34.226Z"
   },
   {
    "duration": 450,
    "start_time": "2022-12-10T20:12:39.652Z"
   },
   {
    "duration": 304,
    "start_time": "2022-12-10T20:12:45.171Z"
   },
   {
    "duration": 294,
    "start_time": "2022-12-10T20:12:52.081Z"
   },
   {
    "duration": 295,
    "start_time": "2022-12-10T20:13:09.919Z"
   },
   {
    "duration": 322,
    "start_time": "2022-12-10T20:23:33.115Z"
   },
   {
    "duration": 329,
    "start_time": "2022-12-10T20:23:42.987Z"
   },
   {
    "duration": 338,
    "start_time": "2022-12-10T20:29:57.885Z"
   },
   {
    "duration": 374,
    "start_time": "2022-12-10T20:30:26.313Z"
   },
   {
    "duration": 499,
    "start_time": "2022-12-10T20:32:09.855Z"
   },
   {
    "duration": 368,
    "start_time": "2022-12-10T20:33:09.620Z"
   },
   {
    "duration": 334,
    "start_time": "2022-12-10T20:41:41.584Z"
   },
   {
    "duration": 369,
    "start_time": "2022-12-10T20:42:03.969Z"
   },
   {
    "duration": 30,
    "start_time": "2022-12-10T21:17:47.324Z"
   },
   {
    "duration": 70,
    "start_time": "2022-12-10T21:18:08.739Z"
   },
   {
    "duration": 18,
    "start_time": "2022-12-10T21:20:42.507Z"
   },
   {
    "duration": 29,
    "start_time": "2022-12-10T21:20:57.004Z"
   },
   {
    "duration": 26,
    "start_time": "2022-12-10T21:21:10.080Z"
   },
   {
    "duration": 26,
    "start_time": "2022-12-10T21:21:37.673Z"
   },
   {
    "duration": 331,
    "start_time": "2022-12-10T21:27:51.555Z"
   },
   {
    "duration": 332,
    "start_time": "2022-12-10T21:31:57.262Z"
   },
   {
    "duration": 217,
    "start_time": "2022-12-10T21:32:17.722Z"
   },
   {
    "duration": 222,
    "start_time": "2022-12-10T21:32:25.963Z"
   },
   {
    "duration": 191,
    "start_time": "2022-12-10T21:32:37.861Z"
   },
   {
    "duration": 203,
    "start_time": "2022-12-10T21:32:55.820Z"
   },
   {
    "duration": 186,
    "start_time": "2022-12-10T21:33:15.982Z"
   },
   {
    "duration": 185,
    "start_time": "2022-12-10T21:33:23.651Z"
   },
   {
    "duration": 188,
    "start_time": "2022-12-10T21:33:28.141Z"
   },
   {
    "duration": 414,
    "start_time": "2022-12-10T21:33:37.663Z"
   },
   {
    "duration": 11,
    "start_time": "2022-12-10T21:38:08.570Z"
   },
   {
    "duration": 11,
    "start_time": "2022-12-10T21:38:11.294Z"
   },
   {
    "duration": 11,
    "start_time": "2022-12-10T21:41:00.751Z"
   },
   {
    "duration": 11,
    "start_time": "2022-12-10T21:41:08.051Z"
   },
   {
    "duration": 12,
    "start_time": "2022-12-10T21:44:18.209Z"
   },
   {
    "duration": 3,
    "start_time": "2022-12-10T21:44:21.717Z"
   },
   {
    "duration": 57,
    "start_time": "2022-12-10T21:44:21.727Z"
   },
   {
    "duration": 3,
    "start_time": "2022-12-10T21:44:21.786Z"
   },
   {
    "duration": 21,
    "start_time": "2022-12-10T21:44:21.790Z"
   },
   {
    "duration": 21,
    "start_time": "2022-12-10T21:44:21.813Z"
   },
   {
    "duration": 664,
    "start_time": "2022-12-10T21:44:21.836Z"
   },
   {
    "duration": 3,
    "start_time": "2022-12-10T21:44:22.502Z"
   },
   {
    "duration": 11,
    "start_time": "2022-12-10T21:44:22.506Z"
   },
   {
    "duration": 35,
    "start_time": "2022-12-10T21:44:22.518Z"
   },
   {
    "duration": 6,
    "start_time": "2022-12-10T21:44:22.554Z"
   },
   {
    "duration": 18,
    "start_time": "2022-12-10T21:44:22.562Z"
   },
   {
    "duration": 26,
    "start_time": "2022-12-10T21:44:22.581Z"
   },
   {
    "duration": 5,
    "start_time": "2022-12-10T21:44:22.609Z"
   },
   {
    "duration": 79,
    "start_time": "2022-12-10T21:44:22.615Z"
   },
   {
    "duration": 643,
    "start_time": "2022-12-10T21:44:22.696Z"
   },
   {
    "duration": 318,
    "start_time": "2022-12-10T21:44:23.351Z"
   },
   {
    "duration": 644,
    "start_time": "2022-12-10T21:44:23.671Z"
   },
   {
    "duration": 377,
    "start_time": "2022-12-10T21:44:24.317Z"
   },
   {
    "duration": 27,
    "start_time": "2022-12-10T21:44:24.695Z"
   },
   {
    "duration": 17,
    "start_time": "2022-12-10T21:44:24.737Z"
   },
   {
    "duration": 11,
    "start_time": "2022-12-10T21:47:20.197Z"
   },
   {
    "duration": 631,
    "start_time": "2022-12-10T21:49:37.664Z"
   },
   {
    "duration": 443,
    "start_time": "2022-12-10T21:50:02.749Z"
   },
   {
    "duration": 906,
    "start_time": "2022-12-10T21:51:39.190Z"
   },
   {
    "duration": 353,
    "start_time": "2022-12-10T21:52:59.607Z"
   },
   {
    "duration": 882,
    "start_time": "2022-12-10T21:55:01.242Z"
   },
   {
    "duration": 85,
    "start_time": "2022-12-10T21:55:18.895Z"
   },
   {
    "duration": 1054,
    "start_time": "2022-12-10T21:55:43.133Z"
   },
   {
    "duration": 980,
    "start_time": "2022-12-10T21:56:18.025Z"
   },
   {
    "duration": 460,
    "start_time": "2022-12-10T21:57:33.680Z"
   },
   {
    "duration": 455,
    "start_time": "2022-12-10T21:58:05.798Z"
   },
   {
    "duration": 344,
    "start_time": "2022-12-10T21:58:11.519Z"
   },
   {
    "duration": 459,
    "start_time": "2022-12-10T21:58:21.116Z"
   },
   {
    "duration": 213,
    "start_time": "2022-12-10T21:58:37.875Z"
   },
   {
    "duration": 211,
    "start_time": "2022-12-10T21:58:53.978Z"
   },
   {
    "duration": 395,
    "start_time": "2022-12-10T21:58:58.646Z"
   },
   {
    "duration": 422,
    "start_time": "2022-12-10T21:59:13.336Z"
   },
   {
    "duration": 433,
    "start_time": "2022-12-10T21:59:50.628Z"
   },
   {
    "duration": 18,
    "start_time": "2022-12-10T22:01:18.111Z"
   },
   {
    "duration": 150,
    "start_time": "2022-12-10T22:01:33.823Z"
   },
   {
    "duration": 209,
    "start_time": "2022-12-10T22:01:45.907Z"
   },
   {
    "duration": 220,
    "start_time": "2022-12-10T22:01:53.937Z"
   },
   {
    "duration": 279,
    "start_time": "2022-12-10T22:02:14.207Z"
   },
   {
    "duration": 237,
    "start_time": "2022-12-10T22:02:27.616Z"
   },
   {
    "duration": 274,
    "start_time": "2022-12-10T22:02:35.457Z"
   },
   {
    "duration": 252,
    "start_time": "2022-12-10T22:02:53.086Z"
   },
   {
    "duration": 273,
    "start_time": "2022-12-10T22:03:01.222Z"
   },
   {
    "duration": 258,
    "start_time": "2022-12-10T22:03:08.069Z"
   },
   {
    "duration": 269,
    "start_time": "2022-12-10T22:03:14.834Z"
   },
   {
    "duration": 272,
    "start_time": "2022-12-10T22:03:32.679Z"
   },
   {
    "duration": 269,
    "start_time": "2022-12-10T22:03:45.521Z"
   },
   {
    "duration": 260,
    "start_time": "2022-12-10T22:06:03.300Z"
   },
   {
    "duration": 73,
    "start_time": "2022-12-10T22:06:42.682Z"
   },
   {
    "duration": 77,
    "start_time": "2022-12-10T22:06:49.698Z"
   },
   {
    "duration": 211,
    "start_time": "2022-12-10T22:06:53.831Z"
   },
   {
    "duration": 206,
    "start_time": "2022-12-10T22:08:17.598Z"
   },
   {
    "duration": 527,
    "start_time": "2022-12-10T22:08:39.171Z"
   },
   {
    "duration": 205,
    "start_time": "2022-12-10T22:09:26.390Z"
   },
   {
    "duration": 3,
    "start_time": "2022-12-10T22:09:31.805Z"
   },
   {
    "duration": 75,
    "start_time": "2022-12-10T22:09:31.810Z"
   },
   {
    "duration": 3,
    "start_time": "2022-12-10T22:09:31.887Z"
   },
   {
    "duration": 26,
    "start_time": "2022-12-10T22:09:31.891Z"
   },
   {
    "duration": 35,
    "start_time": "2022-12-10T22:09:31.919Z"
   },
   {
    "duration": 662,
    "start_time": "2022-12-10T22:09:31.956Z"
   },
   {
    "duration": 4,
    "start_time": "2022-12-10T22:09:32.619Z"
   },
   {
    "duration": 10,
    "start_time": "2022-12-10T22:09:32.637Z"
   },
   {
    "duration": 35,
    "start_time": "2022-12-10T22:09:32.649Z"
   },
   {
    "duration": 7,
    "start_time": "2022-12-10T22:09:32.685Z"
   },
   {
    "duration": 24,
    "start_time": "2022-12-10T22:09:32.694Z"
   },
   {
    "duration": 26,
    "start_time": "2022-12-10T22:09:32.720Z"
   },
   {
    "duration": 5,
    "start_time": "2022-12-10T22:09:32.748Z"
   },
   {
    "duration": 45,
    "start_time": "2022-12-10T22:09:32.756Z"
   },
   {
    "duration": 649,
    "start_time": "2022-12-10T22:09:32.802Z"
   },
   {
    "duration": 318,
    "start_time": "2022-12-10T22:09:33.452Z"
   },
   {
    "duration": 625,
    "start_time": "2022-12-10T22:09:33.771Z"
   },
   {
    "duration": 364,
    "start_time": "2022-12-10T22:09:34.397Z"
   },
   {
    "duration": 30,
    "start_time": "2022-12-10T22:09:34.763Z"
   },
   {
    "duration": 225,
    "start_time": "2022-12-10T22:09:34.794Z"
   },
   {
    "duration": 282,
    "start_time": "2022-12-10T22:10:01.535Z"
   },
   {
    "duration": 260,
    "start_time": "2022-12-10T22:10:11.115Z"
   },
   {
    "duration": 267,
    "start_time": "2022-12-10T22:10:46.938Z"
   },
   {
    "duration": 265,
    "start_time": "2022-12-10T22:11:01.110Z"
   },
   {
    "duration": 2,
    "start_time": "2022-12-10T22:11:11.011Z"
   },
   {
    "duration": 81,
    "start_time": "2022-12-10T22:11:11.015Z"
   },
   {
    "duration": 3,
    "start_time": "2022-12-10T22:11:11.097Z"
   },
   {
    "duration": 37,
    "start_time": "2022-12-10T22:11:11.102Z"
   },
   {
    "duration": 30,
    "start_time": "2022-12-10T22:11:11.142Z"
   },
   {
    "duration": 988,
    "start_time": "2022-12-10T22:11:11.174Z"
   },
   {
    "duration": 4,
    "start_time": "2022-12-10T22:11:12.164Z"
   },
   {
    "duration": 19,
    "start_time": "2022-12-10T22:11:12.169Z"
   },
   {
    "duration": 36,
    "start_time": "2022-12-10T22:11:12.190Z"
   },
   {
    "duration": 25,
    "start_time": "2022-12-10T22:11:12.228Z"
   },
   {
    "duration": 28,
    "start_time": "2022-12-10T22:11:12.254Z"
   },
   {
    "duration": 32,
    "start_time": "2022-12-10T22:11:12.284Z"
   },
   {
    "duration": 7,
    "start_time": "2022-12-10T22:11:12.319Z"
   },
   {
    "duration": 53,
    "start_time": "2022-12-10T22:11:12.327Z"
   },
   {
    "duration": 605,
    "start_time": "2022-12-10T22:11:12.382Z"
   },
   {
    "duration": 329,
    "start_time": "2022-12-10T22:11:12.989Z"
   },
   {
    "duration": 607,
    "start_time": "2022-12-10T22:11:13.320Z"
   },
   {
    "duration": 390,
    "start_time": "2022-12-10T22:11:13.937Z"
   },
   {
    "duration": 26,
    "start_time": "2022-12-10T22:11:14.337Z"
   },
   {
    "duration": 272,
    "start_time": "2022-12-10T22:11:14.365Z"
   },
   {
    "duration": 280,
    "start_time": "2022-12-10T22:12:34.947Z"
   },
   {
    "duration": 270,
    "start_time": "2022-12-10T22:12:51.542Z"
   },
   {
    "duration": 254,
    "start_time": "2022-12-10T22:13:41.469Z"
   },
   {
    "duration": 273,
    "start_time": "2022-12-10T22:14:52.326Z"
   },
   {
    "duration": 285,
    "start_time": "2022-12-10T22:15:48.591Z"
   },
   {
    "duration": 247,
    "start_time": "2022-12-10T22:16:02.060Z"
   },
   {
    "duration": 4,
    "start_time": "2022-12-10T22:17:58.764Z"
   },
   {
    "duration": 6,
    "start_time": "2022-12-10T22:20:31.463Z"
   },
   {
    "duration": 6,
    "start_time": "2022-12-10T22:22:34.289Z"
   },
   {
    "duration": 1346,
    "start_time": "2022-12-10T23:04:46.697Z"
   },
   {
    "duration": 1743,
    "start_time": "2022-12-10T23:06:16.249Z"
   },
   {
    "duration": 3,
    "start_time": "2022-12-10T23:06:25.648Z"
   },
   {
    "duration": 55,
    "start_time": "2022-12-10T23:06:25.653Z"
   },
   {
    "duration": 3,
    "start_time": "2022-12-10T23:06:25.711Z"
   },
   {
    "duration": 28,
    "start_time": "2022-12-10T23:06:25.716Z"
   },
   {
    "duration": 17,
    "start_time": "2022-12-10T23:06:25.746Z"
   },
   {
    "duration": 677,
    "start_time": "2022-12-10T23:06:25.765Z"
   },
   {
    "duration": 3,
    "start_time": "2022-12-10T23:06:26.444Z"
   },
   {
    "duration": 18,
    "start_time": "2022-12-10T23:06:26.449Z"
   },
   {
    "duration": 25,
    "start_time": "2022-12-10T23:06:26.469Z"
   },
   {
    "duration": 6,
    "start_time": "2022-12-10T23:06:26.495Z"
   },
   {
    "duration": 18,
    "start_time": "2022-12-10T23:06:26.503Z"
   },
   {
    "duration": 38,
    "start_time": "2022-12-10T23:06:26.523Z"
   },
   {
    "duration": 5,
    "start_time": "2022-12-10T23:06:26.564Z"
   },
   {
    "duration": 45,
    "start_time": "2022-12-10T23:06:26.571Z"
   },
   {
    "duration": 664,
    "start_time": "2022-12-10T23:06:26.618Z"
   },
   {
    "duration": 325,
    "start_time": "2022-12-10T23:06:27.284Z"
   },
   {
    "duration": 618,
    "start_time": "2022-12-10T23:06:27.610Z"
   },
   {
    "duration": 367,
    "start_time": "2022-12-10T23:06:28.237Z"
   },
   {
    "duration": 39,
    "start_time": "2022-12-10T23:06:28.606Z"
   },
   {
    "duration": 305,
    "start_time": "2022-12-10T23:06:28.647Z"
   },
   {
    "duration": 6,
    "start_time": "2022-12-10T23:06:28.954Z"
   },
   {
    "duration": 1701,
    "start_time": "2022-12-10T23:06:28.962Z"
   },
   {
    "duration": 2207,
    "start_time": "2022-12-10T23:11:20.299Z"
   },
   {
    "duration": 2267,
    "start_time": "2022-12-10T23:11:52.150Z"
   },
   {
    "duration": 1310,
    "start_time": "2022-12-10T23:15:39.186Z"
   },
   {
    "duration": 1296,
    "start_time": "2022-12-10T23:17:12.648Z"
   },
   {
    "duration": 1901,
    "start_time": "2022-12-10T23:17:48.295Z"
   },
   {
    "duration": 1593,
    "start_time": "2022-12-10T23:21:23.339Z"
   },
   {
    "duration": 1615,
    "start_time": "2022-12-10T23:34:53.268Z"
   },
   {
    "duration": 1653,
    "start_time": "2022-12-10T23:35:25.121Z"
   },
   {
    "duration": 12,
    "start_time": "2022-12-10T23:43:48.010Z"
   },
   {
    "duration": 295,
    "start_time": "2022-12-10T23:45:48.204Z"
   },
   {
    "duration": 317,
    "start_time": "2022-12-10T23:46:07.929Z"
   },
   {
    "duration": 699,
    "start_time": "2022-12-10T23:46:14.029Z"
   },
   {
    "duration": 136,
    "start_time": "2022-12-10T23:48:10.971Z"
   },
   {
    "duration": 344,
    "start_time": "2022-12-10T23:56:02.941Z"
   },
   {
    "duration": 349,
    "start_time": "2022-12-10T23:58:24.595Z"
   },
   {
    "duration": 15,
    "start_time": "2022-12-10T23:58:58.151Z"
   },
   {
    "duration": 345,
    "start_time": "2022-12-10T23:59:16.453Z"
   },
   {
    "duration": 368,
    "start_time": "2022-12-11T00:19:04.646Z"
   },
   {
    "duration": 83,
    "start_time": "2022-12-11T09:22:20.942Z"
   },
   {
    "duration": 45,
    "start_time": "2022-12-11T09:22:38.849Z"
   },
   {
    "duration": 1387,
    "start_time": "2022-12-11T09:22:45.485Z"
   },
   {
    "duration": 111,
    "start_time": "2022-12-11T09:22:46.875Z"
   },
   {
    "duration": 4,
    "start_time": "2022-12-11T09:22:46.988Z"
   },
   {
    "duration": 25,
    "start_time": "2022-12-11T09:22:46.995Z"
   },
   {
    "duration": 17,
    "start_time": "2022-12-11T09:22:47.023Z"
   },
   {
    "duration": 672,
    "start_time": "2022-12-11T09:22:47.042Z"
   },
   {
    "duration": 4,
    "start_time": "2022-12-11T09:22:47.715Z"
   },
   {
    "duration": 7,
    "start_time": "2022-12-11T09:22:47.721Z"
   },
   {
    "duration": 40,
    "start_time": "2022-12-11T09:22:47.730Z"
   },
   {
    "duration": 5,
    "start_time": "2022-12-11T09:22:47.773Z"
   },
   {
    "duration": 22,
    "start_time": "2022-12-11T09:22:47.780Z"
   },
   {
    "duration": 31,
    "start_time": "2022-12-11T09:22:47.804Z"
   },
   {
    "duration": 22,
    "start_time": "2022-12-11T09:22:47.837Z"
   },
   {
    "duration": 46,
    "start_time": "2022-12-11T09:22:47.860Z"
   },
   {
    "duration": 656,
    "start_time": "2022-12-11T09:22:47.908Z"
   },
   {
    "duration": 394,
    "start_time": "2022-12-11T09:22:48.566Z"
   },
   {
    "duration": 681,
    "start_time": "2022-12-11T09:22:48.962Z"
   },
   {
    "duration": 345,
    "start_time": "2022-12-11T09:22:49.644Z"
   },
   {
    "duration": 26,
    "start_time": "2022-12-11T09:22:49.990Z"
   },
   {
    "duration": 290,
    "start_time": "2022-12-11T09:22:50.018Z"
   },
   {
    "duration": 6,
    "start_time": "2022-12-11T09:22:50.309Z"
   },
   {
    "duration": 1810,
    "start_time": "2022-12-11T09:22:50.317Z"
   },
   {
    "duration": 1766,
    "start_time": "2022-12-11T09:22:52.129Z"
   },
   {
    "duration": 430,
    "start_time": "2022-12-11T09:22:53.896Z"
   },
   {
    "duration": 422,
    "start_time": "2022-12-11T10:14:52.893Z"
   },
   {
    "duration": 1201,
    "start_time": "2022-12-11T10:29:55.920Z"
   },
   {
    "duration": 401,
    "start_time": "2022-12-11T10:39:45.323Z"
   },
   {
    "duration": 1186,
    "start_time": "2022-12-11T10:41:18.831Z"
   },
   {
    "duration": 1225,
    "start_time": "2022-12-11T10:41:53.491Z"
   },
   {
    "duration": 410,
    "start_time": "2022-12-11T10:43:03.781Z"
   },
   {
    "duration": 410,
    "start_time": "2022-12-11T10:43:27.214Z"
   },
   {
    "duration": 296,
    "start_time": "2022-12-11T10:43:38.895Z"
   },
   {
    "duration": 390,
    "start_time": "2022-12-11T10:43:52.537Z"
   },
   {
    "duration": 304,
    "start_time": "2022-12-11T10:44:04.170Z"
   },
   {
    "duration": 325,
    "start_time": "2022-12-11T10:44:17.810Z"
   },
   {
    "duration": 366,
    "start_time": "2022-12-11T10:49:14.806Z"
   },
   {
    "duration": 306,
    "start_time": "2022-12-11T10:49:37.695Z"
   },
   {
    "duration": 428,
    "start_time": "2022-12-11T10:49:51.017Z"
   },
   {
    "duration": 316,
    "start_time": "2022-12-11T10:49:55.281Z"
   },
   {
    "duration": 412,
    "start_time": "2022-12-11T10:50:02.023Z"
   },
   {
    "duration": 301,
    "start_time": "2022-12-11T10:50:10.968Z"
   },
   {
    "duration": 329,
    "start_time": "2022-12-11T10:50:19.970Z"
   },
   {
    "duration": 336,
    "start_time": "2022-12-11T10:50:33.114Z"
   },
   {
    "duration": 153,
    "start_time": "2022-12-11T10:50:42.146Z"
   },
   {
    "duration": 45,
    "start_time": "2022-12-11T10:50:51.272Z"
   },
   {
    "duration": 334,
    "start_time": "2022-12-11T10:50:57.648Z"
   },
   {
    "duration": 353,
    "start_time": "2022-12-11T10:51:03.439Z"
   },
   {
    "duration": 328,
    "start_time": "2022-12-11T10:51:11.762Z"
   },
   {
    "duration": 352,
    "start_time": "2022-12-11T10:51:20.789Z"
   },
   {
    "duration": 376,
    "start_time": "2022-12-11T10:51:26.143Z"
   },
   {
    "duration": 421,
    "start_time": "2022-12-11T10:51:32.861Z"
   },
   {
    "duration": 316,
    "start_time": "2022-12-11T10:51:39.745Z"
   },
   {
    "duration": 403,
    "start_time": "2022-12-11T10:51:44.340Z"
   },
   {
    "duration": 328,
    "start_time": "2022-12-11T10:51:49.173Z"
   },
   {
    "duration": 313,
    "start_time": "2022-12-11T10:52:11.755Z"
   },
   {
    "duration": 368,
    "start_time": "2022-12-11T10:52:20.594Z"
   },
   {
    "duration": 432,
    "start_time": "2022-12-11T10:52:35.094Z"
   },
   {
    "duration": 436,
    "start_time": "2022-12-11T10:53:43.499Z"
   },
   {
    "duration": 395,
    "start_time": "2022-12-11T10:55:10.647Z"
   },
   {
    "duration": 353,
    "start_time": "2022-12-11T11:02:59.547Z"
   },
   {
    "duration": 362,
    "start_time": "2022-12-11T11:03:14.920Z"
   },
   {
    "duration": 50,
    "start_time": "2022-12-11T11:03:32.072Z"
   },
   {
    "duration": 516,
    "start_time": "2022-12-11T11:03:42.798Z"
   },
   {
    "duration": 1137,
    "start_time": "2022-12-11T11:04:29.827Z"
   },
   {
    "duration": 412,
    "start_time": "2022-12-11T11:04:53.971Z"
   },
   {
    "duration": 503,
    "start_time": "2022-12-11T11:07:13.040Z"
   },
   {
    "duration": 1352,
    "start_time": "2022-12-11T11:07:41.279Z"
   },
   {
    "duration": 489,
    "start_time": "2022-12-11T11:07:58.481Z"
   },
   {
    "duration": 139,
    "start_time": "2022-12-11T11:18:08.488Z"
   },
   {
    "duration": 55,
    "start_time": "2022-12-11T11:19:06.440Z"
   },
   {
    "duration": 12,
    "start_time": "2022-12-11T11:19:18.529Z"
   },
   {
    "duration": 60,
    "start_time": "2022-12-11T11:23:32.880Z"
   },
   {
    "duration": 51,
    "start_time": "2022-12-11T11:23:50.594Z"
   },
   {
    "duration": 13,
    "start_time": "2022-12-11T11:24:14.279Z"
   },
   {
    "duration": 13,
    "start_time": "2022-12-11T11:24:37.385Z"
   },
   {
    "duration": 12,
    "start_time": "2022-12-11T11:25:08.882Z"
   },
   {
    "duration": 51,
    "start_time": "2022-12-11T11:25:19.470Z"
   },
   {
    "duration": 15,
    "start_time": "2022-12-11T11:27:23.705Z"
   },
   {
    "duration": 14,
    "start_time": "2022-12-11T11:28:52.005Z"
   },
   {
    "duration": 16,
    "start_time": "2022-12-11T11:29:26.057Z"
   },
   {
    "duration": 17,
    "start_time": "2022-12-11T11:29:36.498Z"
   },
   {
    "duration": 18,
    "start_time": "2022-12-11T11:30:01.370Z"
   },
   {
    "duration": 27,
    "start_time": "2022-12-11T11:31:44.818Z"
   },
   {
    "duration": 16,
    "start_time": "2022-12-11T11:32:04.164Z"
   },
   {
    "duration": 985,
    "start_time": "2022-12-11T11:33:26.070Z"
   },
   {
    "duration": 15,
    "start_time": "2022-12-11T11:37:56.741Z"
   },
   {
    "duration": 1067,
    "start_time": "2022-12-11T11:38:19.468Z"
   },
   {
    "duration": 504,
    "start_time": "2022-12-11T11:38:57.684Z"
   },
   {
    "duration": 481,
    "start_time": "2022-12-11T11:39:34.976Z"
   },
   {
    "duration": 501,
    "start_time": "2022-12-11T11:39:43.188Z"
   },
   {
    "duration": 681,
    "start_time": "2022-12-11T11:41:58.980Z"
   },
   {
    "duration": 797,
    "start_time": "2022-12-11T11:42:42.890Z"
   },
   {
    "duration": 618,
    "start_time": "2022-12-11T11:55:36.125Z"
   },
   {
    "duration": 695,
    "start_time": "2022-12-11T12:06:30.933Z"
   },
   {
    "duration": 674,
    "start_time": "2022-12-11T12:06:47.324Z"
   },
   {
    "duration": 1238,
    "start_time": "2022-12-11T12:13:29.524Z"
   },
   {
    "duration": 777,
    "start_time": "2022-12-11T12:13:40.493Z"
   },
   {
    "duration": 2,
    "start_time": "2022-12-11T12:23:47.946Z"
   },
   {
    "duration": 566,
    "start_time": "2022-12-11T12:26:38.043Z"
   },
   {
    "duration": 299,
    "start_time": "2022-12-11T12:27:16.006Z"
   },
   {
    "duration": 311,
    "start_time": "2022-12-11T12:28:24.440Z"
   },
   {
    "duration": 289,
    "start_time": "2022-12-11T12:30:42.302Z"
   },
   {
    "duration": 52,
    "start_time": "2022-12-11T12:37:01.849Z"
   },
   {
    "duration": 333,
    "start_time": "2022-12-11T12:45:04.527Z"
   },
   {
    "duration": 430,
    "start_time": "2022-12-11T12:58:41.255Z"
   },
   {
    "duration": 296,
    "start_time": "2022-12-11T13:03:36.820Z"
   },
   {
    "duration": 719,
    "start_time": "2022-12-11T13:08:22.387Z"
   },
   {
    "duration": 312,
    "start_time": "2022-12-11T13:09:04.858Z"
   },
   {
    "duration": 315,
    "start_time": "2022-12-11T13:09:46.327Z"
   },
   {
    "duration": 305,
    "start_time": "2022-12-11T13:10:28.438Z"
   },
   {
    "duration": 724,
    "start_time": "2022-12-11T13:11:43.694Z"
   },
   {
    "duration": 414,
    "start_time": "2022-12-11T13:14:09.690Z"
   },
   {
    "duration": 363,
    "start_time": "2022-12-11T13:17:52.052Z"
   },
   {
    "duration": 309,
    "start_time": "2022-12-11T13:29:43.507Z"
   },
   {
    "duration": 281,
    "start_time": "2022-12-11T13:30:06.181Z"
   },
   {
    "duration": 5,
    "start_time": "2022-12-11T13:46:41.385Z"
   },
   {
    "duration": 552,
    "start_time": "2022-12-11T13:47:14.147Z"
   },
   {
    "duration": 585,
    "start_time": "2022-12-11T13:53:04.573Z"
   },
   {
    "duration": 526,
    "start_time": "2022-12-11T13:54:22.911Z"
   },
   {
    "duration": 534,
    "start_time": "2022-12-11T13:55:03.605Z"
   },
   {
    "duration": 625,
    "start_time": "2022-12-11T14:05:04.164Z"
   },
   {
    "duration": 574,
    "start_time": "2022-12-11T14:06:40.685Z"
   },
   {
    "duration": 576,
    "start_time": "2022-12-11T14:07:35.599Z"
   },
   {
    "duration": 640,
    "start_time": "2022-12-11T14:07:52.927Z"
   },
   {
    "duration": 935,
    "start_time": "2022-12-11T14:08:53.955Z"
   },
   {
    "duration": 572,
    "start_time": "2022-12-11T14:09:08.633Z"
   },
   {
    "duration": 348,
    "start_time": "2022-12-11T14:11:58.489Z"
   },
   {
    "duration": 923,
    "start_time": "2022-12-11T14:13:52.274Z"
   },
   {
    "duration": 462,
    "start_time": "2022-12-11T14:14:55.116Z"
   },
   {
    "duration": 457,
    "start_time": "2022-12-11T14:24:58.499Z"
   },
   {
    "duration": 545,
    "start_time": "2022-12-11T14:25:12.361Z"
   },
   {
    "duration": 455,
    "start_time": "2022-12-11T14:25:39.916Z"
   },
   {
    "duration": 448,
    "start_time": "2022-12-11T14:26:02.030Z"
   },
   {
    "duration": 414,
    "start_time": "2022-12-11T14:26:11.966Z"
   },
   {
    "duration": 3,
    "start_time": "2022-12-11T14:33:42.823Z"
   },
   {
    "duration": 3,
    "start_time": "2022-12-11T14:34:08.303Z"
   },
   {
    "duration": 10,
    "start_time": "2022-12-11T14:59:03.032Z"
   },
   {
    "duration": 3,
    "start_time": "2022-12-11T14:59:43.594Z"
   },
   {
    "duration": 3,
    "start_time": "2022-12-11T14:59:52.767Z"
   },
   {
    "duration": 53,
    "start_time": "2022-12-11T14:59:52.772Z"
   },
   {
    "duration": 3,
    "start_time": "2022-12-11T14:59:52.827Z"
   },
   {
    "duration": 30,
    "start_time": "2022-12-11T14:59:52.832Z"
   },
   {
    "duration": 17,
    "start_time": "2022-12-11T14:59:52.865Z"
   },
   {
    "duration": 751,
    "start_time": "2022-12-11T14:59:52.884Z"
   },
   {
    "duration": 4,
    "start_time": "2022-12-11T14:59:53.637Z"
   },
   {
    "duration": 14,
    "start_time": "2022-12-11T14:59:53.643Z"
   },
   {
    "duration": 25,
    "start_time": "2022-12-11T14:59:53.659Z"
   },
   {
    "duration": 6,
    "start_time": "2022-12-11T14:59:53.687Z"
   },
   {
    "duration": 36,
    "start_time": "2022-12-11T14:59:53.695Z"
   },
   {
    "duration": 38,
    "start_time": "2022-12-11T14:59:53.733Z"
   },
   {
    "duration": 5,
    "start_time": "2022-12-11T14:59:53.773Z"
   },
   {
    "duration": 40,
    "start_time": "2022-12-11T14:59:53.780Z"
   },
   {
    "duration": 637,
    "start_time": "2022-12-11T14:59:53.821Z"
   },
   {
    "duration": 379,
    "start_time": "2022-12-11T14:59:54.460Z"
   },
   {
    "duration": 588,
    "start_time": "2022-12-11T14:59:54.841Z"
   },
   {
    "duration": 458,
    "start_time": "2022-12-11T14:59:55.431Z"
   },
   {
    "duration": 23,
    "start_time": "2022-12-11T14:59:55.890Z"
   },
   {
    "duration": 265,
    "start_time": "2022-12-11T14:59:55.915Z"
   },
   {
    "duration": 6,
    "start_time": "2022-12-11T14:59:56.182Z"
   },
   {
    "duration": 1567,
    "start_time": "2022-12-11T14:59:56.190Z"
   },
   {
    "duration": 1733,
    "start_time": "2022-12-11T14:59:57.759Z"
   },
   {
    "duration": 393,
    "start_time": "2022-12-11T14:59:59.494Z"
   },
   {
    "duration": 393,
    "start_time": "2022-12-11T14:59:59.889Z"
   },
   {
    "duration": 365,
    "start_time": "2022-12-11T15:00:00.283Z"
   },
   {
    "duration": 477,
    "start_time": "2022-12-11T15:00:00.655Z"
   },
   {
    "duration": 8,
    "start_time": "2022-12-11T15:00:01.134Z"
   },
   {
    "duration": 9,
    "start_time": "2022-12-11T15:13:33.097Z"
   },
   {
    "duration": 56,
    "start_time": "2022-12-11T15:51:04.443Z"
   },
   {
    "duration": 11,
    "start_time": "2022-12-11T16:03:37.963Z"
   },
   {
    "duration": 49,
    "start_time": "2022-12-11T16:09:07.955Z"
   },
   {
    "duration": 59,
    "start_time": "2022-12-11T16:44:25.143Z"
   },
   {
    "duration": 5,
    "start_time": "2022-12-11T17:40:04.572Z"
   },
   {
    "duration": 66,
    "start_time": "2022-12-11T17:40:04.584Z"
   },
   {
    "duration": 3,
    "start_time": "2022-12-11T17:40:04.653Z"
   },
   {
    "duration": 39,
    "start_time": "2022-12-11T17:40:04.659Z"
   },
   {
    "duration": 45,
    "start_time": "2022-12-11T17:40:04.701Z"
   },
   {
    "duration": 727,
    "start_time": "2022-12-11T17:40:04.750Z"
   },
   {
    "duration": 4,
    "start_time": "2022-12-11T17:40:05.479Z"
   },
   {
    "duration": 28,
    "start_time": "2022-12-11T17:40:05.484Z"
   },
   {
    "duration": 41,
    "start_time": "2022-12-11T17:40:05.514Z"
   },
   {
    "duration": 6,
    "start_time": "2022-12-11T17:40:05.558Z"
   },
   {
    "duration": 17,
    "start_time": "2022-12-11T17:40:05.566Z"
   },
   {
    "duration": 25,
    "start_time": "2022-12-11T17:40:05.585Z"
   },
   {
    "duration": 5,
    "start_time": "2022-12-11T17:40:05.612Z"
   },
   {
    "duration": 81,
    "start_time": "2022-12-11T17:40:05.619Z"
   },
   {
    "duration": 726,
    "start_time": "2022-12-11T17:40:05.703Z"
   },
   {
    "duration": 343,
    "start_time": "2022-12-11T17:40:06.431Z"
   },
   {
    "duration": 607,
    "start_time": "2022-12-11T17:40:06.775Z"
   },
   {
    "duration": 378,
    "start_time": "2022-12-11T17:40:07.383Z"
   },
   {
    "duration": 26,
    "start_time": "2022-12-11T17:40:07.763Z"
   },
   {
    "duration": 301,
    "start_time": "2022-12-11T17:40:07.792Z"
   },
   {
    "duration": 8,
    "start_time": "2022-12-11T17:40:08.095Z"
   },
   {
    "duration": 1836,
    "start_time": "2022-12-11T17:40:08.105Z"
   },
   {
    "duration": 1820,
    "start_time": "2022-12-11T17:40:09.955Z"
   },
   {
    "duration": 413,
    "start_time": "2022-12-11T17:40:11.777Z"
   },
   {
    "duration": 342,
    "start_time": "2022-12-11T17:40:12.192Z"
   },
   {
    "duration": 424,
    "start_time": "2022-12-11T17:40:12.535Z"
   },
   {
    "duration": 562,
    "start_time": "2022-12-11T17:40:12.962Z"
   },
   {
    "duration": 9,
    "start_time": "2022-12-11T17:40:13.526Z"
   },
   {
    "duration": 22,
    "start_time": "2022-12-11T17:40:13.537Z"
   },
   {
    "duration": 1240,
    "start_time": "2022-12-11T18:19:07.414Z"
   },
   {
    "duration": 119,
    "start_time": "2022-12-11T18:19:08.656Z"
   },
   {
    "duration": 3,
    "start_time": "2022-12-11T18:19:08.777Z"
   },
   {
    "duration": 25,
    "start_time": "2022-12-11T18:19:08.783Z"
   },
   {
    "duration": 16,
    "start_time": "2022-12-11T18:19:08.810Z"
   },
   {
    "duration": 729,
    "start_time": "2022-12-11T18:19:08.828Z"
   },
   {
    "duration": 4,
    "start_time": "2022-12-11T18:19:09.560Z"
   },
   {
    "duration": 16,
    "start_time": "2022-12-11T18:19:09.565Z"
   },
   {
    "duration": 22,
    "start_time": "2022-12-11T18:19:09.583Z"
   },
   {
    "duration": 5,
    "start_time": "2022-12-11T18:19:09.609Z"
   },
   {
    "duration": 18,
    "start_time": "2022-12-11T18:19:09.616Z"
   },
   {
    "duration": 60,
    "start_time": "2022-12-11T18:19:09.635Z"
   },
   {
    "duration": 5,
    "start_time": "2022-12-11T18:19:09.696Z"
   },
   {
    "duration": 53,
    "start_time": "2022-12-11T18:19:09.703Z"
   },
   {
    "duration": 692,
    "start_time": "2022-12-11T18:19:09.758Z"
   },
   {
    "duration": 450,
    "start_time": "2022-12-11T18:19:10.452Z"
   },
   {
    "duration": 643,
    "start_time": "2022-12-11T18:19:10.904Z"
   },
   {
    "duration": 413,
    "start_time": "2022-12-11T18:19:11.549Z"
   },
   {
    "duration": 22,
    "start_time": "2022-12-11T18:19:11.964Z"
   },
   {
    "duration": 37,
    "start_time": "2022-12-11T18:19:11.988Z"
   },
   {
    "duration": 298,
    "start_time": "2022-12-11T18:19:12.027Z"
   },
   {
    "duration": 6,
    "start_time": "2022-12-11T18:19:12.327Z"
   },
   {
    "duration": 1791,
    "start_time": "2022-12-11T18:19:12.335Z"
   },
   {
    "duration": 1881,
    "start_time": "2022-12-11T18:19:14.128Z"
   },
   {
    "duration": 410,
    "start_time": "2022-12-11T18:19:16.012Z"
   },
   {
    "duration": 316,
    "start_time": "2022-12-11T18:19:16.424Z"
   },
   {
    "duration": 373,
    "start_time": "2022-12-11T18:19:16.742Z"
   },
   {
    "duration": 615,
    "start_time": "2022-12-11T18:19:17.119Z"
   },
   {
    "duration": 10,
    "start_time": "2022-12-11T18:19:17.736Z"
   },
   {
    "duration": 12,
    "start_time": "2022-12-11T18:19:17.748Z"
   },
   {
    "duration": 55,
    "start_time": "2022-12-11T21:08:01.889Z"
   },
   {
    "duration": 1428,
    "start_time": "2022-12-11T21:08:07.290Z"
   },
   {
    "duration": 204,
    "start_time": "2022-12-11T21:08:08.720Z"
   },
   {
    "duration": 4,
    "start_time": "2022-12-11T21:08:08.926Z"
   },
   {
    "duration": 25,
    "start_time": "2022-12-11T21:08:08.931Z"
   },
   {
    "duration": 20,
    "start_time": "2022-12-11T21:08:08.958Z"
   },
   {
    "duration": 796,
    "start_time": "2022-12-11T21:08:08.980Z"
   },
   {
    "duration": 4,
    "start_time": "2022-12-11T21:08:09.778Z"
   },
   {
    "duration": 15,
    "start_time": "2022-12-11T21:08:09.784Z"
   },
   {
    "duration": 49,
    "start_time": "2022-12-11T21:08:09.802Z"
   },
   {
    "duration": 7,
    "start_time": "2022-12-11T21:08:09.853Z"
   },
   {
    "duration": 29,
    "start_time": "2022-12-11T21:08:09.862Z"
   },
   {
    "duration": 64,
    "start_time": "2022-12-11T21:08:09.893Z"
   },
   {
    "duration": 6,
    "start_time": "2022-12-11T21:08:09.959Z"
   },
   {
    "duration": 56,
    "start_time": "2022-12-11T21:08:09.970Z"
   },
   {
    "duration": 724,
    "start_time": "2022-12-11T21:08:10.028Z"
   },
   {
    "duration": 432,
    "start_time": "2022-12-11T21:08:10.754Z"
   },
   {
    "duration": 653,
    "start_time": "2022-12-11T21:08:11.188Z"
   },
   {
    "duration": 377,
    "start_time": "2022-12-11T21:08:11.842Z"
   },
   {
    "duration": 39,
    "start_time": "2022-12-11T21:08:12.221Z"
   },
   {
    "duration": 304,
    "start_time": "2022-12-11T21:08:12.262Z"
   },
   {
    "duration": 6,
    "start_time": "2022-12-11T21:08:12.568Z"
   },
   {
    "duration": 1653,
    "start_time": "2022-12-11T21:08:12.575Z"
   },
   {
    "duration": 1611,
    "start_time": "2022-12-11T21:08:14.230Z"
   },
   {
    "duration": 445,
    "start_time": "2022-12-11T21:08:15.843Z"
   },
   {
    "duration": 331,
    "start_time": "2022-12-11T21:08:16.290Z"
   },
   {
    "duration": 357,
    "start_time": "2022-12-11T21:08:16.623Z"
   },
   {
    "duration": 457,
    "start_time": "2022-12-11T21:08:16.982Z"
   },
   {
    "duration": 13,
    "start_time": "2022-12-11T21:08:17.440Z"
   },
   {
    "duration": 11,
    "start_time": "2022-12-11T21:08:17.455Z"
   },
   {
    "duration": 102,
    "start_time": "2022-12-11T21:09:49.786Z"
   },
   {
    "duration": 450,
    "start_time": "2022-12-11T21:12:31.806Z"
   },
   {
    "duration": 358,
    "start_time": "2022-12-11T21:14:15.757Z"
   },
   {
    "duration": 364,
    "start_time": "2022-12-11T21:14:56.100Z"
   },
   {
    "duration": 1655,
    "start_time": "2022-12-11T21:26:15.658Z"
   },
   {
    "duration": 1708,
    "start_time": "2022-12-11T21:26:28.873Z"
   },
   {
    "duration": 157,
    "start_time": "2022-12-11T21:26:42.051Z"
   },
   {
    "duration": 1525,
    "start_time": "2022-12-11T21:26:55.012Z"
   },
   {
    "duration": 460,
    "start_time": "2022-12-11T21:33:04.542Z"
   },
   {
    "duration": 527,
    "start_time": "2022-12-11T21:33:32.649Z"
   },
   {
    "duration": 28,
    "start_time": "2022-12-11T21:40:44.601Z"
   },
   {
    "duration": 31,
    "start_time": "2022-12-11T21:41:13.618Z"
   },
   {
    "duration": 401,
    "start_time": "2022-12-11T21:41:28.070Z"
   },
   {
    "duration": 424,
    "start_time": "2022-12-11T21:42:10.383Z"
   },
   {
    "duration": 401,
    "start_time": "2022-12-11T21:42:22.693Z"
   },
   {
    "duration": 418,
    "start_time": "2022-12-11T21:42:51.001Z"
   },
   {
    "duration": 722,
    "start_time": "2022-12-11T21:56:59.093Z"
   },
   {
    "duration": 364,
    "start_time": "2022-12-11T22:10:32.489Z"
   },
   {
    "duration": 366,
    "start_time": "2022-12-11T22:10:47.751Z"
   },
   {
    "duration": 9,
    "start_time": "2022-12-12T19:38:22.994Z"
   },
   {
    "duration": 50,
    "start_time": "2022-12-12T19:38:31.319Z"
   },
   {
    "duration": 1186,
    "start_time": "2022-12-12T19:38:35.746Z"
   },
   {
    "duration": 112,
    "start_time": "2022-12-12T19:38:36.934Z"
   },
   {
    "duration": 2,
    "start_time": "2022-12-12T19:38:37.048Z"
   },
   {
    "duration": 34,
    "start_time": "2022-12-12T19:38:37.052Z"
   },
   {
    "duration": 22,
    "start_time": "2022-12-12T19:38:37.088Z"
   },
   {
    "duration": 589,
    "start_time": "2022-12-12T19:38:37.111Z"
   },
   {
    "duration": 3,
    "start_time": "2022-12-12T19:38:37.702Z"
   },
   {
    "duration": 7,
    "start_time": "2022-12-12T19:38:37.707Z"
   },
   {
    "duration": 20,
    "start_time": "2022-12-12T19:38:37.716Z"
   },
   {
    "duration": 5,
    "start_time": "2022-12-12T19:38:37.739Z"
   },
   {
    "duration": 18,
    "start_time": "2022-12-12T19:38:37.746Z"
   },
   {
    "duration": 54,
    "start_time": "2022-12-12T19:38:37.766Z"
   },
   {
    "duration": 5,
    "start_time": "2022-12-12T19:38:37.822Z"
   },
   {
    "duration": 38,
    "start_time": "2022-12-12T19:38:37.828Z"
   },
   {
    "duration": 561,
    "start_time": "2022-12-12T19:38:37.868Z"
   },
   {
    "duration": 352,
    "start_time": "2022-12-12T19:38:38.431Z"
   },
   {
    "duration": 590,
    "start_time": "2022-12-12T19:38:38.784Z"
   },
   {
    "duration": 298,
    "start_time": "2022-12-12T19:38:39.375Z"
   },
   {
    "duration": 31,
    "start_time": "2022-12-12T19:38:39.674Z"
   },
   {
    "duration": 237,
    "start_time": "2022-12-12T19:38:39.707Z"
   },
   {
    "duration": 5,
    "start_time": "2022-12-12T19:38:39.946Z"
   },
   {
    "duration": 1375,
    "start_time": "2022-12-12T19:38:39.953Z"
   },
   {
    "duration": 1341,
    "start_time": "2022-12-12T19:38:41.330Z"
   },
   {
    "duration": 358,
    "start_time": "2022-12-12T19:38:42.672Z"
   },
   {
    "duration": 255,
    "start_time": "2022-12-12T19:38:43.032Z"
   },
   {
    "duration": 309,
    "start_time": "2022-12-12T19:38:43.288Z"
   },
   {
    "duration": 387,
    "start_time": "2022-12-12T19:38:43.599Z"
   },
   {
    "duration": 9,
    "start_time": "2022-12-12T19:38:43.996Z"
   },
   {
    "duration": 11,
    "start_time": "2022-12-12T19:38:44.006Z"
   },
   {
    "duration": 67,
    "start_time": "2022-12-12T19:42:33.091Z"
   },
   {
    "duration": 24,
    "start_time": "2022-12-12T19:42:39.705Z"
   },
   {
    "duration": 351,
    "start_time": "2022-12-12T19:53:20.312Z"
   },
   {
    "duration": 255,
    "start_time": "2022-12-12T19:53:36.551Z"
   },
   {
    "duration": 257,
    "start_time": "2022-12-12T19:53:43.252Z"
   },
   {
    "duration": 271,
    "start_time": "2022-12-12T19:53:56.520Z"
   },
   {
    "duration": 278,
    "start_time": "2022-12-12T19:54:07.992Z"
   },
   {
    "duration": 287,
    "start_time": "2022-12-12T19:55:55.678Z"
   },
   {
    "duration": 354,
    "start_time": "2022-12-12T20:02:08.223Z"
   },
   {
    "duration": 281,
    "start_time": "2022-12-12T20:09:44.264Z"
   },
   {
    "duration": 265,
    "start_time": "2022-12-12T20:10:42.127Z"
   },
   {
    "duration": 276,
    "start_time": "2022-12-12T20:12:19.375Z"
   },
   {
    "duration": 5,
    "start_time": "2022-12-12T20:33:46.486Z"
   },
   {
    "duration": 7,
    "start_time": "2022-12-12T20:34:14.899Z"
   },
   {
    "duration": 8,
    "start_time": "2022-12-12T20:34:35.417Z"
   },
   {
    "duration": 12,
    "start_time": "2022-12-12T20:35:08.382Z"
   },
   {
    "duration": 13,
    "start_time": "2022-12-12T20:35:23.654Z"
   },
   {
    "duration": 10,
    "start_time": "2022-12-12T20:46:33.415Z"
   },
   {
    "duration": 12,
    "start_time": "2022-12-12T20:48:22.843Z"
   },
   {
    "duration": 13,
    "start_time": "2022-12-12T21:35:23.961Z"
   },
   {
    "duration": 11,
    "start_time": "2022-12-12T21:35:49.596Z"
   },
   {
    "duration": 3,
    "start_time": "2022-12-12T21:36:02.722Z"
   },
   {
    "duration": 53,
    "start_time": "2022-12-12T21:36:02.726Z"
   },
   {
    "duration": 2,
    "start_time": "2022-12-12T21:36:02.781Z"
   },
   {
    "duration": 18,
    "start_time": "2022-12-12T21:36:02.784Z"
   },
   {
    "duration": 16,
    "start_time": "2022-12-12T21:36:02.804Z"
   },
   {
    "duration": 578,
    "start_time": "2022-12-12T21:36:02.821Z"
   },
   {
    "duration": 3,
    "start_time": "2022-12-12T21:36:03.401Z"
   },
   {
    "duration": 34,
    "start_time": "2022-12-12T21:36:03.406Z"
   },
   {
    "duration": 36,
    "start_time": "2022-12-12T21:36:03.442Z"
   },
   {
    "duration": 27,
    "start_time": "2022-12-12T21:36:03.479Z"
   },
   {
    "duration": 42,
    "start_time": "2022-12-12T21:36:03.507Z"
   },
   {
    "duration": 50,
    "start_time": "2022-12-12T21:36:03.550Z"
   },
   {
    "duration": 24,
    "start_time": "2022-12-12T21:36:03.601Z"
   },
   {
    "duration": 60,
    "start_time": "2022-12-12T21:36:03.628Z"
   },
   {
    "duration": 644,
    "start_time": "2022-12-12T21:36:03.690Z"
   },
   {
    "duration": 279,
    "start_time": "2022-12-12T21:36:04.336Z"
   },
   {
    "duration": 556,
    "start_time": "2022-12-12T21:36:04.616Z"
   },
   {
    "duration": 299,
    "start_time": "2022-12-12T21:36:05.174Z"
   },
   {
    "duration": 34,
    "start_time": "2022-12-12T21:36:05.474Z"
   },
   {
    "duration": 248,
    "start_time": "2022-12-12T21:36:05.509Z"
   },
   {
    "duration": 4,
    "start_time": "2022-12-12T21:36:05.758Z"
   },
   {
    "duration": 1305,
    "start_time": "2022-12-12T21:36:05.764Z"
   },
   {
    "duration": 1291,
    "start_time": "2022-12-12T21:36:07.071Z"
   },
   {
    "duration": 346,
    "start_time": "2022-12-12T21:36:08.364Z"
   },
   {
    "duration": 260,
    "start_time": "2022-12-12T21:36:08.711Z"
   },
   {
    "duration": 361,
    "start_time": "2022-12-12T21:36:08.972Z"
   },
   {
    "duration": 366,
    "start_time": "2022-12-12T21:36:09.334Z"
   },
   {
    "duration": 12,
    "start_time": "2022-12-12T21:36:09.702Z"
   },
   {
    "duration": 10,
    "start_time": "2022-12-12T21:36:09.716Z"
   },
   {
    "duration": 57,
    "start_time": "2023-08-17T13:53:32.814Z"
   },
   {
    "duration": 15,
    "start_time": "2023-08-17T13:54:01.860Z"
   },
   {
    "duration": 1486,
    "start_time": "2023-08-17T13:56:39.679Z"
   },
   {
    "duration": 226,
    "start_time": "2023-08-17T13:56:41.173Z"
   },
   {
    "duration": 4,
    "start_time": "2023-08-17T13:56:41.406Z"
   },
   {
    "duration": 32,
    "start_time": "2023-08-17T13:56:41.411Z"
   },
   {
    "duration": 21,
    "start_time": "2023-08-17T13:56:41.446Z"
   },
   {
    "duration": 816,
    "start_time": "2023-08-17T13:56:41.472Z"
   },
   {
    "duration": 6,
    "start_time": "2023-08-17T13:56:42.290Z"
   },
   {
    "duration": 12,
    "start_time": "2023-08-17T13:56:42.298Z"
   },
   {
    "duration": 57,
    "start_time": "2023-08-17T13:56:42.312Z"
   },
   {
    "duration": 9,
    "start_time": "2023-08-17T13:56:42.374Z"
   },
   {
    "duration": 24,
    "start_time": "2023-08-17T13:56:42.385Z"
   },
   {
    "duration": 62,
    "start_time": "2023-08-17T13:56:42.412Z"
   },
   {
    "duration": 8,
    "start_time": "2023-08-17T13:56:42.478Z"
   },
   {
    "duration": 73,
    "start_time": "2023-08-17T13:56:42.490Z"
   },
   {
    "duration": 990,
    "start_time": "2023-08-17T13:56:42.572Z"
   },
   {
    "duration": 663,
    "start_time": "2023-08-17T13:56:43.564Z"
   },
   {
    "duration": 934,
    "start_time": "2023-08-17T13:56:44.231Z"
   },
   {
    "duration": 557,
    "start_time": "2023-08-17T13:56:45.167Z"
   },
   {
    "duration": 57,
    "start_time": "2023-08-17T13:56:45.726Z"
   },
   {
    "duration": 324,
    "start_time": "2023-08-17T13:56:45.788Z"
   },
   {
    "duration": 8,
    "start_time": "2023-08-17T13:56:46.114Z"
   },
   {
    "duration": 1892,
    "start_time": "2023-08-17T13:56:46.124Z"
   },
   {
    "duration": 1936,
    "start_time": "2023-08-17T13:56:48.018Z"
   },
   {
    "duration": 488,
    "start_time": "2023-08-17T13:56:49.959Z"
   },
   {
    "duration": 362,
    "start_time": "2023-08-17T13:56:50.450Z"
   },
   {
    "duration": 404,
    "start_time": "2023-08-17T13:56:50.814Z"
   },
   {
    "duration": 534,
    "start_time": "2023-08-17T13:56:51.221Z"
   },
   {
    "duration": 23,
    "start_time": "2023-08-17T13:56:51.756Z"
   },
   {
    "duration": 18,
    "start_time": "2023-08-17T13:56:51.780Z"
   }
  ],
  "kernelspec": {
   "display_name": "Python 3 (ipykernel)",
   "language": "python",
   "name": "python3"
  },
  "language_info": {
   "codemirror_mode": {
    "name": "ipython",
    "version": 3
   },
   "file_extension": ".py",
   "mimetype": "text/x-python",
   "name": "python",
   "nbconvert_exporter": "python",
   "pygments_lexer": "ipython3",
   "version": "3.11.3"
  },
  "toc": {
   "base_numbering": 1,
   "nav_menu": {},
   "number_sections": true,
   "sideBar": true,
   "skip_h1_title": true,
   "title_cell": "Table of Contents",
   "title_sidebar": "Contents",
   "toc_cell": true,
   "toc_position": {
    "height": "calc(100% - 180px)",
    "left": "10px",
    "top": "150px",
    "width": "440.278px"
   },
   "toc_section_display": true,
   "toc_window_display": true
  }
 },
 "nbformat": 4,
 "nbformat_minor": 2
}
