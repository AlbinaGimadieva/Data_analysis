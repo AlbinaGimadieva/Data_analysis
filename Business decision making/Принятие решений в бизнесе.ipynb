{
 "cells": [
  {
   "cell_type": "markdown",
   "metadata": {
    "toc": true
   },
   "source": [
    "<h1>Содержание<span class=\"tocSkip\"></span></h1>\n",
    "<div class=\"toc\"><ul class=\"toc-item\"><li><span><a href=\"#Проектная-работа-&quot;Принятие-решений-в-бизнесе&quot;\" data-toc-modified-id=\"Проектная-работа-&quot;Принятие-решений-в-бизнесе&quot;-1\">Проектная работа \"Принятие решений в бизнесе\"</a></span><ul class=\"toc-item\"><li><ul class=\"toc-item\"><li><span><a href=\"#Библиотеки-и-датасеты\" data-toc-modified-id=\"Библиотеки-и-датасеты-1.0.1\">Библиотеки и датасеты</a></span></li><li><span><a href=\"#Предобработка-данных\" data-toc-modified-id=\"Предобработка-данных-1.0.2\">Предобработка данных</a></span></li><li><span><a href=\"#Приоритизация-гипотез\" data-toc-modified-id=\"Приоритизация-гипотез-1.0.3\">Приоритизация гипотез</a></span></li><li><span><a href=\"#Анализ-A/B-теста\" data-toc-modified-id=\"Анализ-A/B-теста-1.0.4\">Анализ A/B-теста</a></span><ul class=\"toc-item\"><li><span><a href=\"#График-кумулятивной-выручки-по-группам\" data-toc-modified-id=\"График-кумулятивной-выручки-по-группам-1.0.4.1\">График кумулятивной выручки по группам</a></span></li><li><span><a href=\"#График-кумулятивного-среднего-чека-по-группам\" data-toc-modified-id=\"График-кумулятивного-среднего-чека-по-группам-1.0.4.2\">График кумулятивного среднего чека по группам</a></span></li><li><span><a href=\"#График-относительного-изменения-кумулятивного-среднего-чека-группы-B-к-группе-A\" data-toc-modified-id=\"График-относительного-изменения-кумулятивного-среднего-чека-группы-B-к-группе-A-1.0.4.3\">График относительного изменения кумулятивного среднего чека группы B к группе A</a></span></li><li><span><a href=\"#График-кумулятивной-конверсии-(среднего-количества-заказов-на-посетителя)\" data-toc-modified-id=\"График-кумулятивной-конверсии-(среднего-количества-заказов-на-посетителя)-1.0.4.4\">График кумулятивной конверсии (среднего количества заказов на посетителя)</a></span></li><li><span><a href=\"#График-относительного-изменения-кумулятивной-конверсии-группы-B-к-группе-A\" data-toc-modified-id=\"График-относительного-изменения-кумулятивной-конверсии-группы-B-к-группе-A-1.0.4.5\">График относительного изменения кумулятивной конверсии группы B к группе A</a></span></li><li><span><a href=\"#График-количества-заказов-по-пользователям\" data-toc-modified-id=\"График-количества-заказов-по-пользователям-1.0.4.6\">График количества заказов по пользователям</a></span></li><li><span><a href=\"#График-стоимостей-заказов\" data-toc-modified-id=\"График-стоимостей-заказов-1.0.4.7\">График стоимостей заказов</a></span></li><li><span><a href=\"#Статистическая-значимость-различий-между-группами-по-&quot;неочищенным&quot;-данным\" data-toc-modified-id=\"Статистическая-значимость-различий-между-группами-по-&quot;неочищенным&quot;-данным-1.0.4.8\">Статистическая значимость различий между группами по \"неочищенным\" данным</a></span></li><li><span><a href=\"#Статистическая-значимость-различий-между-группами-по-&quot;очищенным&quot;-данным\" data-toc-modified-id=\"Статистическая-значимость-различий-между-группами-по-&quot;очищенным&quot;-данным-1.0.4.9\">Статистическая значимость различий между группами по \"очищенным\" данным</a></span></li><li><span><a href=\"#Выводы-по-разделу\" data-toc-modified-id=\"Выводы-по-разделу-1.0.4.10\">Выводы по разделу</a></span></li></ul></li><li><span><a href=\"#Выводы-по-проекту\" data-toc-modified-id=\"Выводы-по-проекту-1.0.5\">Выводы по проекту</a></span></li></ul></li></ul></li></ul></div>"
   ]
  },
  {
   "cell_type": "markdown",
   "metadata": {},
   "source": [
    "# Проектная работа \"Принятие решений в бизнесе\""
   ]
  },
  {
   "cell_type": "markdown",
   "metadata": {},
   "source": [
    "**Описание проекта**\n",
    "\n",
    "Мы — аналитики крупного интернет-магазина. Вместе с отделом маркетинга мы подготовили список гипотез для увеличения выручки.\n",
    "Нам необходимо приоритизировать гипотезы, запустить A/B-тест и проанализировать результаты. \n",
    "\n",
    "**Цель работы:** приоритизация гипотез, проведения А/В-теста и анализ результатов с целью увеличения выручки \n",
    "\n",
    "**План работы:** \n",
    "1. приоритизировать гипотезы с применением ICE и RICE\n",
    "2. провести А/В-тест\n",
    "3. построить графики, в т.ч. по среднему чеку и количеству заказов\n",
    "4. посчитать статистическую значимость\n",
    "5. оценить влияние аномалий\n",
    "6. сформулировать выводы"
   ]
  },
  {
   "cell_type": "markdown",
   "metadata": {},
   "source": [
    "### Библиотеки и датасеты"
   ]
  },
  {
   "cell_type": "code",
   "execution_count": 29,
   "metadata": {},
   "outputs": [],
   "source": [
    "# загрузим библиотеки\n",
    "import pandas as pd\n",
    "import numpy as np\n",
    "import matplotlib.pyplot as plt\n",
    "import seaborn as sns\n",
    "import math as mth\n",
    "import datetime as dt\n",
    "import warnings\n",
    "import scipy.stats as stats\n",
    "from pandas.plotting import register_matplotlib_converters"
   ]
  },
  {
   "cell_type": "code",
   "execution_count": 30,
   "metadata": {},
   "outputs": [],
   "source": [
    "# загрузим датафреймы\n",
    "hypothesis = pd.read_csv('/datasets/hypothesis.csv', sep=',')\n",
    "orders = pd.read_csv('/datasets/orders.csv', sep=',')\n",
    "visitors = pd.read_csv('/datasets/visitors.csv', sep=',')"
   ]
  },
  {
   "cell_type": "markdown",
   "metadata": {},
   "source": [
    "### Предобработка данных"
   ]
  },
  {
   "cell_type": "code",
   "execution_count": 31,
   "metadata": {},
   "outputs": [],
   "source": [
    "# приведем названия столбцов к нижнему регистру\n",
    "datas = [hypothesis, orders, visitors] \n",
    "\n",
    "for a in datas:\n",
    "    a.columns = [x.lower().replace(' ', '_') for x in a.columns.values]\n",
    "    \n",
    "pd.set_option('max_colwidth', 120)   "
   ]
  },
  {
   "cell_type": "code",
   "execution_count": 32,
   "metadata": {},
   "outputs": [
    {
     "data": {
      "text/html": [
       "<div>\n",
       "<style scoped>\n",
       "    .dataframe tbody tr th:only-of-type {\n",
       "        vertical-align: middle;\n",
       "    }\n",
       "\n",
       "    .dataframe tbody tr th {\n",
       "        vertical-align: top;\n",
       "    }\n",
       "\n",
       "    .dataframe thead th {\n",
       "        text-align: right;\n",
       "    }\n",
       "</style>\n",
       "<table border=\"1\" class=\"dataframe\">\n",
       "  <thead>\n",
       "    <tr style=\"text-align: right;\">\n",
       "      <th></th>\n",
       "      <th>hypothesis</th>\n",
       "      <th>reach</th>\n",
       "      <th>impact</th>\n",
       "      <th>confidence</th>\n",
       "      <th>efforts</th>\n",
       "    </tr>\n",
       "  </thead>\n",
       "  <tbody>\n",
       "    <tr>\n",
       "      <th>0</th>\n",
       "      <td>Добавить два новых канала привлечения трафика, что позволит привлекать на 30% больше пользователей</td>\n",
       "      <td>3</td>\n",
       "      <td>10</td>\n",
       "      <td>8</td>\n",
       "      <td>6</td>\n",
       "    </tr>\n",
       "    <tr>\n",
       "      <th>1</th>\n",
       "      <td>Запустить собственную службу доставки, что сократит срок доставки заказов</td>\n",
       "      <td>2</td>\n",
       "      <td>5</td>\n",
       "      <td>4</td>\n",
       "      <td>10</td>\n",
       "    </tr>\n",
       "    <tr>\n",
       "      <th>2</th>\n",
       "      <td>Добавить блоки рекомендаций товаров на сайт интернет магазина, чтобы повысить конверсию и средний чек заказа</td>\n",
       "      <td>8</td>\n",
       "      <td>3</td>\n",
       "      <td>7</td>\n",
       "      <td>3</td>\n",
       "    </tr>\n",
       "    <tr>\n",
       "      <th>3</th>\n",
       "      <td>Изменить структура категорий, что увеличит конверсию, т.к. пользователи быстрее найдут нужный товар</td>\n",
       "      <td>8</td>\n",
       "      <td>3</td>\n",
       "      <td>3</td>\n",
       "      <td>8</td>\n",
       "    </tr>\n",
       "    <tr>\n",
       "      <th>4</th>\n",
       "      <td>Изменить цвет фона главной страницы, чтобы увеличить вовлеченность пользователей</td>\n",
       "      <td>3</td>\n",
       "      <td>1</td>\n",
       "      <td>1</td>\n",
       "      <td>1</td>\n",
       "    </tr>\n",
       "    <tr>\n",
       "      <th>5</th>\n",
       "      <td>Добавить страницу отзывов клиентов о магазине, что позволит увеличить количество заказов</td>\n",
       "      <td>3</td>\n",
       "      <td>2</td>\n",
       "      <td>2</td>\n",
       "      <td>3</td>\n",
       "    </tr>\n",
       "    <tr>\n",
       "      <th>6</th>\n",
       "      <td>Показать на главной странице баннеры с актуальными акциями и распродажами, чтобы увеличить конверсию</td>\n",
       "      <td>5</td>\n",
       "      <td>3</td>\n",
       "      <td>8</td>\n",
       "      <td>3</td>\n",
       "    </tr>\n",
       "    <tr>\n",
       "      <th>7</th>\n",
       "      <td>Добавить форму подписки на все основные страницы, чтобы собрать базу клиентов для email-рассылок</td>\n",
       "      <td>10</td>\n",
       "      <td>7</td>\n",
       "      <td>8</td>\n",
       "      <td>5</td>\n",
       "    </tr>\n",
       "    <tr>\n",
       "      <th>8</th>\n",
       "      <td>Запустить акцию, дающую скидку на товар в день рождения</td>\n",
       "      <td>1</td>\n",
       "      <td>9</td>\n",
       "      <td>9</td>\n",
       "      <td>5</td>\n",
       "    </tr>\n",
       "  </tbody>\n",
       "</table>\n",
       "</div>"
      ],
      "text/plain": [
       "                                                                                                     hypothesis  \\\n",
       "0            Добавить два новых канала привлечения трафика, что позволит привлекать на 30% больше пользователей   \n",
       "1                                     Запустить собственную службу доставки, что сократит срок доставки заказов   \n",
       "2  Добавить блоки рекомендаций товаров на сайт интернет магазина, чтобы повысить конверсию и средний чек заказа   \n",
       "3           Изменить структура категорий, что увеличит конверсию, т.к. пользователи быстрее найдут нужный товар   \n",
       "4                              Изменить цвет фона главной страницы, чтобы увеличить вовлеченность пользователей   \n",
       "5                      Добавить страницу отзывов клиентов о магазине, что позволит увеличить количество заказов   \n",
       "6          Показать на главной странице баннеры с актуальными акциями и распродажами, чтобы увеличить конверсию   \n",
       "7              Добавить форму подписки на все основные страницы, чтобы собрать базу клиентов для email-рассылок   \n",
       "8                                                       Запустить акцию, дающую скидку на товар в день рождения   \n",
       "\n",
       "   reach  impact  confidence  efforts  \n",
       "0      3      10           8        6  \n",
       "1      2       5           4       10  \n",
       "2      8       3           7        3  \n",
       "3      8       3           3        8  \n",
       "4      3       1           1        1  \n",
       "5      3       2           2        3  \n",
       "6      5       3           8        3  \n",
       "7     10       7           8        5  \n",
       "8      1       9           9        5  "
      ]
     },
     "metadata": {},
     "output_type": "display_data"
    },
    {
     "name": "stdout",
     "output_type": "stream",
     "text": [
      "<class 'pandas.core.frame.DataFrame'>\n",
      "RangeIndex: 9 entries, 0 to 8\n",
      "Data columns (total 5 columns):\n",
      " #   Column      Non-Null Count  Dtype \n",
      "---  ------      --------------  ----- \n",
      " 0   hypothesis  9 non-null      object\n",
      " 1   reach       9 non-null      int64 \n",
      " 2   impact      9 non-null      int64 \n",
      " 3   confidence  9 non-null      int64 \n",
      " 4   efforts     9 non-null      int64 \n",
      "dtypes: int64(4), object(1)\n",
      "memory usage: 488.0+ bytes\n",
      "None\n",
      "0\n"
     ]
    },
    {
     "data": {
      "text/html": [
       "<div>\n",
       "<style scoped>\n",
       "    .dataframe tbody tr th:only-of-type {\n",
       "        vertical-align: middle;\n",
       "    }\n",
       "\n",
       "    .dataframe tbody tr th {\n",
       "        vertical-align: top;\n",
       "    }\n",
       "\n",
       "    .dataframe thead th {\n",
       "        text-align: right;\n",
       "    }\n",
       "</style>\n",
       "<table border=\"1\" class=\"dataframe\">\n",
       "  <thead>\n",
       "    <tr style=\"text-align: right;\">\n",
       "      <th></th>\n",
       "      <th>transactionid</th>\n",
       "      <th>visitorid</th>\n",
       "      <th>date</th>\n",
       "      <th>revenue</th>\n",
       "      <th>group</th>\n",
       "    </tr>\n",
       "  </thead>\n",
       "  <tbody>\n",
       "    <tr>\n",
       "      <th>0</th>\n",
       "      <td>3667963787</td>\n",
       "      <td>3312258926</td>\n",
       "      <td>2019-08-15</td>\n",
       "      <td>1650</td>\n",
       "      <td>B</td>\n",
       "    </tr>\n",
       "    <tr>\n",
       "      <th>1</th>\n",
       "      <td>2804400009</td>\n",
       "      <td>3642806036</td>\n",
       "      <td>2019-08-15</td>\n",
       "      <td>730</td>\n",
       "      <td>B</td>\n",
       "    </tr>\n",
       "    <tr>\n",
       "      <th>2</th>\n",
       "      <td>2961555356</td>\n",
       "      <td>4069496402</td>\n",
       "      <td>2019-08-15</td>\n",
       "      <td>400</td>\n",
       "      <td>A</td>\n",
       "    </tr>\n",
       "    <tr>\n",
       "      <th>3</th>\n",
       "      <td>3797467345</td>\n",
       "      <td>1196621759</td>\n",
       "      <td>2019-08-15</td>\n",
       "      <td>9759</td>\n",
       "      <td>B</td>\n",
       "    </tr>\n",
       "    <tr>\n",
       "      <th>4</th>\n",
       "      <td>2282983706</td>\n",
       "      <td>2322279887</td>\n",
       "      <td>2019-08-15</td>\n",
       "      <td>2308</td>\n",
       "      <td>B</td>\n",
       "    </tr>\n",
       "    <tr>\n",
       "      <th>5</th>\n",
       "      <td>182168103</td>\n",
       "      <td>935554773</td>\n",
       "      <td>2019-08-15</td>\n",
       "      <td>2210</td>\n",
       "      <td>B</td>\n",
       "    </tr>\n",
       "    <tr>\n",
       "      <th>6</th>\n",
       "      <td>398296753</td>\n",
       "      <td>2900797465</td>\n",
       "      <td>2019-08-15</td>\n",
       "      <td>1860</td>\n",
       "      <td>B</td>\n",
       "    </tr>\n",
       "    <tr>\n",
       "      <th>7</th>\n",
       "      <td>2626614568</td>\n",
       "      <td>78758296</td>\n",
       "      <td>2019-08-15</td>\n",
       "      <td>1044</td>\n",
       "      <td>A</td>\n",
       "    </tr>\n",
       "    <tr>\n",
       "      <th>8</th>\n",
       "      <td>1576988021</td>\n",
       "      <td>295230930</td>\n",
       "      <td>2019-08-15</td>\n",
       "      <td>13710</td>\n",
       "      <td>A</td>\n",
       "    </tr>\n",
       "    <tr>\n",
       "      <th>9</th>\n",
       "      <td>1506739906</td>\n",
       "      <td>1882260405</td>\n",
       "      <td>2019-08-15</td>\n",
       "      <td>1855</td>\n",
       "      <td>B</td>\n",
       "    </tr>\n",
       "  </tbody>\n",
       "</table>\n",
       "</div>"
      ],
      "text/plain": [
       "   transactionid   visitorid        date  revenue group\n",
       "0     3667963787  3312258926  2019-08-15     1650     B\n",
       "1     2804400009  3642806036  2019-08-15      730     B\n",
       "2     2961555356  4069496402  2019-08-15      400     A\n",
       "3     3797467345  1196621759  2019-08-15     9759     B\n",
       "4     2282983706  2322279887  2019-08-15     2308     B\n",
       "5      182168103   935554773  2019-08-15     2210     B\n",
       "6      398296753  2900797465  2019-08-15     1860     B\n",
       "7     2626614568    78758296  2019-08-15     1044     A\n",
       "8     1576988021   295230930  2019-08-15    13710     A\n",
       "9     1506739906  1882260405  2019-08-15     1855     B"
      ]
     },
     "metadata": {},
     "output_type": "display_data"
    },
    {
     "name": "stdout",
     "output_type": "stream",
     "text": [
      "<class 'pandas.core.frame.DataFrame'>\n",
      "RangeIndex: 1197 entries, 0 to 1196\n",
      "Data columns (total 5 columns):\n",
      " #   Column         Non-Null Count  Dtype \n",
      "---  ------         --------------  ----- \n",
      " 0   transactionid  1197 non-null   int64 \n",
      " 1   visitorid      1197 non-null   int64 \n",
      " 2   date           1197 non-null   object\n",
      " 3   revenue        1197 non-null   int64 \n",
      " 4   group          1197 non-null   object\n",
      "dtypes: int64(3), object(2)\n",
      "memory usage: 46.9+ KB\n",
      "None\n",
      "0\n"
     ]
    },
    {
     "data": {
      "text/html": [
       "<div>\n",
       "<style scoped>\n",
       "    .dataframe tbody tr th:only-of-type {\n",
       "        vertical-align: middle;\n",
       "    }\n",
       "\n",
       "    .dataframe tbody tr th {\n",
       "        vertical-align: top;\n",
       "    }\n",
       "\n",
       "    .dataframe thead th {\n",
       "        text-align: right;\n",
       "    }\n",
       "</style>\n",
       "<table border=\"1\" class=\"dataframe\">\n",
       "  <thead>\n",
       "    <tr style=\"text-align: right;\">\n",
       "      <th></th>\n",
       "      <th>date</th>\n",
       "      <th>group</th>\n",
       "      <th>visitors</th>\n",
       "    </tr>\n",
       "  </thead>\n",
       "  <tbody>\n",
       "    <tr>\n",
       "      <th>0</th>\n",
       "      <td>2019-08-01</td>\n",
       "      <td>A</td>\n",
       "      <td>719</td>\n",
       "    </tr>\n",
       "    <tr>\n",
       "      <th>1</th>\n",
       "      <td>2019-08-02</td>\n",
       "      <td>A</td>\n",
       "      <td>619</td>\n",
       "    </tr>\n",
       "    <tr>\n",
       "      <th>2</th>\n",
       "      <td>2019-08-03</td>\n",
       "      <td>A</td>\n",
       "      <td>507</td>\n",
       "    </tr>\n",
       "    <tr>\n",
       "      <th>3</th>\n",
       "      <td>2019-08-04</td>\n",
       "      <td>A</td>\n",
       "      <td>717</td>\n",
       "    </tr>\n",
       "    <tr>\n",
       "      <th>4</th>\n",
       "      <td>2019-08-05</td>\n",
       "      <td>A</td>\n",
       "      <td>756</td>\n",
       "    </tr>\n",
       "    <tr>\n",
       "      <th>5</th>\n",
       "      <td>2019-08-06</td>\n",
       "      <td>A</td>\n",
       "      <td>667</td>\n",
       "    </tr>\n",
       "    <tr>\n",
       "      <th>6</th>\n",
       "      <td>2019-08-07</td>\n",
       "      <td>A</td>\n",
       "      <td>644</td>\n",
       "    </tr>\n",
       "    <tr>\n",
       "      <th>7</th>\n",
       "      <td>2019-08-08</td>\n",
       "      <td>A</td>\n",
       "      <td>610</td>\n",
       "    </tr>\n",
       "    <tr>\n",
       "      <th>8</th>\n",
       "      <td>2019-08-09</td>\n",
       "      <td>A</td>\n",
       "      <td>617</td>\n",
       "    </tr>\n",
       "    <tr>\n",
       "      <th>9</th>\n",
       "      <td>2019-08-10</td>\n",
       "      <td>A</td>\n",
       "      <td>406</td>\n",
       "    </tr>\n",
       "  </tbody>\n",
       "</table>\n",
       "</div>"
      ],
      "text/plain": [
       "         date group  visitors\n",
       "0  2019-08-01     A       719\n",
       "1  2019-08-02     A       619\n",
       "2  2019-08-03     A       507\n",
       "3  2019-08-04     A       717\n",
       "4  2019-08-05     A       756\n",
       "5  2019-08-06     A       667\n",
       "6  2019-08-07     A       644\n",
       "7  2019-08-08     A       610\n",
       "8  2019-08-09     A       617\n",
       "9  2019-08-10     A       406"
      ]
     },
     "metadata": {},
     "output_type": "display_data"
    },
    {
     "name": "stdout",
     "output_type": "stream",
     "text": [
      "<class 'pandas.core.frame.DataFrame'>\n",
      "RangeIndex: 62 entries, 0 to 61\n",
      "Data columns (total 3 columns):\n",
      " #   Column    Non-Null Count  Dtype \n",
      "---  ------    --------------  ----- \n",
      " 0   date      62 non-null     object\n",
      " 1   group     62 non-null     object\n",
      " 2   visitors  62 non-null     int64 \n",
      "dtypes: int64(1), object(2)\n",
      "memory usage: 1.6+ KB\n",
      "None\n",
      "0\n"
     ]
    }
   ],
   "source": [
    "# выведем таблицы и информацию о данных\n",
    "datas = [hypothesis, orders, visitors] \n",
    "\n",
    "for a in datas:\n",
    "    display(a.head(10))\n",
    "    print(a.info())\n",
    "    print(a.duplicated().sum())"
   ]
  },
  {
   "cell_type": "markdown",
   "metadata": {},
   "source": [
    "Мы обнаружили, что тип данных в столбцах date в таблицах orders и visitors - object, необходимо привести к типу даты."
   ]
  },
  {
   "cell_type": "code",
   "execution_count": 33,
   "metadata": {},
   "outputs": [],
   "source": [
    "# приведем столбцы date к типу datetime\n",
    "orders['date'] = orders['date'].map(\n",
    "    lambda x: dt.datetime.strptime(x, '%Y-%m-%d')\n",
    ")\n",
    "\n",
    "visitors['date'] = visitors['date'].map(\n",
    "    lambda x: dt.datetime.strptime(x, '%Y-%m-%d')\n",
    ")"
   ]
  },
  {
   "cell_type": "code",
   "execution_count": 34,
   "metadata": {},
   "outputs": [
    {
     "name": "stdout",
     "output_type": "stream",
     "text": [
      "       transactionid  visitorid  date  revenue\n",
      "group                                         \n",
      "A                557        557   557      557\n",
      "B                640        640   640      640\n",
      "       date  visitors\n",
      "group                \n",
      "A        31        31\n",
      "B        31        31\n"
     ]
    }
   ],
   "source": [
    "# проверим неявные дубликаты в столбцах с группами\n",
    "print(orders.groupby('group').count())\n",
    "print(visitors.groupby('group').count())"
   ]
  },
  {
   "cell_type": "markdown",
   "metadata": {},
   "source": [
    "**Выводы:**\n",
    "* пропусков и дубликатов в данных не выявлено;\n",
    "* названия столбцов приведены к формату snake_case;\n",
    "* скорретирован тип данных в столбцах date - приведен к формату даты."
   ]
  },
  {
   "cell_type": "markdown",
   "metadata": {},
   "source": [
    "### Приоритизация гипотез"
   ]
  },
  {
   "cell_type": "markdown",
   "metadata": {},
   "source": [
    "Приоритизируем гипотезы для оптимизации расходов на эксперименты и запуска тестирования наиболее перспективных идей с применением фреймворков ICE и RICE. Мы исходим из шкалы ранжирования, где 1-минимальная оценка показателя (минимальный охват пользователей, трудозатрат для тестирования гипотезы и т.д.), 10-максимальная (максимальное влияние изменений на пользователей, максимальная уверенность в оценке параметров)."
   ]
  },
  {
   "cell_type": "code",
   "execution_count": 35,
   "metadata": {},
   "outputs": [
    {
     "data": {
      "text/html": [
       "<div>\n",
       "<style scoped>\n",
       "    .dataframe tbody tr th:only-of-type {\n",
       "        vertical-align: middle;\n",
       "    }\n",
       "\n",
       "    .dataframe tbody tr th {\n",
       "        vertical-align: top;\n",
       "    }\n",
       "\n",
       "    .dataframe thead th {\n",
       "        text-align: right;\n",
       "    }\n",
       "</style>\n",
       "<table border=\"1\" class=\"dataframe\">\n",
       "  <thead>\n",
       "    <tr style=\"text-align: right;\">\n",
       "      <th></th>\n",
       "      <th>hypothesis</th>\n",
       "      <th>reach</th>\n",
       "      <th>impact</th>\n",
       "      <th>confidence</th>\n",
       "      <th>efforts</th>\n",
       "      <th>ice</th>\n",
       "    </tr>\n",
       "  </thead>\n",
       "  <tbody>\n",
       "    <tr>\n",
       "      <th>8</th>\n",
       "      <td>Запустить акцию, дающую скидку на товар в день рождения</td>\n",
       "      <td>1</td>\n",
       "      <td>9</td>\n",
       "      <td>9</td>\n",
       "      <td>5</td>\n",
       "      <td>16.20</td>\n",
       "    </tr>\n",
       "    <tr>\n",
       "      <th>0</th>\n",
       "      <td>Добавить два новых канала привлечения трафика, что позволит привлекать на 30% больше пользователей</td>\n",
       "      <td>3</td>\n",
       "      <td>10</td>\n",
       "      <td>8</td>\n",
       "      <td>6</td>\n",
       "      <td>13.33</td>\n",
       "    </tr>\n",
       "    <tr>\n",
       "      <th>7</th>\n",
       "      <td>Добавить форму подписки на все основные страницы, чтобы собрать базу клиентов для email-рассылок</td>\n",
       "      <td>10</td>\n",
       "      <td>7</td>\n",
       "      <td>8</td>\n",
       "      <td>5</td>\n",
       "      <td>11.20</td>\n",
       "    </tr>\n",
       "    <tr>\n",
       "      <th>6</th>\n",
       "      <td>Показать на главной странице баннеры с актуальными акциями и распродажами, чтобы увеличить конверсию</td>\n",
       "      <td>5</td>\n",
       "      <td>3</td>\n",
       "      <td>8</td>\n",
       "      <td>3</td>\n",
       "      <td>8.00</td>\n",
       "    </tr>\n",
       "    <tr>\n",
       "      <th>2</th>\n",
       "      <td>Добавить блоки рекомендаций товаров на сайт интернет магазина, чтобы повысить конверсию и средний чек заказа</td>\n",
       "      <td>8</td>\n",
       "      <td>3</td>\n",
       "      <td>7</td>\n",
       "      <td>3</td>\n",
       "      <td>7.00</td>\n",
       "    </tr>\n",
       "    <tr>\n",
       "      <th>1</th>\n",
       "      <td>Запустить собственную службу доставки, что сократит срок доставки заказов</td>\n",
       "      <td>2</td>\n",
       "      <td>5</td>\n",
       "      <td>4</td>\n",
       "      <td>10</td>\n",
       "      <td>2.00</td>\n",
       "    </tr>\n",
       "    <tr>\n",
       "      <th>5</th>\n",
       "      <td>Добавить страницу отзывов клиентов о магазине, что позволит увеличить количество заказов</td>\n",
       "      <td>3</td>\n",
       "      <td>2</td>\n",
       "      <td>2</td>\n",
       "      <td>3</td>\n",
       "      <td>1.33</td>\n",
       "    </tr>\n",
       "    <tr>\n",
       "      <th>3</th>\n",
       "      <td>Изменить структура категорий, что увеличит конверсию, т.к. пользователи быстрее найдут нужный товар</td>\n",
       "      <td>8</td>\n",
       "      <td>3</td>\n",
       "      <td>3</td>\n",
       "      <td>8</td>\n",
       "      <td>1.12</td>\n",
       "    </tr>\n",
       "    <tr>\n",
       "      <th>4</th>\n",
       "      <td>Изменить цвет фона главной страницы, чтобы увеличить вовлеченность пользователей</td>\n",
       "      <td>3</td>\n",
       "      <td>1</td>\n",
       "      <td>1</td>\n",
       "      <td>1</td>\n",
       "      <td>1.00</td>\n",
       "    </tr>\n",
       "  </tbody>\n",
       "</table>\n",
       "</div>"
      ],
      "text/plain": [
       "                                                                                                     hypothesis  \\\n",
       "8                                                       Запустить акцию, дающую скидку на товар в день рождения   \n",
       "0            Добавить два новых канала привлечения трафика, что позволит привлекать на 30% больше пользователей   \n",
       "7              Добавить форму подписки на все основные страницы, чтобы собрать базу клиентов для email-рассылок   \n",
       "6          Показать на главной странице баннеры с актуальными акциями и распродажами, чтобы увеличить конверсию   \n",
       "2  Добавить блоки рекомендаций товаров на сайт интернет магазина, чтобы повысить конверсию и средний чек заказа   \n",
       "1                                     Запустить собственную службу доставки, что сократит срок доставки заказов   \n",
       "5                      Добавить страницу отзывов клиентов о магазине, что позволит увеличить количество заказов   \n",
       "3           Изменить структура категорий, что увеличит конверсию, т.к. пользователи быстрее найдут нужный товар   \n",
       "4                              Изменить цвет фона главной страницы, чтобы увеличить вовлеченность пользователей   \n",
       "\n",
       "   reach  impact  confidence  efforts    ice  \n",
       "8      1       9           9        5  16.20  \n",
       "0      3      10           8        6  13.33  \n",
       "7     10       7           8        5  11.20  \n",
       "6      5       3           8        3   8.00  \n",
       "2      8       3           7        3   7.00  \n",
       "1      2       5           4       10   2.00  \n",
       "5      3       2           2        3   1.33  \n",
       "3      8       3           3        8   1.12  \n",
       "4      3       1           1        1   1.00  "
      ]
     },
     "metadata": {},
     "output_type": "display_data"
    }
   ],
   "source": [
    "# посчитаем ICE для гипотез и выведем обновленную таблицу\n",
    "hypothesis['ice'] = round(hypothesis['impact']*hypothesis['confidence']/hypothesis['efforts'], 2)\n",
    "display(hypothesis.sort_values(by='ice', ascending=False))"
   ]
  },
  {
   "cell_type": "markdown",
   "metadata": {},
   "source": [
    "В случае с ICE наиболее перспективная гипотеза 8 - акции со скидкой в день рождения, на последнем месте - изменения цветового фона главной страницы для роста вовлеченности пользователей. "
   ]
  },
  {
   "cell_type": "code",
   "execution_count": 36,
   "metadata": {},
   "outputs": [
    {
     "data": {
      "text/html": [
       "<div>\n",
       "<style scoped>\n",
       "    .dataframe tbody tr th:only-of-type {\n",
       "        vertical-align: middle;\n",
       "    }\n",
       "\n",
       "    .dataframe tbody tr th {\n",
       "        vertical-align: top;\n",
       "    }\n",
       "\n",
       "    .dataframe thead th {\n",
       "        text-align: right;\n",
       "    }\n",
       "</style>\n",
       "<table border=\"1\" class=\"dataframe\">\n",
       "  <thead>\n",
       "    <tr style=\"text-align: right;\">\n",
       "      <th></th>\n",
       "      <th>hypothesis</th>\n",
       "      <th>reach</th>\n",
       "      <th>impact</th>\n",
       "      <th>confidence</th>\n",
       "      <th>efforts</th>\n",
       "      <th>ice</th>\n",
       "      <th>rice</th>\n",
       "    </tr>\n",
       "  </thead>\n",
       "  <tbody>\n",
       "    <tr>\n",
       "      <th>7</th>\n",
       "      <td>Добавить форму подписки на все основные страницы, чтобы собрать базу клиентов для email-рассылок</td>\n",
       "      <td>10</td>\n",
       "      <td>7</td>\n",
       "      <td>8</td>\n",
       "      <td>5</td>\n",
       "      <td>11.20</td>\n",
       "      <td>112.0</td>\n",
       "    </tr>\n",
       "    <tr>\n",
       "      <th>2</th>\n",
       "      <td>Добавить блоки рекомендаций товаров на сайт интернет магазина, чтобы повысить конверсию и средний чек заказа</td>\n",
       "      <td>8</td>\n",
       "      <td>3</td>\n",
       "      <td>7</td>\n",
       "      <td>3</td>\n",
       "      <td>7.00</td>\n",
       "      <td>56.0</td>\n",
       "    </tr>\n",
       "    <tr>\n",
       "      <th>0</th>\n",
       "      <td>Добавить два новых канала привлечения трафика, что позволит привлекать на 30% больше пользователей</td>\n",
       "      <td>3</td>\n",
       "      <td>10</td>\n",
       "      <td>8</td>\n",
       "      <td>6</td>\n",
       "      <td>13.33</td>\n",
       "      <td>40.0</td>\n",
       "    </tr>\n",
       "    <tr>\n",
       "      <th>6</th>\n",
       "      <td>Показать на главной странице баннеры с актуальными акциями и распродажами, чтобы увеличить конверсию</td>\n",
       "      <td>5</td>\n",
       "      <td>3</td>\n",
       "      <td>8</td>\n",
       "      <td>3</td>\n",
       "      <td>8.00</td>\n",
       "      <td>40.0</td>\n",
       "    </tr>\n",
       "    <tr>\n",
       "      <th>8</th>\n",
       "      <td>Запустить акцию, дающую скидку на товар в день рождения</td>\n",
       "      <td>1</td>\n",
       "      <td>9</td>\n",
       "      <td>9</td>\n",
       "      <td>5</td>\n",
       "      <td>16.20</td>\n",
       "      <td>16.2</td>\n",
       "    </tr>\n",
       "    <tr>\n",
       "      <th>3</th>\n",
       "      <td>Изменить структура категорий, что увеличит конверсию, т.к. пользователи быстрее найдут нужный товар</td>\n",
       "      <td>8</td>\n",
       "      <td>3</td>\n",
       "      <td>3</td>\n",
       "      <td>8</td>\n",
       "      <td>1.12</td>\n",
       "      <td>9.0</td>\n",
       "    </tr>\n",
       "    <tr>\n",
       "      <th>1</th>\n",
       "      <td>Запустить собственную службу доставки, что сократит срок доставки заказов</td>\n",
       "      <td>2</td>\n",
       "      <td>5</td>\n",
       "      <td>4</td>\n",
       "      <td>10</td>\n",
       "      <td>2.00</td>\n",
       "      <td>4.0</td>\n",
       "    </tr>\n",
       "    <tr>\n",
       "      <th>5</th>\n",
       "      <td>Добавить страницу отзывов клиентов о магазине, что позволит увеличить количество заказов</td>\n",
       "      <td>3</td>\n",
       "      <td>2</td>\n",
       "      <td>2</td>\n",
       "      <td>3</td>\n",
       "      <td>1.33</td>\n",
       "      <td>4.0</td>\n",
       "    </tr>\n",
       "    <tr>\n",
       "      <th>4</th>\n",
       "      <td>Изменить цвет фона главной страницы, чтобы увеличить вовлеченность пользователей</td>\n",
       "      <td>3</td>\n",
       "      <td>1</td>\n",
       "      <td>1</td>\n",
       "      <td>1</td>\n",
       "      <td>1.00</td>\n",
       "      <td>3.0</td>\n",
       "    </tr>\n",
       "  </tbody>\n",
       "</table>\n",
       "</div>"
      ],
      "text/plain": [
       "                                                                                                     hypothesis  \\\n",
       "7              Добавить форму подписки на все основные страницы, чтобы собрать базу клиентов для email-рассылок   \n",
       "2  Добавить блоки рекомендаций товаров на сайт интернет магазина, чтобы повысить конверсию и средний чек заказа   \n",
       "0            Добавить два новых канала привлечения трафика, что позволит привлекать на 30% больше пользователей   \n",
       "6          Показать на главной странице баннеры с актуальными акциями и распродажами, чтобы увеличить конверсию   \n",
       "8                                                       Запустить акцию, дающую скидку на товар в день рождения   \n",
       "3           Изменить структура категорий, что увеличит конверсию, т.к. пользователи быстрее найдут нужный товар   \n",
       "1                                     Запустить собственную службу доставки, что сократит срок доставки заказов   \n",
       "5                      Добавить страницу отзывов клиентов о магазине, что позволит увеличить количество заказов   \n",
       "4                              Изменить цвет фона главной страницы, чтобы увеличить вовлеченность пользователей   \n",
       "\n",
       "   reach  impact  confidence  efforts    ice   rice  \n",
       "7     10       7           8        5  11.20  112.0  \n",
       "2      8       3           7        3   7.00   56.0  \n",
       "0      3      10           8        6  13.33   40.0  \n",
       "6      5       3           8        3   8.00   40.0  \n",
       "8      1       9           9        5  16.20   16.2  \n",
       "3      8       3           3        8   1.12    9.0  \n",
       "1      2       5           4       10   2.00    4.0  \n",
       "5      3       2           2        3   1.33    4.0  \n",
       "4      3       1           1        1   1.00    3.0  "
      ]
     },
     "metadata": {},
     "output_type": "display_data"
    }
   ],
   "source": [
    "# посчитаем ICE для гипотез и выведем обновленную таблицу\n",
    "hypothesis['rice'] = (hypothesis['reach']*hypothesis['impact']*hypothesis['confidence'])/hypothesis['efforts']\n",
    "display(hypothesis.sort_values(by='rice', ascending=False))"
   ]
  },
  {
   "cell_type": "markdown",
   "metadata": {},
   "source": [
    "В случае с RICE наиболее перспективная гипотеза 7 - форма подписки на страницу для формирования клиентской базы для e-mail, на последнем месте - изменения цветового фона главной страницы для роста вовлеченности пользователей."
   ]
  },
  {
   "cell_type": "markdown",
   "metadata": {},
   "source": [
    "**Вывод:** \n",
    "* с включением параметра оценки охвата пользователей (Reach) изменились результаты приоритизации: в случае с ICE наиболее приоритетной могла считаться гипотеза о скидке в день рождения, но параметру Reach по нему присвоен наименьший балл (1), что обусловило то, что в случае с RICE гипотеза о форме для сбора базы e-mail является наиболее приоритетной, так как она имеет наивысшую оценку охвата пользователей (10). \n",
    "* И в том, и в другом случае изменение цвета фона страницы - непопулярная гипотеза, так как при невысокой стоимости тестирования этой гипотезы она также имеет низкую оценку охвата и влияния и уверенности в этом влиянии. \n",
    "* В случае и с ICE, и с RICE топ-5 гипотез одинаковы, меняется только их порядок: например, с учетом количества пользовательского охвата на 2-м месте по приоритетности будет гипотеза о добавлении рекомендаций товаров на сайте для повышения конверсии и среднего чека заказа (охват-8,уверенность-7,относительно небольшие трудозатраты-3) и на 3-м - новые каналы привлечения трафика, привлекающие на 30% больше пользователей (максимальная оценка влияния-10, высокая уверенность в присвоенных оценках-8)."
   ]
  },
  {
   "cell_type": "markdown",
   "metadata": {},
   "source": [
    "### Анализ A/B-теста"
   ]
  },
  {
   "cell_type": "code",
   "execution_count": 37,
   "metadata": {},
   "outputs": [
    {
     "name": "stdout",
     "output_type": "stream",
     "text": [
      "Количество пользователей, попавших в обе группы: 58\n",
      "<class 'pandas.core.frame.DataFrame'>\n",
      "Int64Index: 1016 entries, 0 to 1196\n",
      "Data columns (total 5 columns):\n",
      " #   Column         Non-Null Count  Dtype         \n",
      "---  ------         --------------  -----         \n",
      " 0   transactionid  1016 non-null   int64         \n",
      " 1   visitorid      1016 non-null   int64         \n",
      " 2   date           1016 non-null   datetime64[ns]\n",
      " 3   revenue        1016 non-null   int64         \n",
      " 4   group          1016 non-null   object        \n",
      "dtypes: datetime64[ns](1), int64(3), object(1)\n",
      "memory usage: 47.6+ KB\n",
      "None\n"
     ]
    }
   ],
   "source": [
    "# поиск пользователей, попавших в обе группы\n",
    "duplicated_users = orders.groupby('visitorid').agg({'group':['nunique']})\n",
    "\n",
    "duplicated_users.columns = ['groups']\n",
    "duplicated_users = duplicated_users.query('groups > 1')\n",
    "print('Количество пользователей, попавших в обе группы:', len(duplicated_users))\n",
    "\n",
    "# удалим пользователей, попавших в обе группы\n",
    "orders = orders.query('visitorid not in @duplicated_users.index')\n",
    "print(orders.info())"
   ]
  },
  {
   "cell_type": "markdown",
   "metadata": {},
   "source": [
    "Мы исключили из анализа пользователей, вошедших в обе группы, это привело к исключению 15% данных из таблицы orders (из 1197 осталось 1016). Как правило, при обработке аномалий аналитики исключают не более 10% данных, за исключением ситуаций, когда это существенно сказывается на качестве анализа. В нашем случае при неисключении \"двойных агентов\" мы не могли бы быть уверены в мотивах принятия решения, что не позволяет делать однозначные выводы."
   ]
  },
  {
   "cell_type": "markdown",
   "metadata": {},
   "source": [
    "Мы провели A/B-тест и получили результаты, которые описаны в файлах orders.csv и visitors.csv. Выполним необходимые задачи и проанализируем результаты."
   ]
  },
  {
   "cell_type": "markdown",
   "metadata": {},
   "source": [
    "#### График кумулятивной выручки по группам"
   ]
  },
  {
   "cell_type": "code",
   "execution_count": 38,
   "metadata": {},
   "outputs": [
    {
     "data": {
      "text/html": [
       "<div>\n",
       "<style scoped>\n",
       "    .dataframe tbody tr th:only-of-type {\n",
       "        vertical-align: middle;\n",
       "    }\n",
       "\n",
       "    .dataframe tbody tr th {\n",
       "        vertical-align: top;\n",
       "    }\n",
       "\n",
       "    .dataframe thead th {\n",
       "        text-align: right;\n",
       "    }\n",
       "</style>\n",
       "<table border=\"1\" class=\"dataframe\">\n",
       "  <thead>\n",
       "    <tr style=\"text-align: right;\">\n",
       "      <th></th>\n",
       "      <th>date</th>\n",
       "      <th>group</th>\n",
       "      <th>orders</th>\n",
       "      <th>buyers</th>\n",
       "      <th>revenue</th>\n",
       "      <th>visitors</th>\n",
       "    </tr>\n",
       "  </thead>\n",
       "  <tbody>\n",
       "    <tr>\n",
       "      <th>0</th>\n",
       "      <td>2019-08-01</td>\n",
       "      <td>A</td>\n",
       "      <td>23</td>\n",
       "      <td>19</td>\n",
       "      <td>142779</td>\n",
       "      <td>719</td>\n",
       "    </tr>\n",
       "    <tr>\n",
       "      <th>1</th>\n",
       "      <td>2019-08-01</td>\n",
       "      <td>B</td>\n",
       "      <td>17</td>\n",
       "      <td>17</td>\n",
       "      <td>59758</td>\n",
       "      <td>713</td>\n",
       "    </tr>\n",
       "    <tr>\n",
       "      <th>2</th>\n",
       "      <td>2019-08-02</td>\n",
       "      <td>A</td>\n",
       "      <td>42</td>\n",
       "      <td>36</td>\n",
       "      <td>234381</td>\n",
       "      <td>1338</td>\n",
       "    </tr>\n",
       "    <tr>\n",
       "      <th>3</th>\n",
       "      <td>2019-08-02</td>\n",
       "      <td>B</td>\n",
       "      <td>40</td>\n",
       "      <td>39</td>\n",
       "      <td>221801</td>\n",
       "      <td>1294</td>\n",
       "    </tr>\n",
       "    <tr>\n",
       "      <th>4</th>\n",
       "      <td>2019-08-03</td>\n",
       "      <td>A</td>\n",
       "      <td>66</td>\n",
       "      <td>60</td>\n",
       "      <td>346854</td>\n",
       "      <td>1845</td>\n",
       "    </tr>\n",
       "  </tbody>\n",
       "</table>\n",
       "</div>"
      ],
      "text/plain": [
       "        date group  orders  buyers  revenue  visitors\n",
       "0 2019-08-01     A      23      19   142779       719\n",
       "1 2019-08-01     B      17      17    59758       713\n",
       "2 2019-08-02     A      42      36   234381      1338\n",
       "3 2019-08-02     B      40      39   221801      1294\n",
       "4 2019-08-03     A      66      60   346854      1845"
      ]
     },
     "metadata": {},
     "output_type": "display_data"
    }
   ],
   "source": [
    "# создаем массив уникальных пар значений дат и групп теста\n",
    "datesGroups = orders[['date','group']].drop_duplicates()\n",
    "\n",
    "# получаем агрегированные кумулятивные по дням данные о заказах \n",
    "ordersAggregated = datesGroups.apply(\n",
    "    lambda x: orders[np.logical_and(orders['date'] <= x['date'], orders['group'] == x['group'])].agg({\n",
    "'date' : 'max',\n",
    "'group' : 'max',\n",
    "'transactionid' : pd.Series.nunique,\n",
    "'visitorid' : pd.Series.nunique,\n",
    "'revenue' : 'sum'}), axis=1).sort_values(by=['date','group'])\n",
    "\n",
    "# получаем агрегированные кумулятивные по дням данные о посетителях интернет-магазина \n",
    "visitorsAggregated = datesGroups.apply(\n",
    "    lambda x: visitors[np.logical_and(visitors['date'] <= x['date'], visitors['group'] == x['group'])].agg({\n",
    "'date' : 'max', \n",
    "'group' : 'max', \n",
    "'visitors' : 'sum'}), axis=1).sort_values(by=['date','group'])\n",
    "\n",
    "# объединяем кумулятивные данные в одной таблице и присваиваем ее столбцам понятные названия\n",
    "cumulativeData = ordersAggregated.merge(visitorsAggregated, left_on=['date', 'group'], right_on=['date', 'group'])\n",
    "cumulativeData.columns = ['date', 'group', 'orders', 'buyers', 'revenue', 'visitors']\n",
    "\n",
    "display(cumulativeData.head(5)) \n"
   ]
  },
  {
   "cell_type": "markdown",
   "metadata": {},
   "source": [
    "Построим графики кумулятивной выручки по дням и группам A/B-тестирования: "
   ]
  },
  {
   "cell_type": "code",
   "execution_count": 39,
   "metadata": {},
   "outputs": [
    {
     "data": {
      "image/png": "[encoded data removed]",
      "text/plain": [
       "<Figure size 1080x504 with 1 Axes>"
      ]
     },
     "metadata": {
      "needs_background": "light"
     },
     "output_type": "display_data"
    }
   ],
   "source": [
    "# датафрейм с кумулятивным количеством заказов и кумулятивной выручкой по дням в группе А\n",
    "cumulativeRevenueA = cumulativeData[cumulativeData['group']=='A'][['date','revenue', 'orders']]\n",
    "\n",
    "# датафрейм с кумулятивным количеством заказов и кумулятивной выручкой по дням в группе B\n",
    "cumulativeRevenueB = cumulativeData[cumulativeData['group']=='B'][['date','revenue', 'orders']]\n",
    "\n",
    "plt.figure(figsize=(15,7))\n",
    "plt.grid()\n",
    "plt.title (\"График кумулятивной выручки по группам\", fontsize = 13)\n",
    "plt.xlabel('Дата')\n",
    "plt.ylabel('Количество')\n",
    "\n",
    "\n",
    "# Строим график выручки группы А\n",
    "plt.plot(cumulativeRevenueA['date'], cumulativeRevenueA['revenue'], label='A')\n",
    "\n",
    "# Строим график выручки группы B\n",
    "plt.plot(cumulativeRevenueB['date'], cumulativeRevenueB['revenue'], label='B')\n",
    "\n",
    "plt.legend()\n",
    "plt.show()"
   ]
  },
  {
   "cell_type": "markdown",
   "metadata": {},
   "source": [
    "Выручка увеличивается в течение всего теста в обеих группах: в А - равномерно, в группе В - резко возрастает с 19.08.2019, затем темпы роста сравнялись. Это может сигнализировать об резком увеличении числа заказов, либо об увеличении \"дорогих\" заказов в выборке."
   ]
  },
  {
   "cell_type": "markdown",
   "metadata": {},
   "source": [
    "#### График кумулятивного среднего чека по группам"
   ]
  },
  {
   "cell_type": "code",
   "execution_count": 40,
   "metadata": {},
   "outputs": [
    {
     "data": {
      "image/png": "[encoded data removed]",
      "text/plain": [
       "<Figure size 1080x504 with 1 Axes>"
      ]
     },
     "metadata": {
      "needs_background": "light"
     },
     "output_type": "display_data"
    }
   ],
   "source": [
    "plt.figure(figsize=(15,7))\n",
    "plt.grid()\n",
    "plt.title (\"График кумулятивного среднего чека по группам\", fontsize = 13)\n",
    "plt.xlabel('Дата')\n",
    "plt.ylabel('Средний чек')\n",
    "\n",
    "plt.plot(cumulativeRevenueA['date'], cumulativeRevenueA['revenue']/cumulativeRevenueA['orders'], label='A')\n",
    "plt.plot(cumulativeRevenueB['date'], cumulativeRevenueB['revenue']/cumulativeRevenueB['orders'], label='B')\n",
    "plt.legend() \n",
    "plt.show()"
   ]
  },
  {
   "cell_type": "markdown",
   "metadata": {},
   "source": [
    "Средний чек тоже становится равномерным ближе к концу теста: значительные колебания в начале теста, резкий всплеск 19.08.2019 у группы В, начиная с 22.08.2019 графики групп А и В как будто зеркальны относительно друг друга. Резкий скачок группы В объясняется аномально крупными заказами, что не позволяет на сделать корректные предположения о разнице в средних чеках по группам."
   ]
  },
  {
   "cell_type": "markdown",
   "metadata": {},
   "source": [
    "#### График относительного изменения кумулятивного среднего чека группы B к группе A"
   ]
  },
  {
   "cell_type": "code",
   "execution_count": 41,
   "metadata": {},
   "outputs": [
    {
     "data": {
      "image/png": "[encoded data removed]",
      "text/plain": [
       "<Figure size 1080x504 with 1 Axes>"
      ]
     },
     "metadata": {
      "needs_background": "light"
     },
     "output_type": "display_data"
    }
   ],
   "source": [
    "# формируем датафрейм с данными\n",
    "mergedCumulativeRevenue = cumulativeRevenueA.merge(cumulativeRevenueB, left_on='date', right_on='date', how='left', suffixes=['A', 'B'])\n",
    "\n",
    "plt.figure(figsize=(15,7))\n",
    "plt.grid()\n",
    "plt.title (\"График относительного изменения кумулятивного среднего чека группы В к А\", fontsize = 13)\n",
    "plt.xlabel('Дата')\n",
    "\n",
    "# cтроим отношение средних чеков\n",
    "plt.plot(mergedCumulativeRevenue['date'], (mergedCumulativeRevenue['revenueB']/mergedCumulativeRevenue['ordersB'])/(mergedCumulativeRevenue['revenueA']/mergedCumulativeRevenue['ordersA'])-1)\n",
    "\n",
    "# добавляем ось X\n",
    "plt.axhline(y=0, color='navy', linestyle='--') \n",
    "plt.show()\n"
   ]
  },
  {
   "cell_type": "markdown",
   "metadata": {},
   "source": [
    "На графике наблюдается резкие и существенные скачки в разные даты, что может объясняться аномалиями в заказах. На большинство дат кумулятивный средний чек группы В превышает показатели группы А, за исключением первого дня теста и периода 12.08.2019-15.08.2019, что коррелирует с результатами на графике кумулятивного среднего чека по группам выше (п.4.2)"
   ]
  },
  {
   "cell_type": "markdown",
   "metadata": {},
   "source": [
    "#### График кумулятивной конверсии (среднего количества заказов на посетителя)"
   ]
  },
  {
   "cell_type": "code",
   "execution_count": 42,
   "metadata": {},
   "outputs": [
    {
     "data": {
      "image/png": "[encoded data removed]",
      "text/plain": [
       "<Figure size 1080x504 with 1 Axes>"
      ]
     },
     "metadata": {
      "needs_background": "light"
     },
     "output_type": "display_data"
    },
    {
     "data": {
      "image/png": "[encoded data removed]",
      "text/plain": [
       "<Figure size 720x360 with 1 Axes>"
      ]
     },
     "metadata": {
      "needs_background": "light"
     },
     "output_type": "display_data"
    }
   ],
   "source": [
    "# считаем кумулятивную конверсию\n",
    "cumulativeData['conversion'] = cumulativeData['orders']/cumulativeData['visitors']\n",
    "\n",
    "# отделяем данные по группе A\n",
    "cumulativeDataA = cumulativeData[cumulativeData['group']=='A']\n",
    "\n",
    "# отделяем данные по группе B\n",
    "cumulativeDataB = cumulativeData[cumulativeData['group']=='B']\n",
    "\n",
    "# строим графики\n",
    "plt.figure(figsize=(15,7))\n",
    "plt.grid()\n",
    "plt.title (\"График кумулятивной конверсии\", fontsize = 13)\n",
    "\n",
    "plt.plot(cumulativeDataA['date'], cumulativeDataA['conversion'], label='A')\n",
    "plt.plot(cumulativeDataB['date'], cumulativeDataB['conversion'], label='B')\n",
    "plt.legend()\n",
    "plt.show()\n",
    "\n",
    "\n",
    "# строим графики\n",
    "plt.figure(figsize=(10,5))\n",
    "plt.grid()\n",
    "plt.title (\"График кумулятивной конверсии\", fontsize = 13)\n",
    "\n",
    "plt.plot(cumulativeDataA['date'], cumulativeDataA['conversion'], label='A')\n",
    "plt.plot(cumulativeDataB['date'], cumulativeDataB['conversion'], label='B')\n",
    "plt.legend()\n",
    "\n",
    "# задаем масштаб осей\n",
    "plt.axis([dt.datetime(2019, 8, 5), dt.datetime(2019, 9, 1), 0, 0.05])\n",
    "plt.show()"
   ]
  },
  {
   "cell_type": "markdown",
   "metadata": {},
   "source": [
    "На графике наблюдается неоднородная динамика, с превышением кумулятивной конверсии по группе А над группой В в начале августа, с 06.08.2019 показатели по группе В демонстрируют резкий рост с максимальным значением на 10.08.2019 свыше 3,1%. Далее графики обеих групп продолжают колебания, но менее резкие. Изменение масштаба графика позволяет сгладить колебания и утверждать, что конверсия установилась около своего среднего значения. "
   ]
  },
  {
   "cell_type": "markdown",
   "metadata": {},
   "source": [
    "#### График относительного изменения кумулятивной конверсии группы B к группе A"
   ]
  },
  {
   "cell_type": "code",
   "execution_count": 43,
   "metadata": {},
   "outputs": [
    {
     "data": {
      "image/png": "[encoded data removed]",
      "text/plain": [
       "<Figure size 1080x504 with 1 Axes>"
      ]
     },
     "metadata": {
      "needs_background": "light"
     },
     "output_type": "display_data"
    }
   ],
   "source": [
    "# построим график относительного различия кумулятивных конверсий\n",
    "mergedCumulativeConversions = cumulativeDataA[['date','conversion']].merge(cumulativeDataB[['date','conversion']], left_on='date', right_on='date', how='left', suffixes=['A', 'B'])\n",
    "\n",
    "plt.figure(figsize=(15,7))\n",
    "plt.grid()\n",
    "plt.title (\"График относительного изменения кумулятивной конверсии группы В к А\", fontsize = 13)\n",
    "\n",
    "plt.plot(mergedCumulativeConversions['date'], mergedCumulativeConversions['conversionB']/mergedCumulativeConversions['conversionA']-1, label=\"Относительный прирост конверсии группы B относительно группы A\")\n",
    "plt.legend()\n",
    "plt.axhline(y=0, color='black', linestyle='--')\n",
    "plt.axhline(y=0.1, color='green', linestyle='--')\n",
    "plt.show()"
   ]
  },
  {
   "cell_type": "markdown",
   "metadata": {},
   "source": [
    "Наблюдается преимущественное превышение конверсии группы А в начале теста с исключением на 02.08.2019. Начиная с 06.08.2019 конверсия группы В резко выросла и превышала конверсию группы А в среднем на 15%. Природу резкого всплеска проверим на этапе анализа аномалий, на данный момент фиксируем, что это предположение коррелирует с данными графиков выше. Начиная со второй недели заказы группы В относительно группы А не снижались ниже 10%."
   ]
  },
  {
   "cell_type": "markdown",
   "metadata": {},
   "source": [
    "#### График количества заказов по пользователям"
   ]
  },
  {
   "cell_type": "code",
   "execution_count": 44,
   "metadata": {},
   "outputs": [
    {
     "data": {
      "text/html": [
       "<div>\n",
       "<style scoped>\n",
       "    .dataframe tbody tr th:only-of-type {\n",
       "        vertical-align: middle;\n",
       "    }\n",
       "\n",
       "    .dataframe tbody tr th {\n",
       "        vertical-align: top;\n",
       "    }\n",
       "\n",
       "    .dataframe thead th {\n",
       "        text-align: right;\n",
       "    }\n",
       "</style>\n",
       "<table border=\"1\" class=\"dataframe\">\n",
       "  <thead>\n",
       "    <tr style=\"text-align: right;\">\n",
       "      <th></th>\n",
       "      <th>userid</th>\n",
       "      <th>orders</th>\n",
       "    </tr>\n",
       "  </thead>\n",
       "  <tbody>\n",
       "    <tr>\n",
       "      <th>908</th>\n",
       "      <td>3967698036</td>\n",
       "      <td>3</td>\n",
       "    </tr>\n",
       "    <tr>\n",
       "      <th>55</th>\n",
       "      <td>249864742</td>\n",
       "      <td>3</td>\n",
       "    </tr>\n",
       "    <tr>\n",
       "      <th>478</th>\n",
       "      <td>2108163459</td>\n",
       "      <td>3</td>\n",
       "    </tr>\n",
       "    <tr>\n",
       "      <th>687</th>\n",
       "      <td>2988190573</td>\n",
       "      <td>3</td>\n",
       "    </tr>\n",
       "    <tr>\n",
       "      <th>890</th>\n",
       "      <td>3908431265</td>\n",
       "      <td>3</td>\n",
       "    </tr>\n",
       "    <tr>\n",
       "      <th>138</th>\n",
       "      <td>611059232</td>\n",
       "      <td>3</td>\n",
       "    </tr>\n",
       "    <tr>\n",
       "      <th>632</th>\n",
       "      <td>2742574263</td>\n",
       "      <td>3</td>\n",
       "    </tr>\n",
       "    <tr>\n",
       "      <th>157</th>\n",
       "      <td>678354126</td>\n",
       "      <td>2</td>\n",
       "    </tr>\n",
       "    <tr>\n",
       "      <th>323</th>\n",
       "      <td>1404560065</td>\n",
       "      <td>2</td>\n",
       "    </tr>\n",
       "    <tr>\n",
       "      <th>452</th>\n",
       "      <td>1985475298</td>\n",
       "      <td>2</td>\n",
       "    </tr>\n",
       "  </tbody>\n",
       "</table>\n",
       "</div>"
      ],
      "text/plain": [
       "         userid  orders\n",
       "908  3967698036       3\n",
       "55    249864742       3\n",
       "478  2108163459       3\n",
       "687  2988190573       3\n",
       "890  3908431265       3\n",
       "138   611059232       3\n",
       "632  2742574263       3\n",
       "157   678354126       2\n",
       "323  1404560065       2\n",
       "452  1985475298       2"
      ]
     },
     "metadata": {},
     "output_type": "display_data"
    }
   ],
   "source": [
    "# сформируем таблицу для данных\n",
    "ordersByUsers = (\n",
    "    orders.groupby('visitorid', as_index=False)\n",
    "    .agg({'transactionid': 'nunique'})\n",
    ")\n",
    "\n",
    "ordersByUsers.columns = ['userid', 'orders']\n",
    "\n",
    "display(ordersByUsers.sort_values(by='orders', ascending=False).head(10)) "
   ]
  },
  {
   "cell_type": "markdown",
   "metadata": {},
   "source": [
    "На основе полученных данных можем сделать вывод, что количество заказов, превышающее 2, выглядит аномальным, так как это больше числа заказов среднего пользователя. Но посмотрим так же распределение на точечной диаграмме."
   ]
  },
  {
   "cell_type": "code",
   "execution_count": 45,
   "metadata": {},
   "outputs": [
    {
     "data": {
      "image/png": "[encoded data removed]",
      "text/plain": [
       "<Figure size 1080x504 with 1 Axes>"
      ]
     },
     "metadata": {
      "needs_background": "light"
     },
     "output_type": "display_data"
    }
   ],
   "source": [
    "# построим график количества заказов по пользователям\n",
    "x_values = pd.Series(range(0,len(ordersByUsers)))\n",
    "\n",
    "plt.figure(figsize=(15,7))\n",
    "plt.grid()\n",
    "plt.title (\"График количества заказов по пользователям\", fontsize = 13)\n",
    "plt.scatter(x_values, ordersByUsers['orders']) \n",
    "plt.show()"
   ]
  },
  {
   "cell_type": "markdown",
   "metadata": {},
   "source": [
    "По данным графика можем сделать вывод о большом количестве пользователей 1-2 заказов. Однако сделать вывод об их отнесении к \"нормальному\" числу или аномалиям нельзя ввиду неизвестности их доли в общем числе пользователей."
   ]
  },
  {
   "cell_type": "markdown",
   "metadata": {},
   "source": [
    "##### Перцентили количества заказов на пользователя"
   ]
  },
  {
   "cell_type": "code",
   "execution_count": 46,
   "metadata": {},
   "outputs": [
    {
     "name": "stdout",
     "output_type": "stream",
     "text": [
      "[1. 2.]\n"
     ]
    }
   ],
   "source": [
    "# посчитаем выборочные перцентили количества заказов на одного пользователя\n",
    "print(np.percentile(ordersByUsers['orders'], [95, 99])) "
   ]
  },
  {
   "cell_type": "markdown",
   "metadata": {},
   "source": [
    "Не более, чем 5% пользователей делали 1 заказа, не более 1% пользователей - 2 заказа. Разумно выбрать 2 заказа на одного пользователя за верхнюю границу числа заказов, и отсеять аномальных пользователей по ней. "
   ]
  },
  {
   "cell_type": "markdown",
   "metadata": {},
   "source": [
    "#### График стоимостей заказов"
   ]
  },
  {
   "cell_type": "code",
   "execution_count": 47,
   "metadata": {},
   "outputs": [
    {
     "data": {
      "image/png": "[encoded data removed]",
      "text/plain": [
       "<Figure size 1080x504 with 1 Axes>"
      ]
     },
     "metadata": {
      "needs_background": "light"
     },
     "output_type": "display_data"
    }
   ],
   "source": [
    "# построим график стоимостей заказов\n",
    "x_values = pd.Series(range(0,len(orders['revenue'])))\n",
    "\n",
    "plt.figure(figsize=(15,7))\n",
    "plt.grid()\n",
    "plt.title (\"График стоимости заказов\", fontsize = 13)\n",
    "plt.scatter(x_values, orders['revenue'])\n",
    "plt.show()"
   ]
  },
  {
   "cell_type": "markdown",
   "metadata": {},
   "source": [
    "На графике видны явные аномалии, ввиду с чем распределение остальных значений неочевидно. Для этого сузим интервал значений *у*."
   ]
  },
  {
   "cell_type": "code",
   "execution_count": 48,
   "metadata": {},
   "outputs": [
    {
     "data": {
      "text/html": [
       "<div>\n",
       "<style scoped>\n",
       "    .dataframe tbody tr th:only-of-type {\n",
       "        vertical-align: middle;\n",
       "    }\n",
       "\n",
       "    .dataframe tbody tr th {\n",
       "        vertical-align: top;\n",
       "    }\n",
       "\n",
       "    .dataframe thead th {\n",
       "        text-align: right;\n",
       "    }\n",
       "</style>\n",
       "<table border=\"1\" class=\"dataframe\">\n",
       "  <thead>\n",
       "    <tr style=\"text-align: right;\">\n",
       "      <th></th>\n",
       "      <th>transactionid</th>\n",
       "      <th>visitorid</th>\n",
       "      <th>date</th>\n",
       "      <th>revenue</th>\n",
       "      <th>group</th>\n",
       "    </tr>\n",
       "  </thead>\n",
       "  <tbody>\n",
       "    <tr>\n",
       "      <th>425</th>\n",
       "      <td>590470918</td>\n",
       "      <td>1920142716</td>\n",
       "      <td>2019-08-19</td>\n",
       "      <td>1294500</td>\n",
       "      <td>B</td>\n",
       "    </tr>\n",
       "    <tr>\n",
       "      <th>1196</th>\n",
       "      <td>3936777065</td>\n",
       "      <td>2108080724</td>\n",
       "      <td>2019-08-15</td>\n",
       "      <td>202740</td>\n",
       "      <td>B</td>\n",
       "    </tr>\n",
       "  </tbody>\n",
       "</table>\n",
       "</div>"
      ],
      "text/plain": [
       "      transactionid   visitorid       date  revenue group\n",
       "425       590470918  1920142716 2019-08-19  1294500     B\n",
       "1196     3936777065  2108080724 2019-08-15   202740     B"
      ]
     },
     "metadata": {},
     "output_type": "display_data"
    }
   ],
   "source": [
    "display(orders.query('revenue >= 200000'))"
   ]
  },
  {
   "cell_type": "markdown",
   "metadata": {},
   "source": [
    "Данные среза таблицы orders по аномалиям объясняют всплески на графиках группы В выше, особенно в части данных на 19.08.2019."
   ]
  },
  {
   "cell_type": "code",
   "execution_count": 49,
   "metadata": {},
   "outputs": [
    {
     "data": {
      "image/png": "[encoded data removed]",
      "text/plain": [
       "<Figure size 1080x504 with 1 Axes>"
      ]
     },
     "metadata": {
      "needs_background": "light"
     },
     "output_type": "display_data"
    }
   ],
   "source": [
    "plt.figure(figsize=(15,7))\n",
    "plt.grid()\n",
    "plt.title (\"График стоимости заказов\", fontsize = 13)\n",
    "plt.ylim([0, 100000])\n",
    "plt.scatter(x_values, orders['revenue'])\n",
    "plt.show()"
   ]
  },
  {
   "cell_type": "markdown",
   "metadata": {},
   "source": [
    "Даже по графику среза видим, что есть отдельные редкие значения, превышающие среднюю стоимость совершенных заказов."
   ]
  },
  {
   "cell_type": "markdown",
   "metadata": {},
   "source": [
    "##### Перцентили стоимости заказов"
   ]
  },
  {
   "cell_type": "code",
   "execution_count": 50,
   "metadata": {},
   "outputs": [
    {
     "name": "stdout",
     "output_type": "stream",
     "text": [
      "[26785. 53904.]\n"
     ]
    }
   ],
   "source": [
    "# посчитаем выборочные перцентили количества заказов на одного пользователя\n",
    "print(np.percentile(orders['revenue'], [95, 99])) "
   ]
  },
  {
   "cell_type": "markdown",
   "metadata": {},
   "source": [
    "Не более 5% заказов дороже 26785 тыс.руб., и не более 1% заказов дороже 53904 тыс.руб. В качестве аномальных значений отсеим заказы за пределами 95-го перцентиля."
   ]
  },
  {
   "cell_type": "markdown",
   "metadata": {},
   "source": [
    "#### Статистическая значимость различий между группами по \"неочищенным\" данным "
   ]
  },
  {
   "cell_type": "markdown",
   "metadata": {},
   "source": [
    "##### в среднем количестве заказов на посетителя"
   ]
  },
  {
   "cell_type": "markdown",
   "metadata": {},
   "source": [
    "Посчитаем статистическую значимость различий в среднем числе заказов на пользователя между группами по «сырым» данным — без удаления аномальных пользователей.Сформулируем гипотезы: \\\n",
    "**Н0: различий в среднем количестве заказов между группами нет. \\\n",
    "Н1: различия в среднем между группами есть.**\n",
    "\n",
    "Критический уровень статистической значимости = 0,05\n"
   ]
  },
  {
   "cell_type": "code",
   "execution_count": 51,
   "metadata": {},
   "outputs": [],
   "source": [
    "# cоздадим переменные ordersByUsersA и ordersByUsersB с числом совершенных заказов для пользователей\n",
    "ordersByUsersA = (\n",
    "    orders[orders['group'] == 'A']\n",
    "    .groupby('visitorid', as_index=False)\n",
    "    .agg({'transactionid': pd.Series.nunique})\n",
    ")\n",
    "ordersByUsersA.columns = ['userId', 'orders']\n",
    "\n",
    "ordersByUsersB = (\n",
    "    orders[orders['group'] == 'B']\n",
    "    .groupby('visitorid', as_index=False)\n",
    "    .agg({'transactionid': pd.Series.nunique})\n",
    ")\n",
    "ordersByUsersB.columns = ['userId', 'orders'] \n"
   ]
  },
  {
   "cell_type": "markdown",
   "metadata": {},
   "source": [
    "Для подготовки выборки к проверке критерием Манна-Уитни объявим переменные sampleA и sampleB, в которых пользователям из разных групп будет соответствовать количество заказов, тем, кто ничего не заказал, будут соответствовать нули."
   ]
  },
  {
   "cell_type": "code",
   "execution_count": 52,
   "metadata": {},
   "outputs": [
    {
     "name": "stdout",
     "output_type": "stream",
     "text": [
      "Р-значение: 0.011\n",
      "Относительный прирост среднего числа заказов группы B: 0.160\n"
     ]
    }
   ],
   "source": [
    "sampleA = pd.concat(\n",
    "    [\n",
    "        ordersByUsersA['orders'],\n",
    "        pd.Series(\n",
    "            0,\n",
    "            index=np.arange(\n",
    "                visitors[visitors['group']=='A']['visitors'].sum() - len(ordersByUsersA['orders'])\n",
    "            ),\n",
    "            name='orders',\n",
    "        ),\n",
    "    ],\n",
    "    axis=0,\n",
    ")\n",
    "\n",
    "sampleB = pd.concat(\n",
    "    [\n",
    "        ordersByUsersB['orders'],\n",
    "        pd.Series(\n",
    "            0,\n",
    "            index=np.arange(\n",
    "                visitors[visitors['group']=='B']['visitors'].sum() - len(ordersByUsersB['orders'])\n",
    "            ),\n",
    "            name='orders',\n",
    "        ),\n",
    "    ],\n",
    "    axis=0,\n",
    ")\n",
    "\n",
    "print('Р-значение:', \"{0:.3f}\".format(stats.mannwhitneyu(sampleA, sampleB)[1]))\n",
    "\n",
    "print('Относительный прирост среднего числа заказов группы B:', \"{0:.3f}\".format(sampleB.mean() / sampleA.mean() - 1))\n"
   ]
  },
  {
   "cell_type": "markdown",
   "metadata": {},
   "source": [
    "**Вывод:** р-value меньше 0,05, из чего следует, что нулевую гипотезу отвергаем. По данным анализа \"сырых\" данных делаем вывод о наличии статистически значимых различий между группами.\n",
    "Относительный прирост среднего группы В к конверсии группы А равен 16%. "
   ]
  },
  {
   "cell_type": "markdown",
   "metadata": {},
   "source": [
    "##### в среднем чеке заказа"
   ]
  },
  {
   "cell_type": "markdown",
   "metadata": {},
   "source": [
    "Посчитаем статистическую значимость различий в среднем чеке между группами по «сырым» данным — без удаления аномальных пользователей.Сформулируем гипотезы: \\\n",
    "**Н0: различий в среднем чеке между группами нет. \\\n",
    "Н1: различия в среднем чеке между группами есть.**\n",
    "\n",
    "Критический уровень статистической значимости = 0,05\n"
   ]
  },
  {
   "cell_type": "code",
   "execution_count": 53,
   "metadata": {},
   "outputs": [
    {
     "name": "stdout",
     "output_type": "stream",
     "text": [
      "Р-значение: 0.829\n",
      "Относительная разница среднего чека: 0.287\n"
     ]
    }
   ],
   "source": [
    "print('Р-значение:', '{0:.3f}'.format(stats.mannwhitneyu(orders[orders['group']=='A']['revenue'], orders[orders['group']=='B']['revenue'])[1]))\n",
    "print('Относительная разница среднего чека:','{0:.3f}'.format(orders[orders['group']=='B']['revenue'].mean()/orders[orders['group']=='A']['revenue'].mean()-1)) "
   ]
  },
  {
   "cell_type": "markdown",
   "metadata": {},
   "source": [
    "**Вывод:** р-value 0,829 больше уровня статистической значимости 0,05, поэтому нулевую гипотезу не отвергаем, статистически значимых различий между группами нет. Однако относительная разница среднего чека 28,7% между группами при отсутствии статистически значимых различий указывает на существенное влияние выбросов."
   ]
  },
  {
   "cell_type": "markdown",
   "metadata": {},
   "source": [
    "#### Статистическая значимость различий между группами по \"очищенным\" данным "
   ]
  },
  {
   "cell_type": "markdown",
   "metadata": {},
   "source": [
    "##### в среднем количестве заказов на посетителя"
   ]
  },
  {
   "cell_type": "markdown",
   "metadata": {},
   "source": [
    "Посчитаем статистическую значимость различий в среднем числе заказов на пользователя между группами по «очищенным» данным — без аномалий.Сформулируем гипотезы: \\\n",
    "**Н0: различий в среднем количестве заказов между группами нет. \\\n",
    "Н1: различия в среднем между группами есть.**\n",
    "\n",
    "Критический уровень статистической значимости = 0,05"
   ]
  },
  {
   "cell_type": "markdown",
   "metadata": {},
   "source": [
    "Примем за аномальных пользователей тех, кто совершил свыше 2 заказов или совершил заказ дороже 26 785 рублей. Так мы уберём 1% пользователей с наибольшим числом заказов и 5% пользователей с самыми дорогими заказами. Сделаем срезы пользователей с числом заказов — usersWithManyOrders и пользователей, совершивших дорогие заказы — usersWithExpensiveOrders. Объединим их в таблице abnormalUsers. \n",
    "Узнаем, сколько всего аномальных пользователей атрибутом shape."
   ]
  },
  {
   "cell_type": "code",
   "execution_count": 54,
   "metadata": {},
   "outputs": [
    {
     "name": "stdout",
     "output_type": "stream",
     "text": [
      "568     113298937\n",
      "1099    148427295\n",
      "928     204675465\n",
      "33      249864742\n",
      "684     358944393\n",
      "dtype: int64\n",
      "58\n"
     ]
    }
   ],
   "source": [
    "# сделаем срез пользователей с числом заказов больше 2\n",
    "usersWithManyOrders = pd.concat(\n",
    "    [\n",
    "        ordersByUsersA[ordersByUsersA['orders'] > np.percentile(ordersByUsers['orders'], 99)]['userId'],\n",
    "        ordersByUsersB[ordersByUsersB['orders'] > np.percentile(ordersByUsers['orders'], 99)]['userId'],\n",
    "    ],\n",
    "    axis=0,\n",
    ")\n",
    "\n",
    "# сделаем срез пользователей с суммой заказа больше 26,8 тыс.руб.\n",
    "usersWithExpensiveOrders = orders[orders['revenue'] > np.percentile(orders['revenue'], 95)]['visitorid']\n",
    "\n",
    "# объединим срезы в таблицы\n",
    "abnormalUsers = (\n",
    "    pd.concat([usersWithManyOrders, usersWithExpensiveOrders], axis=0)\n",
    "    .drop_duplicates()\n",
    "    .sort_values()\n",
    ")\n",
    "\n",
    "print(abnormalUsers.head(5))\n",
    "print(abnormalUsers.shape[0]) \n"
   ]
  },
  {
   "cell_type": "markdown",
   "metadata": {},
   "source": [
    "Всего 58 аномальных пользователя."
   ]
  },
  {
   "cell_type": "code",
   "execution_count": 55,
   "metadata": {},
   "outputs": [
    {
     "name": "stdout",
     "output_type": "stream",
     "text": [
      "По очищенным от выбросов данным:\n",
      "Р-значение: 0.012\n",
      "Относительный прирост среднего числа заказов группы B: 0.182\n",
      " \n",
      "По сырым данным:\n",
      "Р-значение: 0.011\n",
      "Относительный прирост среднего числа заказов группы B: 0.160\n"
     ]
    }
   ],
   "source": [
    "# подготовим выборки количества заказов по пользователям по группам теста\n",
    "sampleAFiltered = pd.concat(\n",
    "    [\n",
    "        ordersByUsersA[\n",
    "            np.logical_not(ordersByUsersA['userId'].isin(abnormalUsers))\n",
    "        ]['orders'],\n",
    "        pd.Series(\n",
    "            0,\n",
    "            index=np.arange(\n",
    "                visitors[visitors['group']=='A']['visitors'].sum() - len(ordersByUsersA['orders'])\n",
    "            ),\n",
    "            name='orders',\n",
    "        ),\n",
    "    ],\n",
    "    axis=0,\n",
    ")\n",
    "\n",
    "sampleBFiltered = pd.concat(\n",
    "    [\n",
    "        ordersByUsersB[\n",
    "            np.logical_not(ordersByUsersB['userId'].isin(abnormalUsers))\n",
    "        ]['orders'],\n",
    "        pd.Series(\n",
    "            0,\n",
    "            index=np.arange(\n",
    "                visitors[visitors['group']=='B']['visitors'].sum() - len(ordersByUsersB['orders'])\n",
    "            ),\n",
    "            name='orders',\n",
    "        ),\n",
    "    ],\n",
    "    axis=0,\n",
    ") \n",
    "\n",
    "# применим статистический критерий Манна-Уитни к выборкам:\n",
    "print('По очищенным от выбросов данным:')\n",
    "print('Р-значение:','{0:.3f}'.format(stats.mannwhitneyu(sampleAFiltered, sampleBFiltered)[1]))\n",
    "print('Относительный прирост среднего числа заказов группы B:','{0:.3f}'.format(sampleBFiltered.mean()/sampleAFiltered.mean()-1)) \n",
    "\n",
    "print(' ')\n",
    "print('По сырым данным:')\n",
    "print('Р-значение:', \"{0:.3f}\".format(stats.mannwhitneyu(sampleA, sampleB)[1]))\n",
    "print('Относительный прирост среднего числа заказов группы B:', \"{0:.3f}\".format(sampleB.mean() / sampleA.mean() - 1))\n"
   ]
  },
  {
   "cell_type": "markdown",
   "metadata": {},
   "source": [
    "**Вывод:** существенной разницы в p-value с результатами теста на \"сырых\" данных не выявлено, р-value меньше 0,05, из чего следует, что нулевую гипотезу отвергаем. По данным анализа \"очищенных\" данных так же делаем вывод о наличии статистически значимых различий между группами. Относительный прирост среднего числа заказов группы В к группе А равен 18,2%, что на 2,2 п.п. больше, чем прирост, рассчитанный по \"сырым\" данным."
   ]
  },
  {
   "cell_type": "markdown",
   "metadata": {},
   "source": [
    "##### в среднем чеке заказа"
   ]
  },
  {
   "cell_type": "markdown",
   "metadata": {},
   "source": [
    "Посчитаем статистическую значимость различий в среднем чеке между группами по «сырым» данным — без удаления аномальных пользователей.Сформулируем гипотезы: \\\n",
    "**Н0: различий в среднем чеке между группами нет. \\\n",
    "Н1: различия в среднем чеке между группами есть.**\n",
    "\n",
    "Критический уровень статистической значимости = 0,05"
   ]
  },
  {
   "cell_type": "code",
   "execution_count": 56,
   "metadata": {},
   "outputs": [
    {
     "name": "stdout",
     "output_type": "stream",
     "text": [
      "По очищенным от выбросов данным:\n",
      "Р-значение: 0.646\n",
      "Относительная разница среднего чека: -0.048\n",
      " \n",
      "По сырым данным:\n",
      "Р-значение: 0.829\n",
      "Относительная разница среднего чека: 0.287\n"
     ]
    }
   ],
   "source": [
    "print('По очищенным от выбросов данным:')\n",
    "print('Р-значение:',\n",
    "    '{0:.3f}'.format(\n",
    "        stats.mannwhitneyu(\n",
    "            orders[\n",
    "                np.logical_and(\n",
    "                    orders['group'] == 'A',\n",
    "                    np.logical_not(orders['visitorid'].isin(abnormalUsers)),\n",
    "                )\n",
    "            ]['revenue'],\n",
    "            orders[\n",
    "                np.logical_and(\n",
    "                    orders['group'] == 'B',\n",
    "                    np.logical_not(orders['visitorid'].isin(abnormalUsers)),\n",
    "                )\n",
    "            ]['revenue'],\n",
    "        )[1]\n",
    "    )\n",
    ")\n",
    "\n",
    "print('Относительная разница среднего чека:',\n",
    "    \"{0:.3f}\".format(\n",
    "        orders[\n",
    "            np.logical_and(\n",
    "                orders['group'] == 'B',\n",
    "                np.logical_not(orders['visitorid'].isin(abnormalUsers)),\n",
    "            )\n",
    "        ]['revenue'].mean()\n",
    "        / orders[\n",
    "            np.logical_and(\n",
    "                orders['group'] == 'A',\n",
    "                np.logical_not(orders['visitorid'].isin(abnormalUsers)),\n",
    "            )\n",
    "        ]['revenue'].mean()\n",
    "        - 1\n",
    "    )\n",
    ") \n",
    "\n",
    "print(' ')\n",
    "print('По сырым данным:')\n",
    "print('Р-значение:', '{0:.3f}'.format(stats.mannwhitneyu(orders[orders['group']=='A']['revenue'], orders[orders['group']=='B']['revenue'])[1]))\n",
    "print('Относительная разница среднего чека:','{0:.3f}'.format(orders[orders['group']=='B']['revenue'].mean()/orders[orders['group']=='A']['revenue'].mean()-1)) "
   ]
  },
  {
   "cell_type": "markdown",
   "metadata": {},
   "source": [
    "**Вывод:** р-value снизился и составил 0,646, нулевую гипотезу не отвергаем, статистических различий по среднему чеку между группами нет. \\\n",
    "Если по \"сырым\" данным относительная разница среднего чека группы В на 28,7% превышал средний чек группы А, то по очищенным данным наблюдается незначительное (на 4,8%) превышение среднего чека группы А над средним чеком группы B, что объясняется аномально дорогой продажей 19.08.2019 пользователю из группы В."
   ]
  },
  {
   "cell_type": "markdown",
   "metadata": {},
   "source": [
    "#### Выводы по разделу"
   ]
  },
  {
   "cell_type": "markdown",
   "metadata": {},
   "source": [
    "**Выводы по результату теста:**\n",
    "\n",
    "•\tЕсть статистически значимые различия по среднему количеству заказов между группами как по «сырым», так и по очищенным от аномалий данным;\\\n",
    "•\tНет статистически значимого различия по среднему чеку между группами ни по «сырым», ни по очищенным данным;\\\n",
    "•\tГрафик относительного изменения кумулятивного среднего количества заказов между группами сообщает, что результаты группы B лучше группы A и составляют 18,2% по данным без аномальных значений;\\\n",
    "•\tПо графику различия среднего чека сделали вывод о наличии существенных аномалий;\\\n",
    "•\tПо данным графика среднего количества заказов на пользователя между группами сделали вывод о том, что данный показатель группы B превышает показатели группы А.\n",
    " \n",
    "**Решение по результатам теста:**\\\n",
    "Исходя из полученных результатов представляется целесообразным остановить тест, зафиксировать победу группы В ввиду лучшего показателя среднего количества заказов на пользователя по группе В при отсутствии значимых различий по среднему чеку."
   ]
  },
  {
   "cell_type": "markdown",
   "metadata": {},
   "source": [
    "### Выводы по проекту"
   ]
  },
  {
   "cell_type": "markdown",
   "metadata": {},
   "source": [
    "*5.1 Предобработка данных* \\\n",
    "Пропуски в данных, явные и неявные дубликаты отсутствуют. Названия столбцов приведены к нижнему \"змеиному\" регистру. Формат столбцов с датой приведен к типу \"datetime\".\n",
    "\n",
    "*5.2 Приоритизация гипотез* \\\n",
    "Приоритизировали гипотезы с применением фреймворков ICE и RICE, получили следующие результаты:\\\n",
    "в случае с ICE приоритетной могла считаться гипотеза о скидке в день рождения, \\\n",
    "в случае с RICE гипотеза о форме для сбора базы e-mail является наиболее приоритетной, так как она имеет наивысшую оценку охвата пользователей Reach (10).\n",
    "\n",
    "Применяя оба фреймворка пришли к результату о непопулярности гипотезы об изменении цвета фона страницы: при невысокой стоимости тестирования этой гипотезы она также имеет низкую оценку охвата и влияния и уверенности в этом влиянии.\\\n",
    "В случае и с ICE, и с RICE топ-5 гипотез одинаковы, меняется только их порядок: например, с учетом количества пользовательского охвата на 2-м месте по приоритетности будет гипотеза о добавлении рекомендаций товаров на сайте для повышения конверсии и среднего чека заказа (охват-8,уверенность-7,относительно небольшие трудозатраты-3) и на 3-м - новые каналы привлечения трафика, привлекающие на 30% больше пользователей (максимальная оценка влияния-10, высокая уверенность в присвоенных оценках-8).\n",
    "\n",
    "*5.3 Анализ А/В-теста* \\\n",
    "5.3.1 Мы построили следующие графики: \n",
    "- график кумулятивной выручки по группам \n",
    "    - выручка имеет тенденцию к росту;    \n",
    "- кумулятивного среднего чека по группам\n",
    "    - средний чек становится равномерным ближе к конце теста, наблюдается аномальный всплеск у группы В;  \n",
    "- относительного изменения кумулятивного среднего чека группы B к группе A\n",
    "    - график подтверждает наши предположения о наличии выбросов;\n",
    "- кумулятивного среднего количества заказов на посетителя по группам\n",
    "    - после колебаний показатель по группе В установился на значении больше,чем показатель группы А и не снижался ниже 10%;\n",
    "- относительного изменения кумулятивного среднего количества заказов на посетителя группы B к группе A\n",
    "    - в начале теста группа B проигрывала группе A, затем вырвалась вперёд, на графике продолжает наблюдаться волатильность при сохранении группой В лидерства;\n",
    "- точечный график количества заказов по пользователям\n",
    "    - на графике преобладают пользователи с 1-2 заказами\n",
    "- точечный график стоимостей заказов\n",
    "    - на графике выявили существенные выбросы: два заказа стоимостью свыше 200 тыс.руб.\n",
    "    \n",
    "5.3.2. Мы посчитали:\n",
    "- 95-й и 99-й перцентили количества заказов на пользователя\n",
    "    - не более, чем 5% пользователей делали 1 заказа, не более 1% пользователей - 2 заказа; установили верхнюю границу на 2 заказах, по которой отсеем аномалии.\n",
    "- 95-й и 99-й перцентили стоимости заказов\n",
    "    - не более 5% заказов дороже 26,8 тыс.руб., и не более 1% заказов дороже 53,9 тыс.руб., в качестве аномальных значений отсеяли заказы стоимостью выше 95-го перцентиля.\n",
    "- статистическую значимость различий в среднем количестве заказов на посетителя между группами между группами по «сырым» данным\n",
    "    - р-value = 0,011, меньше 0,05, из чего следует, что нулевую гипотезу отвергаем. \n",
    "- статистическую значимость различий в среднем чеке заказа между группами по «сырым» данным\n",
    "    - р-value = 0,829, больше уровня статистической значимости 0,05, поэтому нулевую гипотезу не отвергаем, статистически значимых различий между группами нет.\n",
    "- статистическую значимость различий в среднем количестве заказов на посетителя между группами между группами по «очищенным» данным. \n",
    "    - р-value = 0,012, меньше 0,05, из чего следует, что нулевую гипотезу отвергаем, есть различия.\n",
    "- статистическую значимость различий в среднем чеке заказа между группами по «очищенным» данным\n",
    "    - р-value = 0,646, больше уровня статистической значимости 0,05, поэтому нулевую гипотезу не отвергаем, статистически значимых различий между группами нет.\n",
    "\n",
    "\n",
    "1. По данным анализа \"сырых\" данных делаем вывод о наличии статистически значимых различий в среднем количестве заказов между группами. Относительный прирост среднего числа заказов на пользователя группы В к группе А равен 16%. \n",
    "2. По данным анализа \"сырых\" данных делаем вывод об отсутствии статистически значимых различий в среднем чеке заказа между группами. Относительная разница среднего чека: 28,7%, что при отсутствии статистической значимости указывает на выбросы.\n",
    "3. По данным анализа \"очищенных\" данных делаем вывод о наличии статистически значимых различий в среднем количестве заказов между группами. Относительный прирост среднего числа заказов на пользователя группы В к группе А равен 18,2%, что 2,2 п.п. больше, чем прирост по \"сырым\" данным.\n",
    "4. По данным анализа \"очищенных\" данных делаем вывод об отсутствии статистических различий по среднему чеку между группами.\n",
    "Если по \"сырым\" данным относительная разница среднего чека группы В на 28,7% превышал средний чек группы А, то по очищенным данным наблюдается незначительное (на 4,8%) превышение среднего чека группы А над средним чеком группы B, что объясняется аномально дорогой продажей 19.08.2019 пользователю из группы В.\n",
    "\n",
    "По результатам теста представляется целесообразным остановить тест, зафиксировать победу группы В ввиду лучшего показателя среднего числа заказов на пользователя по группе В при отсутствии значимых различий по среднему чеку."
   ]
  },
  {
   "cell_type": "code",
   "execution_count": null,
   "metadata": {},
   "outputs": [],
   "source": []
  }
 ],
 "metadata": {
  "ExecuteTimeLog": [
   {
    "duration": 3,
    "start_time": "2023-06-23T18:10:09.206Z"
   },
   {
    "duration": 2,
    "start_time": "2023-06-23T18:10:19.007Z"
   },
   {
    "duration": 2,
    "start_time": "2023-06-23T18:10:39.426Z"
   },
   {
    "duration": 3,
    "start_time": "2023-06-23T18:10:46.022Z"
   },
   {
    "duration": 3,
    "start_time": "2023-06-23T18:10:53.521Z"
   },
   {
    "duration": 2,
    "start_time": "2023-06-23T18:13:15.963Z"
   },
   {
    "duration": 8,
    "start_time": "2023-06-23T18:18:14.908Z"
   },
   {
    "duration": 1441,
    "start_time": "2023-06-23T18:53:58.071Z"
   },
   {
    "duration": 4,
    "start_time": "2023-06-23T18:54:02.660Z"
   },
   {
    "duration": 237,
    "start_time": "2023-06-23T19:02:22.831Z"
   },
   {
    "duration": 90,
    "start_time": "2023-06-23T19:02:39.158Z"
   },
   {
    "duration": 82,
    "start_time": "2023-06-23T19:02:57.692Z"
   },
   {
    "duration": 99,
    "start_time": "2023-06-23T19:03:06.835Z"
   },
   {
    "duration": 90,
    "start_time": "2023-06-23T19:03:18.738Z"
   },
   {
    "duration": 81,
    "start_time": "2023-06-23T19:04:03.134Z"
   },
   {
    "duration": 60,
    "start_time": "2023-06-23T19:10:48.503Z"
   },
   {
    "duration": 6,
    "start_time": "2023-06-23T19:14:30.824Z"
   },
   {
    "duration": 59,
    "start_time": "2023-06-23T19:14:47.304Z"
   },
   {
    "duration": 48,
    "start_time": "2023-06-24T12:54:09.889Z"
   },
   {
    "duration": 7,
    "start_time": "2023-06-24T12:54:20.054Z"
   },
   {
    "duration": 1294,
    "start_time": "2023-06-24T12:54:30.113Z"
   },
   {
    "duration": 184,
    "start_time": "2023-06-24T12:54:31.409Z"
   },
   {
    "duration": 65,
    "start_time": "2023-06-24T12:54:31.595Z"
   },
   {
    "duration": 0,
    "start_time": "2023-06-24T12:54:31.662Z"
   },
   {
    "duration": 3,
    "start_time": "2023-06-24T12:58:40.687Z"
   },
   {
    "duration": 76,
    "start_time": "2023-06-24T12:58:40.692Z"
   },
   {
    "duration": 9,
    "start_time": "2023-06-24T12:58:40.770Z"
   },
   {
    "duration": 0,
    "start_time": "2023-06-24T12:58:40.780Z"
   },
   {
    "duration": 1264,
    "start_time": "2023-06-24T12:59:26.328Z"
   },
   {
    "duration": 74,
    "start_time": "2023-06-24T12:59:27.594Z"
   },
   {
    "duration": 102,
    "start_time": "2023-06-24T12:59:27.670Z"
   },
   {
    "duration": 0,
    "start_time": "2023-06-24T12:59:27.774Z"
   },
   {
    "duration": 3,
    "start_time": "2023-06-24T12:59:40.215Z"
   },
   {
    "duration": 3,
    "start_time": "2023-06-24T12:59:46.913Z"
   },
   {
    "duration": 82,
    "start_time": "2023-06-24T12:59:46.918Z"
   },
   {
    "duration": 3,
    "start_time": "2023-06-24T12:59:47.002Z"
   },
   {
    "duration": 46,
    "start_time": "2023-06-24T12:59:47.006Z"
   },
   {
    "duration": 53,
    "start_time": "2023-06-24T13:01:11.284Z"
   },
   {
    "duration": 55,
    "start_time": "2023-06-24T13:01:31.590Z"
   },
   {
    "duration": 90,
    "start_time": "2023-06-24T13:13:25.405Z"
   },
   {
    "duration": 4,
    "start_time": "2023-06-24T13:20:52.605Z"
   },
   {
    "duration": 3,
    "start_time": "2023-06-24T13:24:04.514Z"
   },
   {
    "duration": 45,
    "start_time": "2023-06-24T13:24:07.255Z"
   },
   {
    "duration": 46,
    "start_time": "2023-06-24T15:54:04.947Z"
   },
   {
    "duration": 1277,
    "start_time": "2023-06-24T15:54:09.998Z"
   },
   {
    "duration": 221,
    "start_time": "2023-06-24T15:54:11.276Z"
   },
   {
    "duration": 4,
    "start_time": "2023-06-24T15:54:11.499Z"
   },
   {
    "duration": 48,
    "start_time": "2023-06-24T15:54:11.505Z"
   },
   {
    "duration": 38,
    "start_time": "2023-06-24T15:55:40.743Z"
   },
   {
    "duration": 38,
    "start_time": "2023-06-24T15:56:18.562Z"
   },
   {
    "duration": 37,
    "start_time": "2023-06-24T15:56:34.866Z"
   },
   {
    "duration": 40,
    "start_time": "2023-06-24T15:56:47.909Z"
   },
   {
    "duration": 36,
    "start_time": "2023-06-24T16:10:01.800Z"
   },
   {
    "duration": 17,
    "start_time": "2023-06-24T18:46:41.674Z"
   },
   {
    "duration": 48,
    "start_time": "2023-06-24T18:48:25.989Z"
   },
   {
    "duration": 321,
    "start_time": "2023-06-24T18:50:13.881Z"
   },
   {
    "duration": 3,
    "start_time": "2023-06-24T18:51:36.234Z"
   },
   {
    "duration": 72,
    "start_time": "2023-06-24T18:51:36.239Z"
   },
   {
    "duration": 3,
    "start_time": "2023-06-24T18:51:36.312Z"
   },
   {
    "duration": 39,
    "start_time": "2023-06-24T18:51:36.317Z"
   },
   {
    "duration": 277,
    "start_time": "2023-06-24T18:51:36.358Z"
   },
   {
    "duration": 283,
    "start_time": "2023-06-24T18:57:01.694Z"
   },
   {
    "duration": 1075,
    "start_time": "2023-06-24T19:05:34.264Z"
   },
   {
    "duration": 87,
    "start_time": "2023-06-24T19:05:35.341Z"
   },
   {
    "duration": 4,
    "start_time": "2023-06-24T19:05:35.430Z"
   },
   {
    "duration": 55,
    "start_time": "2023-06-24T19:05:35.435Z"
   },
   {
    "duration": 27,
    "start_time": "2023-06-24T19:05:35.493Z"
   },
   {
    "duration": 3,
    "start_time": "2023-06-24T19:59:16.450Z"
   },
   {
    "duration": 9,
    "start_time": "2023-06-24T20:05:19.813Z"
   },
   {
    "duration": 6,
    "start_time": "2023-06-24T20:06:45.679Z"
   },
   {
    "duration": 8,
    "start_time": "2023-06-24T20:10:32.061Z"
   },
   {
    "duration": 36,
    "start_time": "2023-06-24T20:11:02.122Z"
   },
   {
    "duration": 11,
    "start_time": "2023-06-24T20:12:02.460Z"
   },
   {
    "duration": 12,
    "start_time": "2023-06-24T20:12:15.545Z"
   },
   {
    "duration": 10,
    "start_time": "2023-06-24T20:12:40.725Z"
   },
   {
    "duration": 10,
    "start_time": "2023-06-24T20:12:54.457Z"
   },
   {
    "duration": 9,
    "start_time": "2023-06-24T20:13:09.073Z"
   },
   {
    "duration": 67,
    "start_time": "2023-06-24T20:22:16.976Z"
   },
   {
    "duration": 12,
    "start_time": "2023-06-24T20:30:19.076Z"
   },
   {
    "duration": 15,
    "start_time": "2023-06-24T20:30:51.819Z"
   },
   {
    "duration": 16,
    "start_time": "2023-06-24T20:31:13.122Z"
   },
   {
    "duration": 13,
    "start_time": "2023-06-24T20:33:02.165Z"
   },
   {
    "duration": 10,
    "start_time": "2023-06-24T20:33:32.131Z"
   },
   {
    "duration": 68,
    "start_time": "2023-06-24T20:36:50.796Z"
   },
   {
    "duration": 1,
    "start_time": "2023-06-24T21:35:43.771Z"
   },
   {
    "duration": 74,
    "start_time": "2023-06-26T16:01:32.640Z"
   },
   {
    "duration": 103,
    "start_time": "2023-06-26T16:02:25.797Z"
   },
   {
    "duration": 65,
    "start_time": "2023-06-26T16:02:47.939Z"
   },
   {
    "duration": 3,
    "start_time": "2023-06-26T16:03:31.306Z"
   },
   {
    "duration": 1719,
    "start_time": "2023-06-26T16:03:48.476Z"
   },
   {
    "duration": 198,
    "start_time": "2023-06-26T16:03:50.197Z"
   },
   {
    "duration": 8,
    "start_time": "2023-06-26T16:03:50.397Z"
   },
   {
    "duration": 95,
    "start_time": "2023-06-26T16:03:50.408Z"
   },
   {
    "duration": 24,
    "start_time": "2023-06-26T16:03:50.506Z"
   },
   {
    "duration": 37,
    "start_time": "2023-06-26T16:03:50.532Z"
   },
   {
    "duration": 57,
    "start_time": "2023-06-26T16:03:50.572Z"
   },
   {
    "duration": 26,
    "start_time": "2023-06-26T16:03:50.632Z"
   },
   {
    "duration": 131,
    "start_time": "2023-06-26T16:03:50.661Z"
   },
   {
    "duration": 28,
    "start_time": "2023-06-26T16:08:05.916Z"
   },
   {
    "duration": 525,
    "start_time": "2023-06-26T16:12:40.438Z"
   },
   {
    "duration": 396,
    "start_time": "2023-06-26T16:14:02.145Z"
   },
   {
    "duration": 333,
    "start_time": "2023-06-26T16:17:50.914Z"
   },
   {
    "duration": 360,
    "start_time": "2023-06-26T16:22:29.549Z"
   },
   {
    "duration": 320,
    "start_time": "2023-06-26T16:22:37.819Z"
   },
   {
    "duration": 464,
    "start_time": "2023-06-26T16:23:34.472Z"
   },
   {
    "duration": 388,
    "start_time": "2023-06-26T16:24:02.226Z"
   },
   {
    "duration": 294,
    "start_time": "2023-06-26T16:26:14.474Z"
   },
   {
    "duration": 4,
    "start_time": "2023-06-26T16:26:35.222Z"
   },
   {
    "duration": 90,
    "start_time": "2023-06-26T16:26:35.228Z"
   },
   {
    "duration": 5,
    "start_time": "2023-06-26T16:26:35.320Z"
   },
   {
    "duration": 63,
    "start_time": "2023-06-26T16:26:35.327Z"
   },
   {
    "duration": 21,
    "start_time": "2023-06-26T16:26:35.392Z"
   },
   {
    "duration": 25,
    "start_time": "2023-06-26T16:26:35.415Z"
   },
   {
    "duration": 35,
    "start_time": "2023-06-26T16:26:35.441Z"
   },
   {
    "duration": 20,
    "start_time": "2023-06-26T16:26:35.478Z"
   },
   {
    "duration": 313,
    "start_time": "2023-06-26T16:26:35.500Z"
   },
   {
    "duration": 212,
    "start_time": "2023-06-26T16:26:35.815Z"
   },
   {
    "duration": 258,
    "start_time": "2023-06-26T16:27:44.603Z"
   },
   {
    "duration": 226,
    "start_time": "2023-06-26T16:28:11.869Z"
   },
   {
    "duration": 254,
    "start_time": "2023-06-26T16:28:20.119Z"
   },
   {
    "duration": 357,
    "start_time": "2023-06-26T16:31:54.735Z"
   },
   {
    "duration": 403,
    "start_time": "2023-06-26T16:31:59.260Z"
   },
   {
    "duration": 284,
    "start_time": "2023-06-26T16:32:16.456Z"
   },
   {
    "duration": 332,
    "start_time": "2023-06-26T16:32:32.462Z"
   },
   {
    "duration": 296,
    "start_time": "2023-06-26T16:32:48.690Z"
   },
   {
    "duration": 163,
    "start_time": "2023-06-26T16:38:12.860Z"
   },
   {
    "duration": 188,
    "start_time": "2023-06-26T16:38:32.714Z"
   },
   {
    "duration": 270,
    "start_time": "2023-06-26T16:38:53.610Z"
   },
   {
    "duration": 260,
    "start_time": "2023-06-26T16:39:04.527Z"
   },
   {
    "duration": 265,
    "start_time": "2023-06-26T16:40:35.066Z"
   },
   {
    "duration": 266,
    "start_time": "2023-06-26T16:40:43.142Z"
   },
   {
    "duration": 395,
    "start_time": "2023-06-26T16:40:46.312Z"
   },
   {
    "duration": 255,
    "start_time": "2023-06-26T16:40:55.552Z"
   },
   {
    "duration": 301,
    "start_time": "2023-06-26T16:41:08.424Z"
   },
   {
    "duration": 258,
    "start_time": "2023-06-26T16:41:14.577Z"
   },
   {
    "duration": 274,
    "start_time": "2023-06-26T16:41:19.303Z"
   },
   {
    "duration": 191,
    "start_time": "2023-06-26T16:51:05.121Z"
   },
   {
    "duration": 376,
    "start_time": "2023-06-26T17:08:43.971Z"
   },
   {
    "duration": 262,
    "start_time": "2023-06-26T17:08:59.827Z"
   },
   {
    "duration": 273,
    "start_time": "2023-06-26T17:09:17.979Z"
   },
   {
    "duration": 261,
    "start_time": "2023-06-26T17:09:23.115Z"
   },
   {
    "duration": 305,
    "start_time": "2023-06-26T17:46:21.701Z"
   },
   {
    "duration": 364,
    "start_time": "2023-06-26T17:48:25.777Z"
   },
   {
    "duration": 517,
    "start_time": "2023-06-26T17:49:09.309Z"
   },
   {
    "duration": 158,
    "start_time": "2023-06-26T18:06:05.498Z"
   },
   {
    "duration": 272,
    "start_time": "2023-06-26T19:55:30.630Z"
   },
   {
    "duration": 221,
    "start_time": "2023-06-26T19:55:52.632Z"
   },
   {
    "duration": 246,
    "start_time": "2023-06-26T19:56:05.224Z"
   },
   {
    "duration": 226,
    "start_time": "2023-06-26T19:56:17.251Z"
   },
   {
    "duration": 222,
    "start_time": "2023-06-26T19:56:43.643Z"
   },
   {
    "duration": 328,
    "start_time": "2023-06-26T19:59:43.206Z"
   },
   {
    "duration": 271,
    "start_time": "2023-06-26T20:00:42.361Z"
   },
   {
    "duration": 289,
    "start_time": "2023-06-26T20:01:16.499Z"
   },
   {
    "duration": 70,
    "start_time": "2023-06-26T20:23:32.042Z"
   },
   {
    "duration": 333,
    "start_time": "2023-06-26T20:36:17.546Z"
   },
   {
    "duration": 291,
    "start_time": "2023-06-26T20:36:57.393Z"
   },
   {
    "duration": 295,
    "start_time": "2023-06-26T20:37:35.791Z"
   },
   {
    "duration": 373,
    "start_time": "2023-06-26T20:37:58.824Z"
   },
   {
    "duration": 369,
    "start_time": "2023-06-26T20:46:22.515Z"
   },
   {
    "duration": 402,
    "start_time": "2023-06-26T20:46:41.129Z"
   },
   {
    "duration": 383,
    "start_time": "2023-06-26T20:47:02.731Z"
   },
   {
    "duration": 106,
    "start_time": "2023-06-26T20:52:21.731Z"
   },
   {
    "duration": 66,
    "start_time": "2023-06-26T20:53:50.199Z"
   },
   {
    "duration": 3,
    "start_time": "2023-06-26T21:04:17.767Z"
   },
   {
    "duration": 10,
    "start_time": "2023-06-26T21:06:06.214Z"
   },
   {
    "duration": 16,
    "start_time": "2023-06-26T21:08:09.049Z"
   },
   {
    "duration": 22,
    "start_time": "2023-06-26T21:08:18.243Z"
   },
   {
    "duration": 13,
    "start_time": "2023-06-26T21:08:29.270Z"
   },
   {
    "duration": 131,
    "start_time": "2023-06-26T21:18:39.911Z"
   },
   {
    "duration": 178,
    "start_time": "2023-06-26T21:20:13.108Z"
   },
   {
    "duration": 13,
    "start_time": "2023-06-26T21:24:08.924Z"
   },
   {
    "duration": 20,
    "start_time": "2023-06-26T21:24:15.919Z"
   },
   {
    "duration": 15,
    "start_time": "2023-06-26T21:24:29.501Z"
   },
   {
    "duration": 75,
    "start_time": "2023-06-26T21:28:04.223Z"
   },
   {
    "duration": 15,
    "start_time": "2023-06-26T21:28:30.446Z"
   },
   {
    "duration": 139,
    "start_time": "2023-06-26T21:34:12.142Z"
   },
   {
    "duration": 5,
    "start_time": "2023-06-26T21:36:14.723Z"
   },
   {
    "duration": 5,
    "start_time": "2023-06-26T21:41:47.524Z"
   },
   {
    "duration": 5,
    "start_time": "2023-06-26T21:41:55.216Z"
   },
   {
    "duration": 18,
    "start_time": "2023-06-26T21:46:38.547Z"
   },
   {
    "duration": 150,
    "start_time": "2023-06-26T21:50:07.750Z"
   },
   {
    "duration": 180,
    "start_time": "2023-06-26T21:50:15.216Z"
   },
   {
    "duration": 183,
    "start_time": "2023-06-26T21:51:06.729Z"
   },
   {
    "duration": 82,
    "start_time": "2023-06-26T21:55:38.804Z"
   },
   {
    "duration": 11,
    "start_time": "2023-06-26T21:56:45.337Z"
   },
   {
    "duration": 12,
    "start_time": "2023-06-26T21:57:00.266Z"
   },
   {
    "duration": 8,
    "start_time": "2023-06-26T21:57:09.865Z"
   },
   {
    "duration": 8,
    "start_time": "2023-06-26T21:57:34.080Z"
   },
   {
    "duration": 12,
    "start_time": "2023-06-26T21:57:43.651Z"
   },
   {
    "duration": 266,
    "start_time": "2023-06-26T21:58:16.853Z"
   },
   {
    "duration": 94,
    "start_time": "2023-06-26T21:59:38.638Z"
   },
   {
    "duration": 195,
    "start_time": "2023-06-26T22:02:20.236Z"
   },
   {
    "duration": 200,
    "start_time": "2023-06-26T22:02:33.474Z"
   },
   {
    "duration": 263,
    "start_time": "2023-06-26T22:02:53.163Z"
   },
   {
    "duration": 217,
    "start_time": "2023-06-26T22:03:01.601Z"
   },
   {
    "duration": 110,
    "start_time": "2023-06-26T22:04:22.452Z"
   },
   {
    "duration": 6,
    "start_time": "2023-06-26T22:05:56.373Z"
   },
   {
    "duration": 3,
    "start_time": "2023-06-26T22:06:15.400Z"
   },
   {
    "duration": 6,
    "start_time": "2023-06-26T22:06:36.568Z"
   },
   {
    "duration": 3,
    "start_time": "2023-06-26T22:52:17.783Z"
   },
   {
    "duration": 151,
    "start_time": "2023-06-26T22:53:23.937Z"
   },
   {
    "duration": 168,
    "start_time": "2023-06-26T22:55:58.087Z"
   },
   {
    "duration": 116,
    "start_time": "2023-06-26T23:01:21.165Z"
   },
   {
    "duration": 221,
    "start_time": "2023-06-26T23:06:14.286Z"
   },
   {
    "duration": 261,
    "start_time": "2023-06-26T23:06:26.647Z"
   },
   {
    "duration": 149,
    "start_time": "2023-06-26T23:12:04.044Z"
   },
   {
    "duration": 26,
    "start_time": "2023-06-26T23:20:34.268Z"
   },
   {
    "duration": 142,
    "start_time": "2023-06-26T23:27:53.027Z"
   },
   {
    "duration": 3,
    "start_time": "2023-06-26T23:33:54.140Z"
   },
   {
    "duration": 13,
    "start_time": "2023-06-26T23:36:17.212Z"
   },
   {
    "duration": 3,
    "start_time": "2023-06-26T23:54:05.639Z"
   },
   {
    "duration": 4,
    "start_time": "2023-06-27T07:35:14.236Z"
   },
   {
    "duration": 668,
    "start_time": "2023-06-27T08:49:33.026Z"
   },
   {
    "duration": 49,
    "start_time": "2023-06-27T09:03:54.444Z"
   },
   {
    "duration": 2487,
    "start_time": "2023-06-27T09:04:03.346Z"
   },
   {
    "duration": 234,
    "start_time": "2023-06-27T09:04:05.839Z"
   },
   {
    "duration": 6,
    "start_time": "2023-06-27T09:04:06.076Z"
   },
   {
    "duration": 113,
    "start_time": "2023-06-27T09:04:06.084Z"
   },
   {
    "duration": 34,
    "start_time": "2023-06-27T09:04:06.199Z"
   },
   {
    "duration": 45,
    "start_time": "2023-06-27T09:04:06.236Z"
   },
   {
    "duration": 64,
    "start_time": "2023-06-27T09:04:06.283Z"
   },
   {
    "duration": 20,
    "start_time": "2023-06-27T09:04:06.349Z"
   },
   {
    "duration": 420,
    "start_time": "2023-06-27T09:04:06.371Z"
   },
   {
    "duration": 412,
    "start_time": "2023-06-27T09:04:06.795Z"
   },
   {
    "duration": 298,
    "start_time": "2023-06-27T09:04:07.210Z"
   },
   {
    "duration": 387,
    "start_time": "2023-06-27T09:04:07.512Z"
   },
   {
    "duration": 328,
    "start_time": "2023-06-27T09:04:07.901Z"
   },
   {
    "duration": 390,
    "start_time": "2023-06-27T09:04:08.239Z"
   },
   {
    "duration": 16,
    "start_time": "2023-06-27T09:04:08.638Z"
   },
   {
    "duration": 215,
    "start_time": "2023-06-27T09:04:08.657Z"
   },
   {
    "duration": 5,
    "start_time": "2023-06-27T09:04:08.874Z"
   },
   {
    "duration": 215,
    "start_time": "2023-06-27T09:04:08.880Z"
   },
   {
    "duration": 19,
    "start_time": "2023-06-27T09:04:09.096Z"
   },
   {
    "duration": 357,
    "start_time": "2023-06-27T09:04:09.117Z"
   },
   {
    "duration": 5,
    "start_time": "2023-06-27T09:04:09.476Z"
   },
   {
    "duration": 475,
    "start_time": "2023-06-27T09:04:09.483Z"
   },
   {
    "duration": 206,
    "start_time": "2023-06-27T09:04:09.960Z"
   },
   {
    "duration": 52,
    "start_time": "2023-06-27T09:04:10.168Z"
   },
   {
    "duration": 20,
    "start_time": "2023-06-27T09:04:10.222Z"
   },
   {
    "duration": 4439,
    "start_time": "2023-06-27T09:04:10.244Z"
   },
   {
    "duration": 15,
    "start_time": "2023-06-27T09:06:59.126Z"
   },
   {
    "duration": 14,
    "start_time": "2023-06-27T09:07:06.628Z"
   },
   {
    "duration": 11,
    "start_time": "2023-06-27T09:07:16.357Z"
   },
   {
    "duration": 12,
    "start_time": "2023-06-27T09:07:25.847Z"
   },
   {
    "duration": 2185,
    "start_time": "2023-06-27T09:43:13.147Z"
   },
   {
    "duration": 11,
    "start_time": "2023-06-27T09:43:46.926Z"
   },
   {
    "duration": 6,
    "start_time": "2023-06-27T09:44:01.822Z"
   },
   {
    "duration": 7,
    "start_time": "2023-06-27T09:45:01.900Z"
   },
   {
    "duration": 249,
    "start_time": "2023-06-27T09:50:52.519Z"
   },
   {
    "duration": 34,
    "start_time": "2023-06-27T09:52:27.721Z"
   },
   {
    "duration": 8,
    "start_time": "2023-06-27T09:58:13.009Z"
   },
   {
    "duration": 98,
    "start_time": "2023-06-27T09:58:40.546Z"
   },
   {
    "duration": 1757,
    "start_time": "2023-06-27T09:59:02.803Z"
   },
   {
    "duration": 30,
    "start_time": "2023-06-27T10:00:39.500Z"
   },
   {
    "duration": 65,
    "start_time": "2023-06-27T10:08:49.815Z"
   },
   {
    "duration": 426,
    "start_time": "2023-06-27T11:31:39.683Z"
   },
   {
    "duration": 437,
    "start_time": "2023-06-27T11:33:10.699Z"
   },
   {
    "duration": 3,
    "start_time": "2023-06-27T11:40:17.130Z"
   },
   {
    "duration": 3,
    "start_time": "2023-06-27T11:58:15.704Z"
   },
   {
    "duration": 4,
    "start_time": "2023-06-27T13:01:14.461Z"
   },
   {
    "duration": 205,
    "start_time": "2023-06-27T13:01:14.466Z"
   },
   {
    "duration": 5,
    "start_time": "2023-06-27T13:01:14.673Z"
   },
   {
    "duration": 64,
    "start_time": "2023-06-27T13:01:14.679Z"
   },
   {
    "duration": 16,
    "start_time": "2023-06-27T13:01:14.747Z"
   },
   {
    "duration": 20,
    "start_time": "2023-06-27T13:01:14.764Z"
   },
   {
    "duration": 51,
    "start_time": "2023-06-27T13:01:14.786Z"
   },
   {
    "duration": 30,
    "start_time": "2023-06-27T13:01:14.839Z"
   },
   {
    "duration": 398,
    "start_time": "2023-06-27T13:01:14.871Z"
   },
   {
    "duration": 303,
    "start_time": "2023-06-27T13:01:15.271Z"
   },
   {
    "duration": 277,
    "start_time": "2023-06-27T13:01:15.576Z"
   },
   {
    "duration": 332,
    "start_time": "2023-06-27T13:01:15.854Z"
   },
   {
    "duration": 511,
    "start_time": "2023-06-27T13:01:16.189Z"
   },
   {
    "duration": 465,
    "start_time": "2023-06-27T13:01:16.704Z"
   },
   {
    "duration": 12,
    "start_time": "2023-06-27T13:01:17.171Z"
   },
   {
    "duration": 207,
    "start_time": "2023-06-27T13:01:17.185Z"
   },
   {
    "duration": 5,
    "start_time": "2023-06-27T13:01:17.394Z"
   },
   {
    "duration": 221,
    "start_time": "2023-06-27T13:01:17.401Z"
   },
   {
    "duration": 13,
    "start_time": "2023-06-27T13:01:17.624Z"
   },
   {
    "duration": 207,
    "start_time": "2023-06-27T13:01:17.639Z"
   },
   {
    "duration": 5,
    "start_time": "2023-06-27T13:01:17.848Z"
   },
   {
    "duration": 273,
    "start_time": "2023-06-27T13:01:17.854Z"
   },
   {
    "duration": 161,
    "start_time": "2023-06-27T13:01:18.129Z"
   },
   {
    "duration": 41,
    "start_time": "2023-06-27T13:01:18.292Z"
   },
   {
    "duration": 15,
    "start_time": "2023-06-27T13:01:18.335Z"
   },
   {
    "duration": 10,
    "start_time": "2023-06-27T13:01:18.352Z"
   },
   {
    "duration": 53,
    "start_time": "2023-06-27T13:01:18.364Z"
   },
   {
    "duration": 20,
    "start_time": "2023-06-27T13:01:18.419Z"
   },
   {
    "duration": 1718,
    "start_time": "2023-06-27T13:05:16.656Z"
   },
   {
    "duration": 89,
    "start_time": "2023-06-27T13:05:18.376Z"
   },
   {
    "duration": 4,
    "start_time": "2023-06-27T13:05:18.467Z"
   },
   {
    "duration": 81,
    "start_time": "2023-06-27T13:05:18.473Z"
   },
   {
    "duration": 14,
    "start_time": "2023-06-27T13:05:18.557Z"
   },
   {
    "duration": 25,
    "start_time": "2023-06-27T13:05:18.573Z"
   },
   {
    "duration": 40,
    "start_time": "2023-06-27T13:05:18.600Z"
   },
   {
    "duration": 13,
    "start_time": "2023-06-27T13:05:18.642Z"
   },
   {
    "duration": 339,
    "start_time": "2023-06-27T13:05:18.657Z"
   },
   {
    "duration": 358,
    "start_time": "2023-06-27T13:05:18.997Z"
   },
   {
    "duration": 257,
    "start_time": "2023-06-27T13:05:19.357Z"
   },
   {
    "duration": 369,
    "start_time": "2023-06-27T13:05:19.615Z"
   },
   {
    "duration": 490,
    "start_time": "2023-06-27T13:05:19.986Z"
   },
   {
    "duration": 403,
    "start_time": "2023-06-27T13:05:20.481Z"
   },
   {
    "duration": 25,
    "start_time": "2023-06-27T13:05:20.886Z"
   },
   {
    "duration": 183,
    "start_time": "2023-06-27T13:05:20.913Z"
   },
   {
    "duration": 5,
    "start_time": "2023-06-27T13:05:21.102Z"
   },
   {
    "duration": 308,
    "start_time": "2023-06-27T13:05:21.109Z"
   },
   {
    "duration": 12,
    "start_time": "2023-06-27T13:05:21.419Z"
   },
   {
    "duration": 191,
    "start_time": "2023-06-27T13:05:21.432Z"
   },
   {
    "duration": 5,
    "start_time": "2023-06-27T13:05:21.625Z"
   },
   {
    "duration": 259,
    "start_time": "2023-06-27T13:05:21.631Z"
   },
   {
    "duration": 174,
    "start_time": "2023-06-27T13:05:21.892Z"
   },
   {
    "duration": 38,
    "start_time": "2023-06-27T13:05:22.068Z"
   },
   {
    "duration": 13,
    "start_time": "2023-06-27T13:05:22.109Z"
   },
   {
    "duration": 14,
    "start_time": "2023-06-27T13:05:22.124Z"
   },
   {
    "duration": 36,
    "start_time": "2023-06-27T13:05:22.140Z"
   },
   {
    "duration": 43,
    "start_time": "2023-06-27T13:05:22.178Z"
   },
   {
    "duration": 1500,
    "start_time": "2023-06-27T17:29:12.343Z"
   },
   {
    "duration": 198,
    "start_time": "2023-06-27T17:29:13.845Z"
   },
   {
    "duration": 5,
    "start_time": "2023-06-27T17:29:14.045Z"
   },
   {
    "duration": 57,
    "start_time": "2023-06-27T17:29:14.053Z"
   },
   {
    "duration": 13,
    "start_time": "2023-06-27T17:29:14.112Z"
   },
   {
    "duration": 31,
    "start_time": "2023-06-27T17:29:14.127Z"
   },
   {
    "duration": 12,
    "start_time": "2023-06-27T17:29:14.161Z"
   },
   {
    "duration": 14,
    "start_time": "2023-06-27T17:29:14.175Z"
   },
   {
    "duration": 349,
    "start_time": "2023-06-27T17:29:14.190Z"
   },
   {
    "duration": 356,
    "start_time": "2023-06-27T17:29:14.542Z"
   },
   {
    "duration": 249,
    "start_time": "2023-06-27T17:29:14.900Z"
   },
   {
    "duration": 432,
    "start_time": "2023-06-27T17:29:15.152Z"
   },
   {
    "duration": 478,
    "start_time": "2023-06-27T17:29:15.586Z"
   },
   {
    "duration": 357,
    "start_time": "2023-06-27T17:29:16.066Z"
   },
   {
    "duration": 13,
    "start_time": "2023-06-27T17:29:16.425Z"
   },
   {
    "duration": 185,
    "start_time": "2023-06-27T17:29:16.439Z"
   },
   {
    "duration": 4,
    "start_time": "2023-06-27T17:29:16.626Z"
   },
   {
    "duration": 297,
    "start_time": "2023-06-27T17:29:16.632Z"
   },
   {
    "duration": 20,
    "start_time": "2023-06-27T17:29:16.931Z"
   },
   {
    "duration": 186,
    "start_time": "2023-06-27T17:29:16.953Z"
   },
   {
    "duration": 13,
    "start_time": "2023-06-27T17:29:17.141Z"
   },
   {
    "duration": 283,
    "start_time": "2023-06-27T17:29:17.156Z"
   },
   {
    "duration": 175,
    "start_time": "2023-06-27T17:29:17.440Z"
   },
   {
    "duration": 37,
    "start_time": "2023-06-27T17:29:17.617Z"
   },
   {
    "duration": 12,
    "start_time": "2023-06-27T17:29:17.655Z"
   },
   {
    "duration": 25,
    "start_time": "2023-06-27T17:29:17.669Z"
   },
   {
    "duration": 59,
    "start_time": "2023-06-27T17:29:17.696Z"
   },
   {
    "duration": 26,
    "start_time": "2023-06-27T17:29:17.758Z"
   },
   {
    "duration": 98,
    "start_time": "2023-06-27T21:56:21.701Z"
   },
   {
    "duration": 80,
    "start_time": "2023-06-27T21:56:36.132Z"
   },
   {
    "duration": 87,
    "start_time": "2023-06-27T22:09:14.239Z"
   },
   {
    "duration": 94,
    "start_time": "2023-06-27T22:09:37.713Z"
   },
   {
    "duration": 40,
    "start_time": "2023-06-27T22:22:11.912Z"
   },
   {
    "duration": 5,
    "start_time": "2023-06-27T22:26:19.434Z"
   },
   {
    "duration": 1330,
    "start_time": "2023-06-27T22:26:23.752Z"
   },
   {
    "duration": 204,
    "start_time": "2023-06-27T22:26:25.084Z"
   },
   {
    "duration": 3,
    "start_time": "2023-06-27T22:26:25.290Z"
   },
   {
    "duration": 50,
    "start_time": "2023-06-27T22:26:25.295Z"
   },
   {
    "duration": 11,
    "start_time": "2023-06-27T22:26:25.347Z"
   },
   {
    "duration": 28,
    "start_time": "2023-06-27T22:26:25.359Z"
   },
   {
    "duration": 3,
    "start_time": "2023-06-27T22:26:25.389Z"
   },
   {
    "duration": 14,
    "start_time": "2023-06-27T22:26:25.393Z"
   },
   {
    "duration": 10,
    "start_time": "2023-06-27T22:26:25.408Z"
   },
   {
    "duration": 274,
    "start_time": "2023-06-27T22:26:25.420Z"
   },
   {
    "duration": 297,
    "start_time": "2023-06-27T22:26:25.696Z"
   },
   {
    "duration": 208,
    "start_time": "2023-06-27T22:26:25.995Z"
   },
   {
    "duration": 328,
    "start_time": "2023-06-27T22:26:26.204Z"
   },
   {
    "duration": 370,
    "start_time": "2023-06-27T22:26:26.534Z"
   },
   {
    "duration": 302,
    "start_time": "2023-06-27T22:26:26.906Z"
   },
   {
    "duration": 12,
    "start_time": "2023-06-27T22:26:27.210Z"
   },
   {
    "duration": 236,
    "start_time": "2023-06-27T22:26:27.223Z"
   },
   {
    "duration": 10,
    "start_time": "2023-06-27T22:26:27.461Z"
   },
   {
    "duration": 174,
    "start_time": "2023-06-27T22:26:27.473Z"
   },
   {
    "duration": 11,
    "start_time": "2023-06-27T22:26:27.648Z"
   },
   {
    "duration": 170,
    "start_time": "2023-06-27T22:26:27.660Z"
   },
   {
    "duration": 4,
    "start_time": "2023-06-27T22:26:27.831Z"
   },
   {
    "duration": 243,
    "start_time": "2023-06-27T22:26:27.837Z"
   },
   {
    "duration": 155,
    "start_time": "2023-06-27T22:26:28.082Z"
   },
   {
    "duration": 40,
    "start_time": "2023-06-27T22:26:28.239Z"
   },
   {
    "duration": 10,
    "start_time": "2023-06-27T22:26:28.281Z"
   },
   {
    "duration": 9,
    "start_time": "2023-06-27T22:26:28.293Z"
   },
   {
    "duration": 32,
    "start_time": "2023-06-27T22:26:28.305Z"
   },
   {
    "duration": 40,
    "start_time": "2023-06-27T22:26:28.339Z"
   },
   {
    "duration": 226,
    "start_time": "2023-06-27T22:27:09.522Z"
   },
   {
    "duration": 4,
    "start_time": "2023-06-27T22:27:29.197Z"
   },
   {
    "duration": 12,
    "start_time": "2023-06-27T22:28:36.311Z"
   },
   {
    "duration": 14,
    "start_time": "2023-06-27T22:29:30.193Z"
   },
   {
    "duration": 14,
    "start_time": "2023-06-27T22:29:53.194Z"
   },
   {
    "duration": 3,
    "start_time": "2023-06-27T22:30:52.960Z"
   },
   {
    "duration": 78,
    "start_time": "2023-06-27T22:30:52.965Z"
   },
   {
    "duration": 13,
    "start_time": "2023-06-27T22:30:53.045Z"
   },
   {
    "duration": 4,
    "start_time": "2023-06-27T22:30:53.059Z"
   },
   {
    "duration": 41,
    "start_time": "2023-06-27T22:30:53.064Z"
   },
   {
    "duration": 11,
    "start_time": "2023-06-27T22:30:53.107Z"
   },
   {
    "duration": 9,
    "start_time": "2023-06-27T22:30:53.119Z"
   },
   {
    "duration": 9,
    "start_time": "2023-06-27T22:30:53.130Z"
   },
   {
    "duration": 41,
    "start_time": "2023-06-27T22:30:53.141Z"
   },
   {
    "duration": 276,
    "start_time": "2023-06-27T22:30:53.184Z"
   },
   {
    "duration": 202,
    "start_time": "2023-06-27T22:30:53.467Z"
   },
   {
    "duration": 199,
    "start_time": "2023-06-27T22:30:53.671Z"
   },
   {
    "duration": 322,
    "start_time": "2023-06-27T22:30:53.872Z"
   },
   {
    "duration": 366,
    "start_time": "2023-06-27T22:30:54.195Z"
   },
   {
    "duration": 341,
    "start_time": "2023-06-27T22:30:54.567Z"
   },
   {
    "duration": 11,
    "start_time": "2023-06-27T22:30:54.909Z"
   },
   {
    "duration": 143,
    "start_time": "2023-06-27T22:30:54.922Z"
   },
   {
    "duration": 4,
    "start_time": "2023-06-27T22:30:55.068Z"
   },
   {
    "duration": 226,
    "start_time": "2023-06-27T22:30:55.073Z"
   },
   {
    "duration": 9,
    "start_time": "2023-06-27T22:30:55.301Z"
   },
   {
    "duration": 149,
    "start_time": "2023-06-27T22:30:55.311Z"
   },
   {
    "duration": 8,
    "start_time": "2023-06-27T22:30:55.462Z"
   },
   {
    "duration": 209,
    "start_time": "2023-06-27T22:30:55.471Z"
   },
   {
    "duration": 137,
    "start_time": "2023-06-27T22:30:55.682Z"
   },
   {
    "duration": 25,
    "start_time": "2023-06-27T22:30:55.821Z"
   },
   {
    "duration": 26,
    "start_time": "2023-06-27T22:30:55.847Z"
   },
   {
    "duration": 8,
    "start_time": "2023-06-27T22:30:55.875Z"
   },
   {
    "duration": 25,
    "start_time": "2023-06-27T22:30:55.884Z"
   },
   {
    "duration": 12,
    "start_time": "2023-06-27T22:30:55.911Z"
   },
   {
    "duration": 5,
    "start_time": "2023-06-27T22:31:16.996Z"
   },
   {
    "duration": 63,
    "start_time": "2023-06-27T22:31:23.727Z"
   },
   {
    "duration": 96,
    "start_time": "2023-06-27T22:32:31.406Z"
   },
   {
    "duration": 12,
    "start_time": "2023-06-27T22:32:36.447Z"
   },
   {
    "duration": 13,
    "start_time": "2023-06-27T22:32:49.703Z"
   },
   {
    "duration": 4,
    "start_time": "2023-06-27T22:33:43.942Z"
   },
   {
    "duration": 12,
    "start_time": "2023-06-27T22:40:39.008Z"
   },
   {
    "duration": 13,
    "start_time": "2023-06-27T22:41:47.070Z"
   },
   {
    "duration": 13,
    "start_time": "2023-06-27T22:42:27.665Z"
   },
   {
    "duration": 12,
    "start_time": "2023-06-27T22:42:57.986Z"
   },
   {
    "duration": 18,
    "start_time": "2023-06-27T22:48:55.564Z"
   },
   {
    "duration": 12,
    "start_time": "2023-06-27T22:49:41.226Z"
   },
   {
    "duration": 14,
    "start_time": "2023-06-27T22:49:57.857Z"
   },
   {
    "duration": 11,
    "start_time": "2023-06-27T22:50:18.847Z"
   },
   {
    "duration": 24,
    "start_time": "2023-06-27T22:50:27.664Z"
   },
   {
    "duration": 8,
    "start_time": "2023-06-27T22:50:48.718Z"
   },
   {
    "duration": 14,
    "start_time": "2023-06-27T22:51:21.311Z"
   },
   {
    "duration": 94,
    "start_time": "2023-06-27T22:51:50.759Z"
   },
   {
    "duration": 43,
    "start_time": "2023-06-27T22:52:03.423Z"
   },
   {
    "duration": 86,
    "start_time": "2023-06-27T22:55:39.330Z"
   },
   {
    "duration": 95,
    "start_time": "2023-06-27T23:00:02.202Z"
   },
   {
    "duration": 13,
    "start_time": "2023-06-27T23:01:42.056Z"
   },
   {
    "duration": 12,
    "start_time": "2023-06-27T23:02:21.615Z"
   },
   {
    "duration": 12,
    "start_time": "2023-06-27T23:10:37.014Z"
   },
   {
    "duration": 9672,
    "start_time": "2023-06-27T23:12:14.543Z"
   },
   {
    "duration": 172,
    "start_time": "2023-06-27T23:12:25.057Z"
   },
   {
    "duration": 0,
    "start_time": "2023-06-27T23:14:15.938Z"
   },
   {
    "duration": 2228,
    "start_time": "2023-06-27T23:14:23.858Z"
   },
   {
    "duration": 18,
    "start_time": "2023-06-27T23:33:24.116Z"
   },
   {
    "duration": 13,
    "start_time": "2023-06-27T23:33:52.367Z"
   },
   {
    "duration": 13,
    "start_time": "2023-06-27T23:34:58.309Z"
   },
   {
    "duration": 10,
    "start_time": "2023-06-27T23:38:24.979Z"
   },
   {
    "duration": 11,
    "start_time": "2023-06-27T23:38:47.441Z"
   },
   {
    "duration": 9,
    "start_time": "2023-06-27T23:49:32.133Z"
   },
   {
    "duration": 33,
    "start_time": "2023-06-27T23:51:46.900Z"
   },
   {
    "duration": 18,
    "start_time": "2023-06-27T23:51:55.209Z"
   },
   {
    "duration": 16,
    "start_time": "2023-06-27T23:52:56.324Z"
   },
   {
    "duration": 15,
    "start_time": "2023-06-27T23:53:36.000Z"
   },
   {
    "duration": 15,
    "start_time": "2023-06-27T23:54:08.262Z"
   },
   {
    "duration": 16,
    "start_time": "2023-06-27T23:54:17.034Z"
   },
   {
    "duration": 15,
    "start_time": "2023-06-27T23:54:31.194Z"
   },
   {
    "duration": 8,
    "start_time": "2023-06-27T23:54:37.395Z"
   },
   {
    "duration": 9,
    "start_time": "2023-06-27T23:54:46.730Z"
   },
   {
    "duration": 14,
    "start_time": "2023-06-27T23:55:25.403Z"
   },
   {
    "duration": 15,
    "start_time": "2023-06-27T23:55:31.512Z"
   },
   {
    "duration": 4,
    "start_time": "2023-06-27T23:56:20.040Z"
   },
   {
    "duration": 79,
    "start_time": "2023-06-27T23:56:20.045Z"
   },
   {
    "duration": 4,
    "start_time": "2023-06-27T23:56:20.126Z"
   },
   {
    "duration": 42,
    "start_time": "2023-06-27T23:56:20.131Z"
   },
   {
    "duration": 11,
    "start_time": "2023-06-27T23:56:20.175Z"
   },
   {
    "duration": 17,
    "start_time": "2023-06-27T23:56:20.187Z"
   },
   {
    "duration": 25,
    "start_time": "2023-06-27T23:56:20.205Z"
   },
   {
    "duration": 14,
    "start_time": "2023-06-27T23:56:20.231Z"
   },
   {
    "duration": 10,
    "start_time": "2023-06-27T23:56:20.247Z"
   },
   {
    "duration": 288,
    "start_time": "2023-06-27T23:56:20.259Z"
   },
   {
    "duration": 231,
    "start_time": "2023-06-27T23:56:20.548Z"
   },
   {
    "duration": 216,
    "start_time": "2023-06-27T23:56:20.780Z"
   },
   {
    "duration": 336,
    "start_time": "2023-06-27T23:56:20.998Z"
   },
   {
    "duration": 469,
    "start_time": "2023-06-27T23:56:21.336Z"
   },
   {
    "duration": 302,
    "start_time": "2023-06-27T23:56:21.806Z"
   },
   {
    "duration": 11,
    "start_time": "2023-06-27T23:56:22.109Z"
   },
   {
    "duration": 151,
    "start_time": "2023-06-27T23:56:22.122Z"
   },
   {
    "duration": 4,
    "start_time": "2023-06-27T23:56:22.275Z"
   },
   {
    "duration": 160,
    "start_time": "2023-06-27T23:56:22.280Z"
   },
   {
    "duration": 9,
    "start_time": "2023-06-27T23:56:22.441Z"
   },
   {
    "duration": 158,
    "start_time": "2023-06-27T23:56:22.451Z"
   },
   {
    "duration": 4,
    "start_time": "2023-06-27T23:56:22.611Z"
   },
   {
    "duration": 223,
    "start_time": "2023-06-27T23:56:22.616Z"
   },
   {
    "duration": 130,
    "start_time": "2023-06-27T23:56:22.841Z"
   },
   {
    "duration": 25,
    "start_time": "2023-06-27T23:56:22.972Z"
   },
   {
    "duration": 9,
    "start_time": "2023-06-27T23:56:22.999Z"
   },
   {
    "duration": 14,
    "start_time": "2023-06-27T23:56:23.009Z"
   },
   {
    "duration": 47,
    "start_time": "2023-06-27T23:56:23.025Z"
   },
   {
    "duration": 15,
    "start_time": "2023-06-27T23:56:23.074Z"
   },
   {
    "duration": 17,
    "start_time": "2023-06-27T23:56:58.009Z"
   },
   {
    "duration": 17,
    "start_time": "2023-06-27T23:57:11.284Z"
   },
   {
    "duration": 17,
    "start_time": "2023-06-27T23:58:10.795Z"
   },
   {
    "duration": 121,
    "start_time": "2023-06-28T00:05:19.842Z"
   },
   {
    "duration": 119,
    "start_time": "2023-06-28T00:07:36.204Z"
   },
   {
    "duration": 522,
    "start_time": "2023-06-28T00:09:25.704Z"
   },
   {
    "duration": 4,
    "start_time": "2023-06-28T00:41:17.358Z"
   },
   {
    "duration": 81,
    "start_time": "2023-06-28T00:41:17.363Z"
   },
   {
    "duration": 4,
    "start_time": "2023-06-28T00:41:17.445Z"
   },
   {
    "duration": 40,
    "start_time": "2023-06-28T00:41:17.451Z"
   },
   {
    "duration": 11,
    "start_time": "2023-06-28T00:41:17.493Z"
   },
   {
    "duration": 10,
    "start_time": "2023-06-28T00:41:17.506Z"
   },
   {
    "duration": 10,
    "start_time": "2023-06-28T00:41:17.518Z"
   },
   {
    "duration": 39,
    "start_time": "2023-06-28T00:41:17.530Z"
   },
   {
    "duration": 21,
    "start_time": "2023-06-28T00:41:17.571Z"
   },
   {
    "duration": 281,
    "start_time": "2023-06-28T00:41:17.594Z"
   },
   {
    "duration": 213,
    "start_time": "2023-06-28T00:41:17.878Z"
   },
   {
    "duration": 206,
    "start_time": "2023-06-28T00:41:18.093Z"
   },
   {
    "duration": 281,
    "start_time": "2023-06-28T00:41:18.301Z"
   },
   {
    "duration": 364,
    "start_time": "2023-06-28T00:41:18.584Z"
   },
   {
    "duration": 350,
    "start_time": "2023-06-28T00:41:18.949Z"
   },
   {
    "duration": 10,
    "start_time": "2023-06-28T00:41:19.300Z"
   },
   {
    "duration": 162,
    "start_time": "2023-06-28T00:41:19.312Z"
   },
   {
    "duration": 4,
    "start_time": "2023-06-28T00:41:19.475Z"
   },
   {
    "duration": 237,
    "start_time": "2023-06-28T00:41:19.480Z"
   },
   {
    "duration": 9,
    "start_time": "2023-06-28T00:41:19.719Z"
   },
   {
    "duration": 146,
    "start_time": "2023-06-28T00:41:19.729Z"
   },
   {
    "duration": 4,
    "start_time": "2023-06-28T00:41:19.877Z"
   },
   {
    "duration": 219,
    "start_time": "2023-06-28T00:41:19.882Z"
   },
   {
    "duration": 116,
    "start_time": "2023-06-28T00:41:20.103Z"
   },
   {
    "duration": 24,
    "start_time": "2023-06-28T00:41:20.220Z"
   },
   {
    "duration": 8,
    "start_time": "2023-06-28T00:41:20.246Z"
   },
   {
    "duration": 9,
    "start_time": "2023-06-28T00:41:20.268Z"
   },
   {
    "duration": 25,
    "start_time": "2023-06-28T00:41:20.278Z"
   },
   {
    "duration": 12,
    "start_time": "2023-06-28T00:41:20.305Z"
   },
   {
    "duration": 332,
    "start_time": "2023-06-28T00:44:43.663Z"
   },
   {
    "duration": 99,
    "start_time": "2023-06-28T00:45:31.536Z"
   },
   {
    "duration": 336,
    "start_time": "2023-06-28T00:45:36.259Z"
   },
   {
    "duration": 310,
    "start_time": "2023-06-28T00:45:43.825Z"
   },
   {
    "duration": 93,
    "start_time": "2023-06-28T00:48:46.005Z"
   },
   {
    "duration": 90,
    "start_time": "2023-06-28T00:49:11.164Z"
   },
   {
    "duration": 100,
    "start_time": "2023-06-28T01:01:57.697Z"
   },
   {
    "duration": 209,
    "start_time": "2023-06-28T01:16:27.506Z"
   },
   {
    "duration": 194,
    "start_time": "2023-06-28T01:16:37.542Z"
   },
   {
    "duration": 98,
    "start_time": "2023-06-28T01:17:41.312Z"
   },
   {
    "duration": 87,
    "start_time": "2023-06-28T01:20:07.802Z"
   },
   {
    "duration": 4,
    "start_time": "2023-06-28T01:20:29.994Z"
   },
   {
    "duration": 99,
    "start_time": "2023-06-28T01:20:30.001Z"
   },
   {
    "duration": 5,
    "start_time": "2023-06-28T01:20:30.102Z"
   },
   {
    "duration": 97,
    "start_time": "2023-06-28T01:20:30.109Z"
   },
   {
    "duration": 27,
    "start_time": "2023-06-28T01:20:30.208Z"
   },
   {
    "duration": 60,
    "start_time": "2023-06-28T01:20:30.237Z"
   },
   {
    "duration": 37,
    "start_time": "2023-06-28T01:20:30.299Z"
   },
   {
    "duration": 63,
    "start_time": "2023-06-28T01:20:30.338Z"
   },
   {
    "duration": 66,
    "start_time": "2023-06-28T01:20:30.403Z"
   },
   {
    "duration": 294,
    "start_time": "2023-06-28T01:20:30.471Z"
   },
   {
    "duration": 210,
    "start_time": "2023-06-28T01:20:30.768Z"
   },
   {
    "duration": 220,
    "start_time": "2023-06-28T01:20:30.979Z"
   },
   {
    "duration": 295,
    "start_time": "2023-06-28T01:20:31.200Z"
   },
   {
    "duration": 373,
    "start_time": "2023-06-28T01:20:31.497Z"
   },
   {
    "duration": 322,
    "start_time": "2023-06-28T01:20:31.871Z"
   },
   {
    "duration": 10,
    "start_time": "2023-06-28T01:20:32.195Z"
   },
   {
    "duration": 275,
    "start_time": "2023-06-28T01:20:32.207Z"
   },
   {
    "duration": 4,
    "start_time": "2023-06-28T01:20:32.483Z"
   },
   {
    "duration": 151,
    "start_time": "2023-06-28T01:20:32.488Z"
   },
   {
    "duration": 9,
    "start_time": "2023-06-28T01:20:32.641Z"
   },
   {
    "duration": 154,
    "start_time": "2023-06-28T01:20:32.651Z"
   },
   {
    "duration": 3,
    "start_time": "2023-06-28T01:20:32.807Z"
   },
   {
    "duration": 103,
    "start_time": "2023-06-28T01:20:32.812Z"
   },
   {
    "duration": 221,
    "start_time": "2023-06-28T01:20:32.916Z"
   },
   {
    "duration": 132,
    "start_time": "2023-06-28T01:20:33.138Z"
   },
   {
    "duration": 24,
    "start_time": "2023-06-28T01:20:33.272Z"
   },
   {
    "duration": 8,
    "start_time": "2023-06-28T01:20:33.297Z"
   },
   {
    "duration": 8,
    "start_time": "2023-06-28T01:20:33.308Z"
   },
   {
    "duration": 31,
    "start_time": "2023-06-28T01:20:33.317Z"
   },
   {
    "duration": 22,
    "start_time": "2023-06-28T01:20:33.349Z"
   },
   {
    "duration": 1027,
    "start_time": "2023-06-28T01:21:10.825Z"
   },
   {
    "duration": 74,
    "start_time": "2023-06-28T01:21:11.854Z"
   },
   {
    "duration": 4,
    "start_time": "2023-06-28T01:21:11.930Z"
   },
   {
    "duration": 45,
    "start_time": "2023-06-28T01:21:11.935Z"
   },
   {
    "duration": 12,
    "start_time": "2023-06-28T01:21:11.981Z"
   },
   {
    "duration": 15,
    "start_time": "2023-06-28T01:21:11.994Z"
   },
   {
    "duration": 10,
    "start_time": "2023-06-28T01:21:12.011Z"
   },
   {
    "duration": 11,
    "start_time": "2023-06-28T01:21:12.022Z"
   },
   {
    "duration": 34,
    "start_time": "2023-06-28T01:21:12.034Z"
   },
   {
    "duration": 275,
    "start_time": "2023-06-28T01:21:12.070Z"
   },
   {
    "duration": 278,
    "start_time": "2023-06-28T01:21:12.347Z"
   },
   {
    "duration": 213,
    "start_time": "2023-06-28T01:21:12.626Z"
   },
   {
    "duration": 329,
    "start_time": "2023-06-28T01:21:12.841Z"
   },
   {
    "duration": 361,
    "start_time": "2023-06-28T01:21:13.171Z"
   },
   {
    "duration": 346,
    "start_time": "2023-06-28T01:21:13.534Z"
   },
   {
    "duration": 11,
    "start_time": "2023-06-28T01:21:13.881Z"
   },
   {
    "duration": 180,
    "start_time": "2023-06-28T01:21:13.894Z"
   },
   {
    "duration": 4,
    "start_time": "2023-06-28T01:21:14.075Z"
   },
   {
    "duration": 225,
    "start_time": "2023-06-28T01:21:14.080Z"
   },
   {
    "duration": 10,
    "start_time": "2023-06-28T01:21:14.306Z"
   },
   {
    "duration": 155,
    "start_time": "2023-06-28T01:21:14.317Z"
   },
   {
    "duration": 4,
    "start_time": "2023-06-28T01:21:14.473Z"
   },
   {
    "duration": 181,
    "start_time": "2023-06-28T01:21:14.478Z"
   },
   {
    "duration": 0,
    "start_time": "2023-06-28T01:21:14.661Z"
   },
   {
    "duration": 0,
    "start_time": "2023-06-28T01:21:14.662Z"
   },
   {
    "duration": 0,
    "start_time": "2023-06-28T01:21:14.663Z"
   },
   {
    "duration": 0,
    "start_time": "2023-06-28T01:21:14.668Z"
   },
   {
    "duration": 0,
    "start_time": "2023-06-28T01:21:14.669Z"
   },
   {
    "duration": 0,
    "start_time": "2023-06-28T01:21:14.670Z"
   },
   {
    "duration": 0,
    "start_time": "2023-06-28T01:21:14.671Z"
   },
   {
    "duration": 92,
    "start_time": "2023-06-28T01:21:39.997Z"
   },
   {
    "duration": 193,
    "start_time": "2023-06-28T01:22:05.893Z"
   },
   {
    "duration": 103,
    "start_time": "2023-06-28T01:22:13.150Z"
   },
   {
    "duration": 24,
    "start_time": "2023-06-28T01:22:17.552Z"
   },
   {
    "duration": 10,
    "start_time": "2023-06-28T01:24:14.216Z"
   },
   {
    "duration": 9,
    "start_time": "2023-06-28T01:24:26.558Z"
   },
   {
    "duration": 28,
    "start_time": "2023-06-28T01:24:44.044Z"
   },
   {
    "duration": 14,
    "start_time": "2023-06-28T01:24:53.025Z"
   },
   {
    "duration": 134,
    "start_time": "2023-06-28T01:30:37.346Z"
   },
   {
    "duration": 24,
    "start_time": "2023-06-28T01:30:40.406Z"
   },
   {
    "duration": 28,
    "start_time": "2023-06-28T01:33:28.801Z"
   },
   {
    "duration": 121,
    "start_time": "2023-06-28T01:37:32.107Z"
   },
   {
    "duration": 34,
    "start_time": "2023-06-28T01:37:37.259Z"
   },
   {
    "duration": 24,
    "start_time": "2023-06-28T01:39:56.288Z"
   },
   {
    "duration": 24,
    "start_time": "2023-06-28T01:40:00.854Z"
   },
   {
    "duration": 80,
    "start_time": "2023-06-28T01:40:39.605Z"
   },
   {
    "duration": 9,
    "start_time": "2023-06-28T01:42:06.508Z"
   },
   {
    "duration": 10,
    "start_time": "2023-06-28T01:43:04.359Z"
   },
   {
    "duration": 11,
    "start_time": "2023-06-28T01:43:09.648Z"
   },
   {
    "duration": 8,
    "start_time": "2023-06-28T01:45:53.609Z"
   },
   {
    "duration": 4,
    "start_time": "2023-06-28T01:50:23.137Z"
   },
   {
    "duration": 10,
    "start_time": "2023-06-28T01:50:27.664Z"
   },
   {
    "duration": 9,
    "start_time": "2023-06-28T01:50:48.752Z"
   },
   {
    "duration": 4,
    "start_time": "2023-06-28T01:51:21.955Z"
   },
   {
    "duration": 5,
    "start_time": "2023-06-28T01:51:54.900Z"
   },
   {
    "duration": 10,
    "start_time": "2023-06-28T01:52:13.451Z"
   },
   {
    "duration": 10,
    "start_time": "2023-06-28T01:53:05.517Z"
   },
   {
    "duration": 30,
    "start_time": "2023-06-28T01:53:24.498Z"
   },
   {
    "duration": 1126,
    "start_time": "2023-06-28T01:53:40.240Z"
   },
   {
    "duration": 73,
    "start_time": "2023-06-28T01:53:41.369Z"
   },
   {
    "duration": 4,
    "start_time": "2023-06-28T01:53:41.444Z"
   },
   {
    "duration": 46,
    "start_time": "2023-06-28T01:53:41.451Z"
   },
   {
    "duration": 13,
    "start_time": "2023-06-28T01:53:41.498Z"
   },
   {
    "duration": 10,
    "start_time": "2023-06-28T01:53:41.513Z"
   },
   {
    "duration": 13,
    "start_time": "2023-06-28T01:53:41.524Z"
   },
   {
    "duration": 34,
    "start_time": "2023-06-28T01:53:41.538Z"
   },
   {
    "duration": 18,
    "start_time": "2023-06-28T01:53:41.573Z"
   },
   {
    "duration": 297,
    "start_time": "2023-06-28T01:53:41.594Z"
   },
   {
    "duration": 288,
    "start_time": "2023-06-28T01:53:41.893Z"
   },
   {
    "duration": 220,
    "start_time": "2023-06-28T01:53:42.183Z"
   },
   {
    "duration": 281,
    "start_time": "2023-06-28T01:53:42.405Z"
   },
   {
    "duration": 384,
    "start_time": "2023-06-28T01:53:42.687Z"
   },
   {
    "duration": 324,
    "start_time": "2023-06-28T01:53:43.073Z"
   },
   {
    "duration": 10,
    "start_time": "2023-06-28T01:53:43.399Z"
   },
   {
    "duration": 166,
    "start_time": "2023-06-28T01:53:43.411Z"
   },
   {
    "duration": 4,
    "start_time": "2023-06-28T01:53:43.578Z"
   },
   {
    "duration": 230,
    "start_time": "2023-06-28T01:53:43.583Z"
   },
   {
    "duration": 10,
    "start_time": "2023-06-28T01:53:43.814Z"
   },
   {
    "duration": 164,
    "start_time": "2023-06-28T01:53:43.825Z"
   },
   {
    "duration": 7,
    "start_time": "2023-06-28T01:53:43.991Z"
   },
   {
    "duration": 137,
    "start_time": "2023-06-28T01:53:44.000Z"
   },
   {
    "duration": 35,
    "start_time": "2023-06-28T01:53:44.139Z"
   },
   {
    "duration": 9,
    "start_time": "2023-06-28T01:53:44.176Z"
   },
   {
    "duration": 11,
    "start_time": "2023-06-28T01:53:44.187Z"
   },
   {
    "duration": 117,
    "start_time": "2023-06-28T01:53:44.199Z"
   },
   {
    "duration": 0,
    "start_time": "2023-06-28T01:53:44.318Z"
   },
   {
    "duration": 90,
    "start_time": "2023-06-28T01:54:45.504Z"
   },
   {
    "duration": 28,
    "start_time": "2023-06-28T01:58:15.604Z"
   },
   {
    "duration": 26,
    "start_time": "2023-06-28T01:58:36.202Z"
   },
   {
    "duration": 46,
    "start_time": "2023-06-28T01:59:27.056Z"
   },
   {
    "duration": 46,
    "start_time": "2023-06-28T02:01:16.201Z"
   },
   {
    "duration": 48,
    "start_time": "2023-06-28T02:01:19.896Z"
   },
   {
    "duration": 50,
    "start_time": "2023-06-28T02:01:29.533Z"
   },
   {
    "duration": 45,
    "start_time": "2023-06-28T02:01:36.461Z"
   },
   {
    "duration": 127,
    "start_time": "2023-06-28T02:03:20.099Z"
   },
   {
    "duration": 14,
    "start_time": "2023-06-28T02:03:44.646Z"
   },
   {
    "duration": 10,
    "start_time": "2023-06-28T02:04:19.003Z"
   },
   {
    "duration": 18,
    "start_time": "2023-06-28T02:04:51.148Z"
   },
   {
    "duration": 18,
    "start_time": "2023-06-28T02:05:16.222Z"
   },
   {
    "duration": 19,
    "start_time": "2023-06-28T02:05:30.997Z"
   },
   {
    "duration": 21,
    "start_time": "2023-06-28T02:06:21.280Z"
   },
   {
    "duration": 86,
    "start_time": "2023-06-28T02:06:57.153Z"
   },
   {
    "duration": 83,
    "start_time": "2023-06-28T02:08:49.284Z"
   },
   {
    "duration": 46,
    "start_time": "2023-06-28T02:15:03.024Z"
   },
   {
    "duration": 1125,
    "start_time": "2023-06-28T02:21:59.653Z"
   },
   {
    "duration": 75,
    "start_time": "2023-06-28T02:22:00.780Z"
   },
   {
    "duration": 5,
    "start_time": "2023-06-28T02:22:00.856Z"
   },
   {
    "duration": 61,
    "start_time": "2023-06-28T02:22:00.863Z"
   },
   {
    "duration": 12,
    "start_time": "2023-06-28T02:22:00.926Z"
   },
   {
    "duration": 20,
    "start_time": "2023-06-28T02:22:00.939Z"
   },
   {
    "duration": 39,
    "start_time": "2023-06-28T02:22:00.961Z"
   },
   {
    "duration": 22,
    "start_time": "2023-06-28T02:22:01.001Z"
   },
   {
    "duration": 34,
    "start_time": "2023-06-28T02:22:01.024Z"
   },
   {
    "duration": 284,
    "start_time": "2023-06-28T02:22:01.060Z"
   },
   {
    "duration": 282,
    "start_time": "2023-06-28T02:22:01.346Z"
   },
   {
    "duration": 222,
    "start_time": "2023-06-28T02:22:01.630Z"
   },
   {
    "duration": 315,
    "start_time": "2023-06-28T02:22:01.853Z"
   },
   {
    "duration": 379,
    "start_time": "2023-06-28T02:22:02.170Z"
   },
   {
    "duration": 331,
    "start_time": "2023-06-28T02:22:02.551Z"
   },
   {
    "duration": 10,
    "start_time": "2023-06-28T02:22:02.883Z"
   },
   {
    "duration": 163,
    "start_time": "2023-06-28T02:22:02.894Z"
   },
   {
    "duration": 10,
    "start_time": "2023-06-28T02:22:03.059Z"
   },
   {
    "duration": 231,
    "start_time": "2023-06-28T02:22:03.070Z"
   },
   {
    "duration": 9,
    "start_time": "2023-06-28T02:22:03.303Z"
   },
   {
    "duration": 152,
    "start_time": "2023-06-28T02:22:03.314Z"
   },
   {
    "duration": 3,
    "start_time": "2023-06-28T02:22:03.468Z"
   },
   {
    "duration": 119,
    "start_time": "2023-06-28T02:22:03.473Z"
   },
   {
    "duration": 26,
    "start_time": "2023-06-28T02:22:03.593Z"
   },
   {
    "duration": 8,
    "start_time": "2023-06-28T02:22:03.621Z"
   },
   {
    "duration": 8,
    "start_time": "2023-06-28T02:22:03.631Z"
   },
   {
    "duration": 68,
    "start_time": "2023-06-28T02:22:03.641Z"
   },
   {
    "duration": 20,
    "start_time": "2023-06-28T02:22:03.712Z"
   },
   {
    "duration": 3,
    "start_time": "2023-06-28T02:24:14.926Z"
   },
   {
    "duration": 76,
    "start_time": "2023-06-28T02:24:14.931Z"
   },
   {
    "duration": 5,
    "start_time": "2023-06-28T02:24:15.008Z"
   },
   {
    "duration": 79,
    "start_time": "2023-06-28T02:24:15.014Z"
   },
   {
    "duration": 11,
    "start_time": "2023-06-28T02:24:15.095Z"
   },
   {
    "duration": 39,
    "start_time": "2023-06-28T02:24:15.108Z"
   },
   {
    "duration": 36,
    "start_time": "2023-06-28T02:24:15.149Z"
   },
   {
    "duration": 16,
    "start_time": "2023-06-28T02:24:15.187Z"
   },
   {
    "duration": 17,
    "start_time": "2023-06-28T02:24:15.205Z"
   },
   {
    "duration": 278,
    "start_time": "2023-06-28T02:24:15.223Z"
   },
   {
    "duration": 214,
    "start_time": "2023-06-28T02:24:15.503Z"
   },
   {
    "duration": 232,
    "start_time": "2023-06-28T02:24:15.719Z"
   },
   {
    "duration": 308,
    "start_time": "2023-06-28T02:24:15.952Z"
   },
   {
    "duration": 354,
    "start_time": "2023-06-28T02:24:16.267Z"
   },
   {
    "duration": 298,
    "start_time": "2023-06-28T02:24:16.622Z"
   },
   {
    "duration": 10,
    "start_time": "2023-06-28T02:24:16.922Z"
   },
   {
    "duration": 166,
    "start_time": "2023-06-28T02:24:16.933Z"
   },
   {
    "duration": 4,
    "start_time": "2023-06-28T02:24:17.100Z"
   },
   {
    "duration": 155,
    "start_time": "2023-06-28T02:24:17.105Z"
   },
   {
    "duration": 12,
    "start_time": "2023-06-28T02:24:17.262Z"
   },
   {
    "duration": 152,
    "start_time": "2023-06-28T02:24:17.276Z"
   },
   {
    "duration": 4,
    "start_time": "2023-06-28T02:24:17.429Z"
   },
   {
    "duration": 115,
    "start_time": "2023-06-28T02:24:17.434Z"
   },
   {
    "duration": 30,
    "start_time": "2023-06-28T02:24:17.551Z"
   },
   {
    "duration": 9,
    "start_time": "2023-06-28T02:24:17.583Z"
   },
   {
    "duration": 8,
    "start_time": "2023-06-28T02:24:17.593Z"
   },
   {
    "duration": 134,
    "start_time": "2023-06-28T02:24:17.602Z"
   },
   {
    "duration": 34,
    "start_time": "2023-06-28T02:24:17.737Z"
   },
   {
    "duration": 1358,
    "start_time": "2023-08-21T17:58:21.924Z"
   },
   {
    "duration": 1362,
    "start_time": "2023-10-19T16:43:34.569Z"
   },
   {
    "duration": 195,
    "start_time": "2023-10-19T16:43:35.933Z"
   },
   {
    "duration": 4,
    "start_time": "2023-10-19T16:43:36.130Z"
   },
   {
    "duration": 61,
    "start_time": "2023-10-19T16:43:36.136Z"
   },
   {
    "duration": 12,
    "start_time": "2023-10-19T16:43:36.199Z"
   },
   {
    "duration": 16,
    "start_time": "2023-10-19T16:43:36.213Z"
   },
   {
    "duration": 43,
    "start_time": "2023-10-19T16:43:36.230Z"
   },
   {
    "duration": 18,
    "start_time": "2023-10-19T16:43:36.275Z"
   },
   {
    "duration": 21,
    "start_time": "2023-10-19T16:43:36.294Z"
   },
   {
    "duration": 305,
    "start_time": "2023-10-19T16:43:36.317Z"
   },
   {
    "duration": 315,
    "start_time": "2023-10-19T16:43:36.623Z"
   },
   {
    "duration": 234,
    "start_time": "2023-10-19T16:43:36.940Z"
   },
   {
    "duration": 367,
    "start_time": "2023-10-19T16:43:37.175Z"
   },
   {
    "duration": 407,
    "start_time": "2023-10-19T16:43:37.544Z"
   },
   {
    "duration": 337,
    "start_time": "2023-10-19T16:43:37.954Z"
   },
   {
    "duration": 10,
    "start_time": "2023-10-19T16:43:38.293Z"
   },
   {
    "duration": 184,
    "start_time": "2023-10-19T16:43:38.305Z"
   },
   {
    "duration": 4,
    "start_time": "2023-10-19T16:43:38.490Z"
   },
   {
    "duration": 258,
    "start_time": "2023-10-19T16:43:38.496Z"
   },
   {
    "duration": 13,
    "start_time": "2023-10-19T16:43:38.757Z"
   },
   {
    "duration": 209,
    "start_time": "2023-10-19T16:43:38.772Z"
   },
   {
    "duration": 5,
    "start_time": "2023-10-19T16:43:38.983Z"
   },
   {
    "duration": 161,
    "start_time": "2023-10-19T16:43:38.989Z"
   },
   {
    "duration": 31,
    "start_time": "2023-10-19T16:43:39.153Z"
   },
   {
    "duration": 10,
    "start_time": "2023-10-19T16:43:39.186Z"
   },
   {
    "duration": 63,
    "start_time": "2023-10-19T16:43:39.197Z"
   },
   {
    "duration": 62,
    "start_time": "2023-10-19T16:43:39.262Z"
   },
   {
    "duration": 22,
    "start_time": "2023-10-19T16:43:39.327Z"
   },
   {
    "duration": 4,
    "start_time": "2023-10-19T16:54:00.130Z"
   },
   {
    "duration": 113,
    "start_time": "2023-10-19T16:54:00.136Z"
   },
   {
    "duration": 6,
    "start_time": "2023-10-19T16:54:00.252Z"
   },
   {
    "duration": 110,
    "start_time": "2023-10-19T16:54:00.260Z"
   },
   {
    "duration": 20,
    "start_time": "2023-10-19T16:54:00.372Z"
   },
   {
    "duration": 55,
    "start_time": "2023-10-19T16:54:00.394Z"
   },
   {
    "duration": 31,
    "start_time": "2023-10-19T16:54:00.451Z"
   },
   {
    "duration": 83,
    "start_time": "2023-10-19T16:54:00.484Z"
   },
   {
    "duration": 70,
    "start_time": "2023-10-19T16:54:00.569Z"
   },
   {
    "duration": 300,
    "start_time": "2023-10-19T16:54:00.640Z"
   },
   {
    "duration": 245,
    "start_time": "2023-10-19T16:54:00.944Z"
   },
   {
    "duration": 226,
    "start_time": "2023-10-19T16:54:01.191Z"
   },
   {
    "duration": 347,
    "start_time": "2023-10-19T16:54:01.418Z"
   },
   {
    "duration": 383,
    "start_time": "2023-10-19T16:54:01.767Z"
   },
   {
    "duration": 339,
    "start_time": "2023-10-19T16:54:02.152Z"
   },
   {
    "duration": 11,
    "start_time": "2023-10-19T16:54:02.493Z"
   },
   {
    "duration": 172,
    "start_time": "2023-10-19T16:54:02.505Z"
   },
   {
    "duration": 5,
    "start_time": "2023-10-19T16:54:02.678Z"
   },
   {
    "duration": 162,
    "start_time": "2023-10-19T16:54:02.684Z"
   },
   {
    "duration": 14,
    "start_time": "2023-10-19T16:54:02.849Z"
   },
   {
    "duration": 184,
    "start_time": "2023-10-19T16:54:02.865Z"
   },
   {
    "duration": 5,
    "start_time": "2023-10-19T16:54:03.051Z"
   },
   {
    "duration": 137,
    "start_time": "2023-10-19T16:54:03.058Z"
   },
   {
    "duration": 32,
    "start_time": "2023-10-19T16:54:03.198Z"
   },
   {
    "duration": 25,
    "start_time": "2023-10-19T16:54:03.231Z"
   },
   {
    "duration": 14,
    "start_time": "2023-10-19T16:54:03.258Z"
   },
   {
    "duration": 172,
    "start_time": "2023-10-19T16:54:03.273Z"
   },
   {
    "duration": 27,
    "start_time": "2023-10-19T16:54:03.447Z"
   }
  ],
  "kernelspec": {
   "display_name": "Python 3 (ipykernel)",
   "language": "python",
   "name": "python3"
  },
  "language_info": {
   "codemirror_mode": {
    "name": "ipython",
    "version": 3
   },
   "file_extension": ".py",
   "mimetype": "text/x-python",
   "name": "python",
   "nbconvert_exporter": "python",
   "pygments_lexer": "ipython3",
   "version": "3.11.3"
  },
  "toc": {
   "base_numbering": 1,
   "nav_menu": {
    "height": "222px",
    "width": "258px"
   },
   "number_sections": false,
   "sideBar": true,
   "skip_h1_title": false,
   "title_cell": "Table of Contents",
   "title_sidebar": "Contents",
   "toc_cell": true,
   "toc_position": {
    "height": "calc(100% - 180px)",
    "left": "10px",
    "top": "150px",
    "width": "241.307px"
   },
   "toc_section_display": true,
   "toc_window_display": true
  }
 },
 "nbformat": 4,
 "nbformat_minor": 2
}
